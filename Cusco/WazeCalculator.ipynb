{
 "cells": [
  {
   "cell_type": "code",
   "execution_count": 5,
   "metadata": {},
   "outputs": [
    {
     "name": "stderr",
     "output_type": "stream",
     "text": [
      "From: Avenida San Felipe 620, Jesus Maria, Lima - to: Manuel Gonzales 740, Comas, Lima\n",
      "From: Avenida San Felipe 620, Jesus Maria, Lima - to: Manuel Gonzales 740, Comas, Lima\n",
      "From: Avenida San Felipe 620, Jesus Maria, Lima - to: Manuel Gonzales 740, Comas, Lima\n",
      "From: Avenida San Felipe 620, Jesus Maria, Lima - to: Manuel Gonzales 740, Comas, Lima\n",
      "Start coords: (47.597788561, 19.347304274)\n",
      "Start coords: (47.597788561, 19.347304274)\n",
      "Start coords: (47.597788561, 19.347304274)\n",
      "Start coords: (47.597788561, 19.347304274)\n",
      "End coords: (47.5960083, 18.952751159)\n",
      "End coords: (47.5960083, 18.952751159)\n",
      "End coords: (47.5960083, 18.952751159)\n",
      "End coords: (47.5960083, 18.952751159)\n",
      "Time 38.13 minutes, distance 39.19 km.\n",
      "Time 38.13 minutes, distance 39.19 km.\n",
      "Time 38.13 minutes, distance 39.19 km.\n",
      "Time 38.13 minutes, distance 39.19 km.\n"
     ]
    },
    {
     "data": {
      "text/plain": [
       "(38.13333333333333, 39.193)"
      ]
     },
     "execution_count": 5,
     "metadata": {},
     "output_type": "execute_result"
    }
   ],
   "source": [
    "import WazeRouteCalculator\n",
    "import logging\n",
    "\n",
    "logger = logging.getLogger('WazeRouteCalculator.WazeRouteCalculator')\n",
    "logger.setLevel(logging.DEBUG)\n",
    "handler = logging.StreamHandler()\n",
    "logger.addHandler(handler)\n",
    "\n",
    "from_address = 'Avenida San Felipe 620, Jesus Maria, Lima'\n",
    "to_address = 'Manuel Gonzales 740, Comas, Lima'\n",
    "# region = 'EU'\n",
    "route = WazeRouteCalculator.WazeRouteCalculator(from_address, to_address,)\n",
    "route.calc_route_info()"
   ]
  },
  {
   "cell_type": "code",
   "execution_count": 9,
   "metadata": {},
   "outputs": [
    {
     "data": {
      "text/html": [
       "<div>\n",
       "<style scoped>\n",
       "    .dataframe tbody tr th:only-of-type {\n",
       "        vertical-align: middle;\n",
       "    }\n",
       "\n",
       "    .dataframe tbody tr th {\n",
       "        vertical-align: top;\n",
       "    }\n",
       "\n",
       "    .dataframe thead th {\n",
       "        text-align: right;\n",
       "    }\n",
       "</style>\n",
       "<table border=\"1\" class=\"dataframe\">\n",
       "  <thead>\n",
       "    <tr style=\"text-align: right;\">\n",
       "      <th></th>\n",
       "      <th>v</th>\n",
       "      <th>wazeinfo</th>\n",
       "    </tr>\n",
       "    <tr>\n",
       "      <th>u</th>\n",
       "      <th></th>\n",
       "      <th></th>\n",
       "    </tr>\n",
       "  </thead>\n",
       "  <tbody>\n",
       "  </tbody>\n",
       "</table>\n",
       "</div>"
      ],
      "text/plain": [
       "Empty DataFrame\n",
       "Columns: [v, wazeinfo]\n",
       "Index: []"
      ]
     },
     "execution_count": 9,
     "metadata": {},
     "output_type": "execute_result"
    }
   ],
   "source": [
    "import pandas as pd\n",
    "pd.read_csv(\"wazeinfo_recupero.txt\", sep=';', index_col=0, names=['u','v','wazeinfo'])"
   ]
  },
  {
   "cell_type": "code",
   "execution_count": null,
   "metadata": {},
   "outputs": [],
   "source": []
  }
 ],
 "metadata": {
  "kernelspec": {
   "display_name": "Python 3",
   "language": "python",
   "name": "python3"
  },
  "language_info": {
   "codemirror_mode": {
    "name": "ipython",
    "version": 3
   },
   "file_extension": ".py",
   "mimetype": "text/x-python",
   "name": "python",
   "nbconvert_exporter": "python",
   "pygments_lexer": "ipython3",
   "version": "3.6.9"
  }
 },
 "nbformat": 4,
 "nbformat_minor": 5
}
