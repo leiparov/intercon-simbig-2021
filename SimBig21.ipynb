{
 "cells": [
  {
   "cell_type": "code",
   "execution_count": 803,
   "metadata": {},
   "outputs": [],
   "source": [
    "import osmnx as ox\n",
    "import networkx as nx\n",
    "import pandas as pd\n",
    "pd.set_option('display.max_columns', None)\n",
    "from shapely.geometry import Point\n",
    "\n",
    "import json\n",
    "import geopandas as gpd\n",
    "import matplotlib.pyplot as plt\n",
    "import GOSTnets as gn\n",
    "import numpy as np"
   ]
  },
  {
   "cell_type": "code",
   "execution_count": 804,
   "metadata": {},
   "outputs": [],
   "source": [
    "limaMapa = gpd.read_file(\"../Turismo/shapes/peru.shp\")"
   ]
  },
  {
   "cell_type": "code",
   "execution_count": 1112,
   "metadata": {},
   "outputs": [
    {
     "data": {
      "text/plain": [
       "<AxesSubplot:>"
      ]
     },
     "execution_count": 1112,
     "metadata": {},
     "output_type": "execute_result"
    },
    {
     "data": {
      "image/png": "[encoded data removed]",
      "text/plain": [
       "<Figure size 432x288 with 1 Axes>"
      ]
     },
     "metadata": {
      "needs_background": "light"
     },
     "output_type": "display_data"
    }
   ],
   "source": [
    "cond = limaMapa['provincia'] == 'LIMA'\n",
    "limaMapa[cond].plot()"
   ]
  },
  {
   "cell_type": "code",
   "execution_count": 1113,
   "metadata": {},
   "outputs": [
    {
     "name": "stdout",
     "output_type": "stream",
     "text": [
      "43\n"
     ]
    },
    {
     "data": {
      "text/plain": [
       "array(['ANCON', 'ATE', 'BARRANCO', 'BREÑA', 'CARABAYLLO', 'CHACLACAYO',\n",
       "       'CHORRILLOS', 'CIENEGUILLA', 'COMAS', 'EL AGUSTINO',\n",
       "       'INDEPENDENCIA', 'JESUS MARIA', 'LA MOLINA', 'LA VICTORIA', 'LIMA',\n",
       "       'LINCE', 'LOS OLIVOS', 'LURIGANCHO', 'LURIN', 'MAGDALENA DEL MAR',\n",
       "       'MIRAFLORES', 'PACHACAMAC', 'PUCUSANA', 'PUEBLO LIBRE',\n",
       "       'PUENTE PIEDRA', 'PUNTA HERMOSA', 'PUNTA NEGRA', 'RIMAC',\n",
       "       'SAN BARTOLO', 'SAN BORJA', 'SAN ISIDRO', 'SAN JUAN DE LURIGANCHO',\n",
       "       'SAN JUAN DE MIRAFLORES', 'SAN LUIS', 'SAN MARTIN DE PORRES',\n",
       "       'SAN MIGUEL', 'SANTA ANITA', 'SANTA MARIA DEL MAR', 'SANTA ROSA',\n",
       "       'SANTIAGO DE SURCO', 'SURQUILLO', 'VILLA EL SALVADOR',\n",
       "       'VILLA MARIA DEL TRIUNFO'], dtype=object)"
      ]
     },
     "execution_count": 1113,
     "metadata": {},
     "output_type": "execute_result"
    }
   ],
   "source": [
    "lima_distritos = np.sort(limaMapa[cond]['distrito'].unique())\n",
    "print(len(lima_distritos))\n",
    "lima_distritos"
   ]
  },
  {
   "cell_type": "code",
   "execution_count": 1088,
   "metadata": {},
   "outputs": [
    {
     "name": "stdout",
     "output_type": "stream",
     "text": [
      "1629072432.6603239\n"
     ]
    }
   ],
   "source": [
    "import time\n",
    "start = time.time()\n",
    "print(start)"
   ]
  },
  {
   "cell_type": "code",
   "execution_count": 1114,
   "metadata": {},
   "outputs": [
    {
     "data": {
      "text/plain": [
       "<AxesSubplot:>"
      ]
     },
     "execution_count": 1114,
     "metadata": {},
     "output_type": "execute_result"
    },
    {
     "data": {
      "image/png": "[encoded data removed]",
      "text/plain": [
       "<Figure size 432x288 with 1 Axes>"
      ]
     },
     "metadata": {
      "needs_background": "light"
     },
     "output_type": "display_data"
    }
   ],
   "source": [
    "province_name = 'LIMA'\n",
    "district_name = 'LINCE'\n",
    "cond = (limaMapa['distrito'] == district_name) & (limaMapa['provincia'] == province_name)\n",
    "distrito = limaMapa[cond].copy()\n",
    "distrito.plot()"
   ]
  },
  {
   "cell_type": "code",
   "execution_count": 1115,
   "metadata": {},
   "outputs": [
    {
     "data": {
      "text/html": [
       "<div>\n",
       "<style scoped>\n",
       "    .dataframe tbody tr th:only-of-type {\n",
       "        vertical-align: middle;\n",
       "    }\n",
       "\n",
       "    .dataframe tbody tr th {\n",
       "        vertical-align: top;\n",
       "    }\n",
       "\n",
       "    .dataframe thead th {\n",
       "        text-align: right;\n",
       "    }\n",
       "</style>\n",
       "<table border=\"1\" class=\"dataframe\">\n",
       "  <thead>\n",
       "    <tr style=\"text-align: right;\">\n",
       "      <th></th>\n",
       "      <th>iddpto</th>\n",
       "      <th>departamen</th>\n",
       "      <th>idprov</th>\n",
       "      <th>provincia</th>\n",
       "      <th>iddist</th>\n",
       "      <th>distrito</th>\n",
       "      <th>capital</th>\n",
       "      <th>codccpp</th>\n",
       "      <th>area</th>\n",
       "      <th>fuente</th>\n",
       "      <th>geometry</th>\n",
       "    </tr>\n",
       "  </thead>\n",
       "  <tbody>\n",
       "    <tr>\n",
       "      <th>1311</th>\n",
       "      <td>15</td>\n",
       "      <td>LIMA</td>\n",
       "      <td>1501</td>\n",
       "      <td>LIMA</td>\n",
       "      <td>150116</td>\n",
       "      <td>LINCE</td>\n",
       "      <td>LINCE</td>\n",
       "      <td>0001</td>\n",
       "      <td>1</td>\n",
       "      <td>INEI</td>\n",
       "      <td>POLYGON ((-77.02807 -12.07871, -77.02435 -12.0...</td>\n",
       "    </tr>\n",
       "  </tbody>\n",
       "</table>\n",
       "</div>"
      ],
      "text/plain": [
       "     iddpto departamen idprov provincia  iddist distrito capital codccpp  \\\n",
       "1311     15       LIMA   1501      LIMA  150116    LINCE   LINCE    0001   \n",
       "\n",
       "      area fuente                                           geometry  \n",
       "1311     1   INEI  POLYGON ((-77.02807 -12.07871, -77.02435 -12.0...  "
      ]
     },
     "execution_count": 1115,
     "metadata": {},
     "output_type": "execute_result"
    }
   ],
   "source": [
    "distrito"
   ]
  },
  {
   "cell_type": "code",
   "execution_count": 1116,
   "metadata": {},
   "outputs": [
    {
     "data": {
      "text/plain": [
       "shapely.geometry.polygon.Polygon"
      ]
     },
     "execution_count": 1116,
     "metadata": {},
     "output_type": "execute_result"
    }
   ],
   "source": [
    "from shapely import geometry\n",
    "from shapely import wkt\n",
    "\n",
    "# polygon = wkt.loads(distrito.geometry)\n",
    "polygon = distrito.geometry.values[0]\n",
    "type(polygon)\n",
    "# polygon"
   ]
  },
  {
   "cell_type": "code",
   "execution_count": 1117,
   "metadata": {},
   "outputs": [
    {
     "name": "stdout",
     "output_type": "stream",
     "text": [
      "lince, Lima\n"
     ]
    }
   ],
   "source": [
    "#Global vars\n",
    "place_name = \"{}, Lima\".format(district_name.lower())\n",
    "print(place_name)\n",
    "result = 1"
   ]
  },
  {
   "cell_type": "code",
   "execution_count": 1118,
   "metadata": {},
   "outputs": [
    {
     "name": "stdout",
     "output_type": "stream",
     "text": [
      "Name: \n",
      "Type: MultiDiGraph\n",
      "Number of nodes: 371\n",
      "Number of edges: 686\n",
      "Average in degree:   1.8491\n",
      "Average out degree:   1.8491\n",
      "CPU times: user 2.69 s, sys: 118 ms, total: 2.8 s\n",
      "Wall time: 12.4 s\n"
     ]
    }
   ],
   "source": [
    "%%time\n",
    "#Getting graph from OSM - Polygon\n",
    "graph = ox.graph.graph_from_polygon(polygon, network_type='drive')\n",
    "nodes, edges = ox.graph_to_gdfs(graph)\n",
    "print(nx.info(graph))\n",
    "\n",
    "#Getting graph from OSM\n",
    "\n",
    "\n",
    "# graph = ox.graph_from_place(place_name, which_result=result, network_type='drive')\n",
    "# nodes, edges = ox.graph_to_gdfs(graph)\n",
    "# print(nx.info(graph))"
   ]
  },
  {
   "cell_type": "code",
   "execution_count": 1119,
   "metadata": {},
   "outputs": [
    {
     "data": {
      "text/html": [
       "<div>\n",
       "<style scoped>\n",
       "    .dataframe tbody tr th:only-of-type {\n",
       "        vertical-align: middle;\n",
       "    }\n",
       "\n",
       "    .dataframe tbody tr th {\n",
       "        vertical-align: top;\n",
       "    }\n",
       "\n",
       "    .dataframe thead th {\n",
       "        text-align: right;\n",
       "    }\n",
       "</style>\n",
       "<table border=\"1\" class=\"dataframe\">\n",
       "  <thead>\n",
       "    <tr style=\"text-align: right;\">\n",
       "      <th></th>\n",
       "      <th>y</th>\n",
       "      <th>x</th>\n",
       "      <th>street_count</th>\n",
       "      <th>highway</th>\n",
       "      <th>ref</th>\n",
       "      <th>geometry</th>\n",
       "    </tr>\n",
       "    <tr>\n",
       "      <th>osmid</th>\n",
       "      <th></th>\n",
       "      <th></th>\n",
       "      <th></th>\n",
       "      <th></th>\n",
       "      <th></th>\n",
       "      <th></th>\n",
       "    </tr>\n",
       "  </thead>\n",
       "  <tbody>\n",
       "    <tr>\n",
       "      <th>108064601</th>\n",
       "      <td>-12.089762</td>\n",
       "      <td>-77.033624</td>\n",
       "      <td>3</td>\n",
       "      <td>NaN</td>\n",
       "      <td>NaN</td>\n",
       "      <td>POINT (-77.03362 -12.08976)</td>\n",
       "    </tr>\n",
       "    <tr>\n",
       "      <th>108064608</th>\n",
       "      <td>-12.089013</td>\n",
       "      <td>-77.033738</td>\n",
       "      <td>4</td>\n",
       "      <td>traffic_signals</td>\n",
       "      <td>NaN</td>\n",
       "      <td>POINT (-77.03374 -12.08901)</td>\n",
       "    </tr>\n",
       "    <tr>\n",
       "      <th>108064612</th>\n",
       "      <td>-12.088071</td>\n",
       "      <td>-77.033871</td>\n",
       "      <td>4</td>\n",
       "      <td>traffic_signals</td>\n",
       "      <td>NaN</td>\n",
       "      <td>POINT (-77.03387 -12.08807)</td>\n",
       "    </tr>\n",
       "    <tr>\n",
       "      <th>108064614</th>\n",
       "      <td>-12.086929</td>\n",
       "      <td>-77.034047</td>\n",
       "      <td>4</td>\n",
       "      <td>traffic_signals</td>\n",
       "      <td>NaN</td>\n",
       "      <td>POINT (-77.03405 -12.08693)</td>\n",
       "    </tr>\n",
       "    <tr>\n",
       "      <th>108064618</th>\n",
       "      <td>-12.086281</td>\n",
       "      <td>-77.034130</td>\n",
       "      <td>3</td>\n",
       "      <td>NaN</td>\n",
       "      <td>NaN</td>\n",
       "      <td>POINT (-77.03413 -12.08628)</td>\n",
       "    </tr>\n",
       "  </tbody>\n",
       "</table>\n",
       "</div>"
      ],
      "text/plain": [
       "                   y          x  street_count          highway  ref  \\\n",
       "osmid                                                                 \n",
       "108064601 -12.089762 -77.033624             3              NaN  NaN   \n",
       "108064608 -12.089013 -77.033738             4  traffic_signals  NaN   \n",
       "108064612 -12.088071 -77.033871             4  traffic_signals  NaN   \n",
       "108064614 -12.086929 -77.034047             4  traffic_signals  NaN   \n",
       "108064618 -12.086281 -77.034130             3              NaN  NaN   \n",
       "\n",
       "                              geometry  \n",
       "osmid                                   \n",
       "108064601  POINT (-77.03362 -12.08976)  \n",
       "108064608  POINT (-77.03374 -12.08901)  \n",
       "108064612  POINT (-77.03387 -12.08807)  \n",
       "108064614  POINT (-77.03405 -12.08693)  \n",
       "108064618  POINT (-77.03413 -12.08628)  "
      ]
     },
     "execution_count": 1119,
     "metadata": {},
     "output_type": "execute_result"
    }
   ],
   "source": [
    "nodes.head()"
   ]
  },
  {
   "cell_type": "code",
   "execution_count": 1120,
   "metadata": {},
   "outputs": [
    {
     "data": {
      "image/png": "[encoded data removed]",
      "text/plain": [
       "<Figure size 576x576 with 1 Axes>"
      ]
     },
     "metadata": {},
     "output_type": "display_data"
    },
    {
     "name": "stdout",
     "output_type": "stream",
     "text": [
      "CPU times: user 379 ms, sys: 157 ms, total: 536 ms\n",
      "Wall time: 284 ms\n"
     ]
    },
    {
     "data": {
      "text/plain": [
       "(<Figure size 576x576 with 1 Axes>, <AxesSubplot:>)"
      ]
     },
     "execution_count": 1120,
     "metadata": {},
     "output_type": "execute_result"
    }
   ],
   "source": [
    "%%time\n",
    "ox.plot.plot_graph(graph, bgcolor='white', node_color='blue', edge_color='green')"
   ]
  },
  {
   "cell_type": "code",
   "execution_count": 1121,
   "metadata": {},
   "outputs": [
    {
     "name": "stdout",
     "output_type": "stream",
     "text": [
      "CPU times: user 1 s, sys: 27.9 ms, total: 1.03 s\n",
      "Wall time: 4.5 s\n"
     ]
    }
   ],
   "source": [
    "%%time\n",
    "#Getting amenities from OSM\n",
    "# amenities = ox.geometries_from_place(place_name, which_result=result ,tags={'amenity':True} )\n",
    "amenities = ox.geometries_from_polygon(polygon ,tags={'amenity':True} )\n",
    "\n",
    "\n",
    "\n",
    "amenities['isPoint'] = amenities.apply(lambda x: type(x.geometry) is Point , axis=1)\n",
    "amenities.rename(columns={'geometry':'geometry_polygon'}, inplace=True)\n",
    "amenities['geometry'] = amenities.apply(lambda x: x['geometry_polygon'].centroid, axis=1)\n",
    "amenities.set_geometry('geometry')\n",
    "amenities.set_index('osmid', inplace=True)\n",
    "# amenities.head()"
   ]
  },
  {
   "cell_type": "code",
   "execution_count": 1236,
   "metadata": {
    "scrolled": true
   },
   "outputs": [
    {
     "data": {
      "image/png": "[encoded data removed]",
      "text/plain": [
       "<Figure size 1080x360 with 1 Axes>"
      ]
     },
     "metadata": {
      "needs_background": "light"
     },
     "output_type": "display_data"
    }
   ],
   "source": [
    "fig, ax = plt.subplots(figsize=(15,5))\n",
    "\n",
    "colors_dist = {\n",
    "        'bank_dist':'orange',\n",
    "        'courthouse_dist': 'pink',\n",
    "        'hospital_dist': 'red',\n",
    "        'marketplace_dist': 'purple',\n",
    "        'police_dist': 'green',\n",
    "        'school_dist': 'blue',\n",
    "        'university_dist': 'black'\n",
    "    }\n",
    "colors_dist = {\n",
    "        'bank':'orange',\n",
    "        'courthouse': 'pink',\n",
    "        'hospital': 'red',\n",
    "        'marketplace': 'purple',\n",
    "        'police': 'green',\n",
    "        'school': 'blue',\n",
    "        'university': 'black'\n",
    "    }\n",
    "\n",
    "# amenities['color'] = amenities.apply(lambda x: colors_dist.get(x['amenity']+'_dist'), axis=1 )\n",
    "\n",
    "# amenities_filter = ['bank','courthouse','hospital','marketplace', 'police','school','university']\n",
    "# cond = amenities['amenity'].isin(amenities_filter)\n",
    "\n",
    "distrito.plot(ax=ax, color='gray', alpha=0.2)\n",
    "# ax = ox.plot.plot_graph(graph, bgcolor='white', node_color='blue', edge_color='green', ax=ax)\n",
    "\n",
    "colors = colors_dist.values()\n",
    "\n",
    "cond = amenities['amenity'] == 'bank'\n",
    "ax = amenities[cond].plot( ax=ax, color='orange', legend=True, label='Bank')\n",
    "cond = amenities['amenity'] == 'courthouse'\n",
    "ax = amenities[cond].plot( ax=ax, color='pink', legend=True, label='Courthouse' )\n",
    "cond = amenities['amenity'] == 'hospital'\n",
    "ax = amenities[cond].plot( ax=ax, color='red', legend=True, label='Hospital' )\n",
    "cond = amenities['amenity'] == 'marketplace'\n",
    "ax = amenities[cond].plot( ax=ax, color='purple', legend=True, label='Marketplace' )\n",
    "cond = amenities['amenity'] == 'police'\n",
    "ax = amenities[cond].plot( ax=ax, color='green', legend=True, label='Police' )\n",
    "cond = amenities['amenity'] == 'school'\n",
    "ax = amenities[cond].plot( ax=ax, color='blue', legend=True, label='School' )\n",
    "cond = amenities['amenity'] == 'university'\n",
    "ax = amenities[cond].plot( ax=ax, color='black', legend=True, label='University' )\n",
    "\n",
    "# ax.get_legend()\n",
    "ax.legend(bbox_to_anchor=(1.21, 1), facecolor='white', framealpha=0.5)\n",
    "\n",
    "fig.savefig(\"amenities_lince.png\", dpi=300, bbox_inches='tight')"
   ]
  },
  {
   "cell_type": "code",
   "execution_count": 1185,
   "metadata": {},
   "outputs": [
    {
     "data": {
      "text/plain": [
       "['bank',\n",
       " 'courthouse',\n",
       " 'hospital',\n",
       " 'marketplace',\n",
       " 'police',\n",
       " 'school',\n",
       " 'university']"
      ]
     },
     "execution_count": 1185,
     "metadata": {},
     "output_type": "execute_result"
    }
   ],
   "source": [
    "list(colors_dist.keys())"
   ]
  },
  {
   "cell_type": "code",
   "execution_count": 1165,
   "metadata": {},
   "outputs": [
    {
     "data": {
      "text/plain": [
       "dict_values(['orange', 'pink', 'red', 'purple', 'green', 'blue', 'black'])"
      ]
     },
     "execution_count": 1165,
     "metadata": {},
     "output_type": "execute_result"
    }
   ],
   "source": [
    "# amenities.head()\n",
    "# amenities.apply(lambda x: colors_dist.get(x['amenity']+'_dist'), axis=1 )\n",
    "colors_dist.values()"
   ]
  },
  {
   "cell_type": "code",
   "execution_count": 1097,
   "metadata": {},
   "outputs": [
    {
     "data": {
      "text/html": [
       "<div>\n",
       "<style scoped>\n",
       "    .dataframe tbody tr th:only-of-type {\n",
       "        vertical-align: middle;\n",
       "    }\n",
       "\n",
       "    .dataframe tbody tr th {\n",
       "        vertical-align: top;\n",
       "    }\n",
       "\n",
       "    .dataframe thead th {\n",
       "        text-align: right;\n",
       "    }\n",
       "</style>\n",
       "<table border=\"1\" class=\"dataframe\">\n",
       "  <thead>\n",
       "    <tr style=\"text-align: right;\">\n",
       "      <th></th>\n",
       "      <th>unique_id</th>\n",
       "      <th>element_type</th>\n",
       "      <th>geometry_polygon</th>\n",
       "      <th>amenity</th>\n",
       "      <th>name</th>\n",
       "      <th>geometry</th>\n",
       "    </tr>\n",
       "    <tr>\n",
       "      <th>osmid</th>\n",
       "      <th></th>\n",
       "      <th></th>\n",
       "      <th></th>\n",
       "      <th></th>\n",
       "      <th></th>\n",
       "      <th></th>\n",
       "    </tr>\n",
       "  </thead>\n",
       "  <tbody>\n",
       "    <tr>\n",
       "      <th>4101468690</th>\n",
       "      <td>node/4101468690</td>\n",
       "      <td>node</td>\n",
       "      <td>POINT (-77.12831 -11.89895)</td>\n",
       "      <td>school</td>\n",
       "      <td>NaN</td>\n",
       "      <td>POINT (-77.12831 -11.89895)</td>\n",
       "    </tr>\n",
       "    <tr>\n",
       "      <th>4281454391</th>\n",
       "      <td>node/4281454391</td>\n",
       "      <td>node</td>\n",
       "      <td>POINT (-77.14275 -11.87225)</td>\n",
       "      <td>school</td>\n",
       "      <td>Héroe del Pacífico</td>\n",
       "      <td>POINT (-77.14275 -11.87225)</td>\n",
       "    </tr>\n",
       "    <tr>\n",
       "      <th>4506496992</th>\n",
       "      <td>node/4506496992</td>\n",
       "      <td>node</td>\n",
       "      <td>POINT (-77.12752 -11.88897)</td>\n",
       "      <td>school</td>\n",
       "      <td>Liceo Naval Capitán de Corbeta Manuel Clavero ...</td>\n",
       "      <td>POINT (-77.12752 -11.88897)</td>\n",
       "    </tr>\n",
       "    <tr>\n",
       "      <th>4666676889</th>\n",
       "      <td>node/4666676889</td>\n",
       "      <td>node</td>\n",
       "      <td>POINT (-77.13435 -11.82730)</td>\n",
       "      <td>school</td>\n",
       "      <td>IE AH KEYKO</td>\n",
       "      <td>POINT (-77.13435 -11.82730)</td>\n",
       "    </tr>\n",
       "    <tr>\n",
       "      <th>4692849992</th>\n",
       "      <td>node/4692849992</td>\n",
       "      <td>node</td>\n",
       "      <td>POINT (-77.12721 -11.84851)</td>\n",
       "      <td>school</td>\n",
       "      <td>IEP SEMILLITAS DE JESÚS</td>\n",
       "      <td>POINT (-77.12721 -11.84851)</td>\n",
       "    </tr>\n",
       "  </tbody>\n",
       "</table>\n",
       "</div>"
      ],
      "text/plain": [
       "                  unique_id element_type             geometry_polygon amenity  \\\n",
       "osmid                                                                           \n",
       "4101468690  node/4101468690         node  POINT (-77.12831 -11.89895)  school   \n",
       "4281454391  node/4281454391         node  POINT (-77.14275 -11.87225)  school   \n",
       "4506496992  node/4506496992         node  POINT (-77.12752 -11.88897)  school   \n",
       "4666676889  node/4666676889         node  POINT (-77.13435 -11.82730)  school   \n",
       "4692849992  node/4692849992         node  POINT (-77.12721 -11.84851)  school   \n",
       "\n",
       "                                                         name  \\\n",
       "osmid                                                           \n",
       "4101468690                                                NaN   \n",
       "4281454391                                 Héroe del Pacífico   \n",
       "4506496992  Liceo Naval Capitán de Corbeta Manuel Clavero ...   \n",
       "4666676889                                        IE AH KEYKO   \n",
       "4692849992                            IEP SEMILLITAS DE JESÚS   \n",
       "\n",
       "                               geometry  \n",
       "osmid                                    \n",
       "4101468690  POINT (-77.12831 -11.89895)  \n",
       "4281454391  POINT (-77.14275 -11.87225)  \n",
       "4506496992  POINT (-77.12752 -11.88897)  \n",
       "4666676889  POINT (-77.13435 -11.82730)  \n",
       "4692849992  POINT (-77.12721 -11.84851)  "
      ]
     },
     "execution_count": 1097,
     "metadata": {},
     "output_type": "execute_result"
    }
   ],
   "source": [
    "_amenity = 'school'\n",
    "amenities_as_points = amenities[amenities['amenity'] == _amenity] \n",
    "columns = ['unique_id', 'element_type', 'geometry_polygon', \n",
    "               'amenity', 'name', 'geometry']\n",
    "\n",
    "amenities_as_points[columns].head()"
   ]
  },
  {
   "cell_type": "code",
   "execution_count": 1098,
   "metadata": {},
   "outputs": [
    {
     "data": {
      "text/plain": [
       "<AxesSubplot:>"
      ]
     },
     "execution_count": 1098,
     "metadata": {},
     "output_type": "execute_result"
    },
    {
     "data": {
      "image/png": "[encoded data removed]",
      "text/plain": [
       "<Figure size 432x288 with 1 Axes>"
      ]
     },
     "metadata": {
      "needs_background": "light"
     },
     "output_type": "display_data"
    }
   ],
   "source": [
    "fig, ax = plt.subplots()\n",
    "nodes.plot(ax=ax)"
   ]
  },
  {
   "cell_type": "code",
   "execution_count": 1099,
   "metadata": {},
   "outputs": [
    {
     "name": "stdout",
     "output_type": "stream",
     "text": [
      "CPU times: user 45 µs, sys: 0 ns, total: 45 µs\n",
      "Wall time: 49.8 µs\n"
     ]
    }
   ],
   "source": [
    "%%time\n",
    "def process_amenities(_amenity):\n",
    "\n",
    "    amenities_as_points = amenities[amenities['amenity'] == _amenity] \n",
    "    print(\"amenities_as_points --> {}\".format(amenities_as_points.shape) )\n",
    "    \n",
    "    if amenities_as_points.shape[0] == 0:\n",
    "        return pd.DataFrame()\n",
    "\n",
    "    ##adding shortest amenity point for all graph nodes\n",
    "    nodes_amenity = gn.pandana_snap_points( nodes , amenities_as_points ) \n",
    "\n",
    "    amenityid = \"{}_amenity\".format(_amenity)\n",
    "    amenitydist = \"{}_amenity_dist\".format(_amenity)\n",
    "    print(amenityid, amenitydist)\n",
    "\n",
    "    nodes_amenity.rename(columns={'NN':amenityid, 'NN_dist': amenitydist}, inplace=True)\n",
    "\n",
    "#     nodes_amenity.head()\n",
    "    print(\"nodes_amenity --> {}\".format(nodes_amenity.shape))\n",
    "\n",
    "    ##nearest node for all amenity points\n",
    "    amenities_as_points2 = gn.pandana_snap(graph, amenities_as_points) \n",
    "    print(\"amenities_as_points2 --> {}\".format(amenities_as_points2.shape))\n",
    "\n",
    "    ######\n",
    "    columns = ['unique_id', 'element_type', 'geometry_polygon', \n",
    "               'amenity', 'name', 'geometry', 'NN', 'NN_dist']\n",
    "\n",
    "    nodes_amenity2 = nodes_amenity.reset_index().merge(amenities_as_points2[columns], \n",
    "                                         how='left', \n",
    "                                         left_on=amenityid, \n",
    "                                         right_index=True)\n",
    "    node = \"{}_node\".format(_amenity)\n",
    "    nodedist = \"{}_node_dist\".format(_amenity)\n",
    "    nodes_amenity2.rename(columns={'NN':node, 'NN_dist': nodedist}, inplace=True)\n",
    "    print(\"nodes_amenity2 --> {}\".format(nodes_amenity2.shape))\n",
    "    \n",
    "    # nodes_amenity2.head()\n",
    "    #####\n",
    "    def shortest_path (G, source, target, weight='length'):\n",
    "        distance = np.NaN\n",
    "        try:\n",
    "            distance = nx.shortest_path_length(G, source, target, weight)\n",
    "        except Exception as e:\n",
    "            distance = np.NaN\n",
    "        return distance\n",
    "\n",
    "    nodedist = \"{}_dist\".format(_amenity)\n",
    "    print(\"Calculating shortest path distance:\")\n",
    "    nodes_amenity2[nodedist] = nodes_amenity2.apply(lambda x:\n",
    "                                                        shortest_path(graph, x['osmid'], x[node], weight='length'),\n",
    "                                                        axis=1\n",
    "                                                       )\n",
    "    #####\n",
    "    cols = ['osmid', 'geometry_x', amenityid, node, nodedist ]\n",
    "#     nodes_amenity2[cols].head()\n",
    "    return nodes_amenity2"
   ]
  },
  {
   "cell_type": "code",
   "execution_count": 1100,
   "metadata": {},
   "outputs": [],
   "source": [
    "# ray.shutdown()"
   ]
  },
  {
   "cell_type": "code",
   "execution_count": 1101,
   "metadata": {
    "scrolled": true
   },
   "outputs": [
    {
     "name": "stderr",
     "output_type": "stream",
     "text": [
      "/home/leibnitz.rojas/.local/lib/python3.6/site-packages/ray/node.py:890: ResourceWarning: unclosed file <_io.TextIOWrapper name='/tmp/ray/session_2021-08-15_19-08-03_073493_3773/logs/redis-shard_0.err' mode='a' encoding='utf-8'>\n",
      "  self.start_redis()\n",
      "/home/leibnitz.rojas/.local/lib/python3.6/site-packages/ray/node.py:890: ResourceWarning: unclosed file <_io.TextIOWrapper name='/tmp/ray/session_2021-08-15_19-08-03_073493_3773/logs/redis-shard_0.out' mode='a' encoding='utf-8'>\n",
      "  self.start_redis()\n",
      "/home/leibnitz.rojas/.local/lib/python3.6/site-packages/ray/node.py:890: ResourceWarning: unclosed file <_io.TextIOWrapper name='/tmp/ray/session_2021-08-15_19-08-03_073493_3773/logs/redis.err' mode='a' encoding='utf-8'>\n",
      "  self.start_redis()\n",
      "/home/leibnitz.rojas/.local/lib/python3.6/site-packages/ray/node.py:890: ResourceWarning: unclosed file <_io.TextIOWrapper name='/tmp/ray/session_2021-08-15_19-08-03_073493_3773/logs/redis.out' mode='a' encoding='utf-8'>\n",
      "  self.start_redis()\n",
      "/home/leibnitz.rojas/.local/lib/python3.6/site-packages/ray/node.py:892: ResourceWarning: unclosed file <_io.TextIOWrapper name='/tmp/ray/session_2021-08-15_19-08-03_073493_3773/logs/gcs_server.out' mode='a' encoding='utf-8'>\n",
      "  self.start_gcs_server()\n",
      "/home/leibnitz.rojas/.local/lib/python3.6/site-packages/ray/node.py:892: ResourceWarning: unclosed file <_io.TextIOWrapper name='/tmp/ray/session_2021-08-15_19-08-03_073493_3773/logs/gcs_server.err' mode='a' encoding='utf-8'>\n",
      "  self.start_gcs_server()\n",
      "/home/leibnitz.rojas/.local/lib/python3.6/site-packages/ray/node.py:895: ResourceWarning: unclosed file <_io.TextIOWrapper name='/tmp/ray/session_2021-08-15_19-08-03_073493_3773/logs/monitor.out' mode='a' encoding='utf-8'>\n",
      "  self.start_monitor()\n",
      "/home/leibnitz.rojas/.local/lib/python3.6/site-packages/ray/node.py:895: ResourceWarning: unclosed file <_io.TextIOWrapper name='/tmp/ray/session_2021-08-15_19-08-03_073493_3773/logs/monitor.err' mode='a' encoding='utf-8'>\n",
      "  self.start_monitor()\n",
      "2021-08-15 19:08:04,940\tINFO services.py:1247 -- View the Ray dashboard at \u001b[1m\u001b[32mhttp://127.0.0.1:8265\u001b[39m\u001b[22m\n",
      "/home/leibnitz.rojas/.local/lib/python3.6/site-packages/ray/node.py:936: ResourceWarning: unclosed file <_io.TextIOWrapper name='/tmp/ray/session_2021-08-15_19-08-03_073493_3773/logs/raylet.out' mode='a' encoding='utf-8'>\n",
      "  self.start_raylet(plasma_directory, object_store_memory)\n",
      "/home/leibnitz.rojas/.local/lib/python3.6/site-packages/ray/node.py:936: ResourceWarning: unclosed file <_io.TextIOWrapper name='/tmp/ray/session_2021-08-15_19-08-03_073493_3773/logs/raylet.err' mode='a' encoding='utf-8'>\n",
      "  self.start_raylet(plasma_directory, object_store_memory)\n"
     ]
    },
    {
     "name": "stdout",
     "output_type": "stream",
     "text": [
      "CPU times: user 866 ms, sys: 271 ms, total: 1.14 s\n",
      "Wall time: 6.05 s\n"
     ]
    },
    {
     "data": {
      "text/plain": [
       "[ObjectRef(e691d7a91d3becdcffffffffffffffffffffffff0100000001000000),\n",
       " ObjectRef(368ad6338ba18dc2ffffffffffffffffffffffff0100000001000000),\n",
       " ObjectRef(b712c9a2442f326effffffffffffffffffffffff0100000001000000),\n",
       " ObjectRef(ba82e993d311d8cfffffffffffffffffffffffff0100000001000000),\n",
       " ObjectRef(f51eec5635a84bcfffffffffffffffffffffffff0100000001000000),\n",
       " ObjectRef(d0fd7f95ef697c7cffffffffffffffffffffffff0100000001000000),\n",
       " ObjectRef(08b4d457f4766763ffffffffffffffffffffffff0100000001000000)]"
      ]
     },
     "execution_count": 1101,
     "metadata": {},
     "output_type": "execute_result"
    }
   ],
   "source": [
    "%%time\n",
    "import ray\n",
    "import time\n",
    "\n",
    "ray.shutdown()\n",
    "ray.init()\n",
    "@ray.remote\n",
    "def f(i):\n",
    "    time.sleep(1)\n",
    "    return process_amenities(i)\n",
    "\n",
    "amenities_filter = ['bank','courthouse','hospital','marketplace', 'police','school','university']\n",
    "\n",
    "futures = [f.remote(i) for i in amenities_filter]\n",
    "# print(ray.get(futures))\n",
    "# ray.get(futures[0])\n",
    "futures"
   ]
  },
  {
   "cell_type": "code",
   "execution_count": 1102,
   "metadata": {
    "scrolled": true
   },
   "outputs": [
    {
     "name": "stdout",
     "output_type": "stream",
     "text": [
      "\u001b[2m\u001b[36m(pid=37628)\u001b[0m amenities_as_points --> (5, 62)\n"
     ]
    },
    {
     "name": "stderr",
     "output_type": "stream",
     "text": [
      "\u001b[2m\u001b[36m(pid=37628)\u001b[0m /home/leibnitz.rojas/.local/lib/python3.6/site-packages/pyproj/crs/crs.py:53: FutureWarning: '+init=<authority>:<code>' syntax is deprecated. '<authority>:<code>' is the preferred initialization method. When making the change, be mindful of axis order changes: https://pyproj4.github.io/pyproj/stable/gotchas.html#axis-order-changes-in-proj-6\n",
      "\u001b[2m\u001b[36m(pid=37628)\u001b[0m   return _prepare_from_string(\" \".join(pjargs))\n",
      "\u001b[2m\u001b[36m(pid=37628)\u001b[0m /home/leibnitz.rojas/.local/lib/python3.6/site-packages/pyproj/crs/crs.py:294: FutureWarning: '+init=<authority>:<code>' syntax is deprecated. '<authority>:<code>' is the preferred initialization method. When making the change, be mindful of axis order changes: https://pyproj4.github.io/pyproj/stable/gotchas.html#axis-order-changes-in-proj-6\n",
      "\u001b[2m\u001b[36m(pid=37628)\u001b[0m   projstring = _prepare_from_string(\" \".join((projstring, projkwargs)))\n",
      "\u001b[2m\u001b[36m(pid=37628)\u001b[0m /home/leibnitz.rojas/.local/lib/python3.6/site-packages/pyproj/crs/crs.py:53: FutureWarning: '+init=<authority>:<code>' syntax is deprecated. '<authority>:<code>' is the preferred initialization method. When making the change, be mindful of axis order changes: https://pyproj4.github.io/pyproj/stable/gotchas.html#axis-order-changes-in-proj-6\n",
      "\u001b[2m\u001b[36m(pid=37628)\u001b[0m   return _prepare_from_string(\" \".join(pjargs))\n",
      "\u001b[2m\u001b[36m(pid=37628)\u001b[0m /home/leibnitz.rojas/.local/lib/python3.6/site-packages/pyproj/crs/crs.py:294: FutureWarning: '+init=<authority>:<code>' syntax is deprecated. '<authority>:<code>' is the preferred initialization method. When making the change, be mindful of axis order changes: https://pyproj4.github.io/pyproj/stable/gotchas.html#axis-order-changes-in-proj-6\n",
      "\u001b[2m\u001b[36m(pid=37628)\u001b[0m   projstring = _prepare_from_string(\" \".join((projstring, projkwargs)))\n"
     ]
    },
    {
     "name": "stdout",
     "output_type": "stream",
     "text": [
      "\u001b[2m\u001b[36m(pid=37653)\u001b[0m amenities_as_points --> (59, 62)\n",
      "\u001b[2m\u001b[36m(pid=37637)\u001b[0m amenities_as_points --> (16, 62)\n"
     ]
    },
    {
     "name": "stderr",
     "output_type": "stream",
     "text": [
      "\u001b[2m\u001b[36m(pid=37653)\u001b[0m /home/leibnitz.rojas/.local/lib/python3.6/site-packages/pyproj/crs/crs.py:53: FutureWarning: '+init=<authority>:<code>' syntax is deprecated. '<authority>:<code>' is the preferred initialization method. When making the change, be mindful of axis order changes: https://pyproj4.github.io/pyproj/stable/gotchas.html#axis-order-changes-in-proj-6\n",
      "\u001b[2m\u001b[36m(pid=37653)\u001b[0m   return _prepare_from_string(\" \".join(pjargs))\n",
      "\u001b[2m\u001b[36m(pid=37653)\u001b[0m /home/leibnitz.rojas/.local/lib/python3.6/site-packages/pyproj/crs/crs.py:294: FutureWarning: '+init=<authority>:<code>' syntax is deprecated. '<authority>:<code>' is the preferred initialization method. When making the change, be mindful of axis order changes: https://pyproj4.github.io/pyproj/stable/gotchas.html#axis-order-changes-in-proj-6\n",
      "\u001b[2m\u001b[36m(pid=37653)\u001b[0m   projstring = _prepare_from_string(\" \".join((projstring, projkwargs)))\n",
      "\u001b[2m\u001b[36m(pid=37653)\u001b[0m /home/leibnitz.rojas/.local/lib/python3.6/site-packages/pyproj/crs/crs.py:53: FutureWarning: '+init=<authority>:<code>' syntax is deprecated. '<authority>:<code>' is the preferred initialization method. When making the change, be mindful of axis order changes: https://pyproj4.github.io/pyproj/stable/gotchas.html#axis-order-changes-in-proj-6\n",
      "\u001b[2m\u001b[36m(pid=37653)\u001b[0m   return _prepare_from_string(\" \".join(pjargs))\n",
      "\u001b[2m\u001b[36m(pid=37653)\u001b[0m /home/leibnitz.rojas/.local/lib/python3.6/site-packages/pyproj/crs/crs.py:294: FutureWarning: '+init=<authority>:<code>' syntax is deprecated. '<authority>:<code>' is the preferred initialization method. When making the change, be mindful of axis order changes: https://pyproj4.github.io/pyproj/stable/gotchas.html#axis-order-changes-in-proj-6\n",
      "\u001b[2m\u001b[36m(pid=37653)\u001b[0m   projstring = _prepare_from_string(\" \".join((projstring, projkwargs)))\n",
      "\u001b[2m\u001b[36m(pid=37637)\u001b[0m /home/leibnitz.rojas/.local/lib/python3.6/site-packages/pyproj/crs/crs.py:53: FutureWarning: '+init=<authority>:<code>' syntax is deprecated. '<authority>:<code>' is the preferred initialization method. When making the change, be mindful of axis order changes: https://pyproj4.github.io/pyproj/stable/gotchas.html#axis-order-changes-in-proj-6\n",
      "\u001b[2m\u001b[36m(pid=37637)\u001b[0m   return _prepare_from_string(\" \".join(pjargs))\n",
      "\u001b[2m\u001b[36m(pid=37637)\u001b[0m /home/leibnitz.rojas/.local/lib/python3.6/site-packages/pyproj/crs/crs.py:294: FutureWarning: '+init=<authority>:<code>' syntax is deprecated. '<authority>:<code>' is the preferred initialization method. When making the change, be mindful of axis order changes: https://pyproj4.github.io/pyproj/stable/gotchas.html#axis-order-changes-in-proj-6\n",
      "\u001b[2m\u001b[36m(pid=37637)\u001b[0m   projstring = _prepare_from_string(\" \".join((projstring, projkwargs)))\n",
      "\u001b[2m\u001b[36m(pid=37637)\u001b[0m /home/leibnitz.rojas/.local/lib/python3.6/site-packages/pyproj/crs/crs.py:53: FutureWarning: '+init=<authority>:<code>' syntax is deprecated. '<authority>:<code>' is the preferred initialization method. When making the change, be mindful of axis order changes: https://pyproj4.github.io/pyproj/stable/gotchas.html#axis-order-changes-in-proj-6\n",
      "\u001b[2m\u001b[36m(pid=37637)\u001b[0m   return _prepare_from_string(\" \".join(pjargs))\n",
      "\u001b[2m\u001b[36m(pid=37637)\u001b[0m /home/leibnitz.rojas/.local/lib/python3.6/site-packages/pyproj/crs/crs.py:294: FutureWarning: '+init=<authority>:<code>' syntax is deprecated. '<authority>:<code>' is the preferred initialization method. When making the change, be mindful of axis order changes: https://pyproj4.github.io/pyproj/stable/gotchas.html#axis-order-changes-in-proj-6\n",
      "\u001b[2m\u001b[36m(pid=37637)\u001b[0m   projstring = _prepare_from_string(\" \".join((projstring, projkwargs)))\n"
     ]
    },
    {
     "name": "stdout",
     "output_type": "stream",
     "text": [
      "\u001b[2m\u001b[36m(pid=37689)\u001b[0m amenities_as_points --> (2, 62)\n",
      "\u001b[2m\u001b[36m(pid=37692)\u001b[0m amenities_as_points --> (3, 62)\n",
      "\u001b[2m\u001b[36m(pid=37687)\u001b[0m amenities_as_points --> (4, 62)\n"
     ]
    },
    {
     "name": "stderr",
     "output_type": "stream",
     "text": [
      "\u001b[2m\u001b[36m(pid=37687)\u001b[0m /home/leibnitz.rojas/.local/lib/python3.6/site-packages/pyproj/crs/crs.py:53: FutureWarning: '+init=<authority>:<code>' syntax is deprecated. '<authority>:<code>' is the preferred initialization method. When making the change, be mindful of axis order changes: https://pyproj4.github.io/pyproj/stable/gotchas.html#axis-order-changes-in-proj-6\n",
      "\u001b[2m\u001b[36m(pid=37687)\u001b[0m   return _prepare_from_string(\" \".join(pjargs))\n",
      "\u001b[2m\u001b[36m(pid=37687)\u001b[0m /home/leibnitz.rojas/.local/lib/python3.6/site-packages/pyproj/crs/crs.py:294: FutureWarning: '+init=<authority>:<code>' syntax is deprecated. '<authority>:<code>' is the preferred initialization method. When making the change, be mindful of axis order changes: https://pyproj4.github.io/pyproj/stable/gotchas.html#axis-order-changes-in-proj-6\n",
      "\u001b[2m\u001b[36m(pid=37687)\u001b[0m   projstring = _prepare_from_string(\" \".join((projstring, projkwargs)))\n",
      "\u001b[2m\u001b[36m(pid=37687)\u001b[0m /home/leibnitz.rojas/.local/lib/python3.6/site-packages/pyproj/crs/crs.py:53: FutureWarning: '+init=<authority>:<code>' syntax is deprecated. '<authority>:<code>' is the preferred initialization method. When making the change, be mindful of axis order changes: https://pyproj4.github.io/pyproj/stable/gotchas.html#axis-order-changes-in-proj-6\n",
      "\u001b[2m\u001b[36m(pid=37687)\u001b[0m   return _prepare_from_string(\" \".join(pjargs))\n",
      "\u001b[2m\u001b[36m(pid=37687)\u001b[0m /home/leibnitz.rojas/.local/lib/python3.6/site-packages/pyproj/crs/crs.py:294: FutureWarning: '+init=<authority>:<code>' syntax is deprecated. '<authority>:<code>' is the preferred initialization method. When making the change, be mindful of axis order changes: https://pyproj4.github.io/pyproj/stable/gotchas.html#axis-order-changes-in-proj-6\n",
      "\u001b[2m\u001b[36m(pid=37687)\u001b[0m   projstring = _prepare_from_string(\" \".join((projstring, projkwargs)))\n",
      "\u001b[2m\u001b[36m(pid=37692)\u001b[0m /home/leibnitz.rojas/.local/lib/python3.6/site-packages/pyproj/crs/crs.py:53: FutureWarning: '+init=<authority>:<code>' syntax is deprecated. '<authority>:<code>' is the preferred initialization method. When making the change, be mindful of axis order changes: https://pyproj4.github.io/pyproj/stable/gotchas.html#axis-order-changes-in-proj-6\n",
      "\u001b[2m\u001b[36m(pid=37692)\u001b[0m   return _prepare_from_string(\" \".join(pjargs))\n",
      "\u001b[2m\u001b[36m(pid=37692)\u001b[0m /home/leibnitz.rojas/.local/lib/python3.6/site-packages/pyproj/crs/crs.py:294: FutureWarning: '+init=<authority>:<code>' syntax is deprecated. '<authority>:<code>' is the preferred initialization method. When making the change, be mindful of axis order changes: https://pyproj4.github.io/pyproj/stable/gotchas.html#axis-order-changes-in-proj-6\n",
      "\u001b[2m\u001b[36m(pid=37692)\u001b[0m   projstring = _prepare_from_string(\" \".join((projstring, projkwargs)))\n",
      "\u001b[2m\u001b[36m(pid=37692)\u001b[0m /home/leibnitz.rojas/.local/lib/python3.6/site-packages/pyproj/crs/crs.py:53: FutureWarning: '+init=<authority>:<code>' syntax is deprecated. '<authority>:<code>' is the preferred initialization method. When making the change, be mindful of axis order changes: https://pyproj4.github.io/pyproj/stable/gotchas.html#axis-order-changes-in-proj-6\n",
      "\u001b[2m\u001b[36m(pid=37692)\u001b[0m   return _prepare_from_string(\" \".join(pjargs))\n",
      "\u001b[2m\u001b[36m(pid=37692)\u001b[0m /home/leibnitz.rojas/.local/lib/python3.6/site-packages/pyproj/crs/crs.py:294: FutureWarning: '+init=<authority>:<code>' syntax is deprecated. '<authority>:<code>' is the preferred initialization method. When making the change, be mindful of axis order changes: https://pyproj4.github.io/pyproj/stable/gotchas.html#axis-order-changes-in-proj-6\n",
      "\u001b[2m\u001b[36m(pid=37692)\u001b[0m   projstring = _prepare_from_string(\" \".join((projstring, projkwargs)))\n",
      "\u001b[2m\u001b[36m(pid=37689)\u001b[0m /home/leibnitz.rojas/.local/lib/python3.6/site-packages/pyproj/crs/crs.py:53: FutureWarning: '+init=<authority>:<code>' syntax is deprecated. '<authority>:<code>' is the preferred initialization method. When making the change, be mindful of axis order changes: https://pyproj4.github.io/pyproj/stable/gotchas.html#axis-order-changes-in-proj-6\n",
      "\u001b[2m\u001b[36m(pid=37689)\u001b[0m   return _prepare_from_string(\" \".join(pjargs))\n",
      "\u001b[2m\u001b[36m(pid=37689)\u001b[0m /home/leibnitz.rojas/.local/lib/python3.6/site-packages/pyproj/crs/crs.py:294: FutureWarning: '+init=<authority>:<code>' syntax is deprecated. '<authority>:<code>' is the preferred initialization method. When making the change, be mindful of axis order changes: https://pyproj4.github.io/pyproj/stable/gotchas.html#axis-order-changes-in-proj-6\n",
      "\u001b[2m\u001b[36m(pid=37689)\u001b[0m   projstring = _prepare_from_string(\" \".join((projstring, projkwargs)))\n",
      "\u001b[2m\u001b[36m(pid=37689)\u001b[0m /home/leibnitz.rojas/.local/lib/python3.6/site-packages/pyproj/crs/crs.py:53: FutureWarning: '+init=<authority>:<code>' syntax is deprecated. '<authority>:<code>' is the preferred initialization method. When making the change, be mindful of axis order changes: https://pyproj4.github.io/pyproj/stable/gotchas.html#axis-order-changes-in-proj-6\n",
      "\u001b[2m\u001b[36m(pid=37689)\u001b[0m   return _prepare_from_string(\" \".join(pjargs))\n",
      "\u001b[2m\u001b[36m(pid=37689)\u001b[0m /home/leibnitz.rojas/.local/lib/python3.6/site-packages/pyproj/crs/crs.py:294: FutureWarning: '+init=<authority>:<code>' syntax is deprecated. '<authority>:<code>' is the preferred initialization method. When making the change, be mindful of axis order changes: https://pyproj4.github.io/pyproj/stable/gotchas.html#axis-order-changes-in-proj-6\n",
      "\u001b[2m\u001b[36m(pid=37689)\u001b[0m   projstring = _prepare_from_string(\" \".join((projstring, projkwargs)))\n",
      "\u001b[2m\u001b[36m(pid=37664)\u001b[0m /home/leibnitz.rojas/.local/lib/python3.6/site-packages/pyproj/crs/crs.py:53: FutureWarning: '+init=<authority>:<code>' syntax is deprecated. '<authority>:<code>' is the preferred initialization method. When making the change, be mindful of axis order changes: https://pyproj4.github.io/pyproj/stable/gotchas.html#axis-order-changes-in-proj-6\n",
      "\u001b[2m\u001b[36m(pid=37664)\u001b[0m   return _prepare_from_string(\" \".join(pjargs))\n",
      "\u001b[2m\u001b[36m(pid=37664)\u001b[0m /home/leibnitz.rojas/.local/lib/python3.6/site-packages/pyproj/crs/crs.py:294: FutureWarning: '+init=<authority>:<code>' syntax is deprecated. '<authority>:<code>' is the preferred initialization method. When making the change, be mindful of axis order changes: https://pyproj4.github.io/pyproj/stable/gotchas.html#axis-order-changes-in-proj-6\n",
      "\u001b[2m\u001b[36m(pid=37664)\u001b[0m   projstring = _prepare_from_string(\" \".join((projstring, projkwargs)))\n",
      "\u001b[2m\u001b[36m(pid=37664)\u001b[0m /home/leibnitz.rojas/.local/lib/python3.6/site-packages/pyproj/crs/crs.py:53: FutureWarning: '+init=<authority>:<code>' syntax is deprecated. '<authority>:<code>' is the preferred initialization method. When making the change, be mindful of axis order changes: https://pyproj4.github.io/pyproj/stable/gotchas.html#axis-order-changes-in-proj-6\n",
      "\u001b[2m\u001b[36m(pid=37664)\u001b[0m   return _prepare_from_string(\" \".join(pjargs))\n",
      "\u001b[2m\u001b[36m(pid=37664)\u001b[0m /home/leibnitz.rojas/.local/lib/python3.6/site-packages/pyproj/crs/crs.py:294: FutureWarning: '+init=<authority>:<code>' syntax is deprecated. '<authority>:<code>' is the preferred initialization method. When making the change, be mindful of axis order changes: https://pyproj4.github.io/pyproj/stable/gotchas.html#axis-order-changes-in-proj-6\n",
      "\u001b[2m\u001b[36m(pid=37664)\u001b[0m   projstring = _prepare_from_string(\" \".join((projstring, projkwargs)))\n"
     ]
    },
    {
     "name": "stdout",
     "output_type": "stream",
     "text": [
      "\u001b[2m\u001b[36m(pid=37664)\u001b[0m amenities_as_points --> (24, 62)\n",
      "\u001b[2m\u001b[36m(pid=37692)\u001b[0m amenities_as_points2 --> (3, 64)\n",
      "\u001b[2m\u001b[36m(pid=37692)\u001b[0m nodes_amenity2 --> (7728, 14)\n",
      "\u001b[2m\u001b[36m(pid=37692)\u001b[0m Calculating shortest path distance:\n",
      "\u001b[2m\u001b[36m(pid=37664)\u001b[0m amenities_as_points2 --> (24, 64)\n",
      "\u001b[2m\u001b[36m(pid=37628)\u001b[0m amenities_as_points2 --> (5, 64)\n",
      "\u001b[2m\u001b[36m(pid=37628)\u001b[0m nodes_amenity2 --> (7728, 14)\n",
      "\u001b[2m\u001b[36m(pid=37628)\u001b[0m Calculating shortest path distance:\n",
      "\u001b[2m\u001b[36m(pid=37664)\u001b[0m nodes_amenity2 --> (7728, 14)\n",
      "\u001b[2m\u001b[36m(pid=37664)\u001b[0m Calculating shortest path distance:\n",
      "\u001b[2m\u001b[36m(pid=37687)\u001b[0m amenities_as_points2 --> (4, 64)\n",
      "\u001b[2m\u001b[36m(pid=37687)\u001b[0m nodes_amenity2 --> (7728, 14)\n",
      "\u001b[2m\u001b[36m(pid=37687)\u001b[0m Calculating shortest path distance:\n",
      "\u001b[2m\u001b[36m(pid=37689)\u001b[0m amenities_as_points2 --> (2, 64)\n",
      "\u001b[2m\u001b[36m(pid=37689)\u001b[0m nodes_amenity2 --> (7728, 14)\n",
      "\u001b[2m\u001b[36m(pid=37689)\u001b[0m Calculating shortest path distance:\n",
      "\u001b[2m\u001b[36m(pid=37637)\u001b[0m amenities_as_points2 --> (16, 64)\n",
      "\u001b[2m\u001b[36m(pid=37637)\u001b[0m nodes_amenity2 --> (7728, 14)\n",
      "\u001b[2m\u001b[36m(pid=37637)\u001b[0m Calculating shortest path distance:\n",
      "\u001b[2m\u001b[36m(pid=37653)\u001b[0m amenities_as_points2 --> (59, 64)\n",
      "\u001b[2m\u001b[36m(pid=37653)\u001b[0m nodes_amenity2 --> (7728, 14)\n",
      "\u001b[2m\u001b[36m(pid=37653)\u001b[0m Calculating shortest path distance:\n",
      "CPU times: user 42.8 s, sys: 9.15 s, total: 51.9 s\n",
      "Wall time: 29min 31s\n"
     ]
    }
   ],
   "source": [
    "%%time\n",
    "bank = ray.get(futures[0])\n",
    "courthouse = ray.get(futures[1])\n",
    "hospital = ray.get(futures[2])\n",
    "marketplace = ray.get(futures[3])\n",
    "police = ray.get(futures[4])\n",
    "school = ray.get(futures[5])\n",
    "university = ray.get(futures[6])"
   ]
  },
  {
   "cell_type": "code",
   "execution_count": 1103,
   "metadata": {},
   "outputs": [
    {
     "name": "stdout",
     "output_type": "stream",
     "text": [
      "CPU times: user 31 µs, sys: 0 ns, total: 31 µs\n",
      "Wall time: 34.6 µs\n"
     ]
    },
    {
     "data": {
      "text/plain": [
       "[['osmid', 'bank_amenity', 'bank_node', 'bank_dist'],\n",
       " ['osmid', 'courthouse_amenity', 'courthouse_node', 'courthouse_dist'],\n",
       " ['osmid', 'hospital_amenity', 'hospital_node', 'hospital_dist'],\n",
       " ['osmid', 'marketplace_amenity', 'marketplace_node', 'marketplace_dist'],\n",
       " ['osmid', 'police_amenity', 'police_node', 'police_dist'],\n",
       " ['osmid', 'school_amenity', 'school_node', 'school_dist'],\n",
       " ['osmid', 'university_amenity', 'university_node', 'university_dist']]"
      ]
     },
     "execution_count": 1103,
     "metadata": {},
     "output_type": "execute_result"
    }
   ],
   "source": [
    "%%time\n",
    "amenities_filter = ['bank','courthouse','hospital','marketplace', 'police','school','university']\n",
    "\n",
    "dfcols = []\n",
    "for a in amenities_filter:\n",
    "    cols = ['osmid', '{}_amenity'.format(a), '{}_node'.format(a), '{}_dist'.format(a)]\n",
    "    dfcols.append(cols)\n",
    "#     print(cols)\n",
    "\n",
    "dfcols"
   ]
  },
  {
   "cell_type": "code",
   "execution_count": 1104,
   "metadata": {
    "scrolled": true
   },
   "outputs": [
    {
     "data": {
      "text/plain": [
       "False"
      ]
     },
     "execution_count": 1104,
     "metadata": {},
     "output_type": "execute_result"
    }
   ],
   "source": [
    "# nodes.head()\n",
    "pd.DataFrame([], columns = dfcols[0])\n",
    "courthouse.shape[0] == 0"
   ]
  },
  {
   "cell_type": "code",
   "execution_count": 1105,
   "metadata": {},
   "outputs": [
    {
     "name": "stdout",
     "output_type": "stream",
     "text": [
      "CPU times: user 193 ms, sys: 7.75 ms, total: 200 ms\n",
      "Wall time: 197 ms\n"
     ]
    },
    {
     "data": {
      "text/html": [
       "<div>\n",
       "<style scoped>\n",
       "    .dataframe tbody tr th:only-of-type {\n",
       "        vertical-align: middle;\n",
       "    }\n",
       "\n",
       "    .dataframe tbody tr th {\n",
       "        vertical-align: top;\n",
       "    }\n",
       "\n",
       "    .dataframe thead th {\n",
       "        text-align: right;\n",
       "    }\n",
       "</style>\n",
       "<table border=\"1\" class=\"dataframe\">\n",
       "  <thead>\n",
       "    <tr style=\"text-align: right;\">\n",
       "      <th></th>\n",
       "      <th>osmid</th>\n",
       "      <th>y</th>\n",
       "      <th>x</th>\n",
       "      <th>street_count</th>\n",
       "      <th>highway</th>\n",
       "      <th>geometry</th>\n",
       "      <th>bank_amenity</th>\n",
       "      <th>bank_node</th>\n",
       "      <th>bank_dist</th>\n",
       "      <th>courthouse_amenity</th>\n",
       "      <th>courthouse_node</th>\n",
       "      <th>courthouse_dist</th>\n",
       "      <th>hospital_amenity</th>\n",
       "      <th>hospital_node</th>\n",
       "      <th>hospital_dist</th>\n",
       "      <th>marketplace_amenity</th>\n",
       "      <th>marketplace_node</th>\n",
       "      <th>marketplace_dist</th>\n",
       "      <th>police_amenity</th>\n",
       "      <th>police_node</th>\n",
       "      <th>police_dist</th>\n",
       "      <th>school_amenity</th>\n",
       "      <th>school_node</th>\n",
       "      <th>school_dist</th>\n",
       "      <th>university_amenity</th>\n",
       "      <th>university_node</th>\n",
       "      <th>university_dist</th>\n",
       "    </tr>\n",
       "  </thead>\n",
       "  <tbody>\n",
       "    <tr>\n",
       "      <th>0</th>\n",
       "      <td>273353471</td>\n",
       "      <td>-11.828771</td>\n",
       "      <td>-77.119495</td>\n",
       "      <td>3</td>\n",
       "      <td>NaN</td>\n",
       "      <td>POINT (-77.11949 -11.82877)</td>\n",
       "      <td>436478930</td>\n",
       "      <td>1756940172</td>\n",
       "      <td>3302.023</td>\n",
       "      <td>1847684582</td>\n",
       "      <td>2875497809</td>\n",
       "      <td>8185.397</td>\n",
       "      <td>405698392</td>\n",
       "      <td>5436270662</td>\n",
       "      <td>105.764</td>\n",
       "      <td>882212751</td>\n",
       "      <td>1273694290</td>\n",
       "      <td>682.582</td>\n",
       "      <td>4327127535</td>\n",
       "      <td>1273897403</td>\n",
       "      <td>414.314</td>\n",
       "      <td>451735658</td>\n",
       "      <td>1273977674</td>\n",
       "      <td>465.004</td>\n",
       "      <td>436754010</td>\n",
       "      <td>1768675130</td>\n",
       "      <td>7618.040</td>\n",
       "    </tr>\n",
       "    <tr>\n",
       "      <th>1</th>\n",
       "      <td>306532876</td>\n",
       "      <td>-11.924955</td>\n",
       "      <td>-77.129411</td>\n",
       "      <td>3</td>\n",
       "      <td>NaN</td>\n",
       "      <td>POINT (-77.12941 -11.92495)</td>\n",
       "      <td>1846411888</td>\n",
       "      <td>4201081573</td>\n",
       "      <td>1240.883</td>\n",
       "      <td>1847684583</td>\n",
       "      <td>5735215350</td>\n",
       "      <td>4436.314</td>\n",
       "      <td>468780933</td>\n",
       "      <td>2875497291</td>\n",
       "      <td>4430.893</td>\n",
       "      <td>604414016</td>\n",
       "      <td>5735215354</td>\n",
       "      <td>4539.487</td>\n",
       "      <td>4418351013</td>\n",
       "      <td>1756483844</td>\n",
       "      <td>2989.066</td>\n",
       "      <td>955952706</td>\n",
       "      <td>2469869220</td>\n",
       "      <td>1936.476</td>\n",
       "      <td>436754010</td>\n",
       "      <td>1768675130</td>\n",
       "      <td>7409.294</td>\n",
       "    </tr>\n",
       "    <tr>\n",
       "      <th>2</th>\n",
       "      <td>306532878</td>\n",
       "      <td>-11.921262</td>\n",
       "      <td>-77.128926</td>\n",
       "      <td>3</td>\n",
       "      <td>NaN</td>\n",
       "      <td>POINT (-77.12893 -11.92126)</td>\n",
       "      <td>1846411888</td>\n",
       "      <td>4201081573</td>\n",
       "      <td>826.580</td>\n",
       "      <td>1847684583</td>\n",
       "      <td>5735215350</td>\n",
       "      <td>4022.011</td>\n",
       "      <td>468780933</td>\n",
       "      <td>2875497291</td>\n",
       "      <td>4016.590</td>\n",
       "      <td>604414016</td>\n",
       "      <td>5735215354</td>\n",
       "      <td>4125.184</td>\n",
       "      <td>4418351013</td>\n",
       "      <td>1756483844</td>\n",
       "      <td>4348.850</td>\n",
       "      <td>955952706</td>\n",
       "      <td>2469869220</td>\n",
       "      <td>3296.260</td>\n",
       "      <td>436754010</td>\n",
       "      <td>1768675130</td>\n",
       "      <td>6994.991</td>\n",
       "    </tr>\n",
       "    <tr>\n",
       "      <th>3</th>\n",
       "      <td>306532880</td>\n",
       "      <td>-11.918878</td>\n",
       "      <td>-77.128746</td>\n",
       "      <td>3</td>\n",
       "      <td>NaN</td>\n",
       "      <td>POINT (-77.12875 -11.91888)</td>\n",
       "      <td>1846411782</td>\n",
       "      <td>4201081573</td>\n",
       "      <td>560.770</td>\n",
       "      <td>1847684583</td>\n",
       "      <td>5735215350</td>\n",
       "      <td>3756.201</td>\n",
       "      <td>468780933</td>\n",
       "      <td>2875497291</td>\n",
       "      <td>3750.780</td>\n",
       "      <td>604414016</td>\n",
       "      <td>5735215354</td>\n",
       "      <td>3859.374</td>\n",
       "      <td>4418351013</td>\n",
       "      <td>1756483844</td>\n",
       "      <td>4083.040</td>\n",
       "      <td>420129860</td>\n",
       "      <td>1762158125</td>\n",
       "      <td>2325.305</td>\n",
       "      <td>436754010</td>\n",
       "      <td>1768675130</td>\n",
       "      <td>6729.181</td>\n",
       "    </tr>\n",
       "    <tr>\n",
       "      <th>4</th>\n",
       "      <td>306532920</td>\n",
       "      <td>-11.876724</td>\n",
       "      <td>-77.126500</td>\n",
       "      <td>3</td>\n",
       "      <td>NaN</td>\n",
       "      <td>POINT (-77.12650 -11.87672)</td>\n",
       "      <td>4341404462</td>\n",
       "      <td>2876486621</td>\n",
       "      <td>537.205</td>\n",
       "      <td>1847684582</td>\n",
       "      <td>2875497809</td>\n",
       "      <td>1937.684</td>\n",
       "      <td>435520977</td>\n",
       "      <td>1767758594</td>\n",
       "      <td>576.293</td>\n",
       "      <td>436395395</td>\n",
       "      <td>1760799300</td>\n",
       "      <td>347.358</td>\n",
       "      <td>436322424</td>\n",
       "      <td>3737943666</td>\n",
       "      <td>744.114</td>\n",
       "      <td>5567558243</td>\n",
       "      <td>4341423881</td>\n",
       "      <td>607.828</td>\n",
       "      <td>436754010</td>\n",
       "      <td>1768675130</td>\n",
       "      <td>2003.145</td>\n",
       "    </tr>\n",
       "  </tbody>\n",
       "</table>\n",
       "</div>"
      ],
      "text/plain": [
       "       osmid          y          x  street_count highway  \\\n",
       "0  273353471 -11.828771 -77.119495             3     NaN   \n",
       "1  306532876 -11.924955 -77.129411             3     NaN   \n",
       "2  306532878 -11.921262 -77.128926             3     NaN   \n",
       "3  306532880 -11.918878 -77.128746             3     NaN   \n",
       "4  306532920 -11.876724 -77.126500             3     NaN   \n",
       "\n",
       "                      geometry  bank_amenity   bank_node  bank_dist  \\\n",
       "0  POINT (-77.11949 -11.82877)     436478930  1756940172   3302.023   \n",
       "1  POINT (-77.12941 -11.92495)    1846411888  4201081573   1240.883   \n",
       "2  POINT (-77.12893 -11.92126)    1846411888  4201081573    826.580   \n",
       "3  POINT (-77.12875 -11.91888)    1846411782  4201081573    560.770   \n",
       "4  POINT (-77.12650 -11.87672)    4341404462  2876486621    537.205   \n",
       "\n",
       "   courthouse_amenity  courthouse_node  courthouse_dist  hospital_amenity  \\\n",
       "0          1847684582       2875497809         8185.397         405698392   \n",
       "1          1847684583       5735215350         4436.314         468780933   \n",
       "2          1847684583       5735215350         4022.011         468780933   \n",
       "3          1847684583       5735215350         3756.201         468780933   \n",
       "4          1847684582       2875497809         1937.684         435520977   \n",
       "\n",
       "   hospital_node  hospital_dist  marketplace_amenity  marketplace_node  \\\n",
       "0     5436270662        105.764            882212751        1273694290   \n",
       "1     2875497291       4430.893            604414016        5735215354   \n",
       "2     2875497291       4016.590            604414016        5735215354   \n",
       "3     2875497291       3750.780            604414016        5735215354   \n",
       "4     1767758594        576.293            436395395        1760799300   \n",
       "\n",
       "   marketplace_dist  police_amenity  police_node  police_dist  school_amenity  \\\n",
       "0           682.582      4327127535   1273897403      414.314       451735658   \n",
       "1          4539.487      4418351013   1756483844     2989.066       955952706   \n",
       "2          4125.184      4418351013   1756483844     4348.850       955952706   \n",
       "3          3859.374      4418351013   1756483844     4083.040       420129860   \n",
       "4           347.358       436322424   3737943666      744.114      5567558243   \n",
       "\n",
       "   school_node  school_dist  university_amenity  university_node  \\\n",
       "0   1273977674      465.004           436754010       1768675130   \n",
       "1   2469869220     1936.476           436754010       1768675130   \n",
       "2   2469869220     3296.260           436754010       1768675130   \n",
       "3   1762158125     2325.305           436754010       1768675130   \n",
       "4   4341423881      607.828           436754010       1768675130   \n",
       "\n",
       "   university_dist  \n",
       "0         7618.040  \n",
       "1         7409.294  \n",
       "2         6994.991  \n",
       "3         6729.181  \n",
       "4         2003.145  "
      ]
     },
     "execution_count": 1105,
     "metadata": {},
     "output_type": "execute_result"
    }
   ],
   "source": [
    "%%time\n",
    "if bank.shape[0] == 0:\n",
    "    bank = pd.DataFrame([], columns = dfcols[0])\n",
    "if courthouse.shape[0] == 0:\n",
    "    courthouse = pd.DataFrame([], columns = dfcols[1])\n",
    "if hospital.shape[0] == 0:\n",
    "    hospital = pd.DataFrame([], columns = dfcols[2])\n",
    "if marketplace.shape[0] == 0:\n",
    "    marketplace = pd.DataFrame([], columns = dfcols[3])\n",
    "if police.shape[0] == 0:\n",
    "    police = pd.DataFrame([], columns = dfcols[4])\n",
    "if school.shape[0] == 0:\n",
    "    school = pd.DataFrame([], columns = dfcols[5])\n",
    "if university.shape[0] == 0:\n",
    "    university = pd.DataFrame([], columns = dfcols[6])\n",
    "    \n",
    "tmp = nodes.reset_index()\n",
    "tmp = tmp.merge( bank [dfcols[0]], how='left', on='osmid' )\n",
    "tmp = tmp.merge( courthouse[dfcols[1]], how='left', on='osmid')\n",
    "tmp = tmp.merge( hospital[dfcols[2]], how='left', on='osmid' )\n",
    "tmp = tmp.merge( marketplace[dfcols[3]], how='left', on='osmid' )\n",
    "tmp = tmp.merge( police[dfcols[4]], how='left', on='osmid' )\n",
    "tmp = tmp.merge( school[dfcols[5]], how='left', on='osmid' )\n",
    "tmp = tmp.merge( university[dfcols[6]], how='left', on='osmid' )\n",
    "tmp.head()"
   ]
  },
  {
   "cell_type": "code",
   "execution_count": 1106,
   "metadata": {},
   "outputs": [],
   "source": [
    "name = place_name.split(',')[0].replace(' ','_')\n",
    "filename = \"simbig21data/{}.csv\".format(name)\n",
    "tmp.to_csv( filename, index=False)"
   ]
  },
  {
   "cell_type": "code",
   "execution_count": 1107,
   "metadata": {},
   "outputs": [
    {
     "data": {
      "text/html": [
       "<div>\n",
       "<style scoped>\n",
       "    .dataframe tbody tr th:only-of-type {\n",
       "        vertical-align: middle;\n",
       "    }\n",
       "\n",
       "    .dataframe tbody tr th {\n",
       "        vertical-align: top;\n",
       "    }\n",
       "\n",
       "    .dataframe thead th {\n",
       "        text-align: right;\n",
       "    }\n",
       "</style>\n",
       "<table border=\"1\" class=\"dataframe\">\n",
       "  <thead>\n",
       "    <tr style=\"text-align: right;\">\n",
       "      <th></th>\n",
       "      <th>osmid</th>\n",
       "      <th>y</th>\n",
       "      <th>x</th>\n",
       "      <th>street_count</th>\n",
       "      <th>highway</th>\n",
       "      <th>geometry</th>\n",
       "      <th>bank_amenity</th>\n",
       "      <th>bank_node</th>\n",
       "      <th>bank_dist</th>\n",
       "      <th>courthouse_amenity</th>\n",
       "      <th>courthouse_node</th>\n",
       "      <th>courthouse_dist</th>\n",
       "      <th>hospital_amenity</th>\n",
       "      <th>hospital_node</th>\n",
       "      <th>hospital_dist</th>\n",
       "      <th>marketplace_amenity</th>\n",
       "      <th>marketplace_node</th>\n",
       "      <th>marketplace_dist</th>\n",
       "      <th>police_amenity</th>\n",
       "      <th>police_node</th>\n",
       "      <th>police_dist</th>\n",
       "      <th>school_amenity</th>\n",
       "      <th>school_node</th>\n",
       "      <th>school_dist</th>\n",
       "      <th>university_amenity</th>\n",
       "      <th>university_node</th>\n",
       "      <th>university_dist</th>\n",
       "    </tr>\n",
       "  </thead>\n",
       "  <tbody>\n",
       "    <tr>\n",
       "      <th>0</th>\n",
       "      <td>273353471</td>\n",
       "      <td>-11.828771</td>\n",
       "      <td>-77.119495</td>\n",
       "      <td>3</td>\n",
       "      <td>NaN</td>\n",
       "      <td>POINT (-77.1194946 -11.8287714)</td>\n",
       "      <td>436478930</td>\n",
       "      <td>1756940172</td>\n",
       "      <td>3302.023</td>\n",
       "      <td>1847684582</td>\n",
       "      <td>2875497809</td>\n",
       "      <td>8185.397</td>\n",
       "      <td>405698392</td>\n",
       "      <td>5436270662</td>\n",
       "      <td>105.764</td>\n",
       "      <td>882212751</td>\n",
       "      <td>1273694290</td>\n",
       "      <td>682.582</td>\n",
       "      <td>4327127535</td>\n",
       "      <td>1273897403</td>\n",
       "      <td>414.314</td>\n",
       "      <td>451735658</td>\n",
       "      <td>1273977674</td>\n",
       "      <td>465.004</td>\n",
       "      <td>436754010</td>\n",
       "      <td>1768675130</td>\n",
       "      <td>7618.040</td>\n",
       "    </tr>\n",
       "    <tr>\n",
       "      <th>1</th>\n",
       "      <td>306532876</td>\n",
       "      <td>-11.924955</td>\n",
       "      <td>-77.129411</td>\n",
       "      <td>3</td>\n",
       "      <td>NaN</td>\n",
       "      <td>POINT (-77.1294111 -11.9249546)</td>\n",
       "      <td>1846411888</td>\n",
       "      <td>4201081573</td>\n",
       "      <td>1240.883</td>\n",
       "      <td>1847684583</td>\n",
       "      <td>5735215350</td>\n",
       "      <td>4436.314</td>\n",
       "      <td>468780933</td>\n",
       "      <td>2875497291</td>\n",
       "      <td>4430.893</td>\n",
       "      <td>604414016</td>\n",
       "      <td>5735215354</td>\n",
       "      <td>4539.487</td>\n",
       "      <td>4418351013</td>\n",
       "      <td>1756483844</td>\n",
       "      <td>2989.066</td>\n",
       "      <td>955952706</td>\n",
       "      <td>2469869220</td>\n",
       "      <td>1936.476</td>\n",
       "      <td>436754010</td>\n",
       "      <td>1768675130</td>\n",
       "      <td>7409.294</td>\n",
       "    </tr>\n",
       "    <tr>\n",
       "      <th>2</th>\n",
       "      <td>306532878</td>\n",
       "      <td>-11.921262</td>\n",
       "      <td>-77.128926</td>\n",
       "      <td>3</td>\n",
       "      <td>NaN</td>\n",
       "      <td>POINT (-77.1289258 -11.9212622)</td>\n",
       "      <td>1846411888</td>\n",
       "      <td>4201081573</td>\n",
       "      <td>826.580</td>\n",
       "      <td>1847684583</td>\n",
       "      <td>5735215350</td>\n",
       "      <td>4022.011</td>\n",
       "      <td>468780933</td>\n",
       "      <td>2875497291</td>\n",
       "      <td>4016.590</td>\n",
       "      <td>604414016</td>\n",
       "      <td>5735215354</td>\n",
       "      <td>4125.184</td>\n",
       "      <td>4418351013</td>\n",
       "      <td>1756483844</td>\n",
       "      <td>4348.850</td>\n",
       "      <td>955952706</td>\n",
       "      <td>2469869220</td>\n",
       "      <td>3296.260</td>\n",
       "      <td>436754010</td>\n",
       "      <td>1768675130</td>\n",
       "      <td>6994.991</td>\n",
       "    </tr>\n",
       "    <tr>\n",
       "      <th>3</th>\n",
       "      <td>306532880</td>\n",
       "      <td>-11.918878</td>\n",
       "      <td>-77.128746</td>\n",
       "      <td>3</td>\n",
       "      <td>NaN</td>\n",
       "      <td>POINT (-77.12874600000001 -11.9188782)</td>\n",
       "      <td>1846411782</td>\n",
       "      <td>4201081573</td>\n",
       "      <td>560.770</td>\n",
       "      <td>1847684583</td>\n",
       "      <td>5735215350</td>\n",
       "      <td>3756.201</td>\n",
       "      <td>468780933</td>\n",
       "      <td>2875497291</td>\n",
       "      <td>3750.780</td>\n",
       "      <td>604414016</td>\n",
       "      <td>5735215354</td>\n",
       "      <td>3859.374</td>\n",
       "      <td>4418351013</td>\n",
       "      <td>1756483844</td>\n",
       "      <td>4083.040</td>\n",
       "      <td>420129860</td>\n",
       "      <td>1762158125</td>\n",
       "      <td>2325.305</td>\n",
       "      <td>436754010</td>\n",
       "      <td>1768675130</td>\n",
       "      <td>6729.181</td>\n",
       "    </tr>\n",
       "    <tr>\n",
       "      <th>4</th>\n",
       "      <td>306532920</td>\n",
       "      <td>-11.876724</td>\n",
       "      <td>-77.126500</td>\n",
       "      <td>3</td>\n",
       "      <td>NaN</td>\n",
       "      <td>POINT (-77.1265002 -11.8767238)</td>\n",
       "      <td>4341404462</td>\n",
       "      <td>2876486621</td>\n",
       "      <td>537.205</td>\n",
       "      <td>1847684582</td>\n",
       "      <td>2875497809</td>\n",
       "      <td>1937.684</td>\n",
       "      <td>435520977</td>\n",
       "      <td>1767758594</td>\n",
       "      <td>576.293</td>\n",
       "      <td>436395395</td>\n",
       "      <td>1760799300</td>\n",
       "      <td>347.358</td>\n",
       "      <td>436322424</td>\n",
       "      <td>3737943666</td>\n",
       "      <td>744.114</td>\n",
       "      <td>5567558243</td>\n",
       "      <td>4341423881</td>\n",
       "      <td>607.828</td>\n",
       "      <td>436754010</td>\n",
       "      <td>1768675130</td>\n",
       "      <td>2003.145</td>\n",
       "    </tr>\n",
       "  </tbody>\n",
       "</table>\n",
       "</div>"
      ],
      "text/plain": [
       "       osmid          y          x  street_count highway  \\\n",
       "0  273353471 -11.828771 -77.119495             3     NaN   \n",
       "1  306532876 -11.924955 -77.129411             3     NaN   \n",
       "2  306532878 -11.921262 -77.128926             3     NaN   \n",
       "3  306532880 -11.918878 -77.128746             3     NaN   \n",
       "4  306532920 -11.876724 -77.126500             3     NaN   \n",
       "\n",
       "                                 geometry  bank_amenity   bank_node  \\\n",
       "0         POINT (-77.1194946 -11.8287714)     436478930  1756940172   \n",
       "1         POINT (-77.1294111 -11.9249546)    1846411888  4201081573   \n",
       "2         POINT (-77.1289258 -11.9212622)    1846411888  4201081573   \n",
       "3  POINT (-77.12874600000001 -11.9188782)    1846411782  4201081573   \n",
       "4         POINT (-77.1265002 -11.8767238)    4341404462  2876486621   \n",
       "\n",
       "   bank_dist  courthouse_amenity  courthouse_node  courthouse_dist  \\\n",
       "0   3302.023          1847684582       2875497809         8185.397   \n",
       "1   1240.883          1847684583       5735215350         4436.314   \n",
       "2    826.580          1847684583       5735215350         4022.011   \n",
       "3    560.770          1847684583       5735215350         3756.201   \n",
       "4    537.205          1847684582       2875497809         1937.684   \n",
       "\n",
       "   hospital_amenity  hospital_node  hospital_dist  marketplace_amenity  \\\n",
       "0         405698392     5436270662        105.764            882212751   \n",
       "1         468780933     2875497291       4430.893            604414016   \n",
       "2         468780933     2875497291       4016.590            604414016   \n",
       "3         468780933     2875497291       3750.780            604414016   \n",
       "4         435520977     1767758594        576.293            436395395   \n",
       "\n",
       "   marketplace_node  marketplace_dist  police_amenity  police_node  \\\n",
       "0        1273694290           682.582      4327127535   1273897403   \n",
       "1        5735215354          4539.487      4418351013   1756483844   \n",
       "2        5735215354          4125.184      4418351013   1756483844   \n",
       "3        5735215354          3859.374      4418351013   1756483844   \n",
       "4        1760799300           347.358       436322424   3737943666   \n",
       "\n",
       "   police_dist  school_amenity  school_node  school_dist  university_amenity  \\\n",
       "0      414.314       451735658   1273977674      465.004           436754010   \n",
       "1     2989.066       955952706   2469869220     1936.476           436754010   \n",
       "2     4348.850       955952706   2469869220     3296.260           436754010   \n",
       "3     4083.040       420129860   1762158125     2325.305           436754010   \n",
       "4      744.114      5567558243   4341423881      607.828           436754010   \n",
       "\n",
       "   university_node  university_dist  \n",
       "0       1768675130         7618.040  \n",
       "1       1768675130         7409.294  \n",
       "2       1768675130         6994.991  \n",
       "3       1768675130         6729.181  \n",
       "4       1768675130         2003.145  "
      ]
     },
     "execution_count": 1107,
     "metadata": {},
     "output_type": "execute_result"
    }
   ],
   "source": [
    "df = pd.read_csv(filename)\n",
    "df.head()"
   ]
  },
  {
   "cell_type": "code",
   "execution_count": 1108,
   "metadata": {},
   "outputs": [
    {
     "name": "stdout",
     "output_type": "stream",
     "text": [
      "Processing time : 1827.1639120578766 secods\n"
     ]
    }
   ],
   "source": [
    "end = time.time()\n",
    "print(\"Processing time : {} secods\".format(end-start))"
   ]
  },
  {
   "cell_type": "code",
   "execution_count": null,
   "metadata": {},
   "outputs": [],
   "source": []
  }
 ],
 "metadata": {
  "kernelspec": {
   "display_name": "Python 3",
   "language": "python",
   "name": "python3"
  },
  "language_info": {
   "codemirror_mode": {
    "name": "ipython",
    "version": 3
   },
   "file_extension": ".py",
   "mimetype": "text/x-python",
   "name": "python",
   "nbconvert_exporter": "python",
   "pygments_lexer": "ipython3",
   "version": "3.6.9"
  }
 },
 "nbformat": 4,
 "nbformat_minor": 4
}
