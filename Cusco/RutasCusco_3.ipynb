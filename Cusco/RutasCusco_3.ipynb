{
 "cells": [
  {
   "cell_type": "code",
   "execution_count": 114,
   "metadata": {},
   "outputs": [],
   "source": [
    "import pandas as pd\n",
    "import seaborn as sns\n",
    "import matplotlib.pyplot as plt"
   ]
  },
  {
   "cell_type": "code",
   "execution_count": 21,
   "metadata": {},
   "outputs": [
    {
     "name": "stdout",
     "output_type": "stream",
     "text": [
      "AmenitiesGrafoTransporte.csv\tGrafoCuscoTransporte_nodes.csv\r\n",
      "EdgesCusco_wazeinfo.csv\t\tRutasCusco.csv\r\n",
      "GrafoCusco_edges.csv\t\tRutasCusco_snap_CuscoNodes.csv\r\n",
      "GrafoCusco_edgeswaze0800.csv\twazeresults_bank.csv\r\n",
      "GrafoCusco_edgeswaze1400.csv\twazeresults_courthouse.csv\r\n",
      "GrafoCusco_edgeswaze.csv\twazeresults_hospital.csv\r\n",
      "GrafoCusco_edgeswaze.zip\twazeresults_police.csv\r\n",
      "GrafoCusco_nodes.csv\t\twazeresults_school.csv\r\n",
      "GrafoCusco_nodes.zip\t\twazeresults_university.csv\r\n",
      "GrafoCuscoTransporte_edges.csv\r\n"
     ]
    }
   ],
   "source": [
    "!ls data"
   ]
  },
  {
   "cell_type": "code",
   "execution_count": 27,
   "metadata": {},
   "outputs": [],
   "source": [
    "amenities = ['school', 'university', 'bank', 'courthouse', 'hospital', 'police']\n",
    "def readamenity(amenity):\n",
    "    df = pd.read_csv(f\"data/wazeresults_{amenity}.csv\", sep=';',)\n",
    "    df['amenity'] = amenity\n",
    "    return df\n",
    "    \n",
    "amenities_data = [readamenity(var) for var in amenities]"
   ]
  },
  {
   "cell_type": "code",
   "execution_count": 29,
   "metadata": {},
   "outputs": [
    {
     "data": {
      "text/html": [
       "<div>\n",
       "<style scoped>\n",
       "    .dataframe tbody tr th:only-of-type {\n",
       "        vertical-align: middle;\n",
       "    }\n",
       "\n",
       "    .dataframe tbody tr th {\n",
       "        vertical-align: top;\n",
       "    }\n",
       "\n",
       "    .dataframe thead th {\n",
       "        text-align: right;\n",
       "    }\n",
       "</style>\n",
       "<table border=\"1\" class=\"dataframe\">\n",
       "  <thead>\n",
       "    <tr style=\"text-align: right;\">\n",
       "      <th></th>\n",
       "      <th>source</th>\n",
       "      <th>target</th>\n",
       "      <th>wazeinfo0800_km</th>\n",
       "      <th>wazeinfo1400_minutes</th>\n",
       "      <th>wazeinfo1400_km</th>\n",
       "      <th>wazeinfo0800_minutes</th>\n",
       "      <th>amenity</th>\n",
       "    </tr>\n",
       "  </thead>\n",
       "  <tbody>\n",
       "    <tr>\n",
       "      <th>0</th>\n",
       "      <td>4427153413</td>\n",
       "      <td>993167872</td>\n",
       "      <td>NaN</td>\n",
       "      <td>NaN</td>\n",
       "      <td>NaN</td>\n",
       "      <td>NaN</td>\n",
       "      <td>school</td>\n",
       "    </tr>\n",
       "    <tr>\n",
       "      <th>1</th>\n",
       "      <td>4427153413</td>\n",
       "      <td>2735769089</td>\n",
       "      <td>NaN</td>\n",
       "      <td>NaN</td>\n",
       "      <td>NaN</td>\n",
       "      <td>NaN</td>\n",
       "      <td>school</td>\n",
       "    </tr>\n",
       "    <tr>\n",
       "      <th>2</th>\n",
       "      <td>4427153413</td>\n",
       "      <td>3739432963</td>\n",
       "      <td>NaN</td>\n",
       "      <td>NaN</td>\n",
       "      <td>NaN</td>\n",
       "      <td>NaN</td>\n",
       "      <td>school</td>\n",
       "    </tr>\n",
       "    <tr>\n",
       "      <th>3</th>\n",
       "      <td>4427153413</td>\n",
       "      <td>30983685</td>\n",
       "      <td>NaN</td>\n",
       "      <td>NaN</td>\n",
       "      <td>NaN</td>\n",
       "      <td>NaN</td>\n",
       "      <td>school</td>\n",
       "    </tr>\n",
       "    <tr>\n",
       "      <th>4</th>\n",
       "      <td>4427153413</td>\n",
       "      <td>4590287365</td>\n",
       "      <td>NaN</td>\n",
       "      <td>NaN</td>\n",
       "      <td>NaN</td>\n",
       "      <td>NaN</td>\n",
       "      <td>school</td>\n",
       "    </tr>\n",
       "    <tr>\n",
       "      <th>...</th>\n",
       "      <td>...</td>\n",
       "      <td>...</td>\n",
       "      <td>...</td>\n",
       "      <td>...</td>\n",
       "      <td>...</td>\n",
       "      <td>...</td>\n",
       "      <td>...</td>\n",
       "    </tr>\n",
       "    <tr>\n",
       "      <th>543485</th>\n",
       "      <td>30965748</td>\n",
       "      <td>30983670</td>\n",
       "      <td>1.281</td>\n",
       "      <td>5.00</td>\n",
       "      <td>1.281</td>\n",
       "      <td>5.333333</td>\n",
       "      <td>school</td>\n",
       "    </tr>\n",
       "    <tr>\n",
       "      <th>543486</th>\n",
       "      <td>30965748</td>\n",
       "      <td>30983671</td>\n",
       "      <td>1.283</td>\n",
       "      <td>5.00</td>\n",
       "      <td>1.283</td>\n",
       "      <td>5.333333</td>\n",
       "      <td>school</td>\n",
       "    </tr>\n",
       "    <tr>\n",
       "      <th>543487</th>\n",
       "      <td>30965748</td>\n",
       "      <td>30964728</td>\n",
       "      <td>NaN</td>\n",
       "      <td>NaN</td>\n",
       "      <td>NaN</td>\n",
       "      <td>NaN</td>\n",
       "      <td>school</td>\n",
       "    </tr>\n",
       "    <tr>\n",
       "      <th>543488</th>\n",
       "      <td>30965748</td>\n",
       "      <td>4428261882</td>\n",
       "      <td>3.736</td>\n",
       "      <td>11.80</td>\n",
       "      <td>3.736</td>\n",
       "      <td>12.200000</td>\n",
       "      <td>school</td>\n",
       "    </tr>\n",
       "    <tr>\n",
       "      <th>543489</th>\n",
       "      <td>30965748</td>\n",
       "      <td>6202445307</td>\n",
       "      <td>4.043</td>\n",
       "      <td>13.05</td>\n",
       "      <td>4.043</td>\n",
       "      <td>12.783333</td>\n",
       "      <td>school</td>\n",
       "    </tr>\n",
       "  </tbody>\n",
       "</table>\n",
       "<p>543490 rows × 7 columns</p>\n",
       "</div>"
      ],
      "text/plain": [
       "            source      target  wazeinfo0800_km  wazeinfo1400_minutes  \\\n",
       "0       4427153413   993167872              NaN                   NaN   \n",
       "1       4427153413  2735769089              NaN                   NaN   \n",
       "2       4427153413  3739432963              NaN                   NaN   \n",
       "3       4427153413    30983685              NaN                   NaN   \n",
       "4       4427153413  4590287365              NaN                   NaN   \n",
       "...            ...         ...              ...                   ...   \n",
       "543485    30965748    30983670            1.281                  5.00   \n",
       "543486    30965748    30983671            1.283                  5.00   \n",
       "543487    30965748    30964728              NaN                   NaN   \n",
       "543488    30965748  4428261882            3.736                 11.80   \n",
       "543489    30965748  6202445307            4.043                 13.05   \n",
       "\n",
       "        wazeinfo1400_km  wazeinfo0800_minutes amenity  \n",
       "0                   NaN                   NaN  school  \n",
       "1                   NaN                   NaN  school  \n",
       "2                   NaN                   NaN  school  \n",
       "3                   NaN                   NaN  school  \n",
       "4                   NaN                   NaN  school  \n",
       "...                 ...                   ...     ...  \n",
       "543485            1.281              5.333333  school  \n",
       "543486            1.283              5.333333  school  \n",
       "543487              NaN                   NaN  school  \n",
       "543488            3.736             12.200000  school  \n",
       "543489            4.043             12.783333  school  \n",
       "\n",
       "[543490 rows x 7 columns]"
      ]
     },
     "execution_count": 29,
     "metadata": {},
     "output_type": "execute_result"
    }
   ],
   "source": [
    "amenities_data[0]"
   ]
  },
  {
   "cell_type": "code",
   "execution_count": 30,
   "metadata": {},
   "outputs": [
    {
     "data": {
      "text/html": [
       "<div>\n",
       "<style scoped>\n",
       "    .dataframe tbody tr th:only-of-type {\n",
       "        vertical-align: middle;\n",
       "    }\n",
       "\n",
       "    .dataframe tbody tr th {\n",
       "        vertical-align: top;\n",
       "    }\n",
       "\n",
       "    .dataframe thead th {\n",
       "        text-align: right;\n",
       "    }\n",
       "</style>\n",
       "<table border=\"1\" class=\"dataframe\">\n",
       "  <thead>\n",
       "    <tr style=\"text-align: right;\">\n",
       "      <th></th>\n",
       "      <th>source</th>\n",
       "      <th>target</th>\n",
       "      <th>wazeinfo0800_km</th>\n",
       "      <th>wazeinfo1400_minutes</th>\n",
       "      <th>wazeinfo1400_km</th>\n",
       "      <th>wazeinfo0800_minutes</th>\n",
       "      <th>amenity</th>\n",
       "    </tr>\n",
       "  </thead>\n",
       "  <tbody>\n",
       "    <tr>\n",
       "      <th>0</th>\n",
       "      <td>4427153413</td>\n",
       "      <td>993167872</td>\n",
       "      <td>NaN</td>\n",
       "      <td>NaN</td>\n",
       "      <td>NaN</td>\n",
       "      <td>NaN</td>\n",
       "      <td>school</td>\n",
       "    </tr>\n",
       "    <tr>\n",
       "      <th>1</th>\n",
       "      <td>4427153413</td>\n",
       "      <td>2735769089</td>\n",
       "      <td>NaN</td>\n",
       "      <td>NaN</td>\n",
       "      <td>NaN</td>\n",
       "      <td>NaN</td>\n",
       "      <td>school</td>\n",
       "    </tr>\n",
       "    <tr>\n",
       "      <th>2</th>\n",
       "      <td>4427153413</td>\n",
       "      <td>3739432963</td>\n",
       "      <td>NaN</td>\n",
       "      <td>NaN</td>\n",
       "      <td>NaN</td>\n",
       "      <td>NaN</td>\n",
       "      <td>school</td>\n",
       "    </tr>\n",
       "    <tr>\n",
       "      <th>3</th>\n",
       "      <td>4427153413</td>\n",
       "      <td>30983685</td>\n",
       "      <td>NaN</td>\n",
       "      <td>NaN</td>\n",
       "      <td>NaN</td>\n",
       "      <td>NaN</td>\n",
       "      <td>school</td>\n",
       "    </tr>\n",
       "    <tr>\n",
       "      <th>4</th>\n",
       "      <td>4427153413</td>\n",
       "      <td>4590287365</td>\n",
       "      <td>NaN</td>\n",
       "      <td>NaN</td>\n",
       "      <td>NaN</td>\n",
       "      <td>NaN</td>\n",
       "      <td>school</td>\n",
       "    </tr>\n",
       "    <tr>\n",
       "      <th>...</th>\n",
       "      <td>...</td>\n",
       "      <td>...</td>\n",
       "      <td>...</td>\n",
       "      <td>...</td>\n",
       "      <td>...</td>\n",
       "      <td>...</td>\n",
       "      <td>...</td>\n",
       "    </tr>\n",
       "    <tr>\n",
       "      <th>744340</th>\n",
       "      <td>30965748</td>\n",
       "      <td>30985588</td>\n",
       "      <td>1.256</td>\n",
       "      <td>4.400000</td>\n",
       "      <td>1.256</td>\n",
       "      <td>4.550000</td>\n",
       "      <td>police</td>\n",
       "    </tr>\n",
       "    <tr>\n",
       "      <th>744341</th>\n",
       "      <td>30965748</td>\n",
       "      <td>30970486</td>\n",
       "      <td>10.594</td>\n",
       "      <td>22.200000</td>\n",
       "      <td>10.560</td>\n",
       "      <td>22.033333</td>\n",
       "      <td>police</td>\n",
       "    </tr>\n",
       "    <tr>\n",
       "      <th>744342</th>\n",
       "      <td>30965748</td>\n",
       "      <td>1014221558</td>\n",
       "      <td>1.867</td>\n",
       "      <td>4.966667</td>\n",
       "      <td>1.867</td>\n",
       "      <td>5.200000</td>\n",
       "      <td>police</td>\n",
       "    </tr>\n",
       "    <tr>\n",
       "      <th>744343</th>\n",
       "      <td>30965748</td>\n",
       "      <td>4326256441</td>\n",
       "      <td>1.390</td>\n",
       "      <td>4.333333</td>\n",
       "      <td>1.390</td>\n",
       "      <td>4.533333</td>\n",
       "      <td>police</td>\n",
       "    </tr>\n",
       "    <tr>\n",
       "      <th>744344</th>\n",
       "      <td>30965748</td>\n",
       "      <td>4428261818</td>\n",
       "      <td>3.530</td>\n",
       "      <td>11.183333</td>\n",
       "      <td>3.530</td>\n",
       "      <td>11.383333</td>\n",
       "      <td>police</td>\n",
       "    </tr>\n",
       "  </tbody>\n",
       "</table>\n",
       "<p>744345 rows × 7 columns</p>\n",
       "</div>"
      ],
      "text/plain": [
       "            source      target  wazeinfo0800_km  wazeinfo1400_minutes  \\\n",
       "0       4427153413   993167872              NaN                   NaN   \n",
       "1       4427153413  2735769089              NaN                   NaN   \n",
       "2       4427153413  3739432963              NaN                   NaN   \n",
       "3       4427153413    30983685              NaN                   NaN   \n",
       "4       4427153413  4590287365              NaN                   NaN   \n",
       "...            ...         ...              ...                   ...   \n",
       "744340    30965748    30985588            1.256              4.400000   \n",
       "744341    30965748    30970486           10.594             22.200000   \n",
       "744342    30965748  1014221558            1.867              4.966667   \n",
       "744343    30965748  4326256441            1.390              4.333333   \n",
       "744344    30965748  4428261818            3.530             11.183333   \n",
       "\n",
       "        wazeinfo1400_km  wazeinfo0800_minutes amenity  \n",
       "0                   NaN                   NaN  school  \n",
       "1                   NaN                   NaN  school  \n",
       "2                   NaN                   NaN  school  \n",
       "3                   NaN                   NaN  school  \n",
       "4                   NaN                   NaN  school  \n",
       "...                 ...                   ...     ...  \n",
       "744340            1.256              4.550000  police  \n",
       "744341           10.560             22.033333  police  \n",
       "744342            1.867              5.200000  police  \n",
       "744343            1.390              4.533333  police  \n",
       "744344            3.530             11.383333  police  \n",
       "\n",
       "[744345 rows x 7 columns]"
      ]
     },
     "execution_count": 30,
     "metadata": {},
     "output_type": "execute_result"
    }
   ],
   "source": [
    "data = pd.concat(amenities_data, ignore_index=True)\n",
    "data"
   ]
  },
  {
   "cell_type": "code",
   "execution_count": 149,
   "metadata": {},
   "outputs": [
    {
     "data": {
      "text/plain": [
       "source                  11045533749\n",
       "target                  10938632423\n",
       "wazeinfo0800_km              41.382\n",
       "wazeinfo1400_minutes        68.0833\n",
       "wazeinfo1400_km              41.378\n",
       "wazeinfo0800_minutes          65.65\n",
       "amenity                  university\n",
       "dtype: object"
      ]
     },
     "execution_count": 149,
     "metadata": {},
     "output_type": "execute_result"
    }
   ],
   "source": [
    "data.max()"
   ]
  },
  {
   "cell_type": "code",
   "execution_count": 150,
   "metadata": {},
   "outputs": [],
   "source": [
    "data.fillna(99, inplace=True)"
   ]
  },
  {
   "cell_type": "code",
   "execution_count": 74,
   "metadata": {},
   "outputs": [
    {
     "data": {
      "text/plain": [
       "Index(['source', 'target', 'wazeinfo0800_km', 'wazeinfo1400_minutes',\n",
       "       'wazeinfo1400_km', 'wazeinfo0800_minutes', 'amenity'],\n",
       "      dtype='object')"
      ]
     },
     "execution_count": 74,
     "metadata": {},
     "output_type": "execute_result"
    }
   ],
   "source": [
    "# data.columns\n",
    "wazecols = ['wazeinfo0800_km', 'wazeinfo1400_minutes','wazeinfo1400_km', 'wazeinfo0800_minutes']\n",
    "data.query(\"amenity=='courthouse'\").dropna(subset=wazecols, axis=0)"
   ]
  },
  {
   "cell_type": "code",
   "execution_count": 157,
   "metadata": {},
   "outputs": [],
   "source": [
    "datamin_list = []\n",
    "for column in ['wazeinfo0800_km', 'wazeinfo1400_minutes','wazeinfo1400_km', 'wazeinfo0800_minutes']:\n",
    "    \n",
    "#     column = 'wazeinfo0800_km'\n",
    "    grouped = data.groupby(['source', 'amenity'])\n",
    "    min_indices = grouped[column].idxmin()\n",
    "#     min_rows = data.loc[min_indices.dropna()]\n",
    "    min_rows = data.loc[min_indices]\n",
    "\n",
    "    columns = ['source', 'amenity', column ]\n",
    "    datamin_list.append(min_rows[columns].set_index('source'))"
   ]
  },
  {
   "cell_type": "code",
   "execution_count": 87,
   "metadata": {},
   "outputs": [],
   "source": [
    "# data_min[0].set_index('source')"
   ]
  },
  {
   "cell_type": "code",
   "execution_count": 158,
   "metadata": {},
   "outputs": [
    {
     "data": {
      "text/html": [
       "<div>\n",
       "<style scoped>\n",
       "    .dataframe tbody tr th:only-of-type {\n",
       "        vertical-align: middle;\n",
       "    }\n",
       "\n",
       "    .dataframe tbody tr th {\n",
       "        vertical-align: top;\n",
       "    }\n",
       "\n",
       "    .dataframe thead th {\n",
       "        text-align: right;\n",
       "    }\n",
       "</style>\n",
       "<table border=\"1\" class=\"dataframe\">\n",
       "  <thead>\n",
       "    <tr style=\"text-align: right;\">\n",
       "      <th></th>\n",
       "      <th>amenity</th>\n",
       "      <th>wazeinfo0800_km</th>\n",
       "      <th>wazeinfo1400_minutes</th>\n",
       "      <th>wazeinfo1400_km</th>\n",
       "      <th>wazeinfo0800_minutes</th>\n",
       "    </tr>\n",
       "    <tr>\n",
       "      <th>source</th>\n",
       "      <th></th>\n",
       "      <th></th>\n",
       "      <th></th>\n",
       "      <th></th>\n",
       "      <th></th>\n",
       "    </tr>\n",
       "  </thead>\n",
       "  <tbody>\n",
       "    <tr>\n",
       "      <th>30962246</th>\n",
       "      <td>bank</td>\n",
       "      <td>0.021</td>\n",
       "      <td>0.033333</td>\n",
       "      <td>0.021</td>\n",
       "      <td>0.033333</td>\n",
       "    </tr>\n",
       "    <tr>\n",
       "      <th>30962246</th>\n",
       "      <td>courthouse</td>\n",
       "      <td>2.509</td>\n",
       "      <td>6.550000</td>\n",
       "      <td>2.509</td>\n",
       "      <td>6.166667</td>\n",
       "    </tr>\n",
       "    <tr>\n",
       "      <th>30962246</th>\n",
       "      <td>hospital</td>\n",
       "      <td>2.324</td>\n",
       "      <td>6.066667</td>\n",
       "      <td>2.315</td>\n",
       "      <td>5.683333</td>\n",
       "    </tr>\n",
       "    <tr>\n",
       "      <th>30962246</th>\n",
       "      <td>police</td>\n",
       "      <td>1.248</td>\n",
       "      <td>2.883333</td>\n",
       "      <td>1.252</td>\n",
       "      <td>3.033333</td>\n",
       "    </tr>\n",
       "    <tr>\n",
       "      <th>30962246</th>\n",
       "      <td>school</td>\n",
       "      <td>0.056</td>\n",
       "      <td>0.183333</td>\n",
       "      <td>0.056</td>\n",
       "      <td>0.150000</td>\n",
       "    </tr>\n",
       "    <tr>\n",
       "      <th>...</th>\n",
       "      <td>...</td>\n",
       "      <td>...</td>\n",
       "      <td>...</td>\n",
       "      <td>...</td>\n",
       "      <td>...</td>\n",
       "    </tr>\n",
       "    <tr>\n",
       "      <th>11045533749</th>\n",
       "      <td>courthouse</td>\n",
       "      <td>8.709</td>\n",
       "      <td>17.600000</td>\n",
       "      <td>8.715</td>\n",
       "      <td>15.450000</td>\n",
       "    </tr>\n",
       "    <tr>\n",
       "      <th>11045533749</th>\n",
       "      <td>hospital</td>\n",
       "      <td>8.825</td>\n",
       "      <td>18.433333</td>\n",
       "      <td>8.831</td>\n",
       "      <td>16.433333</td>\n",
       "    </tr>\n",
       "    <tr>\n",
       "      <th>11045533749</th>\n",
       "      <td>police</td>\n",
       "      <td>0.092</td>\n",
       "      <td>0.133333</td>\n",
       "      <td>0.092</td>\n",
       "      <td>0.166667</td>\n",
       "    </tr>\n",
       "    <tr>\n",
       "      <th>11045533749</th>\n",
       "      <td>school</td>\n",
       "      <td>0.172</td>\n",
       "      <td>0.250000</td>\n",
       "      <td>0.172</td>\n",
       "      <td>0.283333</td>\n",
       "    </tr>\n",
       "    <tr>\n",
       "      <th>11045533749</th>\n",
       "      <td>university</td>\n",
       "      <td>3.959</td>\n",
       "      <td>7.066667</td>\n",
       "      <td>3.959</td>\n",
       "      <td>5.216667</td>\n",
       "    </tr>\n",
       "  </tbody>\n",
       "</table>\n",
       "<p>14178 rows × 5 columns</p>\n",
       "</div>"
      ],
      "text/plain": [
       "                amenity  wazeinfo0800_km  wazeinfo1400_minutes  \\\n",
       "source                                                           \n",
       "30962246           bank            0.021              0.033333   \n",
       "30962246     courthouse            2.509              6.550000   \n",
       "30962246       hospital            2.324              6.066667   \n",
       "30962246         police            1.248              2.883333   \n",
       "30962246         school            0.056              0.183333   \n",
       "...                 ...              ...                   ...   \n",
       "11045533749  courthouse            8.709             17.600000   \n",
       "11045533749    hospital            8.825             18.433333   \n",
       "11045533749      police            0.092              0.133333   \n",
       "11045533749      school            0.172              0.250000   \n",
       "11045533749  university            3.959              7.066667   \n",
       "\n",
       "             wazeinfo1400_km  wazeinfo0800_minutes  \n",
       "source                                              \n",
       "30962246               0.021              0.033333  \n",
       "30962246               2.509              6.166667  \n",
       "30962246               2.315              5.683333  \n",
       "30962246               1.252              3.033333  \n",
       "30962246               0.056              0.150000  \n",
       "...                      ...                   ...  \n",
       "11045533749            8.715             15.450000  \n",
       "11045533749            8.831             16.433333  \n",
       "11045533749            0.092              0.166667  \n",
       "11045533749            0.172              0.283333  \n",
       "11045533749            3.959              5.216667  \n",
       "\n",
       "[14178 rows x 5 columns]"
      ]
     },
     "execution_count": 158,
     "metadata": {},
     "output_type": "execute_result"
    }
   ],
   "source": [
    "datamin = pd.concat(datamin_list, axis=1)\n",
    "datamin = datamin.loc[:,~datamin.columns.duplicated()]\n",
    "datamin"
   ]
  },
  {
   "cell_type": "code",
   "execution_count": 107,
   "metadata": {},
   "outputs": [],
   "source": [
    "# datamin.to_csv(\"data/CuscoMinValues2Amenities.csv\", sep=';')"
   ]
  },
  {
   "cell_type": "code",
   "execution_count": 163,
   "metadata": {},
   "outputs": [
    {
     "data": {
      "text/plain": [
       "array(['bank', 'courthouse', 'hospital', 'police', 'school', 'university'],\n",
       "      dtype=object)"
      ]
     },
     "execution_count": 163,
     "metadata": {},
     "output_type": "execute_result"
    }
   ],
   "source": [
    "datamin['amenity'].unique()"
   ]
  },
  {
   "cell_type": "code",
   "execution_count": 167,
   "metadata": {
    "scrolled": false
   },
   "outputs": [
    {
     "data": {
      "image/png": "[encoded data removed]",
      "text/plain": [
       "<Figure size 1080x360 with 2 Axes>"
      ]
     },
     "metadata": {
      "needs_background": "light"
     },
     "output_type": "display_data"
    },
    {
     "data": {
      "image/png": "[encoded data removed]",
      "text/plain": [
       "<Figure size 1080x360 with 2 Axes>"
      ]
     },
     "metadata": {
      "needs_background": "light"
     },
     "output_type": "display_data"
    },
    {
     "data": {
      "image/png": "[encoded data removed]",
      "text/plain": [
       "<Figure size 1080x360 with 2 Axes>"
      ]
     },
     "metadata": {
      "needs_background": "light"
     },
     "output_type": "display_data"
    },
    {
     "data": {
      "image/png": "[encoded data removed]",
      "text/plain": [
       "<Figure size 1080x360 with 2 Axes>"
      ]
     },
     "metadata": {
      "needs_background": "light"
     },
     "output_type": "display_data"
    },
    {
     "data": {
      "image/png": "[encoded data removed]",
      "text/plain": [
       "<Figure size 1080x360 with 2 Axes>"
      ]
     },
     "metadata": {
      "needs_background": "light"
     },
     "output_type": "display_data"
    },
    {
     "data": {
      "image/png": "[encoded data removed]",
      "text/plain": [
       "<Figure size 1080x360 with 2 Axes>"
      ]
     },
     "metadata": {
      "needs_background": "light"
     },
     "output_type": "display_data"
    }
   ],
   "source": [
    "for amenity in ['bank', 'school', 'police', 'hospital', 'university', 'courthouse']:\n",
    "\n",
    "    fig, axes = plt.subplots(1,2, figsize=(15,5))\n",
    "#     amenity = 'university'\n",
    "    df = datamin.query(\"amenity == @amenity\")\n",
    "\n",
    "    sns.histplot(data=df, x='wazeinfo0800_minutes', ax=axes[0], bins=50)\n",
    "    sns.histplot(data=df, x='wazeinfo1400_minutes', ax=axes[1], bins=50)\n",
    "\n",
    "    axes[0].set_ylabel(\"# of origin nodes\")\n",
    "    axes[1].set_ylabel(\"# of origin nodes\")\n",
    "    # axes[1].set_title()\n",
    "\n",
    "    fig.suptitle(f'Accessibility to {amenity} ', fontsize=15)\n",
    "    plt.show()\n",
    "    fig.savefig(f\"img/accessibility_minutes_{amenity}.png\")"
   ]
  },
  {
   "cell_type": "code",
   "execution_count": 162,
   "metadata": {},
   "outputs": [
    {
     "data": {
      "text/html": [
       "<div>\n",
       "<style scoped>\n",
       "    .dataframe tbody tr th:only-of-type {\n",
       "        vertical-align: middle;\n",
       "    }\n",
       "\n",
       "    .dataframe tbody tr th {\n",
       "        vertical-align: top;\n",
       "    }\n",
       "\n",
       "    .dataframe thead th {\n",
       "        text-align: right;\n",
       "    }\n",
       "</style>\n",
       "<table border=\"1\" class=\"dataframe\">\n",
       "  <thead>\n",
       "    <tr style=\"text-align: right;\">\n",
       "      <th></th>\n",
       "      <th>source</th>\n",
       "      <th>target</th>\n",
       "      <th>wazeinfo0800_km</th>\n",
       "      <th>wazeinfo1400_minutes</th>\n",
       "      <th>wazeinfo1400_km</th>\n",
       "      <th>wazeinfo0800_minutes</th>\n",
       "      <th>amenity</th>\n",
       "    </tr>\n",
       "  </thead>\n",
       "  <tbody>\n",
       "    <tr>\n",
       "      <th>307802</th>\n",
       "      <td>30962246</td>\n",
       "      <td>2357195908</td>\n",
       "      <td>0.056</td>\n",
       "      <td>0.183333</td>\n",
       "      <td>0.056</td>\n",
       "      <td>0.150000</td>\n",
       "      <td>school</td>\n",
       "    </tr>\n",
       "    <tr>\n",
       "      <th>307774</th>\n",
       "      <td>30962246</td>\n",
       "      <td>30962251</td>\n",
       "      <td>0.096</td>\n",
       "      <td>0.266667</td>\n",
       "      <td>0.096</td>\n",
       "      <td>0.233333</td>\n",
       "      <td>school</td>\n",
       "    </tr>\n",
       "    <tr>\n",
       "      <th>307775</th>\n",
       "      <td>30962246</td>\n",
       "      <td>30962252</td>\n",
       "      <td>0.096</td>\n",
       "      <td>0.266667</td>\n",
       "      <td>0.096</td>\n",
       "      <td>0.233333</td>\n",
       "      <td>school</td>\n",
       "    </tr>\n",
       "    <tr>\n",
       "      <th>307866</th>\n",
       "      <td>30962246</td>\n",
       "      <td>30962459</td>\n",
       "      <td>0.326</td>\n",
       "      <td>0.816667</td>\n",
       "      <td>0.326</td>\n",
       "      <td>0.766667</td>\n",
       "      <td>school</td>\n",
       "    </tr>\n",
       "    <tr>\n",
       "      <th>307869</th>\n",
       "      <td>30962246</td>\n",
       "      <td>30962463</td>\n",
       "      <td>0.336</td>\n",
       "      <td>0.833333</td>\n",
       "      <td>0.336</td>\n",
       "      <td>0.783333</td>\n",
       "      <td>school</td>\n",
       "    </tr>\n",
       "    <tr>\n",
       "      <th>...</th>\n",
       "      <td>...</td>\n",
       "      <td>...</td>\n",
       "      <td>...</td>\n",
       "      <td>...</td>\n",
       "      <td>...</td>\n",
       "      <td>...</td>\n",
       "      <td>...</td>\n",
       "    </tr>\n",
       "    <tr>\n",
       "      <th>307770</th>\n",
       "      <td>30962246</td>\n",
       "      <td>30964801</td>\n",
       "      <td>99.000</td>\n",
       "      <td>99.000000</td>\n",
       "      <td>99.000</td>\n",
       "      <td>99.000000</td>\n",
       "      <td>school</td>\n",
       "    </tr>\n",
       "    <tr>\n",
       "      <th>307928</th>\n",
       "      <td>30962246</td>\n",
       "      <td>30964727</td>\n",
       "      <td>99.000</td>\n",
       "      <td>99.000000</td>\n",
       "      <td>99.000</td>\n",
       "      <td>99.000000</td>\n",
       "      <td>school</td>\n",
       "    </tr>\n",
       "    <tr>\n",
       "      <th>307929</th>\n",
       "      <td>30962246</td>\n",
       "      <td>1003614644</td>\n",
       "      <td>99.000</td>\n",
       "      <td>99.000000</td>\n",
       "      <td>99.000</td>\n",
       "      <td>99.000000</td>\n",
       "      <td>school</td>\n",
       "    </tr>\n",
       "    <tr>\n",
       "      <th>307914</th>\n",
       "      <td>30962246</td>\n",
       "      <td>993167755</td>\n",
       "      <td>99.000</td>\n",
       "      <td>99.000000</td>\n",
       "      <td>99.000</td>\n",
       "      <td>99.000000</td>\n",
       "      <td>school</td>\n",
       "    </tr>\n",
       "    <tr>\n",
       "      <th>307870</th>\n",
       "      <td>30962246</td>\n",
       "      <td>967570719</td>\n",
       "      <td>99.000</td>\n",
       "      <td>99.000000</td>\n",
       "      <td>99.000</td>\n",
       "      <td>99.000000</td>\n",
       "      <td>school</td>\n",
       "    </tr>\n",
       "  </tbody>\n",
       "</table>\n",
       "<p>230 rows × 7 columns</p>\n",
       "</div>"
      ],
      "text/plain": [
       "          source      target  wazeinfo0800_km  wazeinfo1400_minutes  \\\n",
       "307802  30962246  2357195908            0.056              0.183333   \n",
       "307774  30962246    30962251            0.096              0.266667   \n",
       "307775  30962246    30962252            0.096              0.266667   \n",
       "307866  30962246    30962459            0.326              0.816667   \n",
       "307869  30962246    30962463            0.336              0.833333   \n",
       "...          ...         ...              ...                   ...   \n",
       "307770  30962246    30964801           99.000             99.000000   \n",
       "307928  30962246    30964727           99.000             99.000000   \n",
       "307929  30962246  1003614644           99.000             99.000000   \n",
       "307914  30962246   993167755           99.000             99.000000   \n",
       "307870  30962246   967570719           99.000             99.000000   \n",
       "\n",
       "        wazeinfo1400_km  wazeinfo0800_minutes amenity  \n",
       "307802            0.056              0.150000  school  \n",
       "307774            0.096              0.233333  school  \n",
       "307775            0.096              0.233333  school  \n",
       "307866            0.326              0.766667  school  \n",
       "307869            0.336              0.783333  school  \n",
       "...                 ...                   ...     ...  \n",
       "307770           99.000             99.000000  school  \n",
       "307928           99.000             99.000000  school  \n",
       "307929           99.000             99.000000  school  \n",
       "307914           99.000             99.000000  school  \n",
       "307870           99.000             99.000000  school  \n",
       "\n",
       "[230 rows x 7 columns]"
      ]
     },
     "execution_count": 162,
     "metadata": {},
     "output_type": "execute_result"
    }
   ],
   "source": [
    "data.query(\"amenity=='school' and source == 30962246\").sort_values('wazeinfo0800_minutes')"
   ]
  },
  {
   "cell_type": "code",
   "execution_count": 156,
   "metadata": {},
   "outputs": [
    {
     "data": {
      "text/html": [
       "<div>\n",
       "<style scoped>\n",
       "    .dataframe tbody tr th:only-of-type {\n",
       "        vertical-align: middle;\n",
       "    }\n",
       "\n",
       "    .dataframe tbody tr th {\n",
       "        vertical-align: top;\n",
       "    }\n",
       "\n",
       "    .dataframe thead th {\n",
       "        text-align: right;\n",
       "    }\n",
       "</style>\n",
       "<table border=\"1\" class=\"dataframe\">\n",
       "  <thead>\n",
       "    <tr style=\"text-align: right;\">\n",
       "      <th></th>\n",
       "      <th>source</th>\n",
       "      <th>target</th>\n",
       "      <th>wazeinfo0800_km</th>\n",
       "      <th>wazeinfo1400_minutes</th>\n",
       "      <th>wazeinfo1400_km</th>\n",
       "      <th>wazeinfo0800_minutes</th>\n",
       "      <th>amenity</th>\n",
       "    </tr>\n",
       "  </thead>\n",
       "  <tbody>\n",
       "    <tr>\n",
       "      <th>661640</th>\n",
       "      <td>4427153413</td>\n",
       "      <td>441230275</td>\n",
       "      <td>99.000</td>\n",
       "      <td>99.000000</td>\n",
       "      <td>99.000</td>\n",
       "      <td>99.000000</td>\n",
       "      <td>courthouse</td>\n",
       "    </tr>\n",
       "    <tr>\n",
       "      <th>661641</th>\n",
       "      <td>4427153413</td>\n",
       "      <td>3738278157</td>\n",
       "      <td>99.000</td>\n",
       "      <td>99.000000</td>\n",
       "      <td>99.000</td>\n",
       "      <td>99.000000</td>\n",
       "      <td>courthouse</td>\n",
       "    </tr>\n",
       "    <tr>\n",
       "      <th>661642</th>\n",
       "      <td>4427153413</td>\n",
       "      <td>30985399</td>\n",
       "      <td>99.000</td>\n",
       "      <td>99.000000</td>\n",
       "      <td>99.000</td>\n",
       "      <td>99.000000</td>\n",
       "      <td>courthouse</td>\n",
       "    </tr>\n",
       "    <tr>\n",
       "      <th>661643</th>\n",
       "      <td>10232315911</td>\n",
       "      <td>441230275</td>\n",
       "      <td>2.200</td>\n",
       "      <td>6.200000</td>\n",
       "      <td>2.200</td>\n",
       "      <td>7.100000</td>\n",
       "      <td>courthouse</td>\n",
       "    </tr>\n",
       "    <tr>\n",
       "      <th>661644</th>\n",
       "      <td>10232315911</td>\n",
       "      <td>3738278157</td>\n",
       "      <td>1.613</td>\n",
       "      <td>3.783333</td>\n",
       "      <td>1.613</td>\n",
       "      <td>3.950000</td>\n",
       "      <td>courthouse</td>\n",
       "    </tr>\n",
       "    <tr>\n",
       "      <th>...</th>\n",
       "      <td>...</td>\n",
       "      <td>...</td>\n",
       "      <td>...</td>\n",
       "      <td>...</td>\n",
       "      <td>...</td>\n",
       "      <td>...</td>\n",
       "      <td>...</td>\n",
       "    </tr>\n",
       "    <tr>\n",
       "      <th>668724</th>\n",
       "      <td>588513256</td>\n",
       "      <td>3738278157</td>\n",
       "      <td>5.857</td>\n",
       "      <td>12.600000</td>\n",
       "      <td>5.856</td>\n",
       "      <td>12.966667</td>\n",
       "      <td>courthouse</td>\n",
       "    </tr>\n",
       "    <tr>\n",
       "      <th>668725</th>\n",
       "      <td>588513256</td>\n",
       "      <td>30985399</td>\n",
       "      <td>99.000</td>\n",
       "      <td>99.000000</td>\n",
       "      <td>99.000</td>\n",
       "      <td>99.000000</td>\n",
       "      <td>courthouse</td>\n",
       "    </tr>\n",
       "    <tr>\n",
       "      <th>668726</th>\n",
       "      <td>30965748</td>\n",
       "      <td>441230275</td>\n",
       "      <td>4.651</td>\n",
       "      <td>11.216667</td>\n",
       "      <td>4.651</td>\n",
       "      <td>11.200000</td>\n",
       "      <td>courthouse</td>\n",
       "    </tr>\n",
       "    <tr>\n",
       "      <th>668727</th>\n",
       "      <td>30965748</td>\n",
       "      <td>3738278157</td>\n",
       "      <td>1.178</td>\n",
       "      <td>5.100000</td>\n",
       "      <td>1.178</td>\n",
       "      <td>5.600000</td>\n",
       "      <td>courthouse</td>\n",
       "    </tr>\n",
       "    <tr>\n",
       "      <th>668728</th>\n",
       "      <td>30965748</td>\n",
       "      <td>30985399</td>\n",
       "      <td>99.000</td>\n",
       "      <td>99.000000</td>\n",
       "      <td>99.000</td>\n",
       "      <td>99.000000</td>\n",
       "      <td>courthouse</td>\n",
       "    </tr>\n",
       "  </tbody>\n",
       "</table>\n",
       "<p>7089 rows × 7 columns</p>\n",
       "</div>"
      ],
      "text/plain": [
       "             source      target  wazeinfo0800_km  wazeinfo1400_minutes  \\\n",
       "661640   4427153413   441230275           99.000             99.000000   \n",
       "661641   4427153413  3738278157           99.000             99.000000   \n",
       "661642   4427153413    30985399           99.000             99.000000   \n",
       "661643  10232315911   441230275            2.200              6.200000   \n",
       "661644  10232315911  3738278157            1.613              3.783333   \n",
       "...             ...         ...              ...                   ...   \n",
       "668724    588513256  3738278157            5.857             12.600000   \n",
       "668725    588513256    30985399           99.000             99.000000   \n",
       "668726     30965748   441230275            4.651             11.216667   \n",
       "668727     30965748  3738278157            1.178              5.100000   \n",
       "668728     30965748    30985399           99.000             99.000000   \n",
       "\n",
       "        wazeinfo1400_km  wazeinfo0800_minutes     amenity  \n",
       "661640           99.000             99.000000  courthouse  \n",
       "661641           99.000             99.000000  courthouse  \n",
       "661642           99.000             99.000000  courthouse  \n",
       "661643            2.200              7.100000  courthouse  \n",
       "661644            1.613              3.950000  courthouse  \n",
       "...                 ...                   ...         ...  \n",
       "668724            5.856             12.966667  courthouse  \n",
       "668725           99.000             99.000000  courthouse  \n",
       "668726            4.651             11.200000  courthouse  \n",
       "668727            1.178              5.600000  courthouse  \n",
       "668728           99.000             99.000000  courthouse  \n",
       "\n",
       "[7089 rows x 7 columns]"
      ]
     },
     "execution_count": 156,
     "metadata": {},
     "output_type": "execute_result"
    }
   ],
   "source": [
    "wazecols = ['wazeinfo0800_km', 'wazeinfo1400_minutes','wazeinfo1400_km', 'wazeinfo0800_minutes']\n",
    "data.query(\"amenity=='courthouse'\") #.dropna(subset=wazecols, axis=0)"
   ]
  },
  {
   "cell_type": "code",
   "execution_count": 108,
   "metadata": {},
   "outputs": [
    {
     "name": "stderr",
     "output_type": "stream",
     "text": [
      "/home/leibnitz.rojas/.local/lib/python3.6/site-packages/seaborn/distributions.py:305: UserWarning: Dataset has 0 variance; skipping density estimate.\n",
      "  warnings.warn(msg, UserWarning)\n"
     ]
    },
    {
     "data": {
      "text/plain": [
       "<AxesSubplot:xlabel='wazeinfo0800_km', ylabel='Density'>"
      ]
     },
     "execution_count": 108,
     "metadata": {},
     "output_type": "execute_result"
    },
    {
     "data": {
      "image/png": "[encoded data removed]",
      "text/plain": [
       "<Figure size 432x288 with 1 Axes>"
      ]
     },
     "metadata": {
      "needs_background": "light"
     },
     "output_type": "display_data"
    }
   ],
   "source": [
    "sns.kdeplot(data=datamin, x='wazeinfo0800_km', hue='amenity', cumulative=True)"
   ]
  },
  {
   "cell_type": "code",
   "execution_count": 103,
   "metadata": {},
   "outputs": [
    {
     "name": "stderr",
     "output_type": "stream",
     "text": [
      "/home/leibnitz.rojas/.local/lib/python3.6/site-packages/seaborn/distributions.py:305: UserWarning: Dataset has 0 variance; skipping density estimate.\n",
      "  warnings.warn(msg, UserWarning)\n"
     ]
    },
    {
     "data": {
      "text/plain": [
       "<AxesSubplot:xlabel='wazeinfo1400_km', ylabel='Density'>"
      ]
     },
     "execution_count": 103,
     "metadata": {},
     "output_type": "execute_result"
    },
    {
     "data": {
      "image/png": "[encoded data removed]",
      "text/plain": [
       "<Figure size 432x288 with 1 Axes>"
      ]
     },
     "metadata": {
      "needs_background": "light"
     },
     "output_type": "display_data"
    }
   ],
   "source": [
    "sns.kdeplot(data=datamin, x='wazeinfo1400_km',  cumulative=True, hue='amenity')"
   ]
  },
  {
   "cell_type": "code",
   "execution_count": 104,
   "metadata": {},
   "outputs": [
    {
     "name": "stderr",
     "output_type": "stream",
     "text": [
      "/home/leibnitz.rojas/.local/lib/python3.6/site-packages/seaborn/distributions.py:305: UserWarning: Dataset has 0 variance; skipping density estimate.\n",
      "  warnings.warn(msg, UserWarning)\n"
     ]
    },
    {
     "data": {
      "text/plain": [
       "<AxesSubplot:xlabel='wazeinfo0800_minutes', ylabel='Density'>"
      ]
     },
     "execution_count": 104,
     "metadata": {},
     "output_type": "execute_result"
    },
    {
     "data": {
      "image/png": "[encoded data removed]",
      "text/plain": [
       "<Figure size 432x288 with 1 Axes>"
      ]
     },
     "metadata": {
      "needs_background": "light"
     },
     "output_type": "display_data"
    }
   ],
   "source": [
    "sns.kdeplot(data=datamin, x='wazeinfo0800_minutes',  cumulative=True, hue='amenity')"
   ]
  },
  {
   "cell_type": "code",
   "execution_count": 35,
   "metadata": {},
   "outputs": [
    {
     "data": {
      "text/plain": [
       "<AxesSubplot:xlabel='wazeinfo1400_minutes', ylabel='Density'>"
      ]
     },
     "execution_count": 35,
     "metadata": {},
     "output_type": "execute_result"
    },
    {
     "data": {
      "image/png": "[encoded data removed]",
      "text/plain": [
       "<Figure size 432x288 with 1 Axes>"
      ]
     },
     "metadata": {
      "needs_background": "light"
     },
     "output_type": "display_data"
    }
   ],
   "source": [
    "sns.kdeplot(data=data, x='wazeinfo1400_minutes',  cumulative=True, hue='amenity')"
   ]
  },
  {
   "cell_type": "code",
   "execution_count": null,
   "metadata": {},
   "outputs": [],
   "source": []
  },
  {
   "cell_type": "code",
   "execution_count": 12,
   "metadata": {},
   "outputs": [],
   "source": [
    "var_amenity = 'school'\n",
    "data = pd.read_csv(f\"data/wazeresults_{var_amenity}.csv\", sep=';',)"
   ]
  },
  {
   "cell_type": "code",
   "execution_count": 13,
   "metadata": {},
   "outputs": [
    {
     "data": {
      "text/html": [
       "<div>\n",
       "<style scoped>\n",
       "    .dataframe tbody tr th:only-of-type {\n",
       "        vertical-align: middle;\n",
       "    }\n",
       "\n",
       "    .dataframe tbody tr th {\n",
       "        vertical-align: top;\n",
       "    }\n",
       "\n",
       "    .dataframe thead th {\n",
       "        text-align: right;\n",
       "    }\n",
       "</style>\n",
       "<table border=\"1\" class=\"dataframe\">\n",
       "  <thead>\n",
       "    <tr style=\"text-align: right;\">\n",
       "      <th></th>\n",
       "      <th>source</th>\n",
       "      <th>target</th>\n",
       "      <th>wazeinfo0800_km</th>\n",
       "      <th>wazeinfo1400_minutes</th>\n",
       "      <th>wazeinfo1400_km</th>\n",
       "      <th>wazeinfo0800_minutes</th>\n",
       "    </tr>\n",
       "  </thead>\n",
       "  <tbody>\n",
       "    <tr>\n",
       "      <th>0</th>\n",
       "      <td>4427153413</td>\n",
       "      <td>993167872</td>\n",
       "      <td>NaN</td>\n",
       "      <td>NaN</td>\n",
       "      <td>NaN</td>\n",
       "      <td>NaN</td>\n",
       "    </tr>\n",
       "    <tr>\n",
       "      <th>1</th>\n",
       "      <td>4427153413</td>\n",
       "      <td>2735769089</td>\n",
       "      <td>NaN</td>\n",
       "      <td>NaN</td>\n",
       "      <td>NaN</td>\n",
       "      <td>NaN</td>\n",
       "    </tr>\n",
       "    <tr>\n",
       "      <th>2</th>\n",
       "      <td>4427153413</td>\n",
       "      <td>3739432963</td>\n",
       "      <td>NaN</td>\n",
       "      <td>NaN</td>\n",
       "      <td>NaN</td>\n",
       "      <td>NaN</td>\n",
       "    </tr>\n",
       "    <tr>\n",
       "      <th>3</th>\n",
       "      <td>4427153413</td>\n",
       "      <td>30983685</td>\n",
       "      <td>NaN</td>\n",
       "      <td>NaN</td>\n",
       "      <td>NaN</td>\n",
       "      <td>NaN</td>\n",
       "    </tr>\n",
       "    <tr>\n",
       "      <th>4</th>\n",
       "      <td>4427153413</td>\n",
       "      <td>4590287365</td>\n",
       "      <td>NaN</td>\n",
       "      <td>NaN</td>\n",
       "      <td>NaN</td>\n",
       "      <td>NaN</td>\n",
       "    </tr>\n",
       "    <tr>\n",
       "      <th>...</th>\n",
       "      <td>...</td>\n",
       "      <td>...</td>\n",
       "      <td>...</td>\n",
       "      <td>...</td>\n",
       "      <td>...</td>\n",
       "      <td>...</td>\n",
       "    </tr>\n",
       "    <tr>\n",
       "      <th>543485</th>\n",
       "      <td>30965748</td>\n",
       "      <td>30983670</td>\n",
       "      <td>1.281</td>\n",
       "      <td>5.00</td>\n",
       "      <td>1.281</td>\n",
       "      <td>5.333333</td>\n",
       "    </tr>\n",
       "    <tr>\n",
       "      <th>543486</th>\n",
       "      <td>30965748</td>\n",
       "      <td>30983671</td>\n",
       "      <td>1.283</td>\n",
       "      <td>5.00</td>\n",
       "      <td>1.283</td>\n",
       "      <td>5.333333</td>\n",
       "    </tr>\n",
       "    <tr>\n",
       "      <th>543487</th>\n",
       "      <td>30965748</td>\n",
       "      <td>30964728</td>\n",
       "      <td>NaN</td>\n",
       "      <td>NaN</td>\n",
       "      <td>NaN</td>\n",
       "      <td>NaN</td>\n",
       "    </tr>\n",
       "    <tr>\n",
       "      <th>543488</th>\n",
       "      <td>30965748</td>\n",
       "      <td>4428261882</td>\n",
       "      <td>3.736</td>\n",
       "      <td>11.80</td>\n",
       "      <td>3.736</td>\n",
       "      <td>12.200000</td>\n",
       "    </tr>\n",
       "    <tr>\n",
       "      <th>543489</th>\n",
       "      <td>30965748</td>\n",
       "      <td>6202445307</td>\n",
       "      <td>4.043</td>\n",
       "      <td>13.05</td>\n",
       "      <td>4.043</td>\n",
       "      <td>12.783333</td>\n",
       "    </tr>\n",
       "  </tbody>\n",
       "</table>\n",
       "<p>543490 rows × 6 columns</p>\n",
       "</div>"
      ],
      "text/plain": [
       "            source      target  wazeinfo0800_km  wazeinfo1400_minutes  \\\n",
       "0       4427153413   993167872              NaN                   NaN   \n",
       "1       4427153413  2735769089              NaN                   NaN   \n",
       "2       4427153413  3739432963              NaN                   NaN   \n",
       "3       4427153413    30983685              NaN                   NaN   \n",
       "4       4427153413  4590287365              NaN                   NaN   \n",
       "...            ...         ...              ...                   ...   \n",
       "543485    30965748    30983670            1.281                  5.00   \n",
       "543486    30965748    30983671            1.283                  5.00   \n",
       "543487    30965748    30964728              NaN                   NaN   \n",
       "543488    30965748  4428261882            3.736                 11.80   \n",
       "543489    30965748  6202445307            4.043                 13.05   \n",
       "\n",
       "        wazeinfo1400_km  wazeinfo0800_minutes  \n",
       "0                   NaN                   NaN  \n",
       "1                   NaN                   NaN  \n",
       "2                   NaN                   NaN  \n",
       "3                   NaN                   NaN  \n",
       "4                   NaN                   NaN  \n",
       "...                 ...                   ...  \n",
       "543485            1.281              5.333333  \n",
       "543486            1.283              5.333333  \n",
       "543487              NaN                   NaN  \n",
       "543488            3.736             12.200000  \n",
       "543489            4.043             12.783333  \n",
       "\n",
       "[543490 rows x 6 columns]"
      ]
     },
     "execution_count": 13,
     "metadata": {},
     "output_type": "execute_result"
    }
   ],
   "source": [
    "data"
   ]
  },
  {
   "cell_type": "code",
   "execution_count": 14,
   "metadata": {},
   "outputs": [
    {
     "data": {
      "text/plain": [
       "2363"
      ]
     },
     "execution_count": 14,
     "metadata": {},
     "output_type": "execute_result"
    }
   ],
   "source": [
    "data['source'].nunique()"
   ]
  },
  {
   "cell_type": "code",
   "execution_count": 18,
   "metadata": {},
   "outputs": [
    {
     "data": {
      "text/plain": [
       "<AxesSubplot:xlabel='wazeinfo0800_km', ylabel='Count'>"
      ]
     },
     "execution_count": 18,
     "metadata": {},
     "output_type": "execute_result"
    },
    {
     "data": {
      "image/png": "[encoded data removed]",
      "text/plain": [
       "<Figure size 432x288 with 1 Axes>"
      ]
     },
     "metadata": {
      "needs_background": "light"
     },
     "output_type": "display_data"
    }
   ],
   "source": [
    "sns.histplot(data=data, x='wazeinfo0800_km', kde=True)"
   ]
  },
  {
   "cell_type": "code",
   "execution_count": 19,
   "metadata": {},
   "outputs": [
    {
     "data": {
      "text/plain": [
       "<AxesSubplot:xlabel='wazeinfo0800_km', ylabel='Density'>"
      ]
     },
     "execution_count": 19,
     "metadata": {},
     "output_type": "execute_result"
    },
    {
     "data": {
      "image/png": "[encoded data removed]",
      "text/plain": [
       "<Figure size 432x288 with 1 Axes>"
      ]
     },
     "metadata": {
      "needs_background": "light"
     },
     "output_type": "display_data"
    }
   ],
   "source": [
    "sns.kdeplot(data=data, x='wazeinfo0800_km',  cumulative=True,)"
   ]
  },
  {
   "cell_type": "code",
   "execution_count": null,
   "metadata": {},
   "outputs": [],
   "source": []
  }
 ],
 "metadata": {
  "kernelspec": {
   "display_name": "Python 3",
   "language": "python",
   "name": "python3"
  },
  "language_info": {
   "codemirror_mode": {
    "name": "ipython",
    "version": 3
   },
   "file_extension": ".py",
   "mimetype": "text/x-python",
   "name": "python",
   "nbconvert_exporter": "python",
   "pygments_lexer": "ipython3",
   "version": "3.6.9"
  }
 },
 "nbformat": 4,
 "nbformat_minor": 4
}
