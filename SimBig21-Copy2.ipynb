{
 "cells": [
  {
   "cell_type": "code",
   "execution_count": 202,
   "metadata": {},
   "outputs": [],
   "source": [
    "import osmnx as ox\n",
    "import networkx as nx\n",
    "import pandas as pd\n",
    "pd.set_option('display.max_columns', None)\n",
    "from shapely.geometry import Point\n",
    "\n",
    "import json\n",
    "import geopandas as gpd\n",
    "import matplotlib.pyplot as plt\n",
    "import GOSTnets as gn\n",
    "import numpy as np"
   ]
  },
  {
   "cell_type": "code",
   "execution_count": 203,
   "metadata": {},
   "outputs": [],
   "source": [
    "limaMapa = gpd.read_file(\"../Turismo/shapes/peru.shp\")"
   ]
  },
  {
   "cell_type": "code",
   "execution_count": 204,
   "metadata": {},
   "outputs": [
    {
     "data": {
      "text/plain": [
       "<AxesSubplot:>"
      ]
     },
     "execution_count": 204,
     "metadata": {},
     "output_type": "execute_result"
    },
    {
     "data": {
      "image/png": "[encoded data removed]",
      "text/plain": [
       "<Figure size 432x288 with 1 Axes>"
      ]
     },
     "metadata": {
      "needs_background": "light"
     },
     "output_type": "display_data"
    }
   ],
   "source": [
    "cond = limaMapa['provincia'] == 'LIMA'\n",
    "limaMapa[cond].plot()"
   ]
  },
  {
   "cell_type": "code",
   "execution_count": 205,
   "metadata": {},
   "outputs": [
    {
     "data": {
      "text/plain": [
       "array(['ANCON', 'ATE', 'BARRANCO', 'BREÑA', 'CARABAYLLO', 'CHACLACAYO',\n",
       "       'CHORRILLOS', 'CIENEGUILLA', 'COMAS', 'EL AGUSTINO',\n",
       "       'INDEPENDENCIA', 'JESUS MARIA', 'LA MOLINA', 'LA VICTORIA', 'LIMA',\n",
       "       'LINCE', 'LOS OLIVOS', 'LURIGANCHO', 'LURIN', 'MAGDALENA DEL MAR',\n",
       "       'MIRAFLORES', 'PACHACAMAC', 'PUCUSANA', 'PUEBLO LIBRE',\n",
       "       'PUENTE PIEDRA', 'PUNTA HERMOSA', 'PUNTA NEGRA', 'RIMAC',\n",
       "       'SAN BARTOLO', 'SAN BORJA', 'SAN ISIDRO', 'SAN JUAN DE LURIGANCHO',\n",
       "       'SAN JUAN DE MIRAFLORES', 'SAN LUIS', 'SAN MARTIN DE PORRES',\n",
       "       'SAN MIGUEL', 'SANTA ANITA', 'SANTA MARIA DEL MAR', 'SANTA ROSA',\n",
       "       'SANTIAGO DE SURCO', 'SURQUILLO', 'VILLA EL SALVADOR',\n",
       "       'VILLA MARIA DEL TRIUNFO'], dtype=object)"
      ]
     },
     "execution_count": 205,
     "metadata": {},
     "output_type": "execute_result"
    }
   ],
   "source": [
    "lima_distritos = np.sort(limaMapa[cond]['distrito'].unique())\n",
    "lima_distritos"
   ]
  },
  {
   "cell_type": "code",
   "execution_count": 206,
   "metadata": {},
   "outputs": [
    {
     "name": "stdout",
     "output_type": "stream",
     "text": [
      "1629038243.773589\n"
     ]
    }
   ],
   "source": [
    "import time\n",
    "start = time.time()\n",
    "print(start)"
   ]
  },
  {
   "cell_type": "code",
   "execution_count": 207,
   "metadata": {},
   "outputs": [],
   "source": [
    "#Global vars\n",
    "place_name = \"puente piedra, Lima\"\n",
    "result = 1"
   ]
  },
  {
   "cell_type": "code",
   "execution_count": 208,
   "metadata": {},
   "outputs": [
    {
     "name": "stdout",
     "output_type": "stream",
     "text": [
      "Name: \n",
      "Type: MultiDiGraph\n",
      "Number of nodes: 6069\n",
      "Number of edges: 16676\n",
      "Average in degree:   2.7477\n",
      "Average out degree:   2.7477\n",
      "CPU times: user 13.4 s, sys: 116 ms, total: 13.5 s\n",
      "Wall time: 24.6 s\n"
     ]
    }
   ],
   "source": [
    "%%time\n",
    "#Getting graph from OSM\n",
    "graph = ox.graph_from_place(place_name, which_result=result, network_type='drive')\n",
    "nodes, edges = ox.graph_to_gdfs(graph)\n",
    "print(nx.info(graph))"
   ]
  },
  {
   "cell_type": "code",
   "execution_count": 209,
   "metadata": {},
   "outputs": [
    {
     "data": {
      "text/html": [
       "<div>\n",
       "<style scoped>\n",
       "    .dataframe tbody tr th:only-of-type {\n",
       "        vertical-align: middle;\n",
       "    }\n",
       "\n",
       "    .dataframe tbody tr th {\n",
       "        vertical-align: top;\n",
       "    }\n",
       "\n",
       "    .dataframe thead th {\n",
       "        text-align: right;\n",
       "    }\n",
       "</style>\n",
       "<table border=\"1\" class=\"dataframe\">\n",
       "  <thead>\n",
       "    <tr style=\"text-align: right;\">\n",
       "      <th></th>\n",
       "      <th>y</th>\n",
       "      <th>x</th>\n",
       "      <th>street_count</th>\n",
       "      <th>ref</th>\n",
       "      <th>highway</th>\n",
       "      <th>geometry</th>\n",
       "    </tr>\n",
       "    <tr>\n",
       "      <th>osmid</th>\n",
       "      <th></th>\n",
       "      <th></th>\n",
       "      <th></th>\n",
       "      <th></th>\n",
       "      <th></th>\n",
       "      <th></th>\n",
       "    </tr>\n",
       "  </thead>\n",
       "  <tbody>\n",
       "    <tr>\n",
       "      <th>273353471</th>\n",
       "      <td>-11.828771</td>\n",
       "      <td>-77.119495</td>\n",
       "      <td>3</td>\n",
       "      <td>NaN</td>\n",
       "      <td>NaN</td>\n",
       "      <td>POINT (-77.11949 -11.82877)</td>\n",
       "    </tr>\n",
       "    <tr>\n",
       "      <th>273353473</th>\n",
       "      <td>-11.833910</td>\n",
       "      <td>-77.113129</td>\n",
       "      <td>3</td>\n",
       "      <td>35B</td>\n",
       "      <td>motorway_junction</td>\n",
       "      <td>POINT (-77.11313 -11.83391)</td>\n",
       "    </tr>\n",
       "    <tr>\n",
       "      <th>273353475</th>\n",
       "      <td>-11.839022</td>\n",
       "      <td>-77.106764</td>\n",
       "      <td>3</td>\n",
       "      <td>NaN</td>\n",
       "      <td>NaN</td>\n",
       "      <td>POINT (-77.10676 -11.83902)</td>\n",
       "    </tr>\n",
       "    <tr>\n",
       "      <th>273353476</th>\n",
       "      <td>-11.840749</td>\n",
       "      <td>-77.104574</td>\n",
       "      <td>3</td>\n",
       "      <td>NaN</td>\n",
       "      <td>NaN</td>\n",
       "      <td>POINT (-77.10457 -11.84075)</td>\n",
       "    </tr>\n",
       "    <tr>\n",
       "      <th>273353499</th>\n",
       "      <td>-11.874135</td>\n",
       "      <td>-77.069268</td>\n",
       "      <td>3</td>\n",
       "      <td>NaN</td>\n",
       "      <td>NaN</td>\n",
       "      <td>POINT (-77.06927 -11.87414)</td>\n",
       "    </tr>\n",
       "  </tbody>\n",
       "</table>\n",
       "</div>"
      ],
      "text/plain": [
       "                   y          x  street_count  ref            highway  \\\n",
       "osmid                                                                   \n",
       "273353471 -11.828771 -77.119495             3  NaN                NaN   \n",
       "273353473 -11.833910 -77.113129             3  35B  motorway_junction   \n",
       "273353475 -11.839022 -77.106764             3  NaN                NaN   \n",
       "273353476 -11.840749 -77.104574             3  NaN                NaN   \n",
       "273353499 -11.874135 -77.069268             3  NaN                NaN   \n",
       "\n",
       "                              geometry  \n",
       "osmid                                   \n",
       "273353471  POINT (-77.11949 -11.82877)  \n",
       "273353473  POINT (-77.11313 -11.83391)  \n",
       "273353475  POINT (-77.10676 -11.83902)  \n",
       "273353476  POINT (-77.10457 -11.84075)  \n",
       "273353499  POINT (-77.06927 -11.87414)  "
      ]
     },
     "execution_count": 209,
     "metadata": {},
     "output_type": "execute_result"
    }
   ],
   "source": [
    "nodes.head()"
   ]
  },
  {
   "cell_type": "code",
   "execution_count": 210,
   "metadata": {},
   "outputs": [
    {
     "name": "stdout",
     "output_type": "stream",
     "text": [
      "CPU times: user 1.19 s, sys: 16.7 ms, total: 1.21 s\n",
      "Wall time: 5.92 s\n"
     ]
    }
   ],
   "source": [
    "%%time\n",
    "#Getting amenities from OSM\n",
    "amenities = ox.geometries_from_place(place_name, which_result=result ,tags={'amenity':True} )\n",
    "amenities['isPoint'] = amenities.apply(lambda x: type(x.geometry) is Point , axis=1)\n",
    "amenities.rename(columns={'geometry':'geometry_polygon'}, inplace=True)\n",
    "amenities['geometry'] = amenities.apply(lambda x: x['geometry_polygon'].centroid, axis=1)\n",
    "amenities.set_geometry('geometry')\n",
    "amenities.set_index('osmid', inplace=True)\n",
    "# amenities.head()"
   ]
  },
  {
   "cell_type": "code",
   "execution_count": 211,
   "metadata": {},
   "outputs": [
    {
     "data": {
      "text/html": [
       "<div>\n",
       "<style scoped>\n",
       "    .dataframe tbody tr th:only-of-type {\n",
       "        vertical-align: middle;\n",
       "    }\n",
       "\n",
       "    .dataframe tbody tr th {\n",
       "        vertical-align: top;\n",
       "    }\n",
       "\n",
       "    .dataframe thead th {\n",
       "        text-align: right;\n",
       "    }\n",
       "</style>\n",
       "<table border=\"1\" class=\"dataframe\">\n",
       "  <thead>\n",
       "    <tr style=\"text-align: right;\">\n",
       "      <th></th>\n",
       "      <th>unique_id</th>\n",
       "      <th>element_type</th>\n",
       "      <th>geometry_polygon</th>\n",
       "      <th>amenity</th>\n",
       "      <th>name</th>\n",
       "      <th>geometry</th>\n",
       "    </tr>\n",
       "    <tr>\n",
       "      <th>osmid</th>\n",
       "      <th></th>\n",
       "      <th></th>\n",
       "      <th></th>\n",
       "      <th></th>\n",
       "      <th></th>\n",
       "      <th></th>\n",
       "    </tr>\n",
       "  </thead>\n",
       "  <tbody>\n",
       "    <tr>\n",
       "      <th>1863374438</th>\n",
       "      <td>node/1863374438</td>\n",
       "      <td>node</td>\n",
       "      <td>POINT (-77.07464 -11.86518)</td>\n",
       "      <td>bank</td>\n",
       "      <td>Banco de la Nación</td>\n",
       "      <td>POINT (-77.07464 -11.86518)</td>\n",
       "    </tr>\n",
       "    <tr>\n",
       "      <th>4286938591</th>\n",
       "      <td>node/4286938591</td>\n",
       "      <td>node</td>\n",
       "      <td>POINT (-77.07446 -11.86541)</td>\n",
       "      <td>bank</td>\n",
       "      <td>Interbank</td>\n",
       "      <td>POINT (-77.07446 -11.86541)</td>\n",
       "    </tr>\n",
       "    <tr>\n",
       "      <th>4286938893</th>\n",
       "      <td>node/4286938893</td>\n",
       "      <td>node</td>\n",
       "      <td>POINT (-77.07443 -11.86546)</td>\n",
       "      <td>bank</td>\n",
       "      <td>BBVA Continental</td>\n",
       "      <td>POINT (-77.07443 -11.86546)</td>\n",
       "    </tr>\n",
       "    <tr>\n",
       "      <th>4287003391</th>\n",
       "      <td>node/4287003391</td>\n",
       "      <td>node</td>\n",
       "      <td>POINT (-77.07428 -11.86554)</td>\n",
       "      <td>bank</td>\n",
       "      <td>SCOTIABANK Puente Piedra</td>\n",
       "      <td>POINT (-77.07428 -11.86554)</td>\n",
       "    </tr>\n",
       "    <tr>\n",
       "      <th>4287009092</th>\n",
       "      <td>node/4287009092</td>\n",
       "      <td>node</td>\n",
       "      <td>POINT (-77.07437 -11.86551)</td>\n",
       "      <td>bank</td>\n",
       "      <td>banco BCP</td>\n",
       "      <td>POINT (-77.07437 -11.86551)</td>\n",
       "    </tr>\n",
       "  </tbody>\n",
       "</table>\n",
       "</div>"
      ],
      "text/plain": [
       "                  unique_id element_type             geometry_polygon amenity  \\\n",
       "osmid                                                                           \n",
       "1863374438  node/1863374438         node  POINT (-77.07464 -11.86518)    bank   \n",
       "4286938591  node/4286938591         node  POINT (-77.07446 -11.86541)    bank   \n",
       "4286938893  node/4286938893         node  POINT (-77.07443 -11.86546)    bank   \n",
       "4287003391  node/4287003391         node  POINT (-77.07428 -11.86554)    bank   \n",
       "4287009092  node/4287009092         node  POINT (-77.07437 -11.86551)    bank   \n",
       "\n",
       "                                name                     geometry  \n",
       "osmid                                                              \n",
       "1863374438        Banco de la Nación  POINT (-77.07464 -11.86518)  \n",
       "4286938591                 Interbank  POINT (-77.07446 -11.86541)  \n",
       "4286938893          BBVA Continental  POINT (-77.07443 -11.86546)  \n",
       "4287003391  SCOTIABANK Puente Piedra  POINT (-77.07428 -11.86554)  \n",
       "4287009092                 banco BCP  POINT (-77.07437 -11.86551)  "
      ]
     },
     "execution_count": 211,
     "metadata": {},
     "output_type": "execute_result"
    }
   ],
   "source": [
    "_amenity = 'bank'\n",
    "amenities_as_points = amenities[amenities['amenity'] == _amenity] \n",
    "columns = ['unique_id', 'element_type', 'geometry_polygon', \n",
    "               'amenity', 'name', 'geometry']\n",
    "\n",
    "amenities_as_points[columns].head()"
   ]
  },
  {
   "cell_type": "code",
   "execution_count": 212,
   "metadata": {},
   "outputs": [
    {
     "data": {
      "text/plain": [
       "<AxesSubplot:>"
      ]
     },
     "execution_count": 212,
     "metadata": {},
     "output_type": "execute_result"
    },
    {
     "data": {
      "image/png": "[encoded data removed]",
      "text/plain": [
       "<Figure size 432x288 with 1 Axes>"
      ]
     },
     "metadata": {
      "needs_background": "light"
     },
     "output_type": "display_data"
    }
   ],
   "source": [
    "fig, ax = plt.subplots()\n",
    "nodes.plot(ax=ax)"
   ]
  },
  {
   "cell_type": "code",
   "execution_count": 213,
   "metadata": {},
   "outputs": [
    {
     "name": "stdout",
     "output_type": "stream",
     "text": [
      "CPU times: user 15 µs, sys: 5 µs, total: 20 µs\n",
      "Wall time: 23.1 µs\n"
     ]
    }
   ],
   "source": [
    "%%time\n",
    "def process_amenities(_amenity):\n",
    "\n",
    "    amenities_as_points = amenities[amenities['amenity'] == _amenity] \n",
    "    print(\"amenities_as_points --> {}\".format(amenities_as_points.shape) )\n",
    "    \n",
    "    if amenities_as_points.shape[0] == 0:\n",
    "        return pd.DataFrame()\n",
    "\n",
    "    ##adding shortest amenity point for all graph nodes\n",
    "    nodes_amenity = gn.pandana_snap_points( nodes , amenities_as_points ) \n",
    "\n",
    "    amenityid = \"{}_amenity\".format(_amenity)\n",
    "    amenitydist = \"{}_amenity_dist\".format(_amenity)\n",
    "    print(amenityid, amenitydist)\n",
    "\n",
    "    nodes_amenity.rename(columns={'NN':amenityid, 'NN_dist': amenitydist}, inplace=True)\n",
    "\n",
    "#     nodes_amenity.head()\n",
    "    print(\"nodes_amenity --> {}\".format(nodes_amenity.shape))\n",
    "\n",
    "    ##nearest node for all amenity points\n",
    "    amenities_as_points2 = gn.pandana_snap(graph, amenities_as_points) \n",
    "    print(\"amenities_as_points2 --> {}\".format(amenities_as_points2.shape))\n",
    "\n",
    "    ######\n",
    "    columns = ['unique_id', 'element_type', 'geometry_polygon', \n",
    "               'amenity', 'name', 'geometry', 'NN', 'NN_dist']\n",
    "\n",
    "    nodes_amenity2 = nodes_amenity.reset_index().merge(amenities_as_points2[columns], \n",
    "                                         how='left', \n",
    "                                         left_on=amenityid, \n",
    "                                         right_index=True)\n",
    "    node = \"{}_node\".format(_amenity)\n",
    "    nodedist = \"{}_node_dist\".format(_amenity)\n",
    "    nodes_amenity2.rename(columns={'NN':node, 'NN_dist': nodedist}, inplace=True)\n",
    "    print(\"nodes_amenity2 --> {}\".format(nodes_amenity2.shape))\n",
    "    \n",
    "    # nodes_amenity2.head()\n",
    "    #####\n",
    "    def shortest_path (G, source, target, weight='length'):\n",
    "        distance = np.NaN\n",
    "        try:\n",
    "            distance = nx.shortest_path_length(G, source, target, weight)\n",
    "        except Exception as e:\n",
    "            distance = np.NaN\n",
    "        return distance\n",
    "\n",
    "    nodedist = \"{}_dist\".format(_amenity)\n",
    "    print(\"Calculating shortest path distance:\")\n",
    "    nodes_amenity2[nodedist] = nodes_amenity2.apply(lambda x:\n",
    "                                                        shortest_path(graph, x['osmid'], x[node], weight='length'),\n",
    "                                                        axis=1\n",
    "                                                       )\n",
    "    #####\n",
    "    cols = ['osmid', 'geometry_x', amenityid, node, nodedist ]\n",
    "#     nodes_amenity2[cols].head()\n",
    "    return nodes_amenity2"
   ]
  },
  {
   "cell_type": "code",
   "execution_count": 214,
   "metadata": {
    "scrolled": true
   },
   "outputs": [],
   "source": [
    "# %%time\n",
    "# df = process_amenities('hospital')\n",
    "# df.head()"
   ]
  },
  {
   "cell_type": "code",
   "execution_count": 215,
   "metadata": {
    "scrolled": true
   },
   "outputs": [
    {
     "name": "stderr",
     "output_type": "stream",
     "text": [
      "/usr/lib/python3.6/subprocess.py:786: ResourceWarning: subprocess 6744 is still running\n",
      "  ResourceWarning, source=self)\n",
      "/home/leibnitz.rojas/.local/lib/python3.6/site-packages/ray/node.py:890: ResourceWarning: unclosed file <_io.TextIOWrapper name='/tmp/ray/session_2021-08-15_09-37-57_361203_6298/logs/redis-shard_0.err' mode='a' encoding='utf-8'>\n",
      "  self.start_redis()\n",
      "/home/leibnitz.rojas/.local/lib/python3.6/site-packages/ray/node.py:890: ResourceWarning: unclosed file <_io.TextIOWrapper name='/tmp/ray/session_2021-08-15_09-37-57_361203_6298/logs/redis-shard_0.out' mode='a' encoding='utf-8'>\n",
      "  self.start_redis()\n",
      "/home/leibnitz.rojas/.local/lib/python3.6/site-packages/ray/node.py:890: ResourceWarning: unclosed file <_io.TextIOWrapper name='/tmp/ray/session_2021-08-15_09-37-57_361203_6298/logs/redis.err' mode='a' encoding='utf-8'>\n",
      "  self.start_redis()\n",
      "/home/leibnitz.rojas/.local/lib/python3.6/site-packages/ray/node.py:890: ResourceWarning: unclosed file <_io.TextIOWrapper name='/tmp/ray/session_2021-08-15_09-37-57_361203_6298/logs/redis.out' mode='a' encoding='utf-8'>\n",
      "  self.start_redis()\n",
      "/home/leibnitz.rojas/.local/lib/python3.6/site-packages/ray/node.py:892: ResourceWarning: unclosed file <_io.TextIOWrapper name='/tmp/ray/session_2021-08-15_09-37-57_361203_6298/logs/gcs_server.out' mode='a' encoding='utf-8'>\n",
      "  self.start_gcs_server()\n",
      "/home/leibnitz.rojas/.local/lib/python3.6/site-packages/ray/node.py:892: ResourceWarning: unclosed file <_io.TextIOWrapper name='/tmp/ray/session_2021-08-15_09-37-57_361203_6298/logs/gcs_server.err' mode='a' encoding='utf-8'>\n",
      "  self.start_gcs_server()\n",
      "/home/leibnitz.rojas/.local/lib/python3.6/site-packages/ray/node.py:895: ResourceWarning: unclosed file <_io.TextIOWrapper name='/tmp/ray/session_2021-08-15_09-37-57_361203_6298/logs/monitor.out' mode='a' encoding='utf-8'>\n",
      "  self.start_monitor()\n",
      "/home/leibnitz.rojas/.local/lib/python3.6/site-packages/ray/node.py:895: ResourceWarning: unclosed file <_io.TextIOWrapper name='/tmp/ray/session_2021-08-15_09-37-57_361203_6298/logs/monitor.err' mode='a' encoding='utf-8'>\n",
      "  self.start_monitor()\n",
      "2021-08-15 09:37:59,155\tINFO services.py:1247 -- View the Ray dashboard at \u001b[1m\u001b[32mhttp://127.0.0.1:8267\u001b[39m\u001b[22m\n",
      "/home/leibnitz.rojas/.local/lib/python3.6/site-packages/ray/node.py:936: ResourceWarning: unclosed file <_io.TextIOWrapper name='/tmp/ray/session_2021-08-15_09-37-57_361203_6298/logs/raylet.out' mode='a' encoding='utf-8'>\n",
      "  self.start_raylet(plasma_directory, object_store_memory)\n",
      "/home/leibnitz.rojas/.local/lib/python3.6/site-packages/ray/node.py:936: ResourceWarning: unclosed file <_io.TextIOWrapper name='/tmp/ray/session_2021-08-15_09-37-57_361203_6298/logs/raylet.err' mode='a' encoding='utf-8'>\n",
      "  self.start_raylet(plasma_directory, object_store_memory)\n"
     ]
    },
    {
     "name": "stdout",
     "output_type": "stream",
     "text": [
      "CPU times: user 783 ms, sys: 169 ms, total: 951 ms\n",
      "Wall time: 6.39 s\n"
     ]
    },
    {
     "data": {
      "text/plain": [
       "[ObjectRef(11b5fcd52d49c071ffffffffffffffffffffffff0100000001000000),\n",
       " ObjectRef(a12253d7c747501cffffffffffffffffffffffff0100000001000000),\n",
       " ObjectRef(931690d20f999d2fffffffffffffffffffffffff0100000001000000),\n",
       " ObjectRef(d3ab1aaf09c00ee8ffffffffffffffffffffffff0100000001000000),\n",
       " ObjectRef(b9679322487eb9c3ffffffffffffffffffffffff0100000001000000),\n",
       " ObjectRef(fc8204747604c8ccffffffffffffffffffffffff0100000001000000),\n",
       " ObjectRef(9d78bd90898368caffffffffffffffffffffffff0100000001000000)]"
      ]
     },
     "execution_count": 215,
     "metadata": {},
     "output_type": "execute_result"
    }
   ],
   "source": [
    "%%time\n",
    "import ray\n",
    "import time\n",
    "\n",
    "ray.shutdown()\n",
    "ray.init()\n",
    "@ray.remote\n",
    "def f(i):\n",
    "    time.sleep(1)\n",
    "    return process_amenities(i)\n",
    "\n",
    "amenities_filter = ['bank','courthouse','hospital','marketplace', 'police','school','university']\n",
    "\n",
    "futures = [f.remote(i) for i in amenities_filter]\n",
    "# print(ray.get(futures))\n",
    "# ray.get(futures[0])\n",
    "futures"
   ]
  },
  {
   "cell_type": "code",
   "execution_count": 216,
   "metadata": {
    "scrolled": true
   },
   "outputs": [
    {
     "name": "stdout",
     "output_type": "stream",
     "text": [
      "asdasd\n"
     ]
    }
   ],
   "source": [
    "print(\"asdasd\")"
   ]
  },
  {
   "cell_type": "code",
   "execution_count": 217,
   "metadata": {
    "scrolled": true
   },
   "outputs": [
    {
     "name": "stdout",
     "output_type": "stream",
     "text": [
      "\u001b[2m\u001b[36m(pid=35701)\u001b[0m amenities_as_points --> (3, 70)\n",
      "\u001b[2m\u001b[36m(pid=35677)\u001b[0m amenities_as_points --> (15, 70)\n"
     ]
    },
    {
     "name": "stderr",
     "output_type": "stream",
     "text": [
      "\u001b[2m\u001b[36m(pid=35701)\u001b[0m /home/leibnitz.rojas/.local/lib/python3.6/site-packages/pyproj/crs/crs.py:53: FutureWarning: '+init=<authority>:<code>' syntax is deprecated. '<authority>:<code>' is the preferred initialization method. When making the change, be mindful of axis order changes: https://pyproj4.github.io/pyproj/stable/gotchas.html#axis-order-changes-in-proj-6\n",
      "\u001b[2m\u001b[36m(pid=35701)\u001b[0m   return _prepare_from_string(\" \".join(pjargs))\n",
      "\u001b[2m\u001b[36m(pid=35701)\u001b[0m /home/leibnitz.rojas/.local/lib/python3.6/site-packages/pyproj/crs/crs.py:294: FutureWarning: '+init=<authority>:<code>' syntax is deprecated. '<authority>:<code>' is the preferred initialization method. When making the change, be mindful of axis order changes: https://pyproj4.github.io/pyproj/stable/gotchas.html#axis-order-changes-in-proj-6\n",
      "\u001b[2m\u001b[36m(pid=35701)\u001b[0m   projstring = _prepare_from_string(\" \".join((projstring, projkwargs)))\n",
      "\u001b[2m\u001b[36m(pid=35701)\u001b[0m /home/leibnitz.rojas/.local/lib/python3.6/site-packages/pyproj/crs/crs.py:53: FutureWarning: '+init=<authority>:<code>' syntax is deprecated. '<authority>:<code>' is the preferred initialization method. When making the change, be mindful of axis order changes: https://pyproj4.github.io/pyproj/stable/gotchas.html#axis-order-changes-in-proj-6\n",
      "\u001b[2m\u001b[36m(pid=35701)\u001b[0m   return _prepare_from_string(\" \".join(pjargs))\n",
      "\u001b[2m\u001b[36m(pid=35701)\u001b[0m /home/leibnitz.rojas/.local/lib/python3.6/site-packages/pyproj/crs/crs.py:294: FutureWarning: '+init=<authority>:<code>' syntax is deprecated. '<authority>:<code>' is the preferred initialization method. When making the change, be mindful of axis order changes: https://pyproj4.github.io/pyproj/stable/gotchas.html#axis-order-changes-in-proj-6\n",
      "\u001b[2m\u001b[36m(pid=35701)\u001b[0m   projstring = _prepare_from_string(\" \".join((projstring, projkwargs)))\n",
      "\u001b[2m\u001b[36m(pid=35677)\u001b[0m /home/leibnitz.rojas/.local/lib/python3.6/site-packages/pyproj/crs/crs.py:53: FutureWarning: '+init=<authority>:<code>' syntax is deprecated. '<authority>:<code>' is the preferred initialization method. When making the change, be mindful of axis order changes: https://pyproj4.github.io/pyproj/stable/gotchas.html#axis-order-changes-in-proj-6\n",
      "\u001b[2m\u001b[36m(pid=35677)\u001b[0m   return _prepare_from_string(\" \".join(pjargs))\n",
      "\u001b[2m\u001b[36m(pid=35677)\u001b[0m /home/leibnitz.rojas/.local/lib/python3.6/site-packages/pyproj/crs/crs.py:294: FutureWarning: '+init=<authority>:<code>' syntax is deprecated. '<authority>:<code>' is the preferred initialization method. When making the change, be mindful of axis order changes: https://pyproj4.github.io/pyproj/stable/gotchas.html#axis-order-changes-in-proj-6\n",
      "\u001b[2m\u001b[36m(pid=35677)\u001b[0m   projstring = _prepare_from_string(\" \".join((projstring, projkwargs)))\n",
      "\u001b[2m\u001b[36m(pid=35677)\u001b[0m /home/leibnitz.rojas/.local/lib/python3.6/site-packages/pyproj/crs/crs.py:53: FutureWarning: '+init=<authority>:<code>' syntax is deprecated. '<authority>:<code>' is the preferred initialization method. When making the change, be mindful of axis order changes: https://pyproj4.github.io/pyproj/stable/gotchas.html#axis-order-changes-in-proj-6\n",
      "\u001b[2m\u001b[36m(pid=35677)\u001b[0m   return _prepare_from_string(\" \".join(pjargs))\n",
      "\u001b[2m\u001b[36m(pid=35677)\u001b[0m /home/leibnitz.rojas/.local/lib/python3.6/site-packages/pyproj/crs/crs.py:294: FutureWarning: '+init=<authority>:<code>' syntax is deprecated. '<authority>:<code>' is the preferred initialization method. When making the change, be mindful of axis order changes: https://pyproj4.github.io/pyproj/stable/gotchas.html#axis-order-changes-in-proj-6\n",
      "\u001b[2m\u001b[36m(pid=35677)\u001b[0m   projstring = _prepare_from_string(\" \".join((projstring, projkwargs)))\n"
     ]
    },
    {
     "name": "stdout",
     "output_type": "stream",
     "text": [
      "\u001b[2m\u001b[36m(pid=35674)\u001b[0m amenities_as_points --> (5, 70)\n"
     ]
    },
    {
     "name": "stderr",
     "output_type": "stream",
     "text": [
      "\u001b[2m\u001b[36m(pid=35674)\u001b[0m /home/leibnitz.rojas/.local/lib/python3.6/site-packages/pyproj/crs/crs.py:53: FutureWarning: '+init=<authority>:<code>' syntax is deprecated. '<authority>:<code>' is the preferred initialization method. When making the change, be mindful of axis order changes: https://pyproj4.github.io/pyproj/stable/gotchas.html#axis-order-changes-in-proj-6\n",
      "\u001b[2m\u001b[36m(pid=35674)\u001b[0m   return _prepare_from_string(\" \".join(pjargs))\n",
      "\u001b[2m\u001b[36m(pid=35674)\u001b[0m /home/leibnitz.rojas/.local/lib/python3.6/site-packages/pyproj/crs/crs.py:294: FutureWarning: '+init=<authority>:<code>' syntax is deprecated. '<authority>:<code>' is the preferred initialization method. When making the change, be mindful of axis order changes: https://pyproj4.github.io/pyproj/stable/gotchas.html#axis-order-changes-in-proj-6\n",
      "\u001b[2m\u001b[36m(pid=35674)\u001b[0m   projstring = _prepare_from_string(\" \".join((projstring, projkwargs)))\n",
      "\u001b[2m\u001b[36m(pid=35674)\u001b[0m /home/leibnitz.rojas/.local/lib/python3.6/site-packages/pyproj/crs/crs.py:53: FutureWarning: '+init=<authority>:<code>' syntax is deprecated. '<authority>:<code>' is the preferred initialization method. When making the change, be mindful of axis order changes: https://pyproj4.github.io/pyproj/stable/gotchas.html#axis-order-changes-in-proj-6\n",
      "\u001b[2m\u001b[36m(pid=35674)\u001b[0m   return _prepare_from_string(\" \".join(pjargs))\n",
      "\u001b[2m\u001b[36m(pid=35674)\u001b[0m /home/leibnitz.rojas/.local/lib/python3.6/site-packages/pyproj/crs/crs.py:294: FutureWarning: '+init=<authority>:<code>' syntax is deprecated. '<authority>:<code>' is the preferred initialization method. When making the change, be mindful of axis order changes: https://pyproj4.github.io/pyproj/stable/gotchas.html#axis-order-changes-in-proj-6\n",
      "\u001b[2m\u001b[36m(pid=35674)\u001b[0m   projstring = _prepare_from_string(\" \".join((projstring, projkwargs)))\n"
     ]
    },
    {
     "name": "stdout",
     "output_type": "stream",
     "text": [
      "\u001b[2m\u001b[36m(pid=35713)\u001b[0m amenities_as_points --> (8, 70)\n",
      "\u001b[2m\u001b[36m(pid=35708)\u001b[0m amenities_as_points --> (0, 70)\n",
      "\u001b[2m\u001b[36m(pid=35644)\u001b[0m amenities_as_points --> (235, 70)\n"
     ]
    },
    {
     "name": "stderr",
     "output_type": "stream",
     "text": [
      "\u001b[2m\u001b[36m(pid=35713)\u001b[0m /home/leibnitz.rojas/.local/lib/python3.6/site-packages/pyproj/crs/crs.py:53: FutureWarning: '+init=<authority>:<code>' syntax is deprecated. '<authority>:<code>' is the preferred initialization method. When making the change, be mindful of axis order changes: https://pyproj4.github.io/pyproj/stable/gotchas.html#axis-order-changes-in-proj-6\n",
      "\u001b[2m\u001b[36m(pid=35713)\u001b[0m   return _prepare_from_string(\" \".join(pjargs))\n",
      "\u001b[2m\u001b[36m(pid=35713)\u001b[0m /home/leibnitz.rojas/.local/lib/python3.6/site-packages/pyproj/crs/crs.py:294: FutureWarning: '+init=<authority>:<code>' syntax is deprecated. '<authority>:<code>' is the preferred initialization method. When making the change, be mindful of axis order changes: https://pyproj4.github.io/pyproj/stable/gotchas.html#axis-order-changes-in-proj-6\n",
      "\u001b[2m\u001b[36m(pid=35713)\u001b[0m   projstring = _prepare_from_string(\" \".join((projstring, projkwargs)))\n",
      "\u001b[2m\u001b[36m(pid=35713)\u001b[0m /home/leibnitz.rojas/.local/lib/python3.6/site-packages/pyproj/crs/crs.py:53: FutureWarning: '+init=<authority>:<code>' syntax is deprecated. '<authority>:<code>' is the preferred initialization method. When making the change, be mindful of axis order changes: https://pyproj4.github.io/pyproj/stable/gotchas.html#axis-order-changes-in-proj-6\n",
      "\u001b[2m\u001b[36m(pid=35713)\u001b[0m   return _prepare_from_string(\" \".join(pjargs))\n",
      "\u001b[2m\u001b[36m(pid=35713)\u001b[0m /home/leibnitz.rojas/.local/lib/python3.6/site-packages/pyproj/crs/crs.py:294: FutureWarning: '+init=<authority>:<code>' syntax is deprecated. '<authority>:<code>' is the preferred initialization method. When making the change, be mindful of axis order changes: https://pyproj4.github.io/pyproj/stable/gotchas.html#axis-order-changes-in-proj-6\n",
      "\u001b[2m\u001b[36m(pid=35713)\u001b[0m   projstring = _prepare_from_string(\" \".join((projstring, projkwargs)))\n",
      "\u001b[2m\u001b[36m(pid=35644)\u001b[0m /home/leibnitz.rojas/.local/lib/python3.6/site-packages/pyproj/crs/crs.py:53: FutureWarning: '+init=<authority>:<code>' syntax is deprecated. '<authority>:<code>' is the preferred initialization method. When making the change, be mindful of axis order changes: https://pyproj4.github.io/pyproj/stable/gotchas.html#axis-order-changes-in-proj-6\n",
      "\u001b[2m\u001b[36m(pid=35644)\u001b[0m   return _prepare_from_string(\" \".join(pjargs))\n",
      "\u001b[2m\u001b[36m(pid=35644)\u001b[0m /home/leibnitz.rojas/.local/lib/python3.6/site-packages/pyproj/crs/crs.py:294: FutureWarning: '+init=<authority>:<code>' syntax is deprecated. '<authority>:<code>' is the preferred initialization method. When making the change, be mindful of axis order changes: https://pyproj4.github.io/pyproj/stable/gotchas.html#axis-order-changes-in-proj-6\n",
      "\u001b[2m\u001b[36m(pid=35644)\u001b[0m   projstring = _prepare_from_string(\" \".join((projstring, projkwargs)))\n",
      "\u001b[2m\u001b[36m(pid=35644)\u001b[0m /home/leibnitz.rojas/.local/lib/python3.6/site-packages/pyproj/crs/crs.py:53: FutureWarning: '+init=<authority>:<code>' syntax is deprecated. '<authority>:<code>' is the preferred initialization method. When making the change, be mindful of axis order changes: https://pyproj4.github.io/pyproj/stable/gotchas.html#axis-order-changes-in-proj-6\n",
      "\u001b[2m\u001b[36m(pid=35644)\u001b[0m   return _prepare_from_string(\" \".join(pjargs))\n",
      "\u001b[2m\u001b[36m(pid=35644)\u001b[0m /home/leibnitz.rojas/.local/lib/python3.6/site-packages/pyproj/crs/crs.py:294: FutureWarning: '+init=<authority>:<code>' syntax is deprecated. '<authority>:<code>' is the preferred initialization method. When making the change, be mindful of axis order changes: https://pyproj4.github.io/pyproj/stable/gotchas.html#axis-order-changes-in-proj-6\n",
      "\u001b[2m\u001b[36m(pid=35644)\u001b[0m   projstring = _prepare_from_string(\" \".join((projstring, projkwargs)))\n"
     ]
    },
    {
     "name": "stdout",
     "output_type": "stream",
     "text": [
      "\u001b[2m\u001b[36m(pid=35658)\u001b[0m amenities_as_points --> (0, 70)\n",
      "\u001b[2m\u001b[36m(pid=35701)\u001b[0m hospital_amenity hospital_amenity_dist\n",
      "\u001b[2m\u001b[36m(pid=35701)\u001b[0m nodes_amenity --> (6069, 6)\n"
     ]
    },
    {
     "name": "stderr",
     "output_type": "stream",
     "text": [
      "\u001b[2m\u001b[36m(pid=35701)\u001b[0m /home/leibnitz.rojas/.local/lib/python3.6/site-packages/pyproj/crs/crs.py:53: FutureWarning: '+init=<authority>:<code>' syntax is deprecated. '<authority>:<code>' is the preferred initialization method. When making the change, be mindful of axis order changes: https://pyproj4.github.io/pyproj/stable/gotchas.html#axis-order-changes-in-proj-6\n",
      "\u001b[2m\u001b[36m(pid=35701)\u001b[0m   return _prepare_from_string(\" \".join(pjargs))\n",
      "\u001b[2m\u001b[36m(pid=35701)\u001b[0m /home/leibnitz.rojas/.local/lib/python3.6/site-packages/pyproj/crs/crs.py:294: FutureWarning: '+init=<authority>:<code>' syntax is deprecated. '<authority>:<code>' is the preferred initialization method. When making the change, be mindful of axis order changes: https://pyproj4.github.io/pyproj/stable/gotchas.html#axis-order-changes-in-proj-6\n",
      "\u001b[2m\u001b[36m(pid=35701)\u001b[0m   projstring = _prepare_from_string(\" \".join((projstring, projkwargs)))\n",
      "\u001b[2m\u001b[36m(pid=35701)\u001b[0m /home/leibnitz.rojas/.local/lib/python3.6/site-packages/pyproj/crs/crs.py:53: FutureWarning: '+init=<authority>:<code>' syntax is deprecated. '<authority>:<code>' is the preferred initialization method. When making the change, be mindful of axis order changes: https://pyproj4.github.io/pyproj/stable/gotchas.html#axis-order-changes-in-proj-6\n",
      "\u001b[2m\u001b[36m(pid=35701)\u001b[0m   return _prepare_from_string(\" \".join(pjargs))\n",
      "\u001b[2m\u001b[36m(pid=35701)\u001b[0m /home/leibnitz.rojas/.local/lib/python3.6/site-packages/pyproj/crs/crs.py:294: FutureWarning: '+init=<authority>:<code>' syntax is deprecated. '<authority>:<code>' is the preferred initialization method. When making the change, be mindful of axis order changes: https://pyproj4.github.io/pyproj/stable/gotchas.html#axis-order-changes-in-proj-6\n",
      "\u001b[2m\u001b[36m(pid=35701)\u001b[0m   projstring = _prepare_from_string(\" \".join((projstring, projkwargs)))\n"
     ]
    },
    {
     "name": "stdout",
     "output_type": "stream",
     "text": [
      "\u001b[2m\u001b[36m(pid=35674)\u001b[0m police_amenity police_amenity_dist\n",
      "\u001b[2m\u001b[36m(pid=35674)\u001b[0m nodes_amenity --> (6069, 6)\n"
     ]
    },
    {
     "name": "stderr",
     "output_type": "stream",
     "text": [
      "\u001b[2m\u001b[36m(pid=35674)\u001b[0m /home/leibnitz.rojas/.local/lib/python3.6/site-packages/pyproj/crs/crs.py:53: FutureWarning: '+init=<authority>:<code>' syntax is deprecated. '<authority>:<code>' is the preferred initialization method. When making the change, be mindful of axis order changes: https://pyproj4.github.io/pyproj/stable/gotchas.html#axis-order-changes-in-proj-6\n",
      "\u001b[2m\u001b[36m(pid=35674)\u001b[0m   return _prepare_from_string(\" \".join(pjargs))\n",
      "\u001b[2m\u001b[36m(pid=35674)\u001b[0m /home/leibnitz.rojas/.local/lib/python3.6/site-packages/pyproj/crs/crs.py:294: FutureWarning: '+init=<authority>:<code>' syntax is deprecated. '<authority>:<code>' is the preferred initialization method. When making the change, be mindful of axis order changes: https://pyproj4.github.io/pyproj/stable/gotchas.html#axis-order-changes-in-proj-6\n",
      "\u001b[2m\u001b[36m(pid=35674)\u001b[0m   projstring = _prepare_from_string(\" \".join((projstring, projkwargs)))\n",
      "\u001b[2m\u001b[36m(pid=35674)\u001b[0m /home/leibnitz.rojas/.local/lib/python3.6/site-packages/pyproj/crs/crs.py:53: FutureWarning: '+init=<authority>:<code>' syntax is deprecated. '<authority>:<code>' is the preferred initialization method. When making the change, be mindful of axis order changes: https://pyproj4.github.io/pyproj/stable/gotchas.html#axis-order-changes-in-proj-6\n",
      "\u001b[2m\u001b[36m(pid=35674)\u001b[0m   return _prepare_from_string(\" \".join(pjargs))\n",
      "\u001b[2m\u001b[36m(pid=35674)\u001b[0m /home/leibnitz.rojas/.local/lib/python3.6/site-packages/pyproj/crs/crs.py:294: FutureWarning: '+init=<authority>:<code>' syntax is deprecated. '<authority>:<code>' is the preferred initialization method. When making the change, be mindful of axis order changes: https://pyproj4.github.io/pyproj/stable/gotchas.html#axis-order-changes-in-proj-6\n",
      "\u001b[2m\u001b[36m(pid=35674)\u001b[0m   projstring = _prepare_from_string(\" \".join((projstring, projkwargs)))\n"
     ]
    },
    {
     "name": "stdout",
     "output_type": "stream",
     "text": [
      "\u001b[2m\u001b[36m(pid=35677)\u001b[0m marketplace_amenity marketplace_amenity_dist\n",
      "\u001b[2m\u001b[36m(pid=35677)\u001b[0m nodes_amenity --> (6069, 6)\n"
     ]
    },
    {
     "name": "stderr",
     "output_type": "stream",
     "text": [
      "\u001b[2m\u001b[36m(pid=35677)\u001b[0m /home/leibnitz.rojas/.local/lib/python3.6/site-packages/pyproj/crs/crs.py:53: FutureWarning: '+init=<authority>:<code>' syntax is deprecated. '<authority>:<code>' is the preferred initialization method. When making the change, be mindful of axis order changes: https://pyproj4.github.io/pyproj/stable/gotchas.html#axis-order-changes-in-proj-6\n",
      "\u001b[2m\u001b[36m(pid=35677)\u001b[0m   return _prepare_from_string(\" \".join(pjargs))\n",
      "\u001b[2m\u001b[36m(pid=35677)\u001b[0m /home/leibnitz.rojas/.local/lib/python3.6/site-packages/pyproj/crs/crs.py:294: FutureWarning: '+init=<authority>:<code>' syntax is deprecated. '<authority>:<code>' is the preferred initialization method. When making the change, be mindful of axis order changes: https://pyproj4.github.io/pyproj/stable/gotchas.html#axis-order-changes-in-proj-6\n",
      "\u001b[2m\u001b[36m(pid=35677)\u001b[0m   projstring = _prepare_from_string(\" \".join((projstring, projkwargs)))\n",
      "\u001b[2m\u001b[36m(pid=35677)\u001b[0m /home/leibnitz.rojas/.local/lib/python3.6/site-packages/pyproj/crs/crs.py:53: FutureWarning: '+init=<authority>:<code>' syntax is deprecated. '<authority>:<code>' is the preferred initialization method. When making the change, be mindful of axis order changes: https://pyproj4.github.io/pyproj/stable/gotchas.html#axis-order-changes-in-proj-6\n",
      "\u001b[2m\u001b[36m(pid=35677)\u001b[0m   return _prepare_from_string(\" \".join(pjargs))\n",
      "\u001b[2m\u001b[36m(pid=35677)\u001b[0m /home/leibnitz.rojas/.local/lib/python3.6/site-packages/pyproj/crs/crs.py:294: FutureWarning: '+init=<authority>:<code>' syntax is deprecated. '<authority>:<code>' is the preferred initialization method. When making the change, be mindful of axis order changes: https://pyproj4.github.io/pyproj/stable/gotchas.html#axis-order-changes-in-proj-6\n",
      "\u001b[2m\u001b[36m(pid=35677)\u001b[0m   projstring = _prepare_from_string(\" \".join((projstring, projkwargs)))\n"
     ]
    },
    {
     "name": "stdout",
     "output_type": "stream",
     "text": [
      "\u001b[2m\u001b[36m(pid=35713)\u001b[0m bank_amenity bank_amenity_dist\n",
      "\u001b[2m\u001b[36m(pid=35713)\u001b[0m nodes_amenity --> (6069, 6)\n"
     ]
    },
    {
     "name": "stderr",
     "output_type": "stream",
     "text": [
      "\u001b[2m\u001b[36m(pid=35713)\u001b[0m /home/leibnitz.rojas/.local/lib/python3.6/site-packages/pyproj/crs/crs.py:53: FutureWarning: '+init=<authority>:<code>' syntax is deprecated. '<authority>:<code>' is the preferred initialization method. When making the change, be mindful of axis order changes: https://pyproj4.github.io/pyproj/stable/gotchas.html#axis-order-changes-in-proj-6\n",
      "\u001b[2m\u001b[36m(pid=35713)\u001b[0m   return _prepare_from_string(\" \".join(pjargs))\n",
      "\u001b[2m\u001b[36m(pid=35713)\u001b[0m /home/leibnitz.rojas/.local/lib/python3.6/site-packages/pyproj/crs/crs.py:294: FutureWarning: '+init=<authority>:<code>' syntax is deprecated. '<authority>:<code>' is the preferred initialization method. When making the change, be mindful of axis order changes: https://pyproj4.github.io/pyproj/stable/gotchas.html#axis-order-changes-in-proj-6\n",
      "\u001b[2m\u001b[36m(pid=35713)\u001b[0m   projstring = _prepare_from_string(\" \".join((projstring, projkwargs)))\n",
      "\u001b[2m\u001b[36m(pid=35713)\u001b[0m /home/leibnitz.rojas/.local/lib/python3.6/site-packages/pyproj/crs/crs.py:53: FutureWarning: '+init=<authority>:<code>' syntax is deprecated. '<authority>:<code>' is the preferred initialization method. When making the change, be mindful of axis order changes: https://pyproj4.github.io/pyproj/stable/gotchas.html#axis-order-changes-in-proj-6\n",
      "\u001b[2m\u001b[36m(pid=35713)\u001b[0m   return _prepare_from_string(\" \".join(pjargs))\n",
      "\u001b[2m\u001b[36m(pid=35713)\u001b[0m /home/leibnitz.rojas/.local/lib/python3.6/site-packages/pyproj/crs/crs.py:294: FutureWarning: '+init=<authority>:<code>' syntax is deprecated. '<authority>:<code>' is the preferred initialization method. When making the change, be mindful of axis order changes: https://pyproj4.github.io/pyproj/stable/gotchas.html#axis-order-changes-in-proj-6\n",
      "\u001b[2m\u001b[36m(pid=35713)\u001b[0m   projstring = _prepare_from_string(\" \".join((projstring, projkwargs)))\n"
     ]
    },
    {
     "name": "stdout",
     "output_type": "stream",
     "text": [
      "\u001b[2m\u001b[36m(pid=35644)\u001b[0m school_amenity school_amenity_dist\n",
      "\u001b[2m\u001b[36m(pid=35644)\u001b[0m nodes_amenity --> (6069, 6)\n"
     ]
    },
    {
     "name": "stderr",
     "output_type": "stream",
     "text": [
      "\u001b[2m\u001b[36m(pid=35644)\u001b[0m /home/leibnitz.rojas/.local/lib/python3.6/site-packages/pyproj/crs/crs.py:53: FutureWarning: '+init=<authority>:<code>' syntax is deprecated. '<authority>:<code>' is the preferred initialization method. When making the change, be mindful of axis order changes: https://pyproj4.github.io/pyproj/stable/gotchas.html#axis-order-changes-in-proj-6\n",
      "\u001b[2m\u001b[36m(pid=35644)\u001b[0m   return _prepare_from_string(\" \".join(pjargs))\n",
      "\u001b[2m\u001b[36m(pid=35644)\u001b[0m /home/leibnitz.rojas/.local/lib/python3.6/site-packages/pyproj/crs/crs.py:294: FutureWarning: '+init=<authority>:<code>' syntax is deprecated. '<authority>:<code>' is the preferred initialization method. When making the change, be mindful of axis order changes: https://pyproj4.github.io/pyproj/stable/gotchas.html#axis-order-changes-in-proj-6\n",
      "\u001b[2m\u001b[36m(pid=35644)\u001b[0m   projstring = _prepare_from_string(\" \".join((projstring, projkwargs)))\n",
      "\u001b[2m\u001b[36m(pid=35644)\u001b[0m /home/leibnitz.rojas/.local/lib/python3.6/site-packages/pyproj/crs/crs.py:53: FutureWarning: '+init=<authority>:<code>' syntax is deprecated. '<authority>:<code>' is the preferred initialization method. When making the change, be mindful of axis order changes: https://pyproj4.github.io/pyproj/stable/gotchas.html#axis-order-changes-in-proj-6\n",
      "\u001b[2m\u001b[36m(pid=35644)\u001b[0m   return _prepare_from_string(\" \".join(pjargs))\n",
      "\u001b[2m\u001b[36m(pid=35644)\u001b[0m /home/leibnitz.rojas/.local/lib/python3.6/site-packages/pyproj/crs/crs.py:294: FutureWarning: '+init=<authority>:<code>' syntax is deprecated. '<authority>:<code>' is the preferred initialization method. When making the change, be mindful of axis order changes: https://pyproj4.github.io/pyproj/stable/gotchas.html#axis-order-changes-in-proj-6\n",
      "\u001b[2m\u001b[36m(pid=35644)\u001b[0m   projstring = _prepare_from_string(\" \".join((projstring, projkwargs)))\n"
     ]
    },
    {
     "name": "stdout",
     "output_type": "stream",
     "text": [
      "\u001b[2m\u001b[36m(pid=35674)\u001b[0m amenities_as_points2 --> (5, 72)\n",
      "\u001b[2m\u001b[36m(pid=35674)\u001b[0m nodes_amenity2 --> (6069, 15)\n",
      "\u001b[2m\u001b[36m(pid=35674)\u001b[0m Calculating shortest path distance:\n",
      "\u001b[2m\u001b[36m(pid=35701)\u001b[0m amenities_as_points2 --> (3, 72)\n",
      "\u001b[2m\u001b[36m(pid=35701)\u001b[0m nodes_amenity2 --> (6069, 15)\n",
      "\u001b[2m\u001b[36m(pid=35701)\u001b[0m Calculating shortest path distance:\n",
      "\u001b[2m\u001b[36m(pid=35677)\u001b[0m amenities_as_points2 --> (15, 72)\n",
      "\u001b[2m\u001b[36m(pid=35677)\u001b[0m nodes_amenity2 --> (6069, 15)\n",
      "\u001b[2m\u001b[36m(pid=35677)\u001b[0m Calculating shortest path distance:\n",
      "\u001b[2m\u001b[36m(pid=35713)\u001b[0m amenities_as_points2 --> (8, 72)\n",
      "\u001b[2m\u001b[36m(pid=35713)\u001b[0m nodes_amenity2 --> (6069, 15)\n",
      "\u001b[2m\u001b[36m(pid=35713)\u001b[0m Calculating shortest path distance:\n",
      "\u001b[2m\u001b[36m(pid=35644)\u001b[0m amenities_as_points2 --> (235, 72)\n",
      "\u001b[2m\u001b[36m(pid=35644)\u001b[0m nodes_amenity2 --> (6069, 15)\n",
      "\u001b[2m\u001b[36m(pid=35644)\u001b[0m Calculating shortest path distance:\n",
      "CPU times: user 27.2 s, sys: 5.86 s, total: 33.1 s\n",
      "Wall time: 20min 13s\n"
     ]
    }
   ],
   "source": [
    "%%time\n",
    "bank = ray.get(futures[0])\n",
    "courthouse = ray.get(futures[1])\n",
    "hospital = ray.get(futures[2])\n",
    "marketplace = ray.get(futures[3])\n",
    "police = ray.get(futures[4])\n",
    "school = ray.get(futures[5])\n",
    "university = ray.get(futures[6])"
   ]
  },
  {
   "cell_type": "code",
   "execution_count": 218,
   "metadata": {},
   "outputs": [
    {
     "name": "stdout",
     "output_type": "stream",
     "text": [
      "CPU times: user 23 µs, sys: 0 ns, total: 23 µs\n",
      "Wall time: 26.2 µs\n"
     ]
    },
    {
     "data": {
      "text/plain": [
       "[['osmid', 'bank_amenity', 'bank_node', 'bank_dist'],\n",
       " ['osmid', 'courthouse_amenity', 'courthouse_node', 'courthouse_dist'],\n",
       " ['osmid', 'hospital_amenity', 'hospital_node', 'hospital_dist'],\n",
       " ['osmid', 'marketplace_amenity', 'marketplace_node', 'marketplace_dist'],\n",
       " ['osmid', 'police_amenity', 'police_node', 'police_dist'],\n",
       " ['osmid', 'school_amenity', 'school_node', 'school_dist'],\n",
       " ['osmid', 'university_amenity', 'university_node', 'university_dist']]"
      ]
     },
     "execution_count": 218,
     "metadata": {},
     "output_type": "execute_result"
    }
   ],
   "source": [
    "%%time\n",
    "amenities_filter = ['bank','courthouse','hospital','marketplace', 'police','school','university']\n",
    "\n",
    "dfcols = []\n",
    "for a in amenities_filter:\n",
    "    cols = ['osmid', '{}_amenity'.format(a), '{}_node'.format(a), '{}_dist'.format(a)]\n",
    "    dfcols.append(cols)\n",
    "#     print(cols)\n",
    "\n",
    "dfcols"
   ]
  },
  {
   "cell_type": "code",
   "execution_count": 219,
   "metadata": {
    "scrolled": true
   },
   "outputs": [
    {
     "data": {
      "text/plain": [
       "True"
      ]
     },
     "execution_count": 219,
     "metadata": {},
     "output_type": "execute_result"
    }
   ],
   "source": [
    "# nodes.head()\n",
    "pd.DataFrame([], columns = dfcols[0])\n",
    "courthouse.shape[0] == 0"
   ]
  },
  {
   "cell_type": "code",
   "execution_count": 220,
   "metadata": {},
   "outputs": [
    {
     "name": "stdout",
     "output_type": "stream",
     "text": [
      "CPU times: user 203 ms, sys: 1.82 ms, total: 205 ms\n",
      "Wall time: 201 ms\n"
     ]
    },
    {
     "data": {
      "text/html": [
       "<div>\n",
       "<style scoped>\n",
       "    .dataframe tbody tr th:only-of-type {\n",
       "        vertical-align: middle;\n",
       "    }\n",
       "\n",
       "    .dataframe tbody tr th {\n",
       "        vertical-align: top;\n",
       "    }\n",
       "\n",
       "    .dataframe thead th {\n",
       "        text-align: right;\n",
       "    }\n",
       "</style>\n",
       "<table border=\"1\" class=\"dataframe\">\n",
       "  <thead>\n",
       "    <tr style=\"text-align: right;\">\n",
       "      <th></th>\n",
       "      <th>osmid</th>\n",
       "      <th>y</th>\n",
       "      <th>x</th>\n",
       "      <th>street_count</th>\n",
       "      <th>ref</th>\n",
       "      <th>highway</th>\n",
       "      <th>geometry</th>\n",
       "      <th>bank_amenity</th>\n",
       "      <th>bank_node</th>\n",
       "      <th>bank_dist</th>\n",
       "      <th>courthouse_amenity</th>\n",
       "      <th>courthouse_node</th>\n",
       "      <th>courthouse_dist</th>\n",
       "      <th>hospital_amenity</th>\n",
       "      <th>hospital_node</th>\n",
       "      <th>hospital_dist</th>\n",
       "      <th>marketplace_amenity</th>\n",
       "      <th>marketplace_node</th>\n",
       "      <th>marketplace_dist</th>\n",
       "      <th>police_amenity</th>\n",
       "      <th>police_node</th>\n",
       "      <th>police_dist</th>\n",
       "      <th>school_amenity</th>\n",
       "      <th>school_node</th>\n",
       "      <th>school_dist</th>\n",
       "      <th>university_amenity</th>\n",
       "      <th>university_node</th>\n",
       "      <th>university_dist</th>\n",
       "    </tr>\n",
       "  </thead>\n",
       "  <tbody>\n",
       "    <tr>\n",
       "      <th>0</th>\n",
       "      <td>273353471</td>\n",
       "      <td>-11.828771</td>\n",
       "      <td>-77.119495</td>\n",
       "      <td>3</td>\n",
       "      <td>NaN</td>\n",
       "      <td>NaN</td>\n",
       "      <td>POINT (-77.11949 -11.82877)</td>\n",
       "      <td>435323606</td>\n",
       "      <td>863519212</td>\n",
       "      <td>6315.198</td>\n",
       "      <td>NaN</td>\n",
       "      <td>NaN</td>\n",
       "      <td>NaN</td>\n",
       "      <td>405698392</td>\n",
       "      <td>273353471</td>\n",
       "      <td>0.000</td>\n",
       "      <td>399069247</td>\n",
       "      <td>1756231313</td>\n",
       "      <td>1885.077</td>\n",
       "      <td>319481153</td>\n",
       "      <td>2480656130</td>\n",
       "      <td>1820.899</td>\n",
       "      <td>5567460454</td>\n",
       "      <td>1756231263</td>\n",
       "      <td>2049.876</td>\n",
       "      <td>NaN</td>\n",
       "      <td>NaN</td>\n",
       "      <td>NaN</td>\n",
       "    </tr>\n",
       "    <tr>\n",
       "      <th>1</th>\n",
       "      <td>273353473</td>\n",
       "      <td>-11.833910</td>\n",
       "      <td>-77.113129</td>\n",
       "      <td>3</td>\n",
       "      <td>35B</td>\n",
       "      <td>motorway_junction</td>\n",
       "      <td>POINT (-77.11313 -11.83391)</td>\n",
       "      <td>435323606</td>\n",
       "      <td>863519212</td>\n",
       "      <td>5417.077</td>\n",
       "      <td>NaN</td>\n",
       "      <td>NaN</td>\n",
       "      <td>NaN</td>\n",
       "      <td>405698392</td>\n",
       "      <td>273353471</td>\n",
       "      <td>3354.008</td>\n",
       "      <td>399069247</td>\n",
       "      <td>1756231313</td>\n",
       "      <td>2260.223</td>\n",
       "      <td>319481153</td>\n",
       "      <td>2480656130</td>\n",
       "      <td>2196.045</td>\n",
       "      <td>5567485611</td>\n",
       "      <td>1756212137</td>\n",
       "      <td>1298.125</td>\n",
       "      <td>NaN</td>\n",
       "      <td>NaN</td>\n",
       "      <td>NaN</td>\n",
       "    </tr>\n",
       "    <tr>\n",
       "      <th>2</th>\n",
       "      <td>273353475</td>\n",
       "      <td>-11.839022</td>\n",
       "      <td>-77.106764</td>\n",
       "      <td>3</td>\n",
       "      <td>NaN</td>\n",
       "      <td>NaN</td>\n",
       "      <td>POINT (-77.10676 -11.83902)</td>\n",
       "      <td>435323606</td>\n",
       "      <td>863519212</td>\n",
       "      <td>4520.743</td>\n",
       "      <td>NaN</td>\n",
       "      <td>NaN</td>\n",
       "      <td>NaN</td>\n",
       "      <td>405698392</td>\n",
       "      <td>273353471</td>\n",
       "      <td>3784.442</td>\n",
       "      <td>8204207342</td>\n",
       "      <td>7575681832</td>\n",
       "      <td>786.293</td>\n",
       "      <td>4553175289</td>\n",
       "      <td>8088984630</td>\n",
       "      <td>1521.372</td>\n",
       "      <td>4286397814</td>\n",
       "      <td>273353475</td>\n",
       "      <td>0.000</td>\n",
       "      <td>NaN</td>\n",
       "      <td>NaN</td>\n",
       "      <td>NaN</td>\n",
       "    </tr>\n",
       "    <tr>\n",
       "      <th>3</th>\n",
       "      <td>273353476</td>\n",
       "      <td>-11.840749</td>\n",
       "      <td>-77.104574</td>\n",
       "      <td>3</td>\n",
       "      <td>NaN</td>\n",
       "      <td>NaN</td>\n",
       "      <td>POINT (-77.10457 -11.84075)</td>\n",
       "      <td>435323606</td>\n",
       "      <td>863519212</td>\n",
       "      <td>4214.676</td>\n",
       "      <td>NaN</td>\n",
       "      <td>NaN</td>\n",
       "      <td>NaN</td>\n",
       "      <td>405698392</td>\n",
       "      <td>273353471</td>\n",
       "      <td>3702.720</td>\n",
       "      <td>8204207342</td>\n",
       "      <td>7575681832</td>\n",
       "      <td>480.226</td>\n",
       "      <td>4553175289</td>\n",
       "      <td>8088984630</td>\n",
       "      <td>1417.563</td>\n",
       "      <td>5567498334</td>\n",
       "      <td>2502194097</td>\n",
       "      <td>1066.267</td>\n",
       "      <td>NaN</td>\n",
       "      <td>NaN</td>\n",
       "      <td>NaN</td>\n",
       "    </tr>\n",
       "    <tr>\n",
       "      <th>4</th>\n",
       "      <td>273353499</td>\n",
       "      <td>-11.874135</td>\n",
       "      <td>-77.069268</td>\n",
       "      <td>3</td>\n",
       "      <td>NaN</td>\n",
       "      <td>NaN</td>\n",
       "      <td>POINT (-77.06927 -11.87414)</td>\n",
       "      <td>6190518187</td>\n",
       "      <td>863427836</td>\n",
       "      <td>2061.009</td>\n",
       "      <td>NaN</td>\n",
       "      <td>NaN</td>\n",
       "      <td>NaN</td>\n",
       "      <td>465561830</td>\n",
       "      <td>5056593438</td>\n",
       "      <td>3519.579</td>\n",
       "      <td>835657632</td>\n",
       "      <td>1755125303</td>\n",
       "      <td>4313.563</td>\n",
       "      <td>319483701</td>\n",
       "      <td>863427809</td>\n",
       "      <td>2155.831</td>\n",
       "      <td>435367362</td>\n",
       "      <td>1755155472</td>\n",
       "      <td>1353.526</td>\n",
       "      <td>NaN</td>\n",
       "      <td>NaN</td>\n",
       "      <td>NaN</td>\n",
       "    </tr>\n",
       "  </tbody>\n",
       "</table>\n",
       "</div>"
      ],
      "text/plain": [
       "       osmid          y          x  street_count  ref            highway  \\\n",
       "0  273353471 -11.828771 -77.119495             3  NaN                NaN   \n",
       "1  273353473 -11.833910 -77.113129             3  35B  motorway_junction   \n",
       "2  273353475 -11.839022 -77.106764             3  NaN                NaN   \n",
       "3  273353476 -11.840749 -77.104574             3  NaN                NaN   \n",
       "4  273353499 -11.874135 -77.069268             3  NaN                NaN   \n",
       "\n",
       "                      geometry  bank_amenity  bank_node  bank_dist  \\\n",
       "0  POINT (-77.11949 -11.82877)     435323606  863519212   6315.198   \n",
       "1  POINT (-77.11313 -11.83391)     435323606  863519212   5417.077   \n",
       "2  POINT (-77.10676 -11.83902)     435323606  863519212   4520.743   \n",
       "3  POINT (-77.10457 -11.84075)     435323606  863519212   4214.676   \n",
       "4  POINT (-77.06927 -11.87414)    6190518187  863427836   2061.009   \n",
       "\n",
       "  courthouse_amenity courthouse_node courthouse_dist  hospital_amenity  \\\n",
       "0                NaN             NaN             NaN         405698392   \n",
       "1                NaN             NaN             NaN         405698392   \n",
       "2                NaN             NaN             NaN         405698392   \n",
       "3                NaN             NaN             NaN         405698392   \n",
       "4                NaN             NaN             NaN         465561830   \n",
       "\n",
       "   hospital_node  hospital_dist  marketplace_amenity  marketplace_node  \\\n",
       "0      273353471          0.000            399069247        1756231313   \n",
       "1      273353471       3354.008            399069247        1756231313   \n",
       "2      273353471       3784.442           8204207342        7575681832   \n",
       "3      273353471       3702.720           8204207342        7575681832   \n",
       "4     5056593438       3519.579            835657632        1755125303   \n",
       "\n",
       "   marketplace_dist  police_amenity  police_node  police_dist  school_amenity  \\\n",
       "0          1885.077       319481153   2480656130     1820.899      5567460454   \n",
       "1          2260.223       319481153   2480656130     2196.045      5567485611   \n",
       "2           786.293      4553175289   8088984630     1521.372      4286397814   \n",
       "3           480.226      4553175289   8088984630     1417.563      5567498334   \n",
       "4          4313.563       319483701    863427809     2155.831       435367362   \n",
       "\n",
       "   school_node  school_dist university_amenity university_node university_dist  \n",
       "0   1756231263     2049.876                NaN             NaN             NaN  \n",
       "1   1756212137     1298.125                NaN             NaN             NaN  \n",
       "2    273353475        0.000                NaN             NaN             NaN  \n",
       "3   2502194097     1066.267                NaN             NaN             NaN  \n",
       "4   1755155472     1353.526                NaN             NaN             NaN  "
      ]
     },
     "execution_count": 220,
     "metadata": {},
     "output_type": "execute_result"
    }
   ],
   "source": [
    "%%time\n",
    "if bank.shape[0] == 0:\n",
    "    bank = pd.DataFrame([], columns = dfcols[0])\n",
    "if courthouse.shape[0] == 0:\n",
    "    courthouse = pd.DataFrame([], columns = dfcols[1])\n",
    "if hospital.shape[0] == 0:\n",
    "    hospital = pd.DataFrame([], columns = dfcols[2])\n",
    "if marketplace.shape[0] == 0:\n",
    "    marketplace = pd.DataFrame([], columns = dfcols[3])\n",
    "if police.shape[0] == 0:\n",
    "    police = pd.DataFrame([], columns = dfcols[4])\n",
    "if school.shape[0] == 0:\n",
    "    school = pd.DataFrame([], columns = dfcols[5])\n",
    "if university.shape[0] == 0:\n",
    "    university = pd.DataFrame([], columns = dfcols[6])\n",
    "    \n",
    "tmp = nodes.reset_index()\n",
    "tmp = tmp.merge( bank [dfcols[0]], how='left', on='osmid' )\n",
    "tmp = tmp.merge( courthouse[dfcols[1]], how='left', on='osmid')\n",
    "tmp = tmp.merge( hospital[dfcols[2]], how='left', on='osmid' )\n",
    "tmp = tmp.merge( marketplace[dfcols[3]], how='left', on='osmid' )\n",
    "tmp = tmp.merge( police[dfcols[4]], how='left', on='osmid' )\n",
    "tmp = tmp.merge( school[dfcols[5]], how='left', on='osmid' )\n",
    "tmp = tmp.merge( university[dfcols[6]], how='left', on='osmid' )\n",
    "tmp.head()"
   ]
  },
  {
   "cell_type": "code",
   "execution_count": 221,
   "metadata": {},
   "outputs": [],
   "source": [
    "name = place_name.split(',')[0].replace(' ','_')\n",
    "filename = \"simbig21data/{}.csv\".format(name)\n",
    "tmp.to_csv( filename, index=False)"
   ]
  },
  {
   "cell_type": "code",
   "execution_count": 222,
   "metadata": {},
   "outputs": [
    {
     "data": {
      "text/html": [
       "<div>\n",
       "<style scoped>\n",
       "    .dataframe tbody tr th:only-of-type {\n",
       "        vertical-align: middle;\n",
       "    }\n",
       "\n",
       "    .dataframe tbody tr th {\n",
       "        vertical-align: top;\n",
       "    }\n",
       "\n",
       "    .dataframe thead th {\n",
       "        text-align: right;\n",
       "    }\n",
       "</style>\n",
       "<table border=\"1\" class=\"dataframe\">\n",
       "  <thead>\n",
       "    <tr style=\"text-align: right;\">\n",
       "      <th></th>\n",
       "      <th>osmid</th>\n",
       "      <th>y</th>\n",
       "      <th>x</th>\n",
       "      <th>street_count</th>\n",
       "      <th>ref</th>\n",
       "      <th>highway</th>\n",
       "      <th>geometry</th>\n",
       "      <th>bank_amenity</th>\n",
       "      <th>bank_node</th>\n",
       "      <th>bank_dist</th>\n",
       "      <th>courthouse_amenity</th>\n",
       "      <th>courthouse_node</th>\n",
       "      <th>courthouse_dist</th>\n",
       "      <th>hospital_amenity</th>\n",
       "      <th>hospital_node</th>\n",
       "      <th>hospital_dist</th>\n",
       "      <th>marketplace_amenity</th>\n",
       "      <th>marketplace_node</th>\n",
       "      <th>marketplace_dist</th>\n",
       "      <th>police_amenity</th>\n",
       "      <th>police_node</th>\n",
       "      <th>police_dist</th>\n",
       "      <th>school_amenity</th>\n",
       "      <th>school_node</th>\n",
       "      <th>school_dist</th>\n",
       "      <th>university_amenity</th>\n",
       "      <th>university_node</th>\n",
       "      <th>university_dist</th>\n",
       "    </tr>\n",
       "  </thead>\n",
       "  <tbody>\n",
       "    <tr>\n",
       "      <th>0</th>\n",
       "      <td>273353471</td>\n",
       "      <td>-11.828771</td>\n",
       "      <td>-77.119495</td>\n",
       "      <td>3</td>\n",
       "      <td>NaN</td>\n",
       "      <td>NaN</td>\n",
       "      <td>POINT (-77.1194946 -11.8287714)</td>\n",
       "      <td>435323606</td>\n",
       "      <td>863519212</td>\n",
       "      <td>6315.198</td>\n",
       "      <td>NaN</td>\n",
       "      <td>NaN</td>\n",
       "      <td>NaN</td>\n",
       "      <td>405698392</td>\n",
       "      <td>273353471</td>\n",
       "      <td>0.000</td>\n",
       "      <td>399069247</td>\n",
       "      <td>1756231313</td>\n",
       "      <td>1885.077</td>\n",
       "      <td>319481153</td>\n",
       "      <td>2480656130</td>\n",
       "      <td>1820.899</td>\n",
       "      <td>5567460454</td>\n",
       "      <td>1756231263</td>\n",
       "      <td>2049.876</td>\n",
       "      <td>NaN</td>\n",
       "      <td>NaN</td>\n",
       "      <td>NaN</td>\n",
       "    </tr>\n",
       "    <tr>\n",
       "      <th>1</th>\n",
       "      <td>273353473</td>\n",
       "      <td>-11.833910</td>\n",
       "      <td>-77.113129</td>\n",
       "      <td>3</td>\n",
       "      <td>35B</td>\n",
       "      <td>motorway_junction</td>\n",
       "      <td>POINT (-77.1131285 -11.8339095)</td>\n",
       "      <td>435323606</td>\n",
       "      <td>863519212</td>\n",
       "      <td>5417.077</td>\n",
       "      <td>NaN</td>\n",
       "      <td>NaN</td>\n",
       "      <td>NaN</td>\n",
       "      <td>405698392</td>\n",
       "      <td>273353471</td>\n",
       "      <td>3354.008</td>\n",
       "      <td>399069247</td>\n",
       "      <td>1756231313</td>\n",
       "      <td>2260.223</td>\n",
       "      <td>319481153</td>\n",
       "      <td>2480656130</td>\n",
       "      <td>2196.045</td>\n",
       "      <td>5567485611</td>\n",
       "      <td>1756212137</td>\n",
       "      <td>1298.125</td>\n",
       "      <td>NaN</td>\n",
       "      <td>NaN</td>\n",
       "      <td>NaN</td>\n",
       "    </tr>\n",
       "    <tr>\n",
       "      <th>2</th>\n",
       "      <td>273353475</td>\n",
       "      <td>-11.839022</td>\n",
       "      <td>-77.106764</td>\n",
       "      <td>3</td>\n",
       "      <td>NaN</td>\n",
       "      <td>NaN</td>\n",
       "      <td>POINT (-77.1067638 -11.8390221)</td>\n",
       "      <td>435323606</td>\n",
       "      <td>863519212</td>\n",
       "      <td>4520.743</td>\n",
       "      <td>NaN</td>\n",
       "      <td>NaN</td>\n",
       "      <td>NaN</td>\n",
       "      <td>405698392</td>\n",
       "      <td>273353471</td>\n",
       "      <td>3784.442</td>\n",
       "      <td>8204207342</td>\n",
       "      <td>7575681832</td>\n",
       "      <td>786.293</td>\n",
       "      <td>4553175289</td>\n",
       "      <td>8088984630</td>\n",
       "      <td>1521.372</td>\n",
       "      <td>4286397814</td>\n",
       "      <td>273353475</td>\n",
       "      <td>0.000</td>\n",
       "      <td>NaN</td>\n",
       "      <td>NaN</td>\n",
       "      <td>NaN</td>\n",
       "    </tr>\n",
       "    <tr>\n",
       "      <th>3</th>\n",
       "      <td>273353476</td>\n",
       "      <td>-11.840749</td>\n",
       "      <td>-77.104574</td>\n",
       "      <td>3</td>\n",
       "      <td>NaN</td>\n",
       "      <td>NaN</td>\n",
       "      <td>POINT (-77.10457359999999 -11.8407485)</td>\n",
       "      <td>435323606</td>\n",
       "      <td>863519212</td>\n",
       "      <td>4214.676</td>\n",
       "      <td>NaN</td>\n",
       "      <td>NaN</td>\n",
       "      <td>NaN</td>\n",
       "      <td>405698392</td>\n",
       "      <td>273353471</td>\n",
       "      <td>3702.720</td>\n",
       "      <td>8204207342</td>\n",
       "      <td>7575681832</td>\n",
       "      <td>480.226</td>\n",
       "      <td>4553175289</td>\n",
       "      <td>8088984630</td>\n",
       "      <td>1417.563</td>\n",
       "      <td>5567498334</td>\n",
       "      <td>2502194097</td>\n",
       "      <td>1066.267</td>\n",
       "      <td>NaN</td>\n",
       "      <td>NaN</td>\n",
       "      <td>NaN</td>\n",
       "    </tr>\n",
       "    <tr>\n",
       "      <th>4</th>\n",
       "      <td>273353499</td>\n",
       "      <td>-11.874135</td>\n",
       "      <td>-77.069268</td>\n",
       "      <td>3</td>\n",
       "      <td>NaN</td>\n",
       "      <td>NaN</td>\n",
       "      <td>POINT (-77.06926780000001 -11.8741354)</td>\n",
       "      <td>6190518187</td>\n",
       "      <td>863427836</td>\n",
       "      <td>2061.009</td>\n",
       "      <td>NaN</td>\n",
       "      <td>NaN</td>\n",
       "      <td>NaN</td>\n",
       "      <td>465561830</td>\n",
       "      <td>5056593438</td>\n",
       "      <td>3519.579</td>\n",
       "      <td>835657632</td>\n",
       "      <td>1755125303</td>\n",
       "      <td>4313.563</td>\n",
       "      <td>319483701</td>\n",
       "      <td>863427809</td>\n",
       "      <td>2155.831</td>\n",
       "      <td>435367362</td>\n",
       "      <td>1755155472</td>\n",
       "      <td>1353.526</td>\n",
       "      <td>NaN</td>\n",
       "      <td>NaN</td>\n",
       "      <td>NaN</td>\n",
       "    </tr>\n",
       "  </tbody>\n",
       "</table>\n",
       "</div>"
      ],
      "text/plain": [
       "       osmid          y          x  street_count  ref            highway  \\\n",
       "0  273353471 -11.828771 -77.119495             3  NaN                NaN   \n",
       "1  273353473 -11.833910 -77.113129             3  35B  motorway_junction   \n",
       "2  273353475 -11.839022 -77.106764             3  NaN                NaN   \n",
       "3  273353476 -11.840749 -77.104574             3  NaN                NaN   \n",
       "4  273353499 -11.874135 -77.069268             3  NaN                NaN   \n",
       "\n",
       "                                 geometry  bank_amenity  bank_node  bank_dist  \\\n",
       "0         POINT (-77.1194946 -11.8287714)     435323606  863519212   6315.198   \n",
       "1         POINT (-77.1131285 -11.8339095)     435323606  863519212   5417.077   \n",
       "2         POINT (-77.1067638 -11.8390221)     435323606  863519212   4520.743   \n",
       "3  POINT (-77.10457359999999 -11.8407485)     435323606  863519212   4214.676   \n",
       "4  POINT (-77.06926780000001 -11.8741354)    6190518187  863427836   2061.009   \n",
       "\n",
       "   courthouse_amenity  courthouse_node  courthouse_dist  hospital_amenity  \\\n",
       "0                 NaN              NaN              NaN         405698392   \n",
       "1                 NaN              NaN              NaN         405698392   \n",
       "2                 NaN              NaN              NaN         405698392   \n",
       "3                 NaN              NaN              NaN         405698392   \n",
       "4                 NaN              NaN              NaN         465561830   \n",
       "\n",
       "   hospital_node  hospital_dist  marketplace_amenity  marketplace_node  \\\n",
       "0      273353471          0.000            399069247        1756231313   \n",
       "1      273353471       3354.008            399069247        1756231313   \n",
       "2      273353471       3784.442           8204207342        7575681832   \n",
       "3      273353471       3702.720           8204207342        7575681832   \n",
       "4     5056593438       3519.579            835657632        1755125303   \n",
       "\n",
       "   marketplace_dist  police_amenity  police_node  police_dist  school_amenity  \\\n",
       "0          1885.077       319481153   2480656130     1820.899      5567460454   \n",
       "1          2260.223       319481153   2480656130     2196.045      5567485611   \n",
       "2           786.293      4553175289   8088984630     1521.372      4286397814   \n",
       "3           480.226      4553175289   8088984630     1417.563      5567498334   \n",
       "4          4313.563       319483701    863427809     2155.831       435367362   \n",
       "\n",
       "   school_node  school_dist  university_amenity  university_node  \\\n",
       "0   1756231263     2049.876                 NaN              NaN   \n",
       "1   1756212137     1298.125                 NaN              NaN   \n",
       "2    273353475        0.000                 NaN              NaN   \n",
       "3   2502194097     1066.267                 NaN              NaN   \n",
       "4   1755155472     1353.526                 NaN              NaN   \n",
       "\n",
       "   university_dist  \n",
       "0              NaN  \n",
       "1              NaN  \n",
       "2              NaN  \n",
       "3              NaN  \n",
       "4              NaN  "
      ]
     },
     "execution_count": 222,
     "metadata": {},
     "output_type": "execute_result"
    }
   ],
   "source": [
    "df = pd.read_csv(filename)\n",
    "df.head()"
   ]
  },
  {
   "cell_type": "code",
   "execution_count": 223,
   "metadata": {},
   "outputs": [
    {
     "name": "stdout",
     "output_type": "stream",
     "text": [
      "Processing time : 1251.5211849212646 secods\n"
     ]
    }
   ],
   "source": [
    "end = time.time()\n",
    "print(\"Processing time : {} secods\".format(end-start))"
   ]
  },
  {
   "cell_type": "code",
   "execution_count": null,
   "metadata": {},
   "outputs": [],
   "source": []
  }
 ],
 "metadata": {
  "kernelspec": {
   "display_name": "Python 3",
   "language": "python",
   "name": "python3"
  },
  "language_info": {
   "codemirror_mode": {
    "name": "ipython",
    "version": 3
   },
   "file_extension": ".py",
   "mimetype": "text/x-python",
   "name": "python",
   "nbconvert_exporter": "python",
   "pygments_lexer": "ipython3",
   "version": "3.6.9"
  }
 },
 "nbformat": 4,
 "nbformat_minor": 4
}
