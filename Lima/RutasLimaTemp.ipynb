{
 "cells": [
  {
   "cell_type": "code",
   "execution_count": 271,
   "metadata": {},
   "outputs": [
    {
     "name": "stderr",
     "output_type": "stream",
     "text": [
      "/home/leibnitz.rojas/.local/lib/python3.6/site-packages/geopandas/_compat.py:110: UserWarning: The Shapely GEOS version (3.8.0-CAPI-1.13.1 ) is incompatible with the GEOS version PyGEOS was compiled with (3.10.1-CAPI-1.16.0). Conversions between both will be slow.\n",
      "  shapely_geos_version, geos_capi_version_string\n"
     ]
    }
   ],
   "source": [
    "import pandas as pd\n",
    "import seaborn as sns\n",
    "import numpy as np\n",
    "from shapely import wkt\n",
    "import geopandas as gpd\n"
   ]
  },
  {
   "cell_type": "code",
   "execution_count": 362,
   "metadata": {},
   "outputs": [
    {
     "name": "stdout",
     "output_type": "stream",
     "text": [
      "total 730172\r\n",
      "drwxrwxr-x 2 leibnitz.rojas hadoopgroup      4096 jul 29 23:07 cache\r\n",
      "drwxrwxr-x 3 leibnitz.rojas hadoopgroup      4096 ago 18 22:38 data\r\n",
      "-rw-rw-r-- 1 leibnitz.rojas hadoopgroup      4604 ago 21 23:04 EdgesWaze.py\r\n",
      "-rw-rw-r-- 1 leibnitz.rojas hadoopgroup  19237054 ago 18 17:36 LimaEdgesWaze0800_Final.txt\r\n",
      "-rw-rw-r-- 1 leibnitz.rojas hadoopgroup   4395982 ago 16 05:00 LimaEdgesWaze0800_Recupero01.txt\r\n",
      "-rw-rw-r-- 1 leibnitz.rojas hadoopgroup   1065617 ago 17 00:21 LimaEdgesWaze0800_Recupero02.txt\r\n",
      "-rw-rw-r-- 1 leibnitz.rojas hadoopgroup    178551 ago 17 22:44 LimaEdgesWaze0800_Recupero03.txt\r\n",
      "-rw-rw-r-- 1 leibnitz.rojas hadoopgroup     33231 ago 18 12:16 LimaEdgesWaze0800_Recupero04.txt\r\n",
      "-rw-rw-r-- 1 leibnitz.rojas hadoopgroup  18183601 ago 14 22:20 LimaEdgesWaze0800.txt\r\n",
      "-rw-rw-r-- 1 leibnitz.rojas hadoopgroup  16479259 ago 20 20:57 LimaEdgesWaze1400-Copy1.txt\r\n",
      "-rw-rw-r-- 1 leibnitz.rojas hadoopgroup  19230896 ago 21 23:03 LimaEdgesWaze1400_Final.txt\r\n",
      "-rw-rw-r-- 1 leibnitz.rojas hadoopgroup   5252061 ago 21 13:51 LimaEdgesWaze1400_Recupero01.txt\r\n",
      "-rw-rw-r-- 1 leibnitz.rojas hadoopgroup    752237 ago 21 20:41 LimaEdgesWaze1400_Recupero02.txt\r\n",
      "-rw-rw-r-- 1 leibnitz.rojas hadoopgroup    109174 ago 21 23:02 LimaEdgesWaze1400_Recupero03.txt\r\n",
      "-rw-rw-r-- 1 leibnitz.rojas hadoopgroup     23074 ago 21 23:22 LimaEdgesWaze1400_Recupero04.txt\r\n",
      "-rw-rw-r-- 1 leibnitz.rojas hadoopgroup  17989998 ago 20 21:09 LimaEdgesWaze1400.txt\r\n",
      "drwxrwxr-x 2 leibnitz.rojas hadoopgroup      4096 ago 21 23:05 logs\r\n",
      "-rw------- 1 leibnitz.rojas hadoopgroup 601105476 ago 21 23:22 nohup.out\r\n",
      "-rw-rw-r-- 1 leibnitz.rojas hadoopgroup    818101 ago 20 21:10 RutasLima.ipynb\r\n",
      "-rw-rw-r-- 1 leibnitz.rojas hadoopgroup     38328 ago 22 07:21 RutasLimaTemp.ipynb\r\n",
      "-rw-rw-r-- 1 leibnitz.rojas hadoopgroup  14897841 ago  3 18:16 RutasLimaWaze_parte01.txt\r\n",
      "-rw-rw-r-- 1 leibnitz.rojas hadoopgroup   3741952 ago  5 12:12 RutasLimaWaze_parte02.txt\r\n",
      "-rw-rw-r-- 1 leibnitz.rojas hadoopgroup   2437276 ago  8 21:30 RutasLimaWaze_recupero1.txt\r\n",
      "-rw-rw-r-- 1 leibnitz.rojas hadoopgroup    437047 ago  9 00:04 RutasLimaWaze_recupero2.txt\r\n",
      "-rw-rw-r-- 1 leibnitz.rojas hadoopgroup     56360 ago  9 21:50 RutasLimaWaze_recupero3.txt\r\n",
      "-rw-rw-r-- 1 leibnitz.rojas hadoopgroup     18055 ago  9 22:11 RutasLimaWaze.txt\r\n",
      "-rw-rw-r-- 1 leibnitz.rojas hadoopgroup  21077063 ago  6 19:55 RutasLimaWaze_x.txt\r\n"
     ]
    }
   ],
   "source": [
    "!ls -l"
   ]
  },
  {
   "cell_type": "code",
   "execution_count": 270,
   "metadata": {},
   "outputs": [
    {
     "ename": "NameError",
     "evalue": "name 'gpd' is not defined",
     "output_type": "error",
     "traceback": [
      "\u001b[0;31m---------------------------------------------------------------------------\u001b[0m",
      "\u001b[0;31mNameError\u001b[0m                                 Traceback (most recent call last)",
      "\u001b[0;32m<timed exec>\u001b[0m in \u001b[0;36m<module>\u001b[0;34m\u001b[0m\n",
      "\u001b[0;31mNameError\u001b[0m: name 'gpd' is not defined"
     ]
    }
   ],
   "source": [
    "%%time\n",
    "edges = pd.read_csv(\"data/GrafoLima_edges.csv\", index_col=[0,1,2])\n",
    "edges['geometry'] = edges['geometry'].apply(wkt.loads)\n",
    "edges = gpd.GeoDataFrame(edges, crs='epsg:4326')\n",
    "# edges.head()\n"
   ]
  },
  {
   "cell_type": "code",
   "execution_count": 275,
   "metadata": {},
   "outputs": [
    {
     "data": {
      "text/html": [
       "<div>\n",
       "<style scoped>\n",
       "    .dataframe tbody tr th:only-of-type {\n",
       "        vertical-align: middle;\n",
       "    }\n",
       "\n",
       "    .dataframe tbody tr th {\n",
       "        vertical-align: top;\n",
       "    }\n",
       "\n",
       "    .dataframe thead th {\n",
       "        text-align: right;\n",
       "    }\n",
       "</style>\n",
       "<table border=\"1\" class=\"dataframe\">\n",
       "  <thead>\n",
       "    <tr style=\"text-align: right;\">\n",
       "      <th></th>\n",
       "      <th></th>\n",
       "      <th></th>\n",
       "      <th>osmid</th>\n",
       "      <th>oneway</th>\n",
       "      <th>lanes</th>\n",
       "      <th>highway</th>\n",
       "      <th>maxspeed</th>\n",
       "      <th>length</th>\n",
       "      <th>geometry</th>\n",
       "      <th>ref</th>\n",
       "      <th>name</th>\n",
       "      <th>bridge</th>\n",
       "      <th>junction</th>\n",
       "      <th>access</th>\n",
       "      <th>tunnel</th>\n",
       "      <th>width</th>\n",
       "      <th>service</th>\n",
       "    </tr>\n",
       "    <tr>\n",
       "      <th>u</th>\n",
       "      <th>v</th>\n",
       "      <th>key</th>\n",
       "      <th></th>\n",
       "      <th></th>\n",
       "      <th></th>\n",
       "      <th></th>\n",
       "      <th></th>\n",
       "      <th></th>\n",
       "      <th></th>\n",
       "      <th></th>\n",
       "      <th></th>\n",
       "      <th></th>\n",
       "      <th></th>\n",
       "      <th></th>\n",
       "      <th></th>\n",
       "      <th></th>\n",
       "      <th></th>\n",
       "    </tr>\n",
       "  </thead>\n",
       "  <tbody>\n",
       "    <tr>\n",
       "      <th rowspan=\"2\" valign=\"top\">258066779</th>\n",
       "      <th>10985400003</th>\n",
       "      <th>0</th>\n",
       "      <td>39457621</td>\n",
       "      <td>True</td>\n",
       "      <td>1</td>\n",
       "      <td>motorway_link</td>\n",
       "      <td>80</td>\n",
       "      <td>109.492</td>\n",
       "      <td>LINESTRING (-76.78468 -12.37136, -76.78466 -12...</td>\n",
       "      <td>NaN</td>\n",
       "      <td>NaN</td>\n",
       "      <td>NaN</td>\n",
       "      <td>NaN</td>\n",
       "      <td>NaN</td>\n",
       "      <td>NaN</td>\n",
       "      <td>NaN</td>\n",
       "      <td>NaN</td>\n",
       "    </tr>\n",
       "    <tr>\n",
       "      <th>258066780</th>\n",
       "      <th>0</th>\n",
       "      <td>[1046533254, 338193454, 143630423]</td>\n",
       "      <td>True</td>\n",
       "      <td>2</td>\n",
       "      <td>motorway</td>\n",
       "      <td>100</td>\n",
       "      <td>782.922</td>\n",
       "      <td>LINESTRING (-76.78468 -12.37136, -76.78433 -12...</td>\n",
       "      <td>PE-1S</td>\n",
       "      <td>Carretera Panamericana Sur</td>\n",
       "      <td>yes</td>\n",
       "      <td>NaN</td>\n",
       "      <td>NaN</td>\n",
       "      <td>NaN</td>\n",
       "      <td>NaN</td>\n",
       "      <td>NaN</td>\n",
       "    </tr>\n",
       "  </tbody>\n",
       "</table>\n",
       "</div>"
      ],
      "text/plain": [
       "                                                        osmid  oneway lanes  \\\n",
       "u         v           key                                                     \n",
       "258066779 10985400003 0                              39457621    True     1   \n",
       "          258066780   0    [1046533254, 338193454, 143630423]    True     2   \n",
       "\n",
       "                                 highway maxspeed   length  \\\n",
       "u         v           key                                    \n",
       "258066779 10985400003 0    motorway_link       80  109.492   \n",
       "          258066780   0         motorway      100  782.922   \n",
       "\n",
       "                                                                    geometry  \\\n",
       "u         v           key                                                      \n",
       "258066779 10985400003 0    LINESTRING (-76.78468 -12.37136, -76.78466 -12...   \n",
       "          258066780   0    LINESTRING (-76.78468 -12.37136, -76.78433 -12...   \n",
       "\n",
       "                             ref                        name bridge junction  \\\n",
       "u         v           key                                                      \n",
       "258066779 10985400003 0      NaN                         NaN    NaN      NaN   \n",
       "          258066780   0    PE-1S  Carretera Panamericana Sur    yes      NaN   \n",
       "\n",
       "                          access tunnel  width service  \n",
       "u         v           key                               \n",
       "258066779 10985400003 0      NaN    NaN    NaN     NaN  \n",
       "          258066780   0      NaN    NaN    NaN     NaN  "
      ]
     },
     "execution_count": 275,
     "metadata": {},
     "output_type": "execute_result"
    }
   ],
   "source": [
    "edges.head(2)"
   ]
  },
  {
   "cell_type": "code",
   "execution_count": 276,
   "metadata": {},
   "outputs": [
    {
     "data": {
      "text/plain": [
       "(395620, 15)"
      ]
     },
     "execution_count": 276,
     "metadata": {},
     "output_type": "execute_result"
    }
   ],
   "source": [
    "edges.shape"
   ]
  },
  {
   "cell_type": "code",
   "execution_count": 291,
   "metadata": {},
   "outputs": [],
   "source": [
    "# edges.reset_index().drop_duplicates(subset=['u', 'v', 'wazeinfo']).shape"
   ]
  },
  {
   "cell_type": "code",
   "execution_count": 363,
   "metadata": {},
   "outputs": [
    {
     "name": "stdout",
     "output_type": "stream",
     "text": [
      "(562, 3)\n"
     ]
    },
    {
     "data": {
      "text/plain": [
       "0.6672597864768683"
      ]
     },
     "execution_count": 363,
     "metadata": {},
     "output_type": "execute_result"
    }
   ],
   "source": [
    "results = pd.read_csv('LimaEdgesWaze1400_Recupero04.txt', sep=';', index_col=0,names=['u','v','wazeinfo'])\n",
    "print(results.shape)\n",
    "a1 = results.shape[0]\n",
    "a2 = results[results['wazeinfo'] == '(-1, -1)'].shape[0]\n",
    "a2/a1"
   ]
  },
  {
   "cell_type": "code",
   "execution_count": 364,
   "metadata": {},
   "outputs": [
    {
     "data": {
      "text/plain": [
       "(375, 3)"
      ]
     },
     "execution_count": 364,
     "metadata": {},
     "output_type": "execute_result"
    }
   ],
   "source": [
    "results[results['wazeinfo'] == '(-1, -1)'].shape"
   ]
  },
  {
   "cell_type": "code",
   "execution_count": 294,
   "metadata": {},
   "outputs": [],
   "source": [
    "# results.sort_index().drop_duplicates().head(50)"
   ]
  },
  {
   "cell_type": "code",
   "execution_count": null,
   "metadata": {},
   "outputs": [],
   "source": []
  },
  {
   "cell_type": "code",
   "execution_count": null,
   "metadata": {},
   "outputs": [],
   "source": []
  },
  {
   "cell_type": "code",
   "execution_count": 365,
   "metadata": {},
   "outputs": [
    {
     "name": "stdout",
     "output_type": "stream",
     "text": [
      "(395620, 3)\n",
      "(562, 3)\n"
     ]
    }
   ],
   "source": [
    "df1 = pd.read_csv('LimaEdgesWaze1400_Final.txt', sep=';', index_col=0,names=['u','v','wazeinfo'])\n",
    "print(df1.shape)\n",
    "df2 = pd.read_csv('LimaEdgesWaze1400_Recupero04.txt', sep=';', index_col=0,names=['u','v','wazeinfo'])\n",
    "print(df2.shape)"
   ]
  },
  {
   "cell_type": "code",
   "execution_count": 366,
   "metadata": {},
   "outputs": [
    {
     "data": {
      "text/html": [
       "<div>\n",
       "<style scoped>\n",
       "    .dataframe tbody tr th:only-of-type {\n",
       "        vertical-align: middle;\n",
       "    }\n",
       "\n",
       "    .dataframe tbody tr th {\n",
       "        vertical-align: top;\n",
       "    }\n",
       "\n",
       "    .dataframe thead th {\n",
       "        text-align: right;\n",
       "    }\n",
       "</style>\n",
       "<table border=\"1\" class=\"dataframe\">\n",
       "  <thead>\n",
       "    <tr style=\"text-align: right;\">\n",
       "      <th></th>\n",
       "      <th>u</th>\n",
       "      <th>v</th>\n",
       "      <th>wazeinfo_x</th>\n",
       "      <th>wazeinfo_y</th>\n",
       "      <th>wazeinfo</th>\n",
       "    </tr>\n",
       "  </thead>\n",
       "  <tbody>\n",
       "    <tr>\n",
       "      <th>0</th>\n",
       "      <td>258066779</td>\n",
       "      <td>10985400003</td>\n",
       "      <td>(0.05, 0.107)</td>\n",
       "      <td>NaN</td>\n",
       "      <td>(0.05, 0.107)</td>\n",
       "    </tr>\n",
       "    <tr>\n",
       "      <th>150000</th>\n",
       "      <td>885687037</td>\n",
       "      <td>885687032</td>\n",
       "      <td>(0.0, 0.0)</td>\n",
       "      <td>NaN</td>\n",
       "      <td>(0.0, 0.0)</td>\n",
       "    </tr>\n",
       "    <tr>\n",
       "      <th>50000</th>\n",
       "      <td>3269219429</td>\n",
       "      <td>1826749957</td>\n",
       "      <td>(0.016666666666666666, 0.002)</td>\n",
       "      <td>NaN</td>\n",
       "      <td>(0.016666666666666666, 0.002)</td>\n",
       "    </tr>\n",
       "    <tr>\n",
       "      <th>1</th>\n",
       "      <td>258066779</td>\n",
       "      <td>258066780</td>\n",
       "      <td>(0.45, 0.781)</td>\n",
       "      <td>NaN</td>\n",
       "      <td>(0.45, 0.781)</td>\n",
       "    </tr>\n",
       "    <tr>\n",
       "      <th>100000</th>\n",
       "      <td>4204959014</td>\n",
       "      <td>4204959013</td>\n",
       "      <td>(0.2, 0.087)</td>\n",
       "      <td>NaN</td>\n",
       "      <td>(0.2, 0.087)</td>\n",
       "    </tr>\n",
       "  </tbody>\n",
       "</table>\n",
       "</div>"
      ],
      "text/plain": [
       "                 u            v                     wazeinfo_x wazeinfo_y  \\\n",
       "0        258066779  10985400003                  (0.05, 0.107)        NaN   \n",
       "150000   885687037    885687032                     (0.0, 0.0)        NaN   \n",
       "50000   3269219429   1826749957  (0.016666666666666666, 0.002)        NaN   \n",
       "1        258066779    258066780                  (0.45, 0.781)        NaN   \n",
       "100000  4204959014   4204959013                   (0.2, 0.087)        NaN   \n",
       "\n",
       "                             wazeinfo  \n",
       "0                       (0.05, 0.107)  \n",
       "150000                     (0.0, 0.0)  \n",
       "50000   (0.016666666666666666, 0.002)  \n",
       "1                       (0.45, 0.781)  \n",
       "100000                   (0.2, 0.087)  "
      ]
     },
     "execution_count": 366,
     "metadata": {},
     "output_type": "execute_result"
    }
   ],
   "source": [
    "import numpy as np\n",
    "df3 = df1.merge(df2['wazeinfo'], how='left', left_index=True, right_index=True)\n",
    "df3['wazeinfo'] = df3.apply(lambda x: x['wazeinfo_x'] if x['wazeinfo_y'] is np.nan else x['wazeinfo_y'], axis=1)\n",
    "df3.head()"
   ]
  },
  {
   "cell_type": "code",
   "execution_count": 367,
   "metadata": {},
   "outputs": [],
   "source": [
    "df3.drop(['wazeinfo_x', 'wazeinfo_y'], inplace=True, axis=1)"
   ]
  },
  {
   "cell_type": "code",
   "execution_count": 368,
   "metadata": {},
   "outputs": [
    {
     "data": {
      "text/plain": [
       "(395620, 3)"
      ]
     },
     "execution_count": 368,
     "metadata": {},
     "output_type": "execute_result"
    }
   ],
   "source": [
    "df3.shape"
   ]
  },
  {
   "cell_type": "code",
   "execution_count": 369,
   "metadata": {},
   "outputs": [
    {
     "data": {
      "text/plain": [
       "(395620, 375, 0.0009478792780951419)"
      ]
     },
     "execution_count": 369,
     "metadata": {},
     "output_type": "execute_result"
    }
   ],
   "source": [
    "a1 = df3.shape[0]\n",
    "a2 = df3[df3['wazeinfo'] == '(-1, -1)'].shape[0]\n",
    "a1, a2, a2/a1"
   ]
  },
  {
   "cell_type": "code",
   "execution_count": 370,
   "metadata": {},
   "outputs": [],
   "source": [
    "df3.to_csv('LimaEdgesWaze1400_Final.txt', sep=';', header=False)"
   ]
  },
  {
   "cell_type": "code",
   "execution_count": 259,
   "metadata": {},
   "outputs": [],
   "source": [
    "# pd.read_csv('LimaEdgesWaze0800_Final.txt', sep=';', index_col=0, names=['u','v','wazeinfo'])\n"
   ]
  },
  {
   "cell_type": "code",
   "execution_count": 257,
   "metadata": {},
   "outputs": [
    {
     "data": {
      "text/html": [
       "<div>\n",
       "<style scoped>\n",
       "    .dataframe tbody tr th:only-of-type {\n",
       "        vertical-align: middle;\n",
       "    }\n",
       "\n",
       "    .dataframe tbody tr th {\n",
       "        vertical-align: top;\n",
       "    }\n",
       "\n",
       "    .dataframe thead th {\n",
       "        text-align: right;\n",
       "    }\n",
       "</style>\n",
       "<table border=\"1\" class=\"dataframe\">\n",
       "  <thead>\n",
       "    <tr style=\"text-align: right;\">\n",
       "      <th></th>\n",
       "      <th>u</th>\n",
       "      <th>v</th>\n",
       "      <th>wazeinfo</th>\n",
       "    </tr>\n",
       "  </thead>\n",
       "  <tbody>\n",
       "    <tr>\n",
       "      <th>0</th>\n",
       "      <td>258066779</td>\n",
       "      <td>10985400003</td>\n",
       "      <td>(0.05, 0.107)</td>\n",
       "    </tr>\n",
       "    <tr>\n",
       "      <th>1</th>\n",
       "      <td>258066779</td>\n",
       "      <td>258066780</td>\n",
       "      <td>(0.45, 0.781)</td>\n",
       "    </tr>\n",
       "    <tr>\n",
       "      <th>80000</th>\n",
       "      <td>7002794918</td>\n",
       "      <td>5009805463</td>\n",
       "      <td>(0.43333333333333335, 0.123)</td>\n",
       "    </tr>\n",
       "    <tr>\n",
       "      <th>120000</th>\n",
       "      <td>429567564</td>\n",
       "      <td>429567573</td>\n",
       "      <td>(0.23333333333333334, 0.052)</td>\n",
       "    </tr>\n",
       "    <tr>\n",
       "      <th>2</th>\n",
       "      <td>258066780</td>\n",
       "      <td>258066781</td>\n",
       "      <td>(0.03333333333333333, 0.063)</td>\n",
       "    </tr>\n",
       "  </tbody>\n",
       "</table>\n",
       "</div>"
      ],
      "text/plain": [
       "                 u            v                      wazeinfo\n",
       "0        258066779  10985400003                 (0.05, 0.107)\n",
       "1        258066779    258066780                 (0.45, 0.781)\n",
       "80000   7002794918   5009805463  (0.43333333333333335, 0.123)\n",
       "120000   429567564    429567573  (0.23333333333333334, 0.052)\n",
       "2        258066780    258066781  (0.03333333333333333, 0.063)"
      ]
     },
     "execution_count": 257,
     "metadata": {},
     "output_type": "execute_result"
    }
   ],
   "source": [
    "df3.head()"
   ]
  },
  {
   "cell_type": "code",
   "execution_count": null,
   "metadata": {},
   "outputs": [],
   "source": []
  },
  {
   "cell_type": "code",
   "execution_count": 186,
   "metadata": {
    "scrolled": true
   },
   "outputs": [
    {
     "data": {
      "text/plain": [
       "<AxesSubplot:xlabel='wazeinfo_km', ylabel='Count'>"
      ]
     },
     "execution_count": 186,
     "metadata": {},
     "output_type": "execute_result"
    },
    {
     "data": {
      "image/png": "[encoded data removed]",
      "text/plain": [
       "<Figure size 432x288 with 1 Axes>"
      ]
     },
     "metadata": {
      "needs_background": "light"
     },
     "output_type": "display_data"
    }
   ],
   "source": [
    "results['wazeinfo_minutes'] = results.apply(lambda x: x['wazeinfo'].replace('(','').replace(')','').split(',')[0], axis=1)\n",
    "results['wazeinfo_km'] = results.apply(lambda x: x['wazeinfo'].replace('(','').replace(')','').split(',')[1], axis=1)\n",
    "results[['wazeinfo_minutes', 'wazeinfo_km']] = results[['wazeinfo_minutes', 'wazeinfo_km']].astype(float)\n",
    "# results\n",
    "\n",
    "sns.histplot(results, x='wazeinfo_km', stat='count', cumulative=True)"
   ]
  },
  {
   "cell_type": "code",
   "execution_count": 188,
   "metadata": {},
   "outputs": [],
   "source": [
    "# results[results['wazeinfo_km']<0].shape"
   ]
  },
  {
   "cell_type": "code",
   "execution_count": 147,
   "metadata": {},
   "outputs": [
    {
     "data": {
      "text/plain": [
       "<AxesSubplot:xlabel='wazeinfo_km', ylabel='Count'>"
      ]
     },
     "execution_count": 147,
     "metadata": {},
     "output_type": "execute_result"
    },
    {
     "data": {
      "image/png": "[encoded data removed]",
      "text/plain": [
       "<Figure size 432x288 with 1 Axes>"
      ]
     },
     "metadata": {
      "needs_background": "light"
     },
     "output_type": "display_data"
    }
   ],
   "source": [
    "sns.histplot(results[results['wazeinfo_km']>0], x='wazeinfo_km', stat='count', log_scale=True)"
   ]
  },
  {
   "cell_type": "code",
   "execution_count": null,
   "metadata": {},
   "outputs": [],
   "source": []
  }
 ],
 "metadata": {
  "kernelspec": {
   "display_name": "Python 3",
   "language": "python",
   "name": "python3"
  },
  "language_info": {
   "codemirror_mode": {
    "name": "ipython",
    "version": 3
   },
   "file_extension": ".py",
   "mimetype": "text/x-python",
   "name": "python",
   "nbconvert_exporter": "python",
   "pygments_lexer": "ipython3",
   "version": "3.6.9"
  }
 },
 "nbformat": 4,
 "nbformat_minor": 4
}
