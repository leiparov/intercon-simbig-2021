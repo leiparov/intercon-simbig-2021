{
 "cells": [
  {
   "cell_type": "code",
   "execution_count": 37,
   "metadata": {},
   "outputs": [],
   "source": [
    "import pandas as pd\n",
    "import seaborn as sns"
   ]
  },
  {
   "cell_type": "code",
   "execution_count": 105,
   "metadata": {
    "scrolled": true
   },
   "outputs": [
    {
     "name": "stdout",
     "output_type": "stream",
     "text": [
      "(461, 3)\n"
     ]
    },
    {
     "data": {
      "text/plain": [
       "<AxesSubplot:xlabel='wazeinfo_km', ylabel='Count'>"
      ]
     },
     "execution_count": 105,
     "metadata": {},
     "output_type": "execute_result"
    },
    {
     "data": {
      "image/png": "[encoded data removed]",
      "text/plain": [
       "<Figure size 432x288 with 1 Axes>"
      ]
     },
     "metadata": {
      "needs_background": "light"
     },
     "output_type": "display_data"
    }
   ],
   "source": [
    "results = pd.read_csv('RutasLimaWaze.txt', sep=';', index_col=0,names=['u','v','wazeinfo'])\n",
    "print(results.shape)\n",
    "results['wazeinfo_minutes'] = results.apply(lambda x: x['wazeinfo'].replace('(','').replace(')','').split(',')[0], axis=1)\n",
    "results['wazeinfo_km'] = results.apply(lambda x: x['wazeinfo'].replace('(','').replace(')','').split(',')[1], axis=1)\n",
    "results[['wazeinfo_minutes', 'wazeinfo_km']] = results[['wazeinfo_minutes', 'wazeinfo_km']].astype(float)\n",
    "# results\n",
    "\n",
    "sns.histplot(results, x='wazeinfo_km', stat='count', cumulative=True)"
   ]
  },
  {
   "cell_type": "code",
   "execution_count": 73,
   "metadata": {},
   "outputs": [
    {
     "name": "stdout",
     "output_type": "stream",
     "text": [
      "(447780, 4)\n"
     ]
    }
   ],
   "source": [
    "results = pd.read_csv('RutasLimaWaze.txt', sep=';', \n",
    "#                       names=['u','v','wazeinfo']\n",
    "                     )\n",
    "results.columns = ['index1', 'u', 'v', 'wazeinfo']\n",
    "print(results.shape)"
   ]
  },
  {
   "cell_type": "code",
   "execution_count": 66,
   "metadata": {},
   "outputs": [
    {
     "data": {
      "text/html": [
       "<div>\n",
       "<style scoped>\n",
       "    .dataframe tbody tr th:only-of-type {\n",
       "        vertical-align: middle;\n",
       "    }\n",
       "\n",
       "    .dataframe tbody tr th {\n",
       "        vertical-align: top;\n",
       "    }\n",
       "\n",
       "    .dataframe thead th {\n",
       "        text-align: right;\n",
       "    }\n",
       "</style>\n",
       "<table border=\"1\" class=\"dataframe\">\n",
       "  <thead>\n",
       "    <tr style=\"text-align: right;\">\n",
       "      <th></th>\n",
       "      <th>index1</th>\n",
       "      <th>u</th>\n",
       "      <th>v</th>\n",
       "      <th>wazeinfo</th>\n",
       "    </tr>\n",
       "  </thead>\n",
       "  <tbody>\n",
       "    <tr>\n",
       "      <th>0</th>\n",
       "      <td>0</td>\n",
       "      <td>258066779</td>\n",
       "      <td>10985400003</td>\n",
       "      <td>(-1, -1)</td>\n",
       "    </tr>\n",
       "    <tr>\n",
       "      <th>1</th>\n",
       "      <td>1</td>\n",
       "      <td>258066779</td>\n",
       "      <td>258066780</td>\n",
       "      <td>(-1, -1)</td>\n",
       "    </tr>\n",
       "    <tr>\n",
       "      <th>2</th>\n",
       "      <td>2</td>\n",
       "      <td>258066780</td>\n",
       "      <td>258066781</td>\n",
       "      <td>(0.03333333333333333, 0.063)</td>\n",
       "    </tr>\n",
       "    <tr>\n",
       "      <th>3</th>\n",
       "      <td>3</td>\n",
       "      <td>258066781</td>\n",
       "      <td>258066783</td>\n",
       "      <td>(1.75, 0.612)</td>\n",
       "    </tr>\n",
       "    <tr>\n",
       "      <th>4</th>\n",
       "      <td>4</td>\n",
       "      <td>258066781</td>\n",
       "      <td>495302399</td>\n",
       "      <td>(0.1, 0.091)</td>\n",
       "    </tr>\n",
       "    <tr>\n",
       "      <th>...</th>\n",
       "      <td>...</td>\n",
       "      <td>...</td>\n",
       "      <td>...</td>\n",
       "      <td>...</td>\n",
       "    </tr>\n",
       "    <tr>\n",
       "      <th>447775</th>\n",
       "      <td>151887</td>\n",
       "      <td>915282499</td>\n",
       "      <td>915282236</td>\n",
       "      <td>(0.7, 0.034)</td>\n",
       "    </tr>\n",
       "    <tr>\n",
       "      <th>447776</th>\n",
       "      <td>151891</td>\n",
       "      <td>915282517</td>\n",
       "      <td>915282405</td>\n",
       "      <td>(0.43333333333333335, 0.144)</td>\n",
       "    </tr>\n",
       "    <tr>\n",
       "      <th>447777</th>\n",
       "      <td>151892</td>\n",
       "      <td>915282517</td>\n",
       "      <td>915282699</td>\n",
       "      <td>(0.0, 0.002)</td>\n",
       "    </tr>\n",
       "    <tr>\n",
       "      <th>447778</th>\n",
       "      <td>151900</td>\n",
       "      <td>915282526</td>\n",
       "      <td>912507961</td>\n",
       "      <td>(0.0, 0.0)</td>\n",
       "    </tr>\n",
       "    <tr>\n",
       "      <th>447779</th>\n",
       "      <td>151903</td>\n",
       "      <td>915282529</td>\n",
       "      <td>915282453</td>\n",
       "      <td>(0.0, 0.001)</td>\n",
       "    </tr>\n",
       "  </tbody>\n",
       "</table>\n",
       "<p>447780 rows × 4 columns</p>\n",
       "</div>"
      ],
      "text/plain": [
       "        index1          u            v                      wazeinfo\n",
       "0            0  258066779  10985400003                      (-1, -1)\n",
       "1            1  258066779    258066780                      (-1, -1)\n",
       "2            2  258066780    258066781  (0.03333333333333333, 0.063)\n",
       "3            3  258066781    258066783                 (1.75, 0.612)\n",
       "4            4  258066781    495302399                  (0.1, 0.091)\n",
       "...        ...        ...          ...                           ...\n",
       "447775  151887  915282499    915282236                  (0.7, 0.034)\n",
       "447776  151891  915282517    915282405  (0.43333333333333335, 0.144)\n",
       "447777  151892  915282517    915282699                  (0.0, 0.002)\n",
       "447778  151900  915282526    912507961                    (0.0, 0.0)\n",
       "447779  151903  915282529    915282453                  (0.0, 0.001)\n",
       "\n",
       "[447780 rows x 4 columns]"
      ]
     },
     "execution_count": 66,
     "metadata": {},
     "output_type": "execute_result"
    }
   ],
   "source": [
    "results"
   ]
  },
  {
   "cell_type": "code",
   "execution_count": 74,
   "metadata": {},
   "outputs": [],
   "source": [
    "cols = ['index1', 'u', 'v', 'wazeinfo']\n",
    "results.reset_index().query(\"index != index1\")[cols].to_csv(\"RutasLimaWaze_recupero.txt\", sep=';', \n",
    "                                                           index=False,\n",
    "                                                           )"
   ]
  },
  {
   "cell_type": "code",
   "execution_count": 25,
   "metadata": {},
   "outputs": [
    {
     "data": {
      "text/plain": [
       "<AxesSubplot:xlabel='wazeinfo_minutes', ylabel='Count'>"
      ]
     },
     "execution_count": 25,
     "metadata": {},
     "output_type": "execute_result"
    },
    {
     "data": {
      "image/png": "[encoded data removed]",
      "text/plain": [
       "<Figure size 432x288 with 1 Axes>"
      ]
     },
     "metadata": {
      "needs_background": "light"
     },
     "output_type": "display_data"
    }
   ],
   "source": [
    "sns.histplot(results, x='wazeinfo_minutes', stat='count', )"
   ]
  },
  {
   "cell_type": "code",
   "execution_count": 26,
   "metadata": {},
   "outputs": [
    {
     "data": {
      "text/html": [
       "<div>\n",
       "<style scoped>\n",
       "    .dataframe tbody tr th:only-of-type {\n",
       "        vertical-align: middle;\n",
       "    }\n",
       "\n",
       "    .dataframe tbody tr th {\n",
       "        vertical-align: top;\n",
       "    }\n",
       "\n",
       "    .dataframe thead th {\n",
       "        text-align: right;\n",
       "    }\n",
       "</style>\n",
       "<table border=\"1\" class=\"dataframe\">\n",
       "  <thead>\n",
       "    <tr style=\"text-align: right;\">\n",
       "      <th></th>\n",
       "      <th>u</th>\n",
       "      <th>v</th>\n",
       "      <th>wazeinfo</th>\n",
       "      <th>wazeinfo_minutes</th>\n",
       "      <th>wazeinfo_km</th>\n",
       "    </tr>\n",
       "  </thead>\n",
       "  <tbody>\n",
       "    <tr>\n",
       "      <th>350000</th>\n",
       "      <td>3107394586</td>\n",
       "      <td>3107394545</td>\n",
       "      <td>(0.0, 0.002)</td>\n",
       "      <td>0.000000</td>\n",
       "      <td>0.002</td>\n",
       "    </tr>\n",
       "    <tr>\n",
       "      <th>0</th>\n",
       "      <td>258066779</td>\n",
       "      <td>10985400003</td>\n",
       "      <td>(-1, -1)</td>\n",
       "      <td>-1.000000</td>\n",
       "      <td>-1.000</td>\n",
       "    </tr>\n",
       "    <tr>\n",
       "      <th>350001</th>\n",
       "      <td>3107394586</td>\n",
       "      <td>3107394618</td>\n",
       "      <td>(1.0333333333333334, 0.252)</td>\n",
       "      <td>1.033333</td>\n",
       "      <td>0.252</td>\n",
       "    </tr>\n",
       "    <tr>\n",
       "      <th>1</th>\n",
       "      <td>258066779</td>\n",
       "      <td>258066780</td>\n",
       "      <td>(-1, -1)</td>\n",
       "      <td>-1.000000</td>\n",
       "      <td>-1.000</td>\n",
       "    </tr>\n",
       "    <tr>\n",
       "      <th>350002</th>\n",
       "      <td>3107394597</td>\n",
       "      <td>3107394602</td>\n",
       "      <td>(0.05, 0.035)</td>\n",
       "      <td>0.050000</td>\n",
       "      <td>0.035</td>\n",
       "    </tr>\n",
       "  </tbody>\n",
       "</table>\n",
       "</div>"
      ],
      "text/plain": [
       "                 u            v                     wazeinfo  \\\n",
       "350000  3107394586   3107394545                 (0.0, 0.002)   \n",
       "0        258066779  10985400003                     (-1, -1)   \n",
       "350001  3107394586   3107394618  (1.0333333333333334, 0.252)   \n",
       "1        258066779    258066780                     (-1, -1)   \n",
       "350002  3107394597   3107394602                (0.05, 0.035)   \n",
       "\n",
       "        wazeinfo_minutes  wazeinfo_km  \n",
       "350000          0.000000        0.002  \n",
       "0              -1.000000       -1.000  \n",
       "350001          1.033333        0.252  \n",
       "1              -1.000000       -1.000  \n",
       "350002          0.050000        0.035  "
      ]
     },
     "execution_count": 26,
     "metadata": {},
     "output_type": "execute_result"
    }
   ],
   "source": [
    "results.head()"
   ]
  },
  {
   "cell_type": "code",
   "execution_count": 30,
   "metadata": {},
   "outputs": [
    {
     "data": {
      "image/png": "[encoded data removed]",
      "text/plain": [
       "<Figure size 432x288 with 1 Axes>"
      ]
     },
     "metadata": {
      "needs_background": "light"
     },
     "output_type": "display_data"
    }
   ],
   "source": [
    "ax = results['wazeinfo_km'].hist()\n",
    "ax.set_xscale('log')"
   ]
  },
  {
   "cell_type": "code",
   "execution_count": 32,
   "metadata": {},
   "outputs": [
    {
     "data": {
      "text/plain": [
       "-1.000     33001\n",
       " 0.000     30897\n",
       " 0.001     13693\n",
       " 0.002     10807\n",
       " 0.003      7727\n",
       "           ...  \n",
       " 1.153         1\n",
       " 1.220         1\n",
       " 1.207         1\n",
       " 4.414         1\n",
       " 10.648        1\n",
       "Name: wazeinfo_km, Length: 2263, dtype: int64"
      ]
     },
     "execution_count": 32,
     "metadata": {},
     "output_type": "execute_result"
    }
   ],
   "source": [
    "results['wazeinfo_km'].value_counts()"
   ]
  },
  {
   "cell_type": "code",
   "execution_count": 35,
   "metadata": {},
   "outputs": [
    {
     "name": "stdout",
     "output_type": "stream",
     "text": [
      "cache\t\t\t      RutasLima.ipynb\t   RutasLimaWaze.txt\r\n",
      "RutasLima_20230801001735.log  RutasLimaTemp.ipynb\r\n"
     ]
    }
   ],
   "source": [
    "!ls"
   ]
  },
  {
   "cell_type": "code",
   "execution_count": null,
   "metadata": {},
   "outputs": [],
   "source": []
  }
 ],
 "metadata": {
  "kernelspec": {
   "display_name": "Python 3",
   "language": "python",
   "name": "python3"
  },
  "language_info": {
   "codemirror_mode": {
    "name": "ipython",
    "version": 3
   },
   "file_extension": ".py",
   "mimetype": "text/x-python",
   "name": "python",
   "nbconvert_exporter": "python",
   "pygments_lexer": "ipython3",
   "version": "3.6.9"
  }
 },
 "nbformat": 4,
 "nbformat_minor": 4
}
