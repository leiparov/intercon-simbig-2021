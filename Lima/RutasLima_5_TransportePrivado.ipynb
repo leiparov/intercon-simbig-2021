{
 "cells": [
  {
   "cell_type": "code",
   "execution_count": 9,
   "metadata": {},
   "outputs": [],
   "source": [
    "import pandas as pd\n",
    "import seaborn as sns\n",
    "import matplotlib.pyplot as plt\n",
    "from shapely import wkt\n",
    "\n",
    "import geopandas as gpd\n",
    "import pandas as pd\n",
    "from shapely import wkt\n",
    "import json\n",
    "import pandas as pd\n",
    "import osmnx as ox\n",
    "import matplotlib.pyplot as plt\n",
    "import osmnx as ox\n",
    "import networkx as nx\n",
    "import GOSTnets as gn\n",
    "import logging\n",
    "import datetime\n",
    "\n",
    "import itertools\n",
    "from multiprocessing import Pool, cpu_count\n",
    "import multiprocessing"
   ]
  },
  {
   "cell_type": "code",
   "execution_count": 10,
   "metadata": {},
   "outputs": [],
   "source": [
    "##Logger\n",
    "logging.root.handlers.clear()\n",
    "logging.root.handlers\n",
    "\n",
    "# timestamp = datetime.datetime.now().strftime(\"%Y%m%d%H%M%S\")\n",
    "# log_filename = f\"logs/CuscoEdgesWaze1400_{timestamp}.log\"\n",
    "\n",
    "# logging.basicConfig(\n",
    "#     level=logging.INFO,\n",
    "#     datefmt='%Y-%m-%d %H:%M:%S',\n",
    "# )\n",
    "\n",
    "logger = logging.getLogger()\n",
    "logger.setLevel(logging.INFO)\n",
    "\n",
    "logFormatter = logging.Formatter('%(asctime)s :: %(levelname)s :: %(name)s :: %(process)d :: %(message)s')\n",
    "\n",
    "# fileHandler = logging.FileHandler(log_filename)\n",
    "# fileHandler.setFormatter(logFormatter)\n",
    "# logger.addHandler(fileHandler)\n",
    "\n",
    "streamHandler = logging.StreamHandler()\n",
    "streamHandler.setFormatter(logFormatter)\n",
    "logger.addHandler(streamHandler)\n",
    "##Logger"
   ]
  },
  {
   "cell_type": "code",
   "execution_count": 11,
   "metadata": {},
   "outputs": [
    {
     "data": {
      "text/html": [
       "<div>\n",
       "<style scoped>\n",
       "    .dataframe tbody tr th:only-of-type {\n",
       "        vertical-align: middle;\n",
       "    }\n",
       "\n",
       "    .dataframe tbody tr th {\n",
       "        vertical-align: top;\n",
       "    }\n",
       "\n",
       "    .dataframe thead th {\n",
       "        text-align: right;\n",
       "    }\n",
       "</style>\n",
       "<table border=\"1\" class=\"dataframe\">\n",
       "  <thead>\n",
       "    <tr style=\"text-align: right;\">\n",
       "      <th></th>\n",
       "      <th>iddpto</th>\n",
       "      <th>departamen</th>\n",
       "      <th>idprov</th>\n",
       "      <th>provincia</th>\n",
       "      <th>iddist</th>\n",
       "      <th>distrito</th>\n",
       "      <th>capital</th>\n",
       "      <th>codccpp</th>\n",
       "      <th>area</th>\n",
       "      <th>fuente</th>\n",
       "      <th>geometry</th>\n",
       "      <th>LimaCallao</th>\n",
       "      <th>distrito2</th>\n",
       "    </tr>\n",
       "  </thead>\n",
       "  <tbody>\n",
       "    <tr>\n",
       "      <th>0</th>\n",
       "      <td>7</td>\n",
       "      <td>CALLAO</td>\n",
       "      <td>701</td>\n",
       "      <td>CALLAO</td>\n",
       "      <td>70105</td>\n",
       "      <td>LA PUNTA</td>\n",
       "      <td>LA PUNTA</td>\n",
       "      <td>1</td>\n",
       "      <td>1</td>\n",
       "      <td>INEI</td>\n",
       "      <td>POLYGON ((-77.15884 -12.06645, -77.15874 -12.0...</td>\n",
       "      <td>True</td>\n",
       "      <td>LA_PUNTA</td>\n",
       "    </tr>\n",
       "    <tr>\n",
       "      <th>1</th>\n",
       "      <td>7</td>\n",
       "      <td>CALLAO</td>\n",
       "      <td>701</td>\n",
       "      <td>CALLAO</td>\n",
       "      <td>70104</td>\n",
       "      <td>LA PERLA</td>\n",
       "      <td>LA PERLA</td>\n",
       "      <td>1</td>\n",
       "      <td>1</td>\n",
       "      <td>INEI</td>\n",
       "      <td>POLYGON ((-77.10444 -12.07020, -77.10486 -12.0...</td>\n",
       "      <td>True</td>\n",
       "      <td>LA_PERLA</td>\n",
       "    </tr>\n",
       "    <tr>\n",
       "      <th>2</th>\n",
       "      <td>7</td>\n",
       "      <td>CALLAO</td>\n",
       "      <td>701</td>\n",
       "      <td>CALLAO</td>\n",
       "      <td>70102</td>\n",
       "      <td>BELLAVISTA</td>\n",
       "      <td>BELLAVISTA</td>\n",
       "      <td>1</td>\n",
       "      <td>1</td>\n",
       "      <td>INEI</td>\n",
       "      <td>POLYGON ((-77.10086 -12.06307, -77.10317 -12.0...</td>\n",
       "      <td>True</td>\n",
       "      <td>BELLAVISTA</td>\n",
       "    </tr>\n",
       "    <tr>\n",
       "      <th>3</th>\n",
       "      <td>7</td>\n",
       "      <td>CALLAO</td>\n",
       "      <td>701</td>\n",
       "      <td>CALLAO</td>\n",
       "      <td>70103</td>\n",
       "      <td>CARMEN DE LA LEGUA REYNOSO</td>\n",
       "      <td>CARMEN DE LA LEGUA REYNOSO</td>\n",
       "      <td>1</td>\n",
       "      <td>1</td>\n",
       "      <td>INEI</td>\n",
       "      <td>POLYGON ((-77.08317 -12.03925, -77.08263 -12.0...</td>\n",
       "      <td>True</td>\n",
       "      <td>CARMEN_DE_LA_LEGUA_REYNOSO</td>\n",
       "    </tr>\n",
       "    <tr>\n",
       "      <th>4</th>\n",
       "      <td>7</td>\n",
       "      <td>CALLAO</td>\n",
       "      <td>701</td>\n",
       "      <td>CALLAO</td>\n",
       "      <td>70101</td>\n",
       "      <td>CALLAO</td>\n",
       "      <td>CALLAO</td>\n",
       "      <td>1</td>\n",
       "      <td>1</td>\n",
       "      <td>INEI</td>\n",
       "      <td>POLYGON ((-77.11219 -11.97352, -77.11203 -11.9...</td>\n",
       "      <td>True</td>\n",
       "      <td>CALLAO</td>\n",
       "    </tr>\n",
       "  </tbody>\n",
       "</table>\n",
       "</div>"
      ],
      "text/plain": [
       "   iddpto departamen  idprov provincia  iddist                    distrito  \\\n",
       "0       7     CALLAO     701    CALLAO   70105                    LA PUNTA   \n",
       "1       7     CALLAO     701    CALLAO   70104                    LA PERLA   \n",
       "2       7     CALLAO     701    CALLAO   70102                  BELLAVISTA   \n",
       "3       7     CALLAO     701    CALLAO   70103  CARMEN DE LA LEGUA REYNOSO   \n",
       "4       7     CALLAO     701    CALLAO   70101                      CALLAO   \n",
       "\n",
       "                      capital  codccpp  area fuente  \\\n",
       "0                    LA PUNTA        1     1   INEI   \n",
       "1                    LA PERLA        1     1   INEI   \n",
       "2                  BELLAVISTA        1     1   INEI   \n",
       "3  CARMEN DE LA LEGUA REYNOSO        1     1   INEI   \n",
       "4                      CALLAO        1     1   INEI   \n",
       "\n",
       "                                            geometry  LimaCallao  \\\n",
       "0  POLYGON ((-77.15884 -12.06645, -77.15874 -12.0...        True   \n",
       "1  POLYGON ((-77.10444 -12.07020, -77.10486 -12.0...        True   \n",
       "2  POLYGON ((-77.10086 -12.06307, -77.10317 -12.0...        True   \n",
       "3  POLYGON ((-77.08317 -12.03925, -77.08263 -12.0...        True   \n",
       "4  POLYGON ((-77.11219 -11.97352, -77.11203 -11.9...        True   \n",
       "\n",
       "                    distrito2  \n",
       "0                    LA_PUNTA  \n",
       "1                    LA_PERLA  \n",
       "2                  BELLAVISTA  \n",
       "3  CARMEN_DE_LA_LEGUA_REYNOSO  \n",
       "4                      CALLAO  "
      ]
     },
     "execution_count": 11,
     "metadata": {},
     "output_type": "execute_result"
    }
   ],
   "source": [
    "mapaLimaCallao = pd.read_csv('../SimBig22/rutas/MapaLimaCallao.csv')\n",
    "mapaLimaCallao['geometry'] = mapaLimaCallao['geometry'].apply(wkt.loads)\n",
    "mapaLimaCallao = gpd.GeoDataFrame(mapaLimaCallao, crs='epsg:4326')\n",
    "mapaLimaCallao['distrito2'] = mapaLimaCallao.apply(lambda x: x['distrito'].replace(' ','_'), axis=1)\n",
    "mapaLimaCallao.head()"
   ]
  },
  {
   "cell_type": "code",
   "execution_count": 12,
   "metadata": {},
   "outputs": [
    {
     "name": "stderr",
     "output_type": "stream",
     "text": [
      "/home/leibnitz.rojas/.local/lib/python3.6/site-packages/IPython/core/interactiveshell.py:3072: DtypeWarning: Columns (5,7,13,14,15,17) have mixed types.Specify dtype option on import or set low_memory=False.\n",
      "  interactivity=interactivity, compiler=compiler, result=result)\n"
     ]
    }
   ],
   "source": [
    "lima_nodes = pd.read_csv(\"data/GrafoLima_nodes.csv\", index_col=[0])\n",
    "lima_nodes['geometry'] = lima_nodes['geometry'].apply(wkt.loads)\n",
    "lima_nodes = gpd.GeoDataFrame(lima_nodes, crs='epsg:4326')\n",
    "\n",
    "lima_edges = pd.read_csv(\"data/GrafoLima_edgeswaze.csv\", index_col=[0,1,2])\n",
    "lima_edges['geometry'] = lima_edges['geometry'].apply(wkt.loads)\n",
    "lima_edges = gpd.GeoDataFrame(lima_edges, crs='epsg:4326')"
   ]
  },
  {
   "cell_type": "code",
   "execution_count": 13,
   "metadata": {},
   "outputs": [
    {
     "data": {
      "text/html": [
       "<div>\n",
       "<style scoped>\n",
       "    .dataframe tbody tr th:only-of-type {\n",
       "        vertical-align: middle;\n",
       "    }\n",
       "\n",
       "    .dataframe tbody tr th {\n",
       "        vertical-align: top;\n",
       "    }\n",
       "\n",
       "    .dataframe thead th {\n",
       "        text-align: right;\n",
       "    }\n",
       "</style>\n",
       "<table border=\"1\" class=\"dataframe\">\n",
       "  <thead>\n",
       "    <tr style=\"text-align: right;\">\n",
       "      <th></th>\n",
       "      <th></th>\n",
       "      <th></th>\n",
       "      <th>osmid</th>\n",
       "      <th>oneway</th>\n",
       "      <th>lanes</th>\n",
       "      <th>highway</th>\n",
       "      <th>maxspeed</th>\n",
       "      <th>length</th>\n",
       "      <th>geometry</th>\n",
       "      <th>ref</th>\n",
       "      <th>name</th>\n",
       "      <th>bridge</th>\n",
       "      <th>...</th>\n",
       "      <th>access</th>\n",
       "      <th>tunnel</th>\n",
       "      <th>width</th>\n",
       "      <th>service</th>\n",
       "      <th>wazeinfo0800</th>\n",
       "      <th>wazeinfo1400</th>\n",
       "      <th>wazeinfo0800_minutes</th>\n",
       "      <th>wazeinfo0800_km</th>\n",
       "      <th>wazeinfo1400_minutes</th>\n",
       "      <th>wazeinfo1400_km</th>\n",
       "    </tr>\n",
       "    <tr>\n",
       "      <th>u</th>\n",
       "      <th>v</th>\n",
       "      <th>key</th>\n",
       "      <th></th>\n",
       "      <th></th>\n",
       "      <th></th>\n",
       "      <th></th>\n",
       "      <th></th>\n",
       "      <th></th>\n",
       "      <th></th>\n",
       "      <th></th>\n",
       "      <th></th>\n",
       "      <th></th>\n",
       "      <th></th>\n",
       "      <th></th>\n",
       "      <th></th>\n",
       "      <th></th>\n",
       "      <th></th>\n",
       "      <th></th>\n",
       "      <th></th>\n",
       "      <th></th>\n",
       "      <th></th>\n",
       "      <th></th>\n",
       "      <th></th>\n",
       "    </tr>\n",
       "  </thead>\n",
       "  <tbody>\n",
       "    <tr>\n",
       "      <th rowspan=\"2\" valign=\"top\">258066779</th>\n",
       "      <th>10985400003</th>\n",
       "      <th>0</th>\n",
       "      <td>39457621</td>\n",
       "      <td>True</td>\n",
       "      <td>1</td>\n",
       "      <td>motorway_link</td>\n",
       "      <td>80</td>\n",
       "      <td>109.492</td>\n",
       "      <td>LINESTRING (-76.78468 -12.37136, -76.78466 -12...</td>\n",
       "      <td>NaN</td>\n",
       "      <td>NaN</td>\n",
       "      <td>NaN</td>\n",
       "      <td>...</td>\n",
       "      <td>NaN</td>\n",
       "      <td>NaN</td>\n",
       "      <td>NaN</td>\n",
       "      <td>NaN</td>\n",
       "      <td>(0.05, 0.107)</td>\n",
       "      <td>(0.05, 0.107)</td>\n",
       "      <td>0.050000</td>\n",
       "      <td>0.107</td>\n",
       "      <td>0.050000</td>\n",
       "      <td>0.107</td>\n",
       "    </tr>\n",
       "    <tr>\n",
       "      <th>258066780</th>\n",
       "      <th>0</th>\n",
       "      <td>[1046533254, 338193454, 143630423]</td>\n",
       "      <td>True</td>\n",
       "      <td>2</td>\n",
       "      <td>motorway</td>\n",
       "      <td>100</td>\n",
       "      <td>782.922</td>\n",
       "      <td>LINESTRING (-76.78468 -12.37136, -76.78433 -12...</td>\n",
       "      <td>PE-1S</td>\n",
       "      <td>Carretera Panamericana Sur</td>\n",
       "      <td>yes</td>\n",
       "      <td>...</td>\n",
       "      <td>NaN</td>\n",
       "      <td>NaN</td>\n",
       "      <td>NaN</td>\n",
       "      <td>NaN</td>\n",
       "      <td>(0.45, 0.781)</td>\n",
       "      <td>(0.45, 0.781)</td>\n",
       "      <td>0.450000</td>\n",
       "      <td>0.781</td>\n",
       "      <td>0.450000</td>\n",
       "      <td>0.781</td>\n",
       "    </tr>\n",
       "    <tr>\n",
       "      <th>258066780</th>\n",
       "      <th>258066781</th>\n",
       "      <th>0</th>\n",
       "      <td>143630430</td>\n",
       "      <td>True</td>\n",
       "      <td>2</td>\n",
       "      <td>trunk</td>\n",
       "      <td>100</td>\n",
       "      <td>1301.315</td>\n",
       "      <td>LINESTRING (-76.77956 -12.37632, -76.77670 -12...</td>\n",
       "      <td>PE-1S</td>\n",
       "      <td>Carretera Panamericana Sur</td>\n",
       "      <td>NaN</td>\n",
       "      <td>...</td>\n",
       "      <td>NaN</td>\n",
       "      <td>NaN</td>\n",
       "      <td>NaN</td>\n",
       "      <td>NaN</td>\n",
       "      <td>(0.03333333333333333, 0.063)</td>\n",
       "      <td>(0.03333333333333333, 0.063)</td>\n",
       "      <td>0.033333</td>\n",
       "      <td>0.063</td>\n",
       "      <td>0.033333</td>\n",
       "      <td>0.063</td>\n",
       "    </tr>\n",
       "    <tr>\n",
       "      <th rowspan=\"2\" valign=\"top\">258066781</th>\n",
       "      <th>258066783</th>\n",
       "      <th>0</th>\n",
       "      <td>143630430</td>\n",
       "      <td>True</td>\n",
       "      <td>2</td>\n",
       "      <td>trunk</td>\n",
       "      <td>100</td>\n",
       "      <td>194.871</td>\n",
       "      <td>LINESTRING (-76.77105 -12.38455, -76.76977 -12...</td>\n",
       "      <td>PE-1S</td>\n",
       "      <td>Carretera Panamericana Sur</td>\n",
       "      <td>NaN</td>\n",
       "      <td>...</td>\n",
       "      <td>NaN</td>\n",
       "      <td>NaN</td>\n",
       "      <td>NaN</td>\n",
       "      <td>NaN</td>\n",
       "      <td>(1.6666666666666667, 0.612)</td>\n",
       "      <td>(1.7166666666666666, 0.612)</td>\n",
       "      <td>1.666667</td>\n",
       "      <td>0.612</td>\n",
       "      <td>1.716667</td>\n",
       "      <td>0.612</td>\n",
       "    </tr>\n",
       "    <tr>\n",
       "      <th>495302399</th>\n",
       "      <th>0</th>\n",
       "      <td>40752940</td>\n",
       "      <td>True</td>\n",
       "      <td>1</td>\n",
       "      <td>trunk_link</td>\n",
       "      <td>NaN</td>\n",
       "      <td>85.154</td>\n",
       "      <td>LINESTRING (-76.77105 -12.38455, -76.77099 -12...</td>\n",
       "      <td>NaN</td>\n",
       "      <td>NaN</td>\n",
       "      <td>NaN</td>\n",
       "      <td>...</td>\n",
       "      <td>NaN</td>\n",
       "      <td>NaN</td>\n",
       "      <td>NaN</td>\n",
       "      <td>NaN</td>\n",
       "      <td>(0.1, 0.091)</td>\n",
       "      <td>(0.1, 0.091)</td>\n",
       "      <td>0.100000</td>\n",
       "      <td>0.091</td>\n",
       "      <td>0.100000</td>\n",
       "      <td>0.091</td>\n",
       "    </tr>\n",
       "  </tbody>\n",
       "</table>\n",
       "<p>5 rows × 21 columns</p>\n",
       "</div>"
      ],
      "text/plain": [
       "                                                        osmid  oneway lanes  \\\n",
       "u         v           key                                                     \n",
       "258066779 10985400003 0                              39457621    True     1   \n",
       "          258066780   0    [1046533254, 338193454, 143630423]    True     2   \n",
       "258066780 258066781   0                             143630430    True     2   \n",
       "258066781 258066783   0                             143630430    True     2   \n",
       "          495302399   0                              40752940    True     1   \n",
       "\n",
       "                                 highway maxspeed    length  \\\n",
       "u         v           key                                     \n",
       "258066779 10985400003 0    motorway_link       80   109.492   \n",
       "          258066780   0         motorway      100   782.922   \n",
       "258066780 258066781   0            trunk      100  1301.315   \n",
       "258066781 258066783   0            trunk      100   194.871   \n",
       "          495302399   0       trunk_link      NaN    85.154   \n",
       "\n",
       "                                                                    geometry  \\\n",
       "u         v           key                                                      \n",
       "258066779 10985400003 0    LINESTRING (-76.78468 -12.37136, -76.78466 -12...   \n",
       "          258066780   0    LINESTRING (-76.78468 -12.37136, -76.78433 -12...   \n",
       "258066780 258066781   0    LINESTRING (-76.77956 -12.37632, -76.77670 -12...   \n",
       "258066781 258066783   0    LINESTRING (-76.77105 -12.38455, -76.76977 -12...   \n",
       "          495302399   0    LINESTRING (-76.77105 -12.38455, -76.77099 -12...   \n",
       "\n",
       "                             ref                        name bridge  ...  \\\n",
       "u         v           key                                            ...   \n",
       "258066779 10985400003 0      NaN                         NaN    NaN  ...   \n",
       "          258066780   0    PE-1S  Carretera Panamericana Sur    yes  ...   \n",
       "258066780 258066781   0    PE-1S  Carretera Panamericana Sur    NaN  ...   \n",
       "258066781 258066783   0    PE-1S  Carretera Panamericana Sur    NaN  ...   \n",
       "          495302399   0      NaN                         NaN    NaN  ...   \n",
       "\n",
       "                          access tunnel width  service  \\\n",
       "u         v           key                                \n",
       "258066779 10985400003 0      NaN    NaN   NaN      NaN   \n",
       "          258066780   0      NaN    NaN   NaN      NaN   \n",
       "258066780 258066781   0      NaN    NaN   NaN      NaN   \n",
       "258066781 258066783   0      NaN    NaN   NaN      NaN   \n",
       "          495302399   0      NaN    NaN   NaN      NaN   \n",
       "\n",
       "                                           wazeinfo0800  \\\n",
       "u         v           key                                 \n",
       "258066779 10985400003 0                   (0.05, 0.107)   \n",
       "          258066780   0                   (0.45, 0.781)   \n",
       "258066780 258066781   0    (0.03333333333333333, 0.063)   \n",
       "258066781 258066783   0     (1.6666666666666667, 0.612)   \n",
       "          495302399   0                    (0.1, 0.091)   \n",
       "\n",
       "                                           wazeinfo1400 wazeinfo0800_minutes  \\\n",
       "u         v           key                                                      \n",
       "258066779 10985400003 0                   (0.05, 0.107)             0.050000   \n",
       "          258066780   0                   (0.45, 0.781)             0.450000   \n",
       "258066780 258066781   0    (0.03333333333333333, 0.063)             0.033333   \n",
       "258066781 258066783   0     (1.7166666666666666, 0.612)             1.666667   \n",
       "          495302399   0                    (0.1, 0.091)             0.100000   \n",
       "\n",
       "                           wazeinfo0800_km  wazeinfo1400_minutes  \\\n",
       "u         v           key                                          \n",
       "258066779 10985400003 0              0.107              0.050000   \n",
       "          258066780   0              0.781              0.450000   \n",
       "258066780 258066781   0              0.063              0.033333   \n",
       "258066781 258066783   0              0.612              1.716667   \n",
       "          495302399   0              0.091              0.100000   \n",
       "\n",
       "                           wazeinfo1400_km  \n",
       "u         v           key                   \n",
       "258066779 10985400003 0              0.107  \n",
       "          258066780   0              0.781  \n",
       "258066780 258066781   0              0.063  \n",
       "258066781 258066783   0              0.612  \n",
       "          495302399   0              0.091  \n",
       "\n",
       "[5 rows x 21 columns]"
      ]
     },
     "execution_count": 13,
     "metadata": {},
     "output_type": "execute_result"
    }
   ],
   "source": [
    "lima_edges.head()"
   ]
  },
  {
   "cell_type": "markdown",
   "metadata": {},
   "source": [
    "# Grafo Lima"
   ]
  },
  {
   "cell_type": "code",
   "execution_count": 14,
   "metadata": {
    "scrolled": true
   },
   "outputs": [
    {
     "name": "stdout",
     "output_type": "stream",
     "text": [
      "Name: \n",
      "Type: MultiDiGraph\n",
      "Number of nodes: 148111\n",
      "Number of edges: 395620\n",
      "Average in degree:   2.6711\n",
      "Average out degree:   2.6711\n",
      "CPU times: user 1min 27s, sys: 951 ms, total: 1min 28s\n",
      "Wall time: 1min 28s\n"
     ]
    }
   ],
   "source": [
    "%%time\n",
    "G = ox.graph_from_gdfs(lima_nodes, lima_edges)\n",
    "print(nx.info(G))"
   ]
  },
  {
   "cell_type": "code",
   "execution_count": 15,
   "metadata": {},
   "outputs": [],
   "source": [
    "H = G.to_undirected()"
   ]
  },
  {
   "cell_type": "code",
   "execution_count": 16,
   "metadata": {},
   "outputs": [
    {
     "name": "stdout",
     "output_type": "stream",
     "text": [
      "Name: \n",
      "Type: MultiGraph\n",
      "Number of nodes: 148111\n",
      "Number of edges: 222783\n",
      "Average degree:   3.0083\n"
     ]
    }
   ],
   "source": [
    "print(nx.info(H))"
   ]
  },
  {
   "cell_type": "code",
   "execution_count": null,
   "metadata": {},
   "outputs": [],
   "source": [
    "# H_isolates = list(nx.isolates(H))\n",
    "# H_isolates"
   ]
  },
  {
   "cell_type": "code",
   "execution_count": null,
   "metadata": {},
   "outputs": [],
   "source": [
    "# print(\"Number of nodes: %s\" % H.number_of_nodes())\n",
    "# print(\"Number of isolates %s\" % nx.number_of_isolates(H))\n",
    "\n",
    "# print(\"Ratio of isolates %.3f\" % (nx.number_of_isolates(H) / H.number_of_nodes()) )"
   ]
  },
  {
   "cell_type": "code",
   "execution_count": null,
   "metadata": {},
   "outputs": [],
   "source": [
    "# H.remove_nodes_from(H_isolates)"
   ]
  },
  {
   "cell_type": "code",
   "execution_count": null,
   "metadata": {},
   "outputs": [],
   "source": [
    "# print(nx.info(H))\n",
    "# nx.number_of_isolates(H)"
   ]
  },
  {
   "cell_type": "markdown",
   "metadata": {},
   "source": [
    "# Lima Amenities"
   ]
  },
  {
   "cell_type": "code",
   "execution_count": 162,
   "metadata": {},
   "outputs": [
    {
     "name": "stdout",
     "output_type": "stream",
     "text": [
      "CPU times: user 38.9 s, sys: 1.94 s, total: 40.9 s\n",
      "Wall time: 40.9 s\n"
     ]
    }
   ],
   "source": [
    "%%time\n",
    "place_name = \"Lima Metropolitana\"\n",
    "# graph = ox.graph_from_place(place_name, which_result=3, network_type='drive')\n",
    "amenitiesLima = ox.geometries_from_place(place_name,tags={'amenity':True} )"
   ]
  },
  {
   "cell_type": "code",
   "execution_count": 163,
   "metadata": {},
   "outputs": [
    {
     "data": {
      "text/html": [
       "<div>\n",
       "<style scoped>\n",
       "    .dataframe tbody tr th:only-of-type {\n",
       "        vertical-align: middle;\n",
       "    }\n",
       "\n",
       "    .dataframe tbody tr th {\n",
       "        vertical-align: top;\n",
       "    }\n",
       "\n",
       "    .dataframe thead th {\n",
       "        text-align: right;\n",
       "    }\n",
       "</style>\n",
       "<table border=\"1\" class=\"dataframe\">\n",
       "  <thead>\n",
       "    <tr style=\"text-align: right;\">\n",
       "      <th></th>\n",
       "      <th>unique_id</th>\n",
       "      <th>element_type</th>\n",
       "      <th>amenity</th>\n",
       "      <th>geometry_polygon</th>\n",
       "      <th>fee</th>\n",
       "      <th>wheelchair</th>\n",
       "      <th>wheelchair:description</th>\n",
       "      <th>addr:city</th>\n",
       "      <th>addr:housenumber</th>\n",
       "      <th>addr:street</th>\n",
       "      <th>...</th>\n",
       "      <th>bicycle_rental</th>\n",
       "      <th>trolleybus</th>\n",
       "      <th>fuel:octane_87</th>\n",
       "      <th>internet</th>\n",
       "      <th>wikipedia:en</th>\n",
       "      <th>wikipedia:pl</th>\n",
       "      <th>wikipedia:sv</th>\n",
       "      <th>shortest_name</th>\n",
       "      <th>isPoint</th>\n",
       "      <th>geometry</th>\n",
       "    </tr>\n",
       "    <tr>\n",
       "      <th>osmid</th>\n",
       "      <th></th>\n",
       "      <th></th>\n",
       "      <th></th>\n",
       "      <th></th>\n",
       "      <th></th>\n",
       "      <th></th>\n",
       "      <th></th>\n",
       "      <th></th>\n",
       "      <th></th>\n",
       "      <th></th>\n",
       "      <th></th>\n",
       "      <th></th>\n",
       "      <th></th>\n",
       "      <th></th>\n",
       "      <th></th>\n",
       "      <th></th>\n",
       "      <th></th>\n",
       "      <th></th>\n",
       "      <th></th>\n",
       "      <th></th>\n",
       "      <th></th>\n",
       "    </tr>\n",
       "  </thead>\n",
       "  <tbody>\n",
       "    <tr>\n",
       "      <th>1706421372</th>\n",
       "      <td>node/1706421372</td>\n",
       "      <td>node</td>\n",
       "      <td>bus_station</td>\n",
       "      <td>POINT (-76.90809 -12.25501)</td>\n",
       "      <td>NaN</td>\n",
       "      <td>NaN</td>\n",
       "      <td>NaN</td>\n",
       "      <td>NaN</td>\n",
       "      <td>NaN</td>\n",
       "      <td>NaN</td>\n",
       "      <td>...</td>\n",
       "      <td>NaN</td>\n",
       "      <td>NaN</td>\n",
       "      <td>NaN</td>\n",
       "      <td>NaN</td>\n",
       "      <td>NaN</td>\n",
       "      <td>NaN</td>\n",
       "      <td>NaN</td>\n",
       "      <td>NaN</td>\n",
       "      <td>True</td>\n",
       "      <td>POINT (-76.90809 -12.25501)</td>\n",
       "    </tr>\n",
       "    <tr>\n",
       "      <th>1909452321</th>\n",
       "      <td>node/1909452321</td>\n",
       "      <td>node</td>\n",
       "      <td>toilets</td>\n",
       "      <td>POINT (-76.90717 -12.25586)</td>\n",
       "      <td>no</td>\n",
       "      <td>no</td>\n",
       "      <td>No hay baño para silla de ruedas y encima tien...</td>\n",
       "      <td>NaN</td>\n",
       "      <td>NaN</td>\n",
       "      <td>NaN</td>\n",
       "      <td>...</td>\n",
       "      <td>NaN</td>\n",
       "      <td>NaN</td>\n",
       "      <td>NaN</td>\n",
       "      <td>NaN</td>\n",
       "      <td>NaN</td>\n",
       "      <td>NaN</td>\n",
       "      <td>NaN</td>\n",
       "      <td>NaN</td>\n",
       "      <td>True</td>\n",
       "      <td>POINT (-76.90717 -12.25586)</td>\n",
       "    </tr>\n",
       "  </tbody>\n",
       "</table>\n",
       "<p>2 rows × 401 columns</p>\n",
       "</div>"
      ],
      "text/plain": [
       "                  unique_id element_type      amenity  \\\n",
       "osmid                                                   \n",
       "1706421372  node/1706421372         node  bus_station   \n",
       "1909452321  node/1909452321         node      toilets   \n",
       "\n",
       "                       geometry_polygon  fee wheelchair  \\\n",
       "osmid                                                     \n",
       "1706421372  POINT (-76.90809 -12.25501)  NaN        NaN   \n",
       "1909452321  POINT (-76.90717 -12.25586)   no         no   \n",
       "\n",
       "                                       wheelchair:description addr:city  \\\n",
       "osmid                                                                     \n",
       "1706421372                                                NaN       NaN   \n",
       "1909452321  No hay baño para silla de ruedas y encima tien...       NaN   \n",
       "\n",
       "           addr:housenumber addr:street  ... bicycle_rental trolleybus  \\\n",
       "osmid                                    ...                             \n",
       "1706421372              NaN         NaN  ...            NaN        NaN   \n",
       "1909452321              NaN         NaN  ...            NaN        NaN   \n",
       "\n",
       "           fuel:octane_87 internet wikipedia:en wikipedia:pl wikipedia:sv  \\\n",
       "osmid                                                                       \n",
       "1706421372            NaN      NaN          NaN          NaN          NaN   \n",
       "1909452321            NaN      NaN          NaN          NaN          NaN   \n",
       "\n",
       "           shortest_name isPoint                     geometry  \n",
       "osmid                                                          \n",
       "1706421372           NaN    True  POINT (-76.90809 -12.25501)  \n",
       "1909452321           NaN    True  POINT (-76.90717 -12.25586)  \n",
       "\n",
       "[2 rows x 401 columns]"
      ]
     },
     "execution_count": 163,
     "metadata": {},
     "output_type": "execute_result"
    }
   ],
   "source": [
    "from shapely.geometry import Point\n",
    "amenitiesLima['isPoint'] = amenitiesLima.apply(lambda x: type(x.geometry) is Point , axis=1)\n",
    "amenitiesLima.rename(columns={'geometry':'geometry_polygon'}, inplace=True)\n",
    "amenitiesLima['geometry'] = amenitiesLima.apply(lambda x: x['geometry_polygon'].centroid, axis=1)\n",
    "amenitiesLima.set_geometry('geometry')\n",
    "amenitiesLima.set_index('osmid', inplace=True)\n",
    "amenitiesLima.head(2)"
   ]
  },
  {
   "cell_type": "code",
   "execution_count": 164,
   "metadata": {},
   "outputs": [],
   "source": [
    "cols = ['bank', 'school', 'police', 'hospital', 'university', 'courthouse']\n",
    "amenities = amenitiesLima.query(\"amenity in @cols\")"
   ]
  },
  {
   "cell_type": "code",
   "execution_count": 165,
   "metadata": {},
   "outputs": [
    {
     "data": {
      "text/plain": [
       "array(['police', 'bank', 'school', 'courthouse', 'university', 'hospital'],\n",
       "      dtype=object)"
      ]
     },
     "execution_count": 165,
     "metadata": {},
     "output_type": "execute_result"
    }
   ],
   "source": [
    "amenities['amenity'].unique()"
   ]
  },
  {
   "cell_type": "code",
   "execution_count": 166,
   "metadata": {},
   "outputs": [
    {
     "data": {
      "text/html": [
       "<div>\n",
       "<style scoped>\n",
       "    .dataframe tbody tr th:only-of-type {\n",
       "        vertical-align: middle;\n",
       "    }\n",
       "\n",
       "    .dataframe tbody tr th {\n",
       "        vertical-align: top;\n",
       "    }\n",
       "\n",
       "    .dataframe thead th {\n",
       "        text-align: right;\n",
       "    }\n",
       "</style>\n",
       "<table border=\"1\" class=\"dataframe\">\n",
       "  <thead>\n",
       "    <tr style=\"text-align: right;\">\n",
       "      <th></th>\n",
       "      <th>unique_id</th>\n",
       "      <th>element_type</th>\n",
       "      <th>amenity</th>\n",
       "      <th>geometry_polygon</th>\n",
       "      <th>fee</th>\n",
       "      <th>wheelchair</th>\n",
       "      <th>wheelchair:description</th>\n",
       "      <th>addr:city</th>\n",
       "      <th>addr:housenumber</th>\n",
       "      <th>addr:street</th>\n",
       "      <th>...</th>\n",
       "      <th>bicycle_rental</th>\n",
       "      <th>trolleybus</th>\n",
       "      <th>fuel:octane_87</th>\n",
       "      <th>internet</th>\n",
       "      <th>wikipedia:en</th>\n",
       "      <th>wikipedia:pl</th>\n",
       "      <th>wikipedia:sv</th>\n",
       "      <th>shortest_name</th>\n",
       "      <th>isPoint</th>\n",
       "      <th>geometry</th>\n",
       "    </tr>\n",
       "    <tr>\n",
       "      <th>osmid</th>\n",
       "      <th></th>\n",
       "      <th></th>\n",
       "      <th></th>\n",
       "      <th></th>\n",
       "      <th></th>\n",
       "      <th></th>\n",
       "      <th></th>\n",
       "      <th></th>\n",
       "      <th></th>\n",
       "      <th></th>\n",
       "      <th></th>\n",
       "      <th></th>\n",
       "      <th></th>\n",
       "      <th></th>\n",
       "      <th></th>\n",
       "      <th></th>\n",
       "      <th></th>\n",
       "      <th></th>\n",
       "      <th></th>\n",
       "      <th></th>\n",
       "      <th></th>\n",
       "    </tr>\n",
       "  </thead>\n",
       "  <tbody>\n",
       "    <tr>\n",
       "      <th>3259019072</th>\n",
       "      <td>node/3259019072</td>\n",
       "      <td>node</td>\n",
       "      <td>police</td>\n",
       "      <td>POINT (-76.82449 -12.33707)</td>\n",
       "      <td>NaN</td>\n",
       "      <td>NaN</td>\n",
       "      <td>NaN</td>\n",
       "      <td>NaN</td>\n",
       "      <td>NaN</td>\n",
       "      <td>NaN</td>\n",
       "      <td>...</td>\n",
       "      <td>NaN</td>\n",
       "      <td>NaN</td>\n",
       "      <td>NaN</td>\n",
       "      <td>NaN</td>\n",
       "      <td>NaN</td>\n",
       "      <td>NaN</td>\n",
       "      <td>NaN</td>\n",
       "      <td>NaN</td>\n",
       "      <td>True</td>\n",
       "      <td>POINT (-76.82449 -12.33707)</td>\n",
       "    </tr>\n",
       "    <tr>\n",
       "      <th>3759247695</th>\n",
       "      <td>node/3759247695</td>\n",
       "      <td>node</td>\n",
       "      <td>bank</td>\n",
       "      <td>POINT (-76.90608 -12.21089)</td>\n",
       "      <td>NaN</td>\n",
       "      <td>NaN</td>\n",
       "      <td>NaN</td>\n",
       "      <td>NaN</td>\n",
       "      <td>NaN</td>\n",
       "      <td>NaN</td>\n",
       "      <td>...</td>\n",
       "      <td>NaN</td>\n",
       "      <td>NaN</td>\n",
       "      <td>NaN</td>\n",
       "      <td>NaN</td>\n",
       "      <td>NaN</td>\n",
       "      <td>NaN</td>\n",
       "      <td>NaN</td>\n",
       "      <td>NaN</td>\n",
       "      <td>True</td>\n",
       "      <td>POINT (-76.90608 -12.21089)</td>\n",
       "    </tr>\n",
       "    <tr>\n",
       "      <th>3759586688</th>\n",
       "      <td>node/3759586688</td>\n",
       "      <td>node</td>\n",
       "      <td>bank</td>\n",
       "      <td>POINT (-76.91030 -12.23102)</td>\n",
       "      <td>NaN</td>\n",
       "      <td>NaN</td>\n",
       "      <td>NaN</td>\n",
       "      <td>NaN</td>\n",
       "      <td>NaN</td>\n",
       "      <td>NaN</td>\n",
       "      <td>...</td>\n",
       "      <td>NaN</td>\n",
       "      <td>NaN</td>\n",
       "      <td>NaN</td>\n",
       "      <td>NaN</td>\n",
       "      <td>NaN</td>\n",
       "      <td>NaN</td>\n",
       "      <td>NaN</td>\n",
       "      <td>NaN</td>\n",
       "      <td>True</td>\n",
       "      <td>POINT (-76.91030 -12.23102)</td>\n",
       "    </tr>\n",
       "    <tr>\n",
       "      <th>4235492500</th>\n",
       "      <td>node/4235492500</td>\n",
       "      <td>node</td>\n",
       "      <td>school</td>\n",
       "      <td>POINT (-76.78649 -12.49113)</td>\n",
       "      <td>NaN</td>\n",
       "      <td>NaN</td>\n",
       "      <td>NaN</td>\n",
       "      <td>NaN</td>\n",
       "      <td>NaN</td>\n",
       "      <td>Entrada A Pucusana</td>\n",
       "      <td>...</td>\n",
       "      <td>NaN</td>\n",
       "      <td>NaN</td>\n",
       "      <td>NaN</td>\n",
       "      <td>NaN</td>\n",
       "      <td>NaN</td>\n",
       "      <td>NaN</td>\n",
       "      <td>NaN</td>\n",
       "      <td>NaN</td>\n",
       "      <td>True</td>\n",
       "      <td>POINT (-76.78649 -12.49113)</td>\n",
       "    </tr>\n",
       "    <tr>\n",
       "      <th>4235507693</th>\n",
       "      <td>node/4235507693</td>\n",
       "      <td>node</td>\n",
       "      <td>school</td>\n",
       "      <td>POINT (-76.79644 -12.48408)</td>\n",
       "      <td>NaN</td>\n",
       "      <td>NaN</td>\n",
       "      <td>NaN</td>\n",
       "      <td>NaN</td>\n",
       "      <td>NaN</td>\n",
       "      <td>Callao</td>\n",
       "      <td>...</td>\n",
       "      <td>NaN</td>\n",
       "      <td>NaN</td>\n",
       "      <td>NaN</td>\n",
       "      <td>NaN</td>\n",
       "      <td>NaN</td>\n",
       "      <td>NaN</td>\n",
       "      <td>NaN</td>\n",
       "      <td>NaN</td>\n",
       "      <td>True</td>\n",
       "      <td>POINT (-76.79644 -12.48408)</td>\n",
       "    </tr>\n",
       "  </tbody>\n",
       "</table>\n",
       "<p>5 rows × 401 columns</p>\n",
       "</div>"
      ],
      "text/plain": [
       "                  unique_id element_type amenity             geometry_polygon  \\\n",
       "osmid                                                                           \n",
       "3259019072  node/3259019072         node  police  POINT (-76.82449 -12.33707)   \n",
       "3759247695  node/3759247695         node    bank  POINT (-76.90608 -12.21089)   \n",
       "3759586688  node/3759586688         node    bank  POINT (-76.91030 -12.23102)   \n",
       "4235492500  node/4235492500         node  school  POINT (-76.78649 -12.49113)   \n",
       "4235507693  node/4235507693         node  school  POINT (-76.79644 -12.48408)   \n",
       "\n",
       "            fee wheelchair wheelchair:description addr:city addr:housenumber  \\\n",
       "osmid                                                                          \n",
       "3259019072  NaN        NaN                    NaN       NaN              NaN   \n",
       "3759247695  NaN        NaN                    NaN       NaN              NaN   \n",
       "3759586688  NaN        NaN                    NaN       NaN              NaN   \n",
       "4235492500  NaN        NaN                    NaN       NaN              NaN   \n",
       "4235507693  NaN        NaN                    NaN       NaN              NaN   \n",
       "\n",
       "                   addr:street  ... bicycle_rental trolleybus fuel:octane_87  \\\n",
       "osmid                           ...                                            \n",
       "3259019072                 NaN  ...            NaN        NaN            NaN   \n",
       "3759247695                 NaN  ...            NaN        NaN            NaN   \n",
       "3759586688                 NaN  ...            NaN        NaN            NaN   \n",
       "4235492500  Entrada A Pucusana  ...            NaN        NaN            NaN   \n",
       "4235507693              Callao  ...            NaN        NaN            NaN   \n",
       "\n",
       "           internet wikipedia:en wikipedia:pl wikipedia:sv shortest_name  \\\n",
       "osmid                                                                      \n",
       "3259019072      NaN          NaN          NaN          NaN           NaN   \n",
       "3759247695      NaN          NaN          NaN          NaN           NaN   \n",
       "3759586688      NaN          NaN          NaN          NaN           NaN   \n",
       "4235492500      NaN          NaN          NaN          NaN           NaN   \n",
       "4235507693      NaN          NaN          NaN          NaN           NaN   \n",
       "\n",
       "           isPoint                     geometry  \n",
       "osmid                                            \n",
       "3259019072    True  POINT (-76.82449 -12.33707)  \n",
       "3759247695    True  POINT (-76.90608 -12.21089)  \n",
       "3759586688    True  POINT (-76.91030 -12.23102)  \n",
       "4235492500    True  POINT (-76.78649 -12.49113)  \n",
       "4235507693    True  POINT (-76.79644 -12.48408)  \n",
       "\n",
       "[5 rows x 401 columns]"
      ]
     },
     "execution_count": 166,
     "metadata": {},
     "output_type": "execute_result"
    }
   ],
   "source": [
    "amenities.head()"
   ]
  },
  {
   "cell_type": "code",
   "execution_count": 167,
   "metadata": {},
   "outputs": [
    {
     "name": "stderr",
     "output_type": "stream",
     "text": [
      "2024-02-28 16:00:38,641 :: INFO :: root :: 35436 :: Proceso SNAP Inicio\n",
      "/home/leibnitz.rojas/.local/lib/python3.6/site-packages/pyproj/crs/crs.py:53: FutureWarning: '+init=<authority>:<code>' syntax is deprecated. '<authority>:<code>' is the preferred initialization method. When making the change, be mindful of axis order changes: https://pyproj4.github.io/pyproj/stable/gotchas.html#axis-order-changes-in-proj-6\n",
      "  return _prepare_from_string(\" \".join(pjargs))\n",
      "/home/leibnitz.rojas/.local/lib/python3.6/site-packages/pyproj/crs/crs.py:294: FutureWarning: '+init=<authority>:<code>' syntax is deprecated. '<authority>:<code>' is the preferred initialization method. When making the change, be mindful of axis order changes: https://pyproj4.github.io/pyproj/stable/gotchas.html#axis-order-changes-in-proj-6\n",
      "  projstring = _prepare_from_string(\" \".join((projstring, projkwargs)))\n",
      "/home/leibnitz.rojas/.local/lib/python3.6/site-packages/pyproj/crs/crs.py:53: FutureWarning: '+init=<authority>:<code>' syntax is deprecated. '<authority>:<code>' is the preferred initialization method. When making the change, be mindful of axis order changes: https://pyproj4.github.io/pyproj/stable/gotchas.html#axis-order-changes-in-proj-6\n",
      "  return _prepare_from_string(\" \".join(pjargs))\n",
      "/home/leibnitz.rojas/.local/lib/python3.6/site-packages/pyproj/crs/crs.py:294: FutureWarning: '+init=<authority>:<code>' syntax is deprecated. '<authority>:<code>' is the preferred initialization method. When making the change, be mindful of axis order changes: https://pyproj4.github.io/pyproj/stable/gotchas.html#axis-order-changes-in-proj-6\n",
      "  projstring = _prepare_from_string(\" \".join((projstring, projkwargs)))\n",
      "/usr/local/lib/python3.6/dist-packages/shapely/ops.py:234: DeprecationWarning: This function is deprecated. See: https://pyproj4.github.io/pyproj/stable/gotchas.html#upgrading-to-pyproj-2-from-pyproj-1\n",
      "  return type(geom)(zip(*func(*izip(*geom.coords))))\n",
      "2024-02-28 23:04:14,976 :: INFO :: root :: 35436 :: Proceso SNAP Fin\n"
     ]
    },
    {
     "name": "stdout",
     "output_type": "stream",
     "text": [
      "CPU times: user 6h 57min 39s, sys: 5min 59s, total: 7h 3min 38s\n",
      "Wall time: 7h 3min 36s\n"
     ]
    }
   ],
   "source": [
    "%%time\n",
    "logger.info(\"Proceso SNAP Inicio\")\n",
    "amenities_snap_limanodes = gn.pandana_snap_points(amenities, lima_nodes)\n",
    "logger.info(\"Proceso SNAP Fin\")"
   ]
  },
  {
   "cell_type": "code",
   "execution_count": 168,
   "metadata": {},
   "outputs": [],
   "source": [
    "amenities_snap_limanodes.rename(columns={'NN':'glima_osmid', 'NN_dist':'glima_dist' }, inplace=True)"
   ]
  },
  {
   "cell_type": "code",
   "execution_count": 169,
   "metadata": {},
   "outputs": [
    {
     "data": {
      "text/html": [
       "<div>\n",
       "<style scoped>\n",
       "    .dataframe tbody tr th:only-of-type {\n",
       "        vertical-align: middle;\n",
       "    }\n",
       "\n",
       "    .dataframe tbody tr th {\n",
       "        vertical-align: top;\n",
       "    }\n",
       "\n",
       "    .dataframe thead th {\n",
       "        text-align: right;\n",
       "    }\n",
       "</style>\n",
       "<table border=\"1\" class=\"dataframe\">\n",
       "  <thead>\n",
       "    <tr style=\"text-align: right;\">\n",
       "      <th></th>\n",
       "      <th>unique_id</th>\n",
       "      <th>element_type</th>\n",
       "      <th>amenity</th>\n",
       "      <th>geometry_polygon</th>\n",
       "      <th>fee</th>\n",
       "      <th>wheelchair</th>\n",
       "      <th>wheelchair:description</th>\n",
       "      <th>addr:city</th>\n",
       "      <th>addr:housenumber</th>\n",
       "      <th>addr:street</th>\n",
       "      <th>...</th>\n",
       "      <th>fuel:octane_87</th>\n",
       "      <th>internet</th>\n",
       "      <th>wikipedia:en</th>\n",
       "      <th>wikipedia:pl</th>\n",
       "      <th>wikipedia:sv</th>\n",
       "      <th>shortest_name</th>\n",
       "      <th>isPoint</th>\n",
       "      <th>geometry</th>\n",
       "      <th>glima_osmid</th>\n",
       "      <th>glima_dist</th>\n",
       "    </tr>\n",
       "    <tr>\n",
       "      <th>osmid</th>\n",
       "      <th></th>\n",
       "      <th></th>\n",
       "      <th></th>\n",
       "      <th></th>\n",
       "      <th></th>\n",
       "      <th></th>\n",
       "      <th></th>\n",
       "      <th></th>\n",
       "      <th></th>\n",
       "      <th></th>\n",
       "      <th></th>\n",
       "      <th></th>\n",
       "      <th></th>\n",
       "      <th></th>\n",
       "      <th></th>\n",
       "      <th></th>\n",
       "      <th></th>\n",
       "      <th></th>\n",
       "      <th></th>\n",
       "      <th></th>\n",
       "      <th></th>\n",
       "    </tr>\n",
       "  </thead>\n",
       "  <tbody>\n",
       "    <tr>\n",
       "      <th>3259019072</th>\n",
       "      <td>node/3259019072</td>\n",
       "      <td>node</td>\n",
       "      <td>police</td>\n",
       "      <td>POINT (-76.82449 -12.33707)</td>\n",
       "      <td>NaN</td>\n",
       "      <td>NaN</td>\n",
       "      <td>NaN</td>\n",
       "      <td>NaN</td>\n",
       "      <td>NaN</td>\n",
       "      <td>NaN</td>\n",
       "      <td>...</td>\n",
       "      <td>NaN</td>\n",
       "      <td>NaN</td>\n",
       "      <td>NaN</td>\n",
       "      <td>NaN</td>\n",
       "      <td>NaN</td>\n",
       "      <td>NaN</td>\n",
       "      <td>True</td>\n",
       "      <td>POINT (-76.82449 -12.33707)</td>\n",
       "      <td>495244831</td>\n",
       "      <td>0.000330</td>\n",
       "    </tr>\n",
       "    <tr>\n",
       "      <th>3759247695</th>\n",
       "      <td>node/3759247695</td>\n",
       "      <td>node</td>\n",
       "      <td>bank</td>\n",
       "      <td>POINT (-76.90608 -12.21089)</td>\n",
       "      <td>NaN</td>\n",
       "      <td>NaN</td>\n",
       "      <td>NaN</td>\n",
       "      <td>NaN</td>\n",
       "      <td>NaN</td>\n",
       "      <td>NaN</td>\n",
       "      <td>...</td>\n",
       "      <td>NaN</td>\n",
       "      <td>NaN</td>\n",
       "      <td>NaN</td>\n",
       "      <td>NaN</td>\n",
       "      <td>NaN</td>\n",
       "      <td>NaN</td>\n",
       "      <td>True</td>\n",
       "      <td>POINT (-76.90608 -12.21089)</td>\n",
       "      <td>3759247684</td>\n",
       "      <td>0.000133</td>\n",
       "    </tr>\n",
       "    <tr>\n",
       "      <th>3759586688</th>\n",
       "      <td>node/3759586688</td>\n",
       "      <td>node</td>\n",
       "      <td>bank</td>\n",
       "      <td>POINT (-76.91030 -12.23102)</td>\n",
       "      <td>NaN</td>\n",
       "      <td>NaN</td>\n",
       "      <td>NaN</td>\n",
       "      <td>NaN</td>\n",
       "      <td>NaN</td>\n",
       "      <td>NaN</td>\n",
       "      <td>...</td>\n",
       "      <td>NaN</td>\n",
       "      <td>NaN</td>\n",
       "      <td>NaN</td>\n",
       "      <td>NaN</td>\n",
       "      <td>NaN</td>\n",
       "      <td>NaN</td>\n",
       "      <td>True</td>\n",
       "      <td>POINT (-76.91030 -12.23102)</td>\n",
       "      <td>3756733899</td>\n",
       "      <td>0.000346</td>\n",
       "    </tr>\n",
       "    <tr>\n",
       "      <th>4235492500</th>\n",
       "      <td>node/4235492500</td>\n",
       "      <td>node</td>\n",
       "      <td>school</td>\n",
       "      <td>POINT (-76.78649 -12.49113)</td>\n",
       "      <td>NaN</td>\n",
       "      <td>NaN</td>\n",
       "      <td>NaN</td>\n",
       "      <td>NaN</td>\n",
       "      <td>NaN</td>\n",
       "      <td>Entrada A Pucusana</td>\n",
       "      <td>...</td>\n",
       "      <td>NaN</td>\n",
       "      <td>NaN</td>\n",
       "      <td>NaN</td>\n",
       "      <td>NaN</td>\n",
       "      <td>NaN</td>\n",
       "      <td>NaN</td>\n",
       "      <td>True</td>\n",
       "      <td>POINT (-76.78649 -12.49113)</td>\n",
       "      <td>1831352656</td>\n",
       "      <td>0.078740</td>\n",
       "    </tr>\n",
       "    <tr>\n",
       "      <th>4235507693</th>\n",
       "      <td>node/4235507693</td>\n",
       "      <td>node</td>\n",
       "      <td>school</td>\n",
       "      <td>POINT (-76.79644 -12.48408)</td>\n",
       "      <td>NaN</td>\n",
       "      <td>NaN</td>\n",
       "      <td>NaN</td>\n",
       "      <td>NaN</td>\n",
       "      <td>NaN</td>\n",
       "      <td>Callao</td>\n",
       "      <td>...</td>\n",
       "      <td>NaN</td>\n",
       "      <td>NaN</td>\n",
       "      <td>NaN</td>\n",
       "      <td>NaN</td>\n",
       "      <td>NaN</td>\n",
       "      <td>NaN</td>\n",
       "      <td>True</td>\n",
       "      <td>POINT (-76.79644 -12.48408)</td>\n",
       "      <td>1932467999</td>\n",
       "      <td>0.073871</td>\n",
       "    </tr>\n",
       "  </tbody>\n",
       "</table>\n",
       "<p>5 rows × 403 columns</p>\n",
       "</div>"
      ],
      "text/plain": [
       "                  unique_id element_type amenity             geometry_polygon  \\\n",
       "osmid                                                                           \n",
       "3259019072  node/3259019072         node  police  POINT (-76.82449 -12.33707)   \n",
       "3759247695  node/3759247695         node    bank  POINT (-76.90608 -12.21089)   \n",
       "3759586688  node/3759586688         node    bank  POINT (-76.91030 -12.23102)   \n",
       "4235492500  node/4235492500         node  school  POINT (-76.78649 -12.49113)   \n",
       "4235507693  node/4235507693         node  school  POINT (-76.79644 -12.48408)   \n",
       "\n",
       "            fee wheelchair wheelchair:description addr:city addr:housenumber  \\\n",
       "osmid                                                                          \n",
       "3259019072  NaN        NaN                    NaN       NaN              NaN   \n",
       "3759247695  NaN        NaN                    NaN       NaN              NaN   \n",
       "3759586688  NaN        NaN                    NaN       NaN              NaN   \n",
       "4235492500  NaN        NaN                    NaN       NaN              NaN   \n",
       "4235507693  NaN        NaN                    NaN       NaN              NaN   \n",
       "\n",
       "                   addr:street  ... fuel:octane_87 internet wikipedia:en  \\\n",
       "osmid                           ...                                        \n",
       "3259019072                 NaN  ...            NaN      NaN          NaN   \n",
       "3759247695                 NaN  ...            NaN      NaN          NaN   \n",
       "3759586688                 NaN  ...            NaN      NaN          NaN   \n",
       "4235492500  Entrada A Pucusana  ...            NaN      NaN          NaN   \n",
       "4235507693              Callao  ...            NaN      NaN          NaN   \n",
       "\n",
       "           wikipedia:pl wikipedia:sv shortest_name isPoint  \\\n",
       "osmid                                                        \n",
       "3259019072          NaN          NaN           NaN    True   \n",
       "3759247695          NaN          NaN           NaN    True   \n",
       "3759586688          NaN          NaN           NaN    True   \n",
       "4235492500          NaN          NaN           NaN    True   \n",
       "4235507693          NaN          NaN           NaN    True   \n",
       "\n",
       "                               geometry glima_osmid glima_dist  \n",
       "osmid                                                           \n",
       "3259019072  POINT (-76.82449 -12.33707)   495244831   0.000330  \n",
       "3759247695  POINT (-76.90608 -12.21089)  3759247684   0.000133  \n",
       "3759586688  POINT (-76.91030 -12.23102)  3756733899   0.000346  \n",
       "4235492500  POINT (-76.78649 -12.49113)  1831352656   0.078740  \n",
       "4235507693  POINT (-76.79644 -12.48408)  1932467999   0.073871  \n",
       "\n",
       "[5 rows x 403 columns]"
      ]
     },
     "execution_count": 169,
     "metadata": {},
     "output_type": "execute_result"
    }
   ],
   "source": [
    "amenities_snap_limanodes.to_csv(\"data/LimaAmenitiesSnapLimaNodes0.csv\", sep=\";\")\n",
    "amenities_snap_limanodes.head()"
   ]
  },
  {
   "cell_type": "code",
   "execution_count": 171,
   "metadata": {},
   "outputs": [
    {
     "name": "stdout",
     "output_type": "stream",
     "text": [
      "total 380456\r\n",
      "-rw-rw-r-- 1 leibnitz.rojas hadoopgroup  73641835 ago 13  2023 GrafoLima_edges.csv\r\n",
      "-rw-rw-r-- 1 leibnitz.rojas hadoopgroup 104584605 ago 23  2023 GrafoLima_edgeswaze.csv\r\n",
      "-rw-rw-r-- 1 leibnitz.rojas hadoopgroup  19086821 ago 23  2023 GrafoLima_edgeswaze.zip\r\n",
      "-rw-rw-r-- 1 leibnitz.rojas hadoopgroup  10779796 ago 10  2023 GrafoLima_nodes.csv\r\n",
      "-rw-rw-r-- 1 leibnitz.rojas hadoopgroup   2593199 ago 10  2023 GrafoLima_nodes.zip\r\n",
      "-rw-rw-r-- 1 leibnitz.rojas hadoopgroup    640696 oct 21 10:59 GrafoSanBorja_edges.csv\r\n",
      "-rw-rw-r-- 1 leibnitz.rojas hadoopgroup    102103 oct 21 10:59 GrafoSanBorja_nodes.csv\r\n",
      "-rw-rw-r-- 1 leibnitz.rojas hadoopgroup   4045435 feb 24 18:53 Lima_6Amenities.csv\r\n",
      "-rw-rw-r-- 1 leibnitz.rojas hadoopgroup   6129736 feb 28 23:04 LimaAmenitiesSnapLimaNodes0.csv\r\n",
      "-rw-rw-r-- 1 leibnitz.rojas hadoopgroup   8442163 feb 25 08:16 LimaAmenitiesSnapLimaNodes.csv\r\n",
      "-rw-rw-r-- 1 leibnitz.rojas hadoopgroup   4762617 feb 28 20:35 LimaH3R8SnapLimaNodes.csv\r\n",
      "-rw-rw-r-- 1 leibnitz.rojas hadoopgroup   4762617 feb 28 20:35 LimaH3SnapLimaNodes.csv\r\n",
      "-rw-rw-r-- 1 leibnitz.rojas hadoopgroup   1991000 ene 27 22:19 LimaMinValues2Amenities.csv\r\n",
      "-rw-rw-r-- 1 leibnitz.rojas hadoopgroup     14003 feb 25 23:17 limaprivado_wazeresults_h3res7_bank.csv\r\n",
      "-rw-rw-r-- 1 leibnitz.rojas hadoopgroup     22286 feb 25 19:36 limaprivado_wazeresults_h3res7_police.csv\r\n",
      "-rw-rw-r-- 1 leibnitz.rojas hadoopgroup     60522 feb 26 00:45 limaprivado_wazeresults_h3res7_school.csv\r\n",
      "-rw-rw-r-- 1 leibnitz.rojas hadoopgroup     66394 feb 28 21:49 limaprivado_wazeresults_h3res8_courthouse.csv\r\n",
      "-rw-rw-r-- 1 leibnitz.rojas hadoopgroup    443321 feb 28 22:30 limaprivado_wazeresults_h3res8_police.csv\r\n",
      "-rw-rw-r-- 1 leibnitz.rojas hadoopgroup  40559433 feb 15 19:51 limaprivado_wazeresults_police.csv\r\n",
      "-rw-rw-r-- 1 leibnitz.rojas hadoopgroup  30186800 feb 15 06:16 limaprivado_wazeresults_university.csv\r\n",
      "-rw-rw-r-- 1 leibnitz.rojas hadoopgroup   5082747 set 18 22:37 wazeresults30kmh_bank.csv\r\n",
      "-rw-rw-r-- 1 leibnitz.rojas hadoopgroup    336454 set 18 22:45 wazeresults30kmh_courthouse.csv\r\n",
      "-rw-rw-r-- 1 leibnitz.rojas hadoopgroup   1121030 set 18 23:36 wazeresults30kmh_hospital.csv\r\n",
      "-rw-rw-r-- 1 leibnitz.rojas hadoopgroup   1565781 set 18 22:13 wazeresults30kmh_police.csv\r\n",
      "-rw-rw-r-- 1 leibnitz.rojas hadoopgroup  13398223 set 15 13:14 wazeresults30kmh_school.csv\r\n",
      "-rw-rw-r-- 1 leibnitz.rojas hadoopgroup   1517339 set 18 23:44 wazeresults30kmh_university.csv\r\n",
      "-rw-rw-r-- 1 leibnitz.rojas hadoopgroup  11862203 set  5 13:15 wazeresults_bank.csv\r\n",
      "-rw-rw-r-- 1 leibnitz.rojas hadoopgroup    794255 set  6 21:38 wazeresults_courthouse.csv\r\n",
      "-rw-rw-r-- 1 leibnitz.rojas hadoopgroup   2632994 set  5 13:57 wazeresults_hospital.csv\r\n",
      "-rw-rw-r-- 1 leibnitz.rojas hadoopgroup   3645188 set  5 22:56 wazeresults_police.csv\r\n",
      "-rw-rw-r-- 1 leibnitz.rojas hadoopgroup  31079695 set  6 00:51 wazeresults_school.csv\r\n",
      "-rw-rw-r-- 1 leibnitz.rojas hadoopgroup   3569758 set  6 20:38 wazeresults_university.csv\r\n"
     ]
    }
   ],
   "source": [
    "!ls -l data"
   ]
  },
  {
   "cell_type": "markdown",
   "metadata": {},
   "source": [
    "# H3 Poligons"
   ]
  },
  {
   "cell_type": "code",
   "execution_count": 123,
   "metadata": {},
   "outputs": [],
   "source": [
    "import h3\n",
    "import networkx as nx\n",
    "import geopandas as gpd\n",
    "from shapely.geometry import Point\n",
    "from collections import defaultdict\n",
    "\n",
    "# Función para asignar nodos a polígonos H3\n",
    "def assign_nodes_to_h3(graph, resolution):\n",
    "    node_to_h3 = {}\n",
    "    for node in graph.nodes:\n",
    "        point = Point(graph.nodes[node]['x'], graph.nodes[node]['y'])\n",
    "#         h3_index = h3.geo.point_to_h3(point.y, point.x, resolution)\n",
    "        h3_index = h3.geo_to_h3(point.y, point.x, resolution)\n",
    "\n",
    "        node_to_h3[node] = h3_index\n",
    "    return node_to_h3\n",
    "\n",
    "# Función para asignar amenities a polígonos H3\n",
    "def assign_amenities_to_h3(amenities_df, resolution):\n",
    "    amenity_to_h3 = {}\n",
    "    for idx, row in amenities_df.iterrows():\n",
    "        point = Point(row['x'], row['y'])\n",
    "        h3_index = h3.geo_to_h3(point.y, point.x, resolution)\n",
    "        amenity_to_h3[idx] = h3_index\n",
    "    return amenity_to_h3\n",
    "\n",
    "# Función para calcular rutas desde cada polígono H3 hacia cada amenity\n",
    "def calculate_routes_from_h3_to_amenities(graph, node_to_h3, amenity_to_h3):\n",
    "    routes = defaultdict(dict)\n",
    "    for node, h3_index_node in node_to_h3.items():\n",
    "        for amenity_id, h3_index_amenity in amenity_to_h3.items():\n",
    "            if nx.has_path(graph, node, amenity_id):\n",
    "                path = nx.shortest_path(graph, node, amenity_id)\n",
    "                routes[h3_index_node][amenity_id] = path\n",
    "    return routes\n",
    "\n",
    "def geo_to_h3 (row):\n",
    "    resolution = 8\n",
    "    return h3.geo_to_h3(row.y, row.x, resolution)"
   ]
  },
  {
   "cell_type": "code",
   "execution_count": 103,
   "metadata": {},
   "outputs": [
    {
     "data": {
      "text/plain": [
       "-12.3713597"
      ]
     },
     "execution_count": 103,
     "metadata": {},
     "output_type": "execute_result"
    }
   ],
   "source": [
    "H.nodes[258066779]['y']"
   ]
  },
  {
   "cell_type": "code",
   "execution_count": 104,
   "metadata": {},
   "outputs": [],
   "source": [
    "lima_nodes['h3_cell'] = lima_nodes.apply(geo_to_h3, axis=1)"
   ]
  },
  {
   "cell_type": "code",
   "execution_count": 105,
   "metadata": {},
   "outputs": [
    {
     "data": {
      "text/plain": [
       "1770"
      ]
     },
     "execution_count": 105,
     "metadata": {},
     "output_type": "execute_result"
    }
   ],
   "source": [
    "lima_nodes['h3_cell'].nunique()"
   ]
  },
  {
   "cell_type": "code",
   "execution_count": 106,
   "metadata": {},
   "outputs": [
    {
     "name": "stderr",
     "output_type": "stream",
     "text": [
      "/home/leibnitz.rojas/.local/lib/python3.6/site-packages/geopandas/geodataframe.py:1322: SettingWithCopyWarning: \n",
      "A value is trying to be set on a copy of a slice from a DataFrame.\n",
      "Try using .loc[row_indexer,col_indexer] = value instead\n",
      "\n",
      "See the caveats in the documentation: https://pandas.pydata.org/pandas-docs/stable/user_guide/indexing.html#returning-a-view-versus-a-copy\n",
      "  super(GeoDataFrame, self).__setitem__(key, value)\n"
     ]
    }
   ],
   "source": [
    "amenities['x'] = amenities['geometry'].x\n",
    "amenities['y'] = amenities['geometry'].y"
   ]
  },
  {
   "cell_type": "code",
   "execution_count": 107,
   "metadata": {},
   "outputs": [],
   "source": [
    "amenities['h3_cell'] = amenities.apply(geo_to_h3, axis=1)"
   ]
  },
  {
   "cell_type": "code",
   "execution_count": 145,
   "metadata": {},
   "outputs": [
    {
     "data": {
      "text/html": [
       "<div>\n",
       "<style scoped>\n",
       "    .dataframe tbody tr th:only-of-type {\n",
       "        vertical-align: middle;\n",
       "    }\n",
       "\n",
       "    .dataframe tbody tr th {\n",
       "        vertical-align: top;\n",
       "    }\n",
       "\n",
       "    .dataframe thead th {\n",
       "        text-align: right;\n",
       "    }\n",
       "</style>\n",
       "<table border=\"1\" class=\"dataframe\">\n",
       "  <thead>\n",
       "    <tr style=\"text-align: right;\">\n",
       "      <th></th>\n",
       "      <th>unique_id</th>\n",
       "      <th>element_type</th>\n",
       "      <th>amenity</th>\n",
       "      <th>geometry_polygon</th>\n",
       "      <th>fee</th>\n",
       "      <th>wheelchair</th>\n",
       "      <th>wheelchair:description</th>\n",
       "      <th>addr:city</th>\n",
       "      <th>addr:housenumber</th>\n",
       "      <th>addr:street</th>\n",
       "      <th>...</th>\n",
       "      <th>wikipedia:en</th>\n",
       "      <th>wikipedia:pl</th>\n",
       "      <th>wikipedia:sv</th>\n",
       "      <th>shortest_name</th>\n",
       "      <th>isPoint</th>\n",
       "      <th>geometry</th>\n",
       "      <th>x</th>\n",
       "      <th>y</th>\n",
       "      <th>h3_cell</th>\n",
       "      <th>h3_geometry</th>\n",
       "    </tr>\n",
       "    <tr>\n",
       "      <th>osmid</th>\n",
       "      <th></th>\n",
       "      <th></th>\n",
       "      <th></th>\n",
       "      <th></th>\n",
       "      <th></th>\n",
       "      <th></th>\n",
       "      <th></th>\n",
       "      <th></th>\n",
       "      <th></th>\n",
       "      <th></th>\n",
       "      <th></th>\n",
       "      <th></th>\n",
       "      <th></th>\n",
       "      <th></th>\n",
       "      <th></th>\n",
       "      <th></th>\n",
       "      <th></th>\n",
       "      <th></th>\n",
       "      <th></th>\n",
       "      <th></th>\n",
       "      <th></th>\n",
       "    </tr>\n",
       "  </thead>\n",
       "  <tbody>\n",
       "    <tr>\n",
       "      <th>3259019072</th>\n",
       "      <td>node/3259019072</td>\n",
       "      <td>node</td>\n",
       "      <td>police</td>\n",
       "      <td>POINT (-76.82449 -12.33707)</td>\n",
       "      <td>NaN</td>\n",
       "      <td>NaN</td>\n",
       "      <td>NaN</td>\n",
       "      <td>NaN</td>\n",
       "      <td>NaN</td>\n",
       "      <td>NaN</td>\n",
       "      <td>...</td>\n",
       "      <td>NaN</td>\n",
       "      <td>NaN</td>\n",
       "      <td>NaN</td>\n",
       "      <td>NaN</td>\n",
       "      <td>True</td>\n",
       "      <td>POINT (-76.82449 -12.33707)</td>\n",
       "      <td>-76.824492</td>\n",
       "      <td>-12.337072</td>\n",
       "      <td>888e620353fffff</td>\n",
       "      <td>POLYGON ((-76.82296 -12.33001, -76.82728 -12.3...</td>\n",
       "    </tr>\n",
       "    <tr>\n",
       "      <th>3759247695</th>\n",
       "      <td>node/3759247695</td>\n",
       "      <td>node</td>\n",
       "      <td>bank</td>\n",
       "      <td>POINT (-76.90608 -12.21089)</td>\n",
       "      <td>NaN</td>\n",
       "      <td>NaN</td>\n",
       "      <td>NaN</td>\n",
       "      <td>NaN</td>\n",
       "      <td>NaN</td>\n",
       "      <td>NaN</td>\n",
       "      <td>...</td>\n",
       "      <td>NaN</td>\n",
       "      <td>NaN</td>\n",
       "      <td>NaN</td>\n",
       "      <td>NaN</td>\n",
       "      <td>True</td>\n",
       "      <td>POINT (-76.90608 -12.21089)</td>\n",
       "      <td>-76.906076</td>\n",
       "      <td>-12.210895</td>\n",
       "      <td>888e62c4b7fffff</td>\n",
       "      <td>POLYGON ((-76.90450 -12.20448, -76.90882 -12.2...</td>\n",
       "    </tr>\n",
       "    <tr>\n",
       "      <th>3759586688</th>\n",
       "      <td>node/3759586688</td>\n",
       "      <td>node</td>\n",
       "      <td>bank</td>\n",
       "      <td>POINT (-76.91030 -12.23102)</td>\n",
       "      <td>NaN</td>\n",
       "      <td>NaN</td>\n",
       "      <td>NaN</td>\n",
       "      <td>NaN</td>\n",
       "      <td>NaN</td>\n",
       "      <td>NaN</td>\n",
       "      <td>...</td>\n",
       "      <td>NaN</td>\n",
       "      <td>NaN</td>\n",
       "      <td>NaN</td>\n",
       "      <td>NaN</td>\n",
       "      <td>True</td>\n",
       "      <td>POINT (-76.91030 -12.23102)</td>\n",
       "      <td>-76.910301</td>\n",
       "      <td>-12.231017</td>\n",
       "      <td>888e621a57fffff</td>\n",
       "      <td>POLYGON ((-76.90679 -12.22829, -76.91111 -12.2...</td>\n",
       "    </tr>\n",
       "    <tr>\n",
       "      <th>4235492500</th>\n",
       "      <td>node/4235492500</td>\n",
       "      <td>node</td>\n",
       "      <td>school</td>\n",
       "      <td>POINT (-76.78649 -12.49113)</td>\n",
       "      <td>NaN</td>\n",
       "      <td>NaN</td>\n",
       "      <td>NaN</td>\n",
       "      <td>NaN</td>\n",
       "      <td>NaN</td>\n",
       "      <td>Entrada A Pucusana</td>\n",
       "      <td>...</td>\n",
       "      <td>NaN</td>\n",
       "      <td>NaN</td>\n",
       "      <td>NaN</td>\n",
       "      <td>NaN</td>\n",
       "      <td>True</td>\n",
       "      <td>POINT (-76.78649 -12.49113)</td>\n",
       "      <td>-76.786486</td>\n",
       "      <td>-12.491131</td>\n",
       "      <td>888e620e55fffff</td>\n",
       "      <td>POLYGON ((-76.78940 -12.48382, -76.79371 -12.4...</td>\n",
       "    </tr>\n",
       "    <tr>\n",
       "      <th>4235507693</th>\n",
       "      <td>node/4235507693</td>\n",
       "      <td>node</td>\n",
       "      <td>school</td>\n",
       "      <td>POINT (-76.79644 -12.48408)</td>\n",
       "      <td>NaN</td>\n",
       "      <td>NaN</td>\n",
       "      <td>NaN</td>\n",
       "      <td>NaN</td>\n",
       "      <td>NaN</td>\n",
       "      <td>Callao</td>\n",
       "      <td>...</td>\n",
       "      <td>NaN</td>\n",
       "      <td>NaN</td>\n",
       "      <td>NaN</td>\n",
       "      <td>NaN</td>\n",
       "      <td>True</td>\n",
       "      <td>POINT (-76.79644 -12.48408)</td>\n",
       "      <td>-76.796443</td>\n",
       "      <td>-12.484079</td>\n",
       "      <td>888e620e43fffff</td>\n",
       "      <td>POLYGON ((-76.79473 -12.47649, -76.79905 -12.4...</td>\n",
       "    </tr>\n",
       "  </tbody>\n",
       "</table>\n",
       "<p>5 rows × 405 columns</p>\n",
       "</div>"
      ],
      "text/plain": [
       "                  unique_id element_type amenity             geometry_polygon  \\\n",
       "osmid                                                                           \n",
       "3259019072  node/3259019072         node  police  POINT (-76.82449 -12.33707)   \n",
       "3759247695  node/3759247695         node    bank  POINT (-76.90608 -12.21089)   \n",
       "3759586688  node/3759586688         node    bank  POINT (-76.91030 -12.23102)   \n",
       "4235492500  node/4235492500         node  school  POINT (-76.78649 -12.49113)   \n",
       "4235507693  node/4235507693         node  school  POINT (-76.79644 -12.48408)   \n",
       "\n",
       "            fee wheelchair wheelchair:description addr:city addr:housenumber  \\\n",
       "osmid                                                                          \n",
       "3259019072  NaN        NaN                    NaN       NaN              NaN   \n",
       "3759247695  NaN        NaN                    NaN       NaN              NaN   \n",
       "3759586688  NaN        NaN                    NaN       NaN              NaN   \n",
       "4235492500  NaN        NaN                    NaN       NaN              NaN   \n",
       "4235507693  NaN        NaN                    NaN       NaN              NaN   \n",
       "\n",
       "                   addr:street  ... wikipedia:en wikipedia:pl wikipedia:sv  \\\n",
       "osmid                           ...                                          \n",
       "3259019072                 NaN  ...          NaN          NaN          NaN   \n",
       "3759247695                 NaN  ...          NaN          NaN          NaN   \n",
       "3759586688                 NaN  ...          NaN          NaN          NaN   \n",
       "4235492500  Entrada A Pucusana  ...          NaN          NaN          NaN   \n",
       "4235507693              Callao  ...          NaN          NaN          NaN   \n",
       "\n",
       "           shortest_name isPoint                     geometry          x  \\\n",
       "osmid                                                                      \n",
       "3259019072           NaN    True  POINT (-76.82449 -12.33707) -76.824492   \n",
       "3759247695           NaN    True  POINT (-76.90608 -12.21089) -76.906076   \n",
       "3759586688           NaN    True  POINT (-76.91030 -12.23102) -76.910301   \n",
       "4235492500           NaN    True  POINT (-76.78649 -12.49113) -76.786486   \n",
       "4235507693           NaN    True  POINT (-76.79644 -12.48408) -76.796443   \n",
       "\n",
       "                    y          h3_cell  \\\n",
       "osmid                                    \n",
       "3259019072 -12.337072  888e620353fffff   \n",
       "3759247695 -12.210895  888e62c4b7fffff   \n",
       "3759586688 -12.231017  888e621a57fffff   \n",
       "4235492500 -12.491131  888e620e55fffff   \n",
       "4235507693 -12.484079  888e620e43fffff   \n",
       "\n",
       "                                                  h3_geometry  \n",
       "osmid                                                          \n",
       "3259019072  POLYGON ((-76.82296 -12.33001, -76.82728 -12.3...  \n",
       "3759247695  POLYGON ((-76.90450 -12.20448, -76.90882 -12.2...  \n",
       "3759586688  POLYGON ((-76.90679 -12.22829, -76.91111 -12.2...  \n",
       "4235492500  POLYGON ((-76.78940 -12.48382, -76.79371 -12.4...  \n",
       "4235507693  POLYGON ((-76.79473 -12.47649, -76.79905 -12.4...  \n",
       "\n",
       "[5 rows x 405 columns]"
      ]
     },
     "execution_count": 145,
     "metadata": {},
     "output_type": "execute_result"
    }
   ],
   "source": [
    "amenities.head()"
   ]
  },
  {
   "cell_type": "markdown",
   "metadata": {},
   "source": [
    "## Plot H3"
   ]
  },
  {
   "cell_type": "code",
   "execution_count": 109,
   "metadata": {},
   "outputs": [
    {
     "name": "stderr",
     "output_type": "stream",
     "text": [
      "/home/leibnitz.rojas/.local/lib/python3.6/site-packages/geopandas/geodataframe.py:1322: SettingWithCopyWarning: \n",
      "A value is trying to be set on a copy of a slice from a DataFrame.\n",
      "Try using .loc[row_indexer,col_indexer] = value instead\n",
      "\n",
      "See the caveats in the documentation: https://pandas.pydata.org/pandas-docs/stable/user_guide/indexing.html#returning-a-view-versus-a-copy\n",
      "  super(GeoDataFrame, self).__setitem__(key, value)\n"
     ]
    }
   ],
   "source": [
    "from shapely.geometry import Polygon\n",
    "def add_geometry(row):\n",
    "    points = h3.h3_to_geo_boundary(row['h3_cell'], True)\n",
    "    return Polygon(points)\n",
    "\n",
    "#Apply function into our dataframe\n",
    "lima_nodes['h3_geometry'] = (lima_nodes.apply(add_geometry,axis=1))\n",
    "amenities['h3_geometry'] = (amenities.apply(add_geometry,axis=1))"
   ]
  },
  {
   "cell_type": "code",
   "execution_count": 110,
   "metadata": {},
   "outputs": [],
   "source": [
    "lima_nodes.set_geometry('h3_geometry', inplace=True)\n",
    "# lima_nodes.plot()"
   ]
  },
  {
   "cell_type": "code",
   "execution_count": 143,
   "metadata": {},
   "outputs": [
    {
     "name": "stderr",
     "output_type": "stream",
     "text": [
      "/home/leibnitz.rojas/.local/lib/python3.6/site-packages/geopandas/geodataframe.py:1322: SettingWithCopyWarning: \n",
      "A value is trying to be set on a copy of a slice from a DataFrame.\n",
      "Try using .loc[row_indexer,col_indexer] = value instead\n",
      "\n",
      "See the caveats in the documentation: https://pandas.pydata.org/pandas-docs/stable/user_guide/indexing.html#returning-a-view-versus-a-copy\n",
      "  super(GeoDataFrame, self).__setitem__(key, value)\n"
     ]
    }
   ],
   "source": [
    "amenities.set_geometry('h3_geometry', inplace=True)"
   ]
  },
  {
   "cell_type": "markdown",
   "metadata": {},
   "source": [
    "## Snap Amenities H3 con Lima nodes H3"
   ]
  },
  {
   "cell_type": "code",
   "execution_count": 148,
   "metadata": {},
   "outputs": [
    {
     "name": "stderr",
     "output_type": "stream",
     "text": [
      "2024-02-24 16:27:43,084 :: INFO :: root :: 35436 :: Proceso SNAP Inicio\n",
      "/home/leibnitz.rojas/.local/lib/python3.6/site-packages/pyproj/crs/crs.py:53: FutureWarning: '+init=<authority>:<code>' syntax is deprecated. '<authority>:<code>' is the preferred initialization method. When making the change, be mindful of axis order changes: https://pyproj4.github.io/pyproj/stable/gotchas.html#axis-order-changes-in-proj-6\n",
      "  return _prepare_from_string(\" \".join(pjargs))\n",
      "/home/leibnitz.rojas/.local/lib/python3.6/site-packages/pyproj/crs/crs.py:294: FutureWarning: '+init=<authority>:<code>' syntax is deprecated. '<authority>:<code>' is the preferred initialization method. When making the change, be mindful of axis order changes: https://pyproj4.github.io/pyproj/stable/gotchas.html#axis-order-changes-in-proj-6\n",
      "  projstring = _prepare_from_string(\" \".join((projstring, projkwargs)))\n",
      "/home/leibnitz.rojas/.local/lib/python3.6/site-packages/pyproj/crs/crs.py:53: FutureWarning: '+init=<authority>:<code>' syntax is deprecated. '<authority>:<code>' is the preferred initialization method. When making the change, be mindful of axis order changes: https://pyproj4.github.io/pyproj/stable/gotchas.html#axis-order-changes-in-proj-6\n",
      "  return _prepare_from_string(\" \".join(pjargs))\n",
      "/home/leibnitz.rojas/.local/lib/python3.6/site-packages/pyproj/crs/crs.py:294: FutureWarning: '+init=<authority>:<code>' syntax is deprecated. '<authority>:<code>' is the preferred initialization method. When making the change, be mindful of axis order changes: https://pyproj4.github.io/pyproj/stable/gotchas.html#axis-order-changes-in-proj-6\n",
      "  projstring = _prepare_from_string(\" \".join((projstring, projkwargs)))\n",
      "/usr/local/lib/python3.6/dist-packages/shapely/ops.py:234: DeprecationWarning: This function is deprecated. See: https://pyproj4.github.io/pyproj/stable/gotchas.html#upgrading-to-pyproj-2-from-pyproj-1\n",
      "  return type(geom)(zip(*func(*izip(*geom.coords))))\n",
      "2024-02-24 23:43:42,213 :: INFO :: root :: 35436 :: Proceso SNAP Fin\n"
     ]
    },
    {
     "name": "stdout",
     "output_type": "stream",
     "text": [
      "CPU times: user 7h 10min 14s, sys: 5min 47s, total: 7h 16min 1s\n",
      "Wall time: 7h 15min 59s\n"
     ]
    }
   ],
   "source": [
    "%%time\n",
    "logger.info(\"Proceso SNAP Inicio\")\n",
    "amenities_snap_limanodes = gn.pandana_snap_points(amenities, lima_nodes)\n",
    "logger.info(\"Proceso SNAP Fin\")"
   ]
  },
  {
   "cell_type": "code",
   "execution_count": 149,
   "metadata": {},
   "outputs": [
    {
     "data": {
      "text/html": [
       "<div>\n",
       "<style scoped>\n",
       "    .dataframe tbody tr th:only-of-type {\n",
       "        vertical-align: middle;\n",
       "    }\n",
       "\n",
       "    .dataframe tbody tr th {\n",
       "        vertical-align: top;\n",
       "    }\n",
       "\n",
       "    .dataframe thead th {\n",
       "        text-align: right;\n",
       "    }\n",
       "</style>\n",
       "<table border=\"1\" class=\"dataframe\">\n",
       "  <thead>\n",
       "    <tr style=\"text-align: right;\">\n",
       "      <th></th>\n",
       "      <th>unique_id</th>\n",
       "      <th>element_type</th>\n",
       "      <th>amenity</th>\n",
       "      <th>geometry_polygon</th>\n",
       "      <th>fee</th>\n",
       "      <th>wheelchair</th>\n",
       "      <th>wheelchair:description</th>\n",
       "      <th>addr:city</th>\n",
       "      <th>addr:housenumber</th>\n",
       "      <th>addr:street</th>\n",
       "      <th>...</th>\n",
       "      <th>wikipedia:en</th>\n",
       "      <th>wikipedia:pl</th>\n",
       "      <th>wikipedia:sv</th>\n",
       "      <th>shortest_name</th>\n",
       "      <th>isPoint</th>\n",
       "      <th>geometry</th>\n",
       "      <th>h3_cell</th>\n",
       "      <th>h3_geometry</th>\n",
       "      <th>NN</th>\n",
       "      <th>NN_dist</th>\n",
       "    </tr>\n",
       "    <tr>\n",
       "      <th>osmid</th>\n",
       "      <th></th>\n",
       "      <th></th>\n",
       "      <th></th>\n",
       "      <th></th>\n",
       "      <th></th>\n",
       "      <th></th>\n",
       "      <th></th>\n",
       "      <th></th>\n",
       "      <th></th>\n",
       "      <th></th>\n",
       "      <th></th>\n",
       "      <th></th>\n",
       "      <th></th>\n",
       "      <th></th>\n",
       "      <th></th>\n",
       "      <th></th>\n",
       "      <th></th>\n",
       "      <th></th>\n",
       "      <th></th>\n",
       "      <th></th>\n",
       "      <th></th>\n",
       "    </tr>\n",
       "  </thead>\n",
       "  <tbody>\n",
       "    <tr>\n",
       "      <th>3259019072</th>\n",
       "      <td>node/3259019072</td>\n",
       "      <td>node</td>\n",
       "      <td>police</td>\n",
       "      <td>POINT (-76.82449 -12.33707)</td>\n",
       "      <td>NaN</td>\n",
       "      <td>NaN</td>\n",
       "      <td>NaN</td>\n",
       "      <td>NaN</td>\n",
       "      <td>NaN</td>\n",
       "      <td>NaN</td>\n",
       "      <td>...</td>\n",
       "      <td>NaN</td>\n",
       "      <td>NaN</td>\n",
       "      <td>NaN</td>\n",
       "      <td>NaN</td>\n",
       "      <td>True</td>\n",
       "      <td>POINT (-76.82449 -12.33707)</td>\n",
       "      <td>888e620353fffff</td>\n",
       "      <td>POLYGON ((-76.82296 -12.33001, -76.82728 -12.3...</td>\n",
       "      <td>495244831</td>\n",
       "      <td>0.000330</td>\n",
       "    </tr>\n",
       "    <tr>\n",
       "      <th>3759247695</th>\n",
       "      <td>node/3759247695</td>\n",
       "      <td>node</td>\n",
       "      <td>bank</td>\n",
       "      <td>POINT (-76.90608 -12.21089)</td>\n",
       "      <td>NaN</td>\n",
       "      <td>NaN</td>\n",
       "      <td>NaN</td>\n",
       "      <td>NaN</td>\n",
       "      <td>NaN</td>\n",
       "      <td>NaN</td>\n",
       "      <td>...</td>\n",
       "      <td>NaN</td>\n",
       "      <td>NaN</td>\n",
       "      <td>NaN</td>\n",
       "      <td>NaN</td>\n",
       "      <td>True</td>\n",
       "      <td>POINT (-76.90608 -12.21089)</td>\n",
       "      <td>888e62c4b7fffff</td>\n",
       "      <td>POLYGON ((-76.90450 -12.20448, -76.90882 -12.2...</td>\n",
       "      <td>3759247684</td>\n",
       "      <td>0.000133</td>\n",
       "    </tr>\n",
       "    <tr>\n",
       "      <th>3759586688</th>\n",
       "      <td>node/3759586688</td>\n",
       "      <td>node</td>\n",
       "      <td>bank</td>\n",
       "      <td>POINT (-76.91030 -12.23102)</td>\n",
       "      <td>NaN</td>\n",
       "      <td>NaN</td>\n",
       "      <td>NaN</td>\n",
       "      <td>NaN</td>\n",
       "      <td>NaN</td>\n",
       "      <td>NaN</td>\n",
       "      <td>...</td>\n",
       "      <td>NaN</td>\n",
       "      <td>NaN</td>\n",
       "      <td>NaN</td>\n",
       "      <td>NaN</td>\n",
       "      <td>True</td>\n",
       "      <td>POINT (-76.91030 -12.23102)</td>\n",
       "      <td>888e621a57fffff</td>\n",
       "      <td>POLYGON ((-76.90679 -12.22829, -76.91111 -12.2...</td>\n",
       "      <td>3756733899</td>\n",
       "      <td>0.000346</td>\n",
       "    </tr>\n",
       "    <tr>\n",
       "      <th>4235492500</th>\n",
       "      <td>node/4235492500</td>\n",
       "      <td>node</td>\n",
       "      <td>school</td>\n",
       "      <td>POINT (-76.78649 -12.49113)</td>\n",
       "      <td>NaN</td>\n",
       "      <td>NaN</td>\n",
       "      <td>NaN</td>\n",
       "      <td>NaN</td>\n",
       "      <td>NaN</td>\n",
       "      <td>Entrada A Pucusana</td>\n",
       "      <td>...</td>\n",
       "      <td>NaN</td>\n",
       "      <td>NaN</td>\n",
       "      <td>NaN</td>\n",
       "      <td>NaN</td>\n",
       "      <td>True</td>\n",
       "      <td>POINT (-76.78649 -12.49113)</td>\n",
       "      <td>888e620e55fffff</td>\n",
       "      <td>POLYGON ((-76.78940 -12.48382, -76.79371 -12.4...</td>\n",
       "      <td>1831352656</td>\n",
       "      <td>0.078740</td>\n",
       "    </tr>\n",
       "    <tr>\n",
       "      <th>4235507693</th>\n",
       "      <td>node/4235507693</td>\n",
       "      <td>node</td>\n",
       "      <td>school</td>\n",
       "      <td>POINT (-76.79644 -12.48408)</td>\n",
       "      <td>NaN</td>\n",
       "      <td>NaN</td>\n",
       "      <td>NaN</td>\n",
       "      <td>NaN</td>\n",
       "      <td>NaN</td>\n",
       "      <td>Callao</td>\n",
       "      <td>...</td>\n",
       "      <td>NaN</td>\n",
       "      <td>NaN</td>\n",
       "      <td>NaN</td>\n",
       "      <td>NaN</td>\n",
       "      <td>True</td>\n",
       "      <td>POINT (-76.79644 -12.48408)</td>\n",
       "      <td>888e620e43fffff</td>\n",
       "      <td>POLYGON ((-76.79473 -12.47649, -76.79905 -12.4...</td>\n",
       "      <td>1932467999</td>\n",
       "      <td>0.073871</td>\n",
       "    </tr>\n",
       "  </tbody>\n",
       "</table>\n",
       "<p>5 rows × 405 columns</p>\n",
       "</div>"
      ],
      "text/plain": [
       "                  unique_id element_type amenity             geometry_polygon  \\\n",
       "osmid                                                                           \n",
       "3259019072  node/3259019072         node  police  POINT (-76.82449 -12.33707)   \n",
       "3759247695  node/3759247695         node    bank  POINT (-76.90608 -12.21089)   \n",
       "3759586688  node/3759586688         node    bank  POINT (-76.91030 -12.23102)   \n",
       "4235492500  node/4235492500         node  school  POINT (-76.78649 -12.49113)   \n",
       "4235507693  node/4235507693         node  school  POINT (-76.79644 -12.48408)   \n",
       "\n",
       "            fee wheelchair wheelchair:description addr:city addr:housenumber  \\\n",
       "osmid                                                                          \n",
       "3259019072  NaN        NaN                    NaN       NaN              NaN   \n",
       "3759247695  NaN        NaN                    NaN       NaN              NaN   \n",
       "3759586688  NaN        NaN                    NaN       NaN              NaN   \n",
       "4235492500  NaN        NaN                    NaN       NaN              NaN   \n",
       "4235507693  NaN        NaN                    NaN       NaN              NaN   \n",
       "\n",
       "                   addr:street  ... wikipedia:en wikipedia:pl wikipedia:sv  \\\n",
       "osmid                           ...                                          \n",
       "3259019072                 NaN  ...          NaN          NaN          NaN   \n",
       "3759247695                 NaN  ...          NaN          NaN          NaN   \n",
       "3759586688                 NaN  ...          NaN          NaN          NaN   \n",
       "4235492500  Entrada A Pucusana  ...          NaN          NaN          NaN   \n",
       "4235507693              Callao  ...          NaN          NaN          NaN   \n",
       "\n",
       "           shortest_name isPoint                     geometry  \\\n",
       "osmid                                                           \n",
       "3259019072           NaN    True  POINT (-76.82449 -12.33707)   \n",
       "3759247695           NaN    True  POINT (-76.90608 -12.21089)   \n",
       "3759586688           NaN    True  POINT (-76.91030 -12.23102)   \n",
       "4235492500           NaN    True  POINT (-76.78649 -12.49113)   \n",
       "4235507693           NaN    True  POINT (-76.79644 -12.48408)   \n",
       "\n",
       "                    h3_cell  \\\n",
       "osmid                         \n",
       "3259019072  888e620353fffff   \n",
       "3759247695  888e62c4b7fffff   \n",
       "3759586688  888e621a57fffff   \n",
       "4235492500  888e620e55fffff   \n",
       "4235507693  888e620e43fffff   \n",
       "\n",
       "                                                  h3_geometry          NN  \\\n",
       "osmid                                                                       \n",
       "3259019072  POLYGON ((-76.82296 -12.33001, -76.82728 -12.3...   495244831   \n",
       "3759247695  POLYGON ((-76.90450 -12.20448, -76.90882 -12.2...  3759247684   \n",
       "3759586688  POLYGON ((-76.90679 -12.22829, -76.91111 -12.2...  3756733899   \n",
       "4235492500  POLYGON ((-76.78940 -12.48382, -76.79371 -12.4...  1831352656   \n",
       "4235507693  POLYGON ((-76.79473 -12.47649, -76.79905 -12.4...  1932467999   \n",
       "\n",
       "             NN_dist  \n",
       "osmid                 \n",
       "3259019072  0.000330  \n",
       "3759247695  0.000133  \n",
       "3759586688  0.000346  \n",
       "4235492500  0.078740  \n",
       "4235507693  0.073871  \n",
       "\n",
       "[5 rows x 405 columns]"
      ]
     },
     "execution_count": 149,
     "metadata": {},
     "output_type": "execute_result"
    }
   ],
   "source": [
    "amenities_snap_limanodes.head()"
   ]
  },
  {
   "cell_type": "code",
   "execution_count": 150,
   "metadata": {},
   "outputs": [],
   "source": [
    "amenities_snap_limanodes.rename(columns={'NN':'glima_osmid', 'NN_dist':'glima_dist' }, inplace=True)"
   ]
  },
  {
   "cell_type": "code",
   "execution_count": 153,
   "metadata": {},
   "outputs": [
    {
     "name": "stdout",
     "output_type": "stream",
     "text": [
      "GrafoLima_edges.csv\t\t\twazeresults30kmh_bank.csv\r\n",
      "GrafoLima_edgeswaze.csv\t\t\twazeresults30kmh_courthouse.csv\r\n",
      "GrafoLima_edgeswaze.zip\t\t\twazeresults30kmh_hospital.csv\r\n",
      "GrafoLima_nodes.csv\t\t\twazeresults30kmh_police.csv\r\n",
      "GrafoLima_nodes.zip\t\t\twazeresults30kmh_school.csv\r\n",
      "GrafoSanBorja_edges.csv\t\t\twazeresults30kmh_university.csv\r\n",
      "GrafoSanBorja_nodes.csv\t\t\twazeresults_bank.csv\r\n",
      "Lima_6Amenities.csv\t\t\twazeresults_courthouse.csv\r\n",
      "LimaAmenitiesSnapLimaNodes.csv\t\twazeresults_hospital.csv\r\n",
      "LimaMinValues2Amenities.csv\t\twazeresults_police.csv\r\n",
      "limaprivado_wazeresults_police.csv\twazeresults_school.csv\r\n",
      "limaprivado_wazeresults_university.csv\twazeresults_university.csv\r\n"
     ]
    }
   ],
   "source": [
    "!ls data"
   ]
  },
  {
   "cell_type": "code",
   "execution_count": 152,
   "metadata": {},
   "outputs": [],
   "source": [
    "amenities_snap_limanodes.to_csv(\"data/LimaAmenitiesSnapLimaNodes.csv\", sep=\";\")"
   ]
  },
  {
   "cell_type": "code",
   "execution_count": 111,
   "metadata": {},
   "outputs": [
    {
     "name": "stdout",
     "output_type": "stream",
     "text": [
      "CPU times: user 1min 2s, sys: 1.14 s, total: 1min 3s\n",
      "Wall time: 1min 3s\n"
     ]
    },
    {
     "data": {
      "text/plain": [
       "<AxesSubplot:>"
      ]
     },
     "execution_count": 111,
     "metadata": {},
     "output_type": "execute_result"
    },
    {
     "data": {
      "image/png": "[encoded data removed]",
      "text/plain": [
       "<Figure size 720x720 with 1 Axes>"
      ]
     },
     "metadata": {
      "needs_background": "light"
     },
     "output_type": "display_data"
    }
   ],
   "source": [
    "%%time\n",
    "# fig, ax = plt.subplots(figsize = (10,10))\n",
    "# lima_nodes.plot(ax=ax)\n",
    "\n",
    "fig, ax = plt.subplots(constrained_layout=True, figsize=(10,10))\n",
    "\n",
    "mapaLimaCallao.boundary.plot(ax=ax, color='black', )\n",
    "\n",
    "lima_plot = lima_nodes\n",
    "\n",
    "# lima_plot.plot(column='wazeinfo1400_minutes', ax=ax[0], legend=False)\n",
    "lima_plot.plot( ax=ax)\n",
    "amenities.plot()\n"
   ]
  },
  {
   "cell_type": "code",
   "execution_count": 114,
   "metadata": {},
   "outputs": [
    {
     "name": "stdout",
     "output_type": "stream",
     "text": [
      "CPU times: user 1.91 s, sys: 0 ns, total: 1.91 s\n",
      "Wall time: 1.91 s\n"
     ]
    },
    {
     "data": {
      "text/plain": [
       "<AxesSubplot:>"
      ]
     },
     "execution_count": 114,
     "metadata": {},
     "output_type": "execute_result"
    },
    {
     "data": {
      "text/plain": [
       "<Figure size 432x288 with 0 Axes>"
      ]
     },
     "metadata": {},
     "output_type": "display_data"
    }
   ],
   "source": [
    "%%time\n",
    "amenities.plot(ax=ax, color='red')"
   ]
  },
  {
   "cell_type": "code",
   "execution_count": 115,
   "metadata": {},
   "outputs": [
    {
     "data": {
      "image/png": "[encoded data removed]",
      "text/plain": [
       "<Figure size 720x720 with 1 Axes>"
      ]
     },
     "execution_count": 115,
     "metadata": {},
     "output_type": "execute_result"
    }
   ],
   "source": [
    "fig"
   ]
  },
  {
   "cell_type": "code",
   "execution_count": 120,
   "metadata": {},
   "outputs": [
    {
     "name": "stdout",
     "output_type": "stream",
     "text": [
      "CPU times: user 11.4 s, sys: 83.5 ms, total: 11.5 s\n",
      "Wall time: 11.5 s\n"
     ]
    }
   ],
   "source": [
    "%%time\n",
    "street_graph = H\n",
    "# Suponiendo que ya tienes cargado tu grafo de calles en 'street_graph' y tu geodataframe de amenities en 'amenities_df'\n",
    "RESOLUTION = 8\n",
    "# Asignar nodos a polígonos H3\n",
    "node_to_h3 = assign_nodes_to_h3(street_graph, resolution=RESOLUTION)  # Ajusta la resolución según tu necesidad\n"
   ]
  },
  {
   "cell_type": "code",
   "execution_count": 124,
   "metadata": {},
   "outputs": [
    {
     "name": "stdout",
     "output_type": "stream",
     "text": [
      "CPU times: user 3.24 s, sys: 60 ms, total: 3.3 s\n",
      "Wall time: 3.3 s\n"
     ]
    }
   ],
   "source": [
    "%%time\n",
    "# Asignar amenities a polígonos H3\n",
    "amenity_to_h3 = assign_amenities_to_h3(amenities, resolution=RESOLUTION)  # Ajusta la resolución según tu necesidad\n"
   ]
  },
  {
   "cell_type": "code",
   "execution_count": 133,
   "metadata": {},
   "outputs": [
    {
     "ename": "NodeNotFound",
     "evalue": "Either source 258066779 or target 3259019072 is not in G",
     "output_type": "error",
     "traceback": [
      "\u001b[0;31m---------------------------------------------------------------------------\u001b[0m",
      "\u001b[0;31mNodeNotFound\u001b[0m                              Traceback (most recent call last)",
      "\u001b[0;32m<timed exec>\u001b[0m in \u001b[0;36m<module>\u001b[0;34m\u001b[0m\n",
      "\u001b[0;32m<ipython-input-123-e3da5e1b452d>\u001b[0m in \u001b[0;36mcalculate_routes_from_h3_to_amenities\u001b[0;34m(graph, node_to_h3, amenity_to_h3)\u001b[0m\n\u001b[1;32m     30\u001b[0m     \u001b[0;32mfor\u001b[0m \u001b[0mnode\u001b[0m\u001b[0;34m,\u001b[0m \u001b[0mh3_index_node\u001b[0m \u001b[0;32min\u001b[0m \u001b[0mnode_to_h3\u001b[0m\u001b[0;34m.\u001b[0m\u001b[0mitems\u001b[0m\u001b[0;34m(\u001b[0m\u001b[0;34m)\u001b[0m\u001b[0;34m:\u001b[0m\u001b[0;34m\u001b[0m\u001b[0;34m\u001b[0m\u001b[0m\n\u001b[1;32m     31\u001b[0m         \u001b[0;32mfor\u001b[0m \u001b[0mamenity_id\u001b[0m\u001b[0;34m,\u001b[0m \u001b[0mh3_index_amenity\u001b[0m \u001b[0;32min\u001b[0m \u001b[0mamenity_to_h3\u001b[0m\u001b[0;34m.\u001b[0m\u001b[0mitems\u001b[0m\u001b[0;34m(\u001b[0m\u001b[0;34m)\u001b[0m\u001b[0;34m:\u001b[0m\u001b[0;34m\u001b[0m\u001b[0;34m\u001b[0m\u001b[0m\n\u001b[0;32m---> 32\u001b[0;31m             \u001b[0;32mif\u001b[0m \u001b[0mnx\u001b[0m\u001b[0;34m.\u001b[0m\u001b[0mhas_path\u001b[0m\u001b[0;34m(\u001b[0m\u001b[0mgraph\u001b[0m\u001b[0;34m,\u001b[0m \u001b[0mnode\u001b[0m\u001b[0;34m,\u001b[0m \u001b[0mamenity_id\u001b[0m\u001b[0;34m)\u001b[0m\u001b[0;34m:\u001b[0m\u001b[0;34m\u001b[0m\u001b[0;34m\u001b[0m\u001b[0m\n\u001b[0m\u001b[1;32m     33\u001b[0m                 \u001b[0mpath\u001b[0m \u001b[0;34m=\u001b[0m \u001b[0mnx\u001b[0m\u001b[0;34m.\u001b[0m\u001b[0mshortest_path\u001b[0m\u001b[0;34m(\u001b[0m\u001b[0mgraph\u001b[0m\u001b[0;34m,\u001b[0m \u001b[0mnode\u001b[0m\u001b[0;34m,\u001b[0m \u001b[0mamenity_id\u001b[0m\u001b[0;34m)\u001b[0m\u001b[0;34m\u001b[0m\u001b[0;34m\u001b[0m\u001b[0m\n\u001b[1;32m     34\u001b[0m                 \u001b[0mroutes\u001b[0m\u001b[0;34m[\u001b[0m\u001b[0mh3_index_node\u001b[0m\u001b[0;34m]\u001b[0m\u001b[0;34m[\u001b[0m\u001b[0mamenity_id\u001b[0m\u001b[0;34m]\u001b[0m \u001b[0;34m=\u001b[0m \u001b[0mpath\u001b[0m\u001b[0;34m\u001b[0m\u001b[0;34m\u001b[0m\u001b[0m\n",
      "\u001b[0;32m~/.local/lib/python3.6/site-packages/networkx/algorithms/shortest_paths/generic.py\u001b[0m in \u001b[0;36mhas_path\u001b[0;34m(G, source, target)\u001b[0m\n\u001b[1;32m     31\u001b[0m     \"\"\"\n\u001b[1;32m     32\u001b[0m     \u001b[0;32mtry\u001b[0m\u001b[0;34m:\u001b[0m\u001b[0;34m\u001b[0m\u001b[0;34m\u001b[0m\u001b[0m\n\u001b[0;32m---> 33\u001b[0;31m         \u001b[0mnx\u001b[0m\u001b[0;34m.\u001b[0m\u001b[0mshortest_path\u001b[0m\u001b[0;34m(\u001b[0m\u001b[0mG\u001b[0m\u001b[0;34m,\u001b[0m \u001b[0msource\u001b[0m\u001b[0;34m,\u001b[0m \u001b[0mtarget\u001b[0m\u001b[0;34m)\u001b[0m\u001b[0;34m\u001b[0m\u001b[0;34m\u001b[0m\u001b[0m\n\u001b[0m\u001b[1;32m     34\u001b[0m     \u001b[0;32mexcept\u001b[0m \u001b[0mnx\u001b[0m\u001b[0;34m.\u001b[0m\u001b[0mNetworkXNoPath\u001b[0m\u001b[0;34m:\u001b[0m\u001b[0;34m\u001b[0m\u001b[0;34m\u001b[0m\u001b[0m\n\u001b[1;32m     35\u001b[0m         \u001b[0;32mreturn\u001b[0m \u001b[0;32mFalse\u001b[0m\u001b[0;34m\u001b[0m\u001b[0;34m\u001b[0m\u001b[0m\n",
      "\u001b[0;32m~/.local/lib/python3.6/site-packages/networkx/algorithms/shortest_paths/generic.py\u001b[0m in \u001b[0;36mshortest_path\u001b[0;34m(G, source, target, weight, method)\u001b[0m\n\u001b[1;32m    158\u001b[0m             \u001b[0;31m# Find shortest source-target path.\u001b[0m\u001b[0;34m\u001b[0m\u001b[0;34m\u001b[0m\u001b[0;34m\u001b[0m\u001b[0m\n\u001b[1;32m    159\u001b[0m             \u001b[0;32mif\u001b[0m \u001b[0mmethod\u001b[0m \u001b[0;34m==\u001b[0m \u001b[0;34m\"unweighted\"\u001b[0m\u001b[0;34m:\u001b[0m\u001b[0;34m\u001b[0m\u001b[0;34m\u001b[0m\u001b[0m\n\u001b[0;32m--> 160\u001b[0;31m                 \u001b[0mpaths\u001b[0m \u001b[0;34m=\u001b[0m \u001b[0mnx\u001b[0m\u001b[0;34m.\u001b[0m\u001b[0mbidirectional_shortest_path\u001b[0m\u001b[0;34m(\u001b[0m\u001b[0mG\u001b[0m\u001b[0;34m,\u001b[0m \u001b[0msource\u001b[0m\u001b[0;34m,\u001b[0m \u001b[0mtarget\u001b[0m\u001b[0;34m)\u001b[0m\u001b[0;34m\u001b[0m\u001b[0;34m\u001b[0m\u001b[0m\n\u001b[0m\u001b[1;32m    161\u001b[0m             \u001b[0;32melif\u001b[0m \u001b[0mmethod\u001b[0m \u001b[0;34m==\u001b[0m \u001b[0;34m\"dijkstra\"\u001b[0m\u001b[0;34m:\u001b[0m\u001b[0;34m\u001b[0m\u001b[0;34m\u001b[0m\u001b[0m\n\u001b[1;32m    162\u001b[0m                 \u001b[0mpaths\u001b[0m \u001b[0;34m=\u001b[0m \u001b[0mnx\u001b[0m\u001b[0;34m.\u001b[0m\u001b[0mdijkstra_path\u001b[0m\u001b[0;34m(\u001b[0m\u001b[0mG\u001b[0m\u001b[0;34m,\u001b[0m \u001b[0msource\u001b[0m\u001b[0;34m,\u001b[0m \u001b[0mtarget\u001b[0m\u001b[0;34m,\u001b[0m \u001b[0mweight\u001b[0m\u001b[0;34m)\u001b[0m\u001b[0;34m\u001b[0m\u001b[0;34m\u001b[0m\u001b[0m\n",
      "\u001b[0;32m~/.local/lib/python3.6/site-packages/networkx/algorithms/shortest_paths/unweighted.py\u001b[0m in \u001b[0;36mbidirectional_shortest_path\u001b[0;34m(G, source, target)\u001b[0m\n\u001b[1;32m    219\u001b[0m     \u001b[0;32mif\u001b[0m \u001b[0msource\u001b[0m \u001b[0;32mnot\u001b[0m \u001b[0;32min\u001b[0m \u001b[0mG\u001b[0m \u001b[0;32mor\u001b[0m \u001b[0mtarget\u001b[0m \u001b[0;32mnot\u001b[0m \u001b[0;32min\u001b[0m \u001b[0mG\u001b[0m\u001b[0;34m:\u001b[0m\u001b[0;34m\u001b[0m\u001b[0;34m\u001b[0m\u001b[0m\n\u001b[1;32m    220\u001b[0m         \u001b[0mmsg\u001b[0m \u001b[0;34m=\u001b[0m \u001b[0;34mf\"Either source {source} or target {target} is not in G\"\u001b[0m\u001b[0;34m\u001b[0m\u001b[0;34m\u001b[0m\u001b[0m\n\u001b[0;32m--> 221\u001b[0;31m         \u001b[0;32mraise\u001b[0m \u001b[0mnx\u001b[0m\u001b[0;34m.\u001b[0m\u001b[0mNodeNotFound\u001b[0m\u001b[0;34m(\u001b[0m\u001b[0mmsg\u001b[0m\u001b[0;34m)\u001b[0m\u001b[0;34m\u001b[0m\u001b[0;34m\u001b[0m\u001b[0m\n\u001b[0m\u001b[1;32m    222\u001b[0m \u001b[0;34m\u001b[0m\u001b[0m\n\u001b[1;32m    223\u001b[0m     \u001b[0;31m# call helper to do the real work\u001b[0m\u001b[0;34m\u001b[0m\u001b[0;34m\u001b[0m\u001b[0;34m\u001b[0m\u001b[0m\n",
      "\u001b[0;31mNodeNotFound\u001b[0m: Either source 258066779 or target 3259019072 is not in G"
     ]
    }
   ],
   "source": [
    "%%time\n",
    "# Calcular rutas desde cada polígono H3 hacia cada amenity\n",
    "routes = calculate_routes_from_h3_to_amenities(street_graph, node_to_h3, amenity_to_h3)\n"
   ]
  },
  {
   "cell_type": "code",
   "execution_count": 130,
   "metadata": {},
   "outputs": [],
   "source": [
    "# len(set(node_to_h3.values()))\n",
    "# len(set(amenity_to_h3.values()))"
   ]
  },
  {
   "cell_type": "code",
   "execution_count": null,
   "metadata": {},
   "outputs": [],
   "source": [
    "# Ejemplo de uso\n",
    "# Suponiendo que ya tienes cargado tu grafo de calles en 'street_graph' y tu geodataframe de amenities en 'amenities_df'\n",
    "RESOLUTION = 8\n",
    "# Asignar nodos a polígonos H3\n",
    "node_to_h3 = assign_nodes_to_h3(street_graph, resolution=RESOLUTION)  # Ajusta la resolución según tu necesidad\n",
    "\n",
    "# Asignar amenities a polígonos H3\n",
    "amenity_to_h3 = assign_amenities_to_h3(amenities_df, resolution=RESOLUTION)  # Ajusta la resolución según tu necesidad\n",
    "\n",
    "# Calcular rutas desde cada polígono H3 hacia cada amenity\n",
    "routes = calculate_routes_from_h3_to_amenities(street_graph, node_to_h3, amenity_to_h3)\n",
    "\n",
    "# Ahora 'routes' contiene las rutas más cercanas desde cada polígono H3 hacia cada amenity\n",
    "# Puedes acceder a las rutas como routes[h3_index_node][amenity_id]"
   ]
  },
  {
   "cell_type": "code",
   "execution_count": 131,
   "metadata": {},
   "outputs": [
    {
     "data": {
      "text/plain": [
       "<networkx.classes.multigraph.MultiGraph at 0x7f0a1c0d88d0>"
      ]
     },
     "execution_count": 131,
     "metadata": {},
     "output_type": "execute_result"
    }
   ],
   "source": [
    "street_graph"
   ]
  },
  {
   "cell_type": "code",
   "execution_count": 132,
   "metadata": {},
   "outputs": [
    {
     "data": {
      "text/plain": [
       "<networkx.classes.multigraph.MultiGraph at 0x7f0a1c0d88d0>"
      ]
     },
     "execution_count": 132,
     "metadata": {},
     "output_type": "execute_result"
    }
   ],
   "source": [
    "H"
   ]
  },
  {
   "cell_type": "code",
   "execution_count": 7,
   "metadata": {},
   "outputs": [
    {
     "name": "stdout",
     "output_type": "stream",
     "text": [
      "GrafoLima_edges.csv\t\t\twazeresults30kmh_courthouse.csv\r\n",
      "GrafoLima_edgeswaze.csv\t\t\twazeresults30kmh_hospital.csv\r\n",
      "GrafoLima_edgeswaze.zip\t\t\twazeresults30kmh_police.csv\r\n",
      "GrafoLima_nodes.csv\t\t\twazeresults30kmh_school.csv\r\n",
      "GrafoLima_nodes.zip\t\t\twazeresults30kmh_university.csv\r\n",
      "GrafoSanBorja_edges.csv\t\t\twazeresults_bank.csv\r\n",
      "GrafoSanBorja_nodes.csv\t\t\twazeresults_courthouse.csv\r\n",
      "LimaMinValues2Amenities.csv\t\twazeresults_hospital.csv\r\n",
      "limaprivado_wazeresults_police.csv\twazeresults_police.csv\r\n",
      "limaprivado_wazeresults_university.csv\twazeresults_school.csv\r\n",
      "wazeresults30kmh_bank.csv\t\twazeresults_university.csv\r\n"
     ]
    }
   ],
   "source": [
    "!ls data"
   ]
  },
  {
   "cell_type": "markdown",
   "metadata": {},
   "source": [
    "# Calculando Ruta más cercana a un amenity"
   ]
  },
  {
   "cell_type": "code",
   "execution_count": 46,
   "metadata": {},
   "outputs": [
    {
     "data": {
      "text/plain": [
       "array(['police', 'bank', 'school', 'courthouse', 'university', 'hospital'],\n",
       "      dtype=object)"
      ]
     },
     "execution_count": 46,
     "metadata": {},
     "output_type": "execute_result"
    }
   ],
   "source": [
    "amenities_snap_limanodes['amenity'].unique()"
   ]
  },
  {
   "cell_type": "code",
   "execution_count": 63,
   "metadata": {},
   "outputs": [
    {
     "name": "stderr",
     "output_type": "stream",
     "text": [
      "2024-02-15 21:32:12,710 :: INFO :: root :: 11378 :: Starting process for amenity bank \n"
     ]
    },
    {
     "data": {
      "text/plain": [
       "839"
      ]
     },
     "execution_count": 63,
     "metadata": {},
     "output_type": "execute_result"
    }
   ],
   "source": [
    "var_amenity = 'bank'\n",
    "\n",
    "logger.info(f\"Starting process for amenity {var_amenity} \")\n",
    "cond = amenities_snap_limanodes['amenity'] == var_amenity\n",
    "\n",
    "nearestnodes2amenities = list(amenities_snap_limanodes.loc[cond,:]['glima_osmid'].values)\n",
    "nearestnodes2amenities = list(set(nearestnodes2amenities))\n",
    "len(nearestnodes2amenities)"
   ]
  },
  {
   "cell_type": "code",
   "execution_count": 64,
   "metadata": {},
   "outputs": [],
   "source": [
    "# fig, ax = plt.subplots(figsize=(15,15))\n",
    "\n",
    "# # nodes.plot(ax=ax, color='g')\n",
    "# # edges.plot(ax=ax, color='yellow', alpha=0.5)\n",
    "# lima_edges.plot(ax=ax)\n",
    "# # cuscoshape.plot(ax=ax, color='gray', alpha=0.2)\n",
    "# # rutascuscounique_gnodes.plot(ax=ax) \n",
    "# # inputdf.plot(ax=ax, color='red')\n",
    "\n",
    "# # amenities_cols = ['unique_id', 'osmid', 'element_type', 'amenity', 'name',  'geometry',]\n",
    "# # amenities.loc[cond, amenities_cols ].head(2)\n",
    "# amenities_snap_limanodes.loc[cond, :].plot(ax=ax, color='green', marker='x' , )\n",
    "# # amenities_gtransporte.loc[[874430122], :].plot(ax=ax, color='black', )\n",
    "\n",
    "# lima_nodes.loc[nearestnodes2amenities,:].plot(ax=ax, color='red')\n",
    "\n",
    "# # nodes.loc[nodes2plot,:].plot(ax=ax, color='red')\n",
    "# # H_nodes.loc[[30965748],:].plot(ax=ax, color='black')\n",
    "# # H_nodes.loc[[995446222],:].plot(ax=ax, color='cyan')\n",
    "# # 30965748\t995446222"
   ]
  },
  {
   "cell_type": "code",
   "execution_count": 65,
   "metadata": {},
   "outputs": [
    {
     "name": "stdout",
     "output_type": "stream",
     "text": [
      "148111\n",
      "839\n"
     ]
    }
   ],
   "source": [
    "nodes_source = list(set(lima_nodes.index))\n",
    "print(len(nodes_source))\n",
    "nodes_target = nearestnodes2amenities\n",
    "print(len(nodes_target))"
   ]
  },
  {
   "cell_type": "code",
   "execution_count": 66,
   "metadata": {},
   "outputs": [
    {
     "data": {
      "text/plain": [
       "124265129"
      ]
     },
     "execution_count": 66,
     "metadata": {},
     "output_type": "execute_result"
    }
   ],
   "source": [
    "nodes_sourcecrosstarget = list(itertools.product(nodes_source, nodes_target))\n",
    "len(nodes_sourcecrosstarget)"
   ]
  },
  {
   "cell_type": "code",
   "execution_count": 70,
   "metadata": {},
   "outputs": [],
   "source": [
    "def shortest_path_transporte(G, node_source, node_target):\n",
    "    try:\n",
    "        resdict = {}\n",
    "        for w in ['wazeinfo0800_minutes', 'wazeinfo0800_km', 'wazeinfo1400_minutes', 'wazeinfo1400_km']:\n",
    "#         for w in ['tiempoponderado30kmh']:\n",
    "            res = nx.shortest_path_length(G, \n",
    "                                      source=node_source, \n",
    "                                      target=node_target, \n",
    "                                      weight=w)\n",
    "            resdict[w] = res\n",
    "    except Exception as e:\n",
    "        resdict = {}\n",
    "    return resdict  "
   ]
  },
  {
   "cell_type": "code",
   "execution_count": 68,
   "metadata": {},
   "outputs": [
    {
     "data": {
      "text/html": [
       "<div>\n",
       "<style scoped>\n",
       "    .dataframe tbody tr th:only-of-type {\n",
       "        vertical-align: middle;\n",
       "    }\n",
       "\n",
       "    .dataframe tbody tr th {\n",
       "        vertical-align: top;\n",
       "    }\n",
       "\n",
       "    .dataframe thead th {\n",
       "        text-align: right;\n",
       "    }\n",
       "</style>\n",
       "<table border=\"1\" class=\"dataframe\">\n",
       "  <thead>\n",
       "    <tr style=\"text-align: right;\">\n",
       "      <th></th>\n",
       "      <th>source</th>\n",
       "      <th>target</th>\n",
       "    </tr>\n",
       "  </thead>\n",
       "  <tbody>\n",
       "    <tr>\n",
       "      <th>0</th>\n",
       "      <td>1738539013</td>\n",
       "      <td>108191745</td>\n",
       "    </tr>\n",
       "    <tr>\n",
       "      <th>1</th>\n",
       "      <td>1738539013</td>\n",
       "      <td>4410796033</td>\n",
       "    </tr>\n",
       "    <tr>\n",
       "      <th>2</th>\n",
       "      <td>1738539013</td>\n",
       "      <td>108191747</td>\n",
       "    </tr>\n",
       "  </tbody>\n",
       "</table>\n",
       "</div>"
      ],
      "text/plain": [
       "       source      target\n",
       "0  1738539013   108191745\n",
       "1  1738539013  4410796033\n",
       "2  1738539013   108191747"
      ]
     },
     "execution_count": 68,
     "metadata": {},
     "output_type": "execute_result"
    }
   ],
   "source": [
    "nodes_sourcecrosstarget_df = pd.DataFrame(nodes_sourcecrosstarget, columns=['source', 'target'])\n",
    "nodes_sourcecrosstarget_df.head(3)"
   ]
  },
  {
   "cell_type": "code",
   "execution_count": 69,
   "metadata": {},
   "outputs": [
    {
     "data": {
      "text/plain": [
       "(124265129, 3106628.225)"
      ]
     },
     "execution_count": 69,
     "metadata": {},
     "output_type": "execute_result"
    }
   ],
   "source": [
    "nodes_sourcecrosstarget_df.shape[0] , nodes_sourcecrosstarget_df.shape[0]/40"
   ]
  },
  {
   "cell_type": "code",
   "execution_count": null,
   "metadata": {},
   "outputs": [
    {
     "name": "stdout",
     "output_type": "stream",
     "text": [
      "Num Cores --> 40\n"
     ]
    },
    {
     "name": "stderr",
     "output_type": "stream",
     "text": [
      "2024-02-15 21:36:35,272 :: INFO :: root :: 11378 :: Multiprocessing started.\n"
     ]
    }
   ],
   "source": [
    "%%time\n",
    "def process_row(row):\n",
    "    result = shortest_path_transporte(H, row.source, row.target)\n",
    "    return result\n",
    "\n",
    "def split_dataframe(df, chunk_size):\n",
    "    chunks = [df[i:i + chunk_size] for i in range(0, df.shape[0], chunk_size)]\n",
    "    return chunks\n",
    "\n",
    "def apply_chunk(chunk):\n",
    "    return chunk.apply(process_row, axis=1)\n",
    "\n",
    "# Define the chunk size based on your dataset size and available resources\n",
    "chunk_size = 500000\n",
    "\n",
    "inputdf = nodes_sourcecrosstarget_df\n",
    "\n",
    "data_chunks = split_dataframe(inputdf, chunk_size)\n",
    "\n",
    "# Get the number of available CPU cores\n",
    "# num_cores = cpu_count()\n",
    "num_cores = int(inputdf.shape[0]/chunk_size)+1\n",
    "if num_cores > cpu_count():\n",
    "    num_cores = cpu_count()\n",
    "# num_cores = cpu_count()\n",
    "print(f\"Num Cores --> {num_cores}\")\n",
    "\n",
    "# # Create a multiprocessing pool with the number of cores\n",
    "with Pool(num_cores) as pool:\n",
    "    logger.info(\"Multiprocessing started.\")\n",
    "    results = pool.map(apply_chunk, data_chunks)\n",
    "    logger.info(\"Multiprocessing completed.\")"
   ]
  },
  {
   "cell_type": "code",
   "execution_count": null,
   "metadata": {},
   "outputs": [],
   "source": [
    "results_df = pd.DataFrame(pd.concat(results), columns=['dict'])\n",
    "results_df.head()"
   ]
  },
  {
   "cell_type": "code",
   "execution_count": null,
   "metadata": {},
   "outputs": [],
   "source": [
    "cond = results_df['dict'].map(len)>0\n",
    "results_df[cond]"
   ]
  },
  {
   "cell_type": "code",
   "execution_count": null,
   "metadata": {},
   "outputs": [],
   "source": [
    "df = nodes_sourcecrosstarget_df.merge(results_df[cond], how='inner', left_index=True, right_index=True)\n",
    "df.head()"
   ]
  },
  {
   "cell_type": "code",
   "execution_count": null,
   "metadata": {},
   "outputs": [],
   "source": [
    "%%time\n",
    "# Create an empty DataFrame with columns as unique keys from all dictionaries\n",
    "columns = set().union(*(d.keys() for d in df['dict'] if d))\n",
    "df2 = pd.DataFrame(columns=columns)\n",
    "df2.head()"
   ]
  },
  {
   "cell_type": "code",
   "execution_count": null,
   "metadata": {},
   "outputs": [],
   "source": [
    "%%time\n",
    "# Iterate through each row's dictionary and populate the result DataFrame\n",
    "for idx, row in df.iterrows():\n",
    "    df2.loc[idx] = row['dict']"
   ]
  },
  {
   "cell_type": "code",
   "execution_count": null,
   "metadata": {},
   "outputs": [],
   "source": [
    "# df.merge(df2, )\n",
    "df3 = df[['source', 'target']].merge(df2, how='left', left_index=True, right_index=True)\n",
    "df3"
   ]
  },
  {
   "cell_type": "code",
   "execution_count": null,
   "metadata": {},
   "outputs": [],
   "source": [
    "df3.to_csv(f\"data/limaprivado_wazeresults_{var_amenity}.csv\", sep=';', index=False)\n",
    "\n",
    "logger.info(f\"Finishing process for amenity {var_amenity} \")"
   ]
  },
  {
   "cell_type": "code",
   "execution_count": null,
   "metadata": {},
   "outputs": [],
   "source": [
    "!ls data/"
   ]
  },
  {
   "cell_type": "code",
   "execution_count": null,
   "metadata": {},
   "outputs": [],
   "source": []
  }
 ],
 "metadata": {
  "kernelspec": {
   "display_name": "Python 3",
   "language": "python",
   "name": "python3"
  },
  "language_info": {
   "codemirror_mode": {
    "name": "ipython",
    "version": 3
   },
   "file_extension": ".py",
   "mimetype": "text/x-python",
   "name": "python",
   "nbconvert_exporter": "python",
   "pygments_lexer": "ipython3",
   "version": "3.6.9"
  }
 },
 "nbformat": 4,
 "nbformat_minor": 4
}
