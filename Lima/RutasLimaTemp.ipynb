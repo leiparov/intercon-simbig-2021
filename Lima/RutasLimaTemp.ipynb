{
 "cells": [
  {
   "cell_type": "code",
   "execution_count": 37,
   "metadata": {},
   "outputs": [],
   "source": [
    "import pandas as pd\n",
    "import seaborn as sns"
   ]
  },
  {
   "cell_type": "code",
   "execution_count": 38,
   "metadata": {
    "scrolled": true
   },
   "outputs": [
    {
     "name": "stdout",
     "output_type": "stream",
     "text": [
      "(315834, 3)\n"
     ]
    },
    {
     "data": {
      "text/plain": [
       "<AxesSubplot:xlabel='wazeinfo_km', ylabel='Count'>"
      ]
     },
     "execution_count": 38,
     "metadata": {},
     "output_type": "execute_result"
    },
    {
     "data": {
      "image/png": "[encoded data removed]",
      "text/plain": [
       "<Figure size 432x288 with 1 Axes>"
      ]
     },
     "metadata": {
      "needs_background": "light"
     },
     "output_type": "display_data"
    }
   ],
   "source": [
    "results = pd.read_csv('RutasLimaWaze.txt', sep=';', index_col=0,names=['u','v','wazeinfo'])\n",
    "print(results.shape)\n",
    "results['wazeinfo_minutes'] = results.apply(lambda x: x['wazeinfo'].replace('(','').replace(')','').split(',')[0], axis=1)\n",
    "results['wazeinfo_km'] = results.apply(lambda x: x['wazeinfo'].replace('(','').replace(')','').split(',')[1], axis=1)\n",
    "results[['wazeinfo_minutes', 'wazeinfo_km']] = results[['wazeinfo_minutes', 'wazeinfo_km']].astype(float)\n",
    "# results\n",
    "\n",
    "sns.histplot(results, x='wazeinfo_km', stat='count', cumulative=True)"
   ]
  },
  {
   "cell_type": "code",
   "execution_count": 25,
   "metadata": {},
   "outputs": [
    {
     "data": {
      "text/plain": [
       "<AxesSubplot:xlabel='wazeinfo_minutes', ylabel='Count'>"
      ]
     },
     "execution_count": 25,
     "metadata": {},
     "output_type": "execute_result"
    },
    {
     "data": {
      "image/png": "[encoded data removed]",
      "text/plain": [
       "<Figure size 432x288 with 1 Axes>"
      ]
     },
     "metadata": {
      "needs_background": "light"
     },
     "output_type": "display_data"
    }
   ],
   "source": [
    "sns.histplot(results, x='wazeinfo_minutes', stat='count', )"
   ]
  },
  {
   "cell_type": "code",
   "execution_count": 26,
   "metadata": {},
   "outputs": [
    {
     "data": {
      "text/html": [
       "<div>\n",
       "<style scoped>\n",
       "    .dataframe tbody tr th:only-of-type {\n",
       "        vertical-align: middle;\n",
       "    }\n",
       "\n",
       "    .dataframe tbody tr th {\n",
       "        vertical-align: top;\n",
       "    }\n",
       "\n",
       "    .dataframe thead th {\n",
       "        text-align: right;\n",
       "    }\n",
       "</style>\n",
       "<table border=\"1\" class=\"dataframe\">\n",
       "  <thead>\n",
       "    <tr style=\"text-align: right;\">\n",
       "      <th></th>\n",
       "      <th>u</th>\n",
       "      <th>v</th>\n",
       "      <th>wazeinfo</th>\n",
       "      <th>wazeinfo_minutes</th>\n",
       "      <th>wazeinfo_km</th>\n",
       "    </tr>\n",
       "  </thead>\n",
       "  <tbody>\n",
       "    <tr>\n",
       "      <th>350000</th>\n",
       "      <td>3107394586</td>\n",
       "      <td>3107394545</td>\n",
       "      <td>(0.0, 0.002)</td>\n",
       "      <td>0.000000</td>\n",
       "      <td>0.002</td>\n",
       "    </tr>\n",
       "    <tr>\n",
       "      <th>0</th>\n",
       "      <td>258066779</td>\n",
       "      <td>10985400003</td>\n",
       "      <td>(-1, -1)</td>\n",
       "      <td>-1.000000</td>\n",
       "      <td>-1.000</td>\n",
       "    </tr>\n",
       "    <tr>\n",
       "      <th>350001</th>\n",
       "      <td>3107394586</td>\n",
       "      <td>3107394618</td>\n",
       "      <td>(1.0333333333333334, 0.252)</td>\n",
       "      <td>1.033333</td>\n",
       "      <td>0.252</td>\n",
       "    </tr>\n",
       "    <tr>\n",
       "      <th>1</th>\n",
       "      <td>258066779</td>\n",
       "      <td>258066780</td>\n",
       "      <td>(-1, -1)</td>\n",
       "      <td>-1.000000</td>\n",
       "      <td>-1.000</td>\n",
       "    </tr>\n",
       "    <tr>\n",
       "      <th>350002</th>\n",
       "      <td>3107394597</td>\n",
       "      <td>3107394602</td>\n",
       "      <td>(0.05, 0.035)</td>\n",
       "      <td>0.050000</td>\n",
       "      <td>0.035</td>\n",
       "    </tr>\n",
       "  </tbody>\n",
       "</table>\n",
       "</div>"
      ],
      "text/plain": [
       "                 u            v                     wazeinfo  \\\n",
       "350000  3107394586   3107394545                 (0.0, 0.002)   \n",
       "0        258066779  10985400003                     (-1, -1)   \n",
       "350001  3107394586   3107394618  (1.0333333333333334, 0.252)   \n",
       "1        258066779    258066780                     (-1, -1)   \n",
       "350002  3107394597   3107394602                (0.05, 0.035)   \n",
       "\n",
       "        wazeinfo_minutes  wazeinfo_km  \n",
       "350000          0.000000        0.002  \n",
       "0              -1.000000       -1.000  \n",
       "350001          1.033333        0.252  \n",
       "1              -1.000000       -1.000  \n",
       "350002          0.050000        0.035  "
      ]
     },
     "execution_count": 26,
     "metadata": {},
     "output_type": "execute_result"
    }
   ],
   "source": [
    "results.head()"
   ]
  },
  {
   "cell_type": "code",
   "execution_count": 30,
   "metadata": {},
   "outputs": [
    {
     "data": {
      "image/png": "[encoded data removed]",
      "text/plain": [
       "<Figure size 432x288 with 1 Axes>"
      ]
     },
     "metadata": {
      "needs_background": "light"
     },
     "output_type": "display_data"
    }
   ],
   "source": [
    "ax = results['wazeinfo_km'].hist()\n",
    "ax.set_xscale('log')"
   ]
  },
  {
   "cell_type": "code",
   "execution_count": 32,
   "metadata": {},
   "outputs": [
    {
     "data": {
      "text/plain": [
       "-1.000     33001\n",
       " 0.000     30897\n",
       " 0.001     13693\n",
       " 0.002     10807\n",
       " 0.003      7727\n",
       "           ...  \n",
       " 1.153         1\n",
       " 1.220         1\n",
       " 1.207         1\n",
       " 4.414         1\n",
       " 10.648        1\n",
       "Name: wazeinfo_km, Length: 2263, dtype: int64"
      ]
     },
     "execution_count": 32,
     "metadata": {},
     "output_type": "execute_result"
    }
   ],
   "source": [
    "results['wazeinfo_km'].value_counts()"
   ]
  },
  {
   "cell_type": "code",
   "execution_count": 35,
   "metadata": {},
   "outputs": [
    {
     "name": "stdout",
     "output_type": "stream",
     "text": [
      "cache\t\t\t      RutasLima.ipynb\t   RutasLimaWaze.txt\r\n",
      "RutasLima_20230801001735.log  RutasLimaTemp.ipynb\r\n"
     ]
    }
   ],
   "source": [
    "!ls"
   ]
  },
  {
   "cell_type": "code",
   "execution_count": null,
   "metadata": {},
   "outputs": [],
   "source": []
  }
 ],
 "metadata": {
  "kernelspec": {
   "display_name": "Python 3",
   "language": "python",
   "name": "python3"
  },
  "language_info": {
   "codemirror_mode": {
    "name": "ipython",
    "version": 3
   },
   "file_extension": ".py",
   "mimetype": "text/x-python",
   "name": "python",
   "nbconvert_exporter": "python",
   "pygments_lexer": "ipython3",
   "version": "3.6.9"
  }
 },
 "nbformat": 4,
 "nbformat_minor": 4
}
