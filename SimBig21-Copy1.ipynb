{
 "cells": [
  {
   "cell_type": "code",
   "execution_count": 249,
   "metadata": {},
   "outputs": [],
   "source": [
    "import osmnx as ox\n",
    "import networkx as nx\n",
    "import pandas as pd\n",
    "pd.set_option('display.max_columns', None)\n",
    "from shapely.geometry import Point\n",
    "\n",
    "import json\n",
    "import geopandas as gpd\n",
    "import matplotlib.pyplot as plt\n",
    "import GOSTnets as gn\n",
    "import numpy as np"
   ]
  },
  {
   "cell_type": "code",
   "execution_count": 250,
   "metadata": {},
   "outputs": [],
   "source": [
    "limaMapa = gpd.read_file(\"../Turismo/shapes/peru.shp\")"
   ]
  },
  {
   "cell_type": "code",
   "execution_count": 251,
   "metadata": {},
   "outputs": [
    {
     "data": {
      "text/plain": [
       "<AxesSubplot:>"
      ]
     },
     "execution_count": 251,
     "metadata": {},
     "output_type": "execute_result"
    },
    {
     "data": {
      "image/png": "[encoded data removed]",
      "text/plain": [
       "<Figure size 432x288 with 1 Axes>"
      ]
     },
     "metadata": {
      "needs_background": "light"
     },
     "output_type": "display_data"
    }
   ],
   "source": [
    "cond = limaMapa['provincia'] == 'LIMA'\n",
    "limaMapa[cond].plot()"
   ]
  },
  {
   "cell_type": "code",
   "execution_count": 252,
   "metadata": {},
   "outputs": [
    {
     "data": {
      "text/plain": [
       "array(['ANCON', 'ATE', 'BARRANCO', 'BREÑA', 'CARABAYLLO', 'CHACLACAYO',\n",
       "       'CHORRILLOS', 'CIENEGUILLA', 'COMAS', 'EL AGUSTINO',\n",
       "       'INDEPENDENCIA', 'JESUS MARIA', 'LA MOLINA', 'LA VICTORIA', 'LIMA',\n",
       "       'LINCE', 'LOS OLIVOS', 'LURIGANCHO', 'LURIN', 'MAGDALENA DEL MAR',\n",
       "       'MIRAFLORES', 'PACHACAMAC', 'PUCUSANA', 'PUEBLO LIBRE',\n",
       "       'PUENTE PIEDRA', 'PUNTA HERMOSA', 'PUNTA NEGRA', 'RIMAC',\n",
       "       'SAN BARTOLO', 'SAN BORJA', 'SAN ISIDRO', 'SAN JUAN DE LURIGANCHO',\n",
       "       'SAN JUAN DE MIRAFLORES', 'SAN LUIS', 'SAN MARTIN DE PORRES',\n",
       "       'SAN MIGUEL', 'SANTA ANITA', 'SANTA MARIA DEL MAR', 'SANTA ROSA',\n",
       "       'SANTIAGO DE SURCO', 'SURQUILLO', 'VILLA EL SALVADOR',\n",
       "       'VILLA MARIA DEL TRIUNFO'], dtype=object)"
      ]
     },
     "execution_count": 252,
     "metadata": {},
     "output_type": "execute_result"
    }
   ],
   "source": [
    "lima_distritos = np.sort(limaMapa[cond]['distrito'].unique())\n",
    "lima_distritos"
   ]
  },
  {
   "cell_type": "code",
   "execution_count": 253,
   "metadata": {},
   "outputs": [
    {
     "name": "stdout",
     "output_type": "stream",
     "text": [
      "1629037421.4691584\n"
     ]
    }
   ],
   "source": [
    "import time\n",
    "start = time.time()\n",
    "print(start)"
   ]
  },
  {
   "cell_type": "code",
   "execution_count": 254,
   "metadata": {},
   "outputs": [],
   "source": [
    "#Global vars\n",
    "place_name = \"pucusana, Lima\"\n",
    "result = 1"
   ]
  },
  {
   "cell_type": "code",
   "execution_count": 255,
   "metadata": {},
   "outputs": [
    {
     "name": "stdout",
     "output_type": "stream",
     "text": [
      "Name: \n",
      "Type: MultiDiGraph\n",
      "Number of nodes: 457\n",
      "Number of edges: 1146\n",
      "Average in degree:   2.5077\n",
      "Average out degree:   2.5077\n",
      "CPU times: user 3.88 s, sys: 62.4 ms, total: 3.94 s\n",
      "Wall time: 8.82 s\n"
     ]
    }
   ],
   "source": [
    "%%time\n",
    "#Getting graph from OSM\n",
    "graph = ox.graph_from_place(place_name, which_result=result, network_type='drive')\n",
    "nodes, edges = ox.graph_to_gdfs(graph)\n",
    "print(nx.info(graph))"
   ]
  },
  {
   "cell_type": "code",
   "execution_count": 256,
   "metadata": {},
   "outputs": [
    {
     "data": {
      "text/html": [
       "<div>\n",
       "<style scoped>\n",
       "    .dataframe tbody tr th:only-of-type {\n",
       "        vertical-align: middle;\n",
       "    }\n",
       "\n",
       "    .dataframe tbody tr th {\n",
       "        vertical-align: top;\n",
       "    }\n",
       "\n",
       "    .dataframe thead th {\n",
       "        text-align: right;\n",
       "    }\n",
       "</style>\n",
       "<table border=\"1\" class=\"dataframe\">\n",
       "  <thead>\n",
       "    <tr style=\"text-align: right;\">\n",
       "      <th></th>\n",
       "      <th>y</th>\n",
       "      <th>x</th>\n",
       "      <th>street_count</th>\n",
       "      <th>highway</th>\n",
       "      <th>geometry</th>\n",
       "    </tr>\n",
       "    <tr>\n",
       "      <th>osmid</th>\n",
       "      <th></th>\n",
       "      <th></th>\n",
       "      <th></th>\n",
       "      <th></th>\n",
       "      <th></th>\n",
       "    </tr>\n",
       "  </thead>\n",
       "  <tbody>\n",
       "    <tr>\n",
       "      <th>318813749</th>\n",
       "      <td>-12.491887</td>\n",
       "      <td>-76.792846</td>\n",
       "      <td>3</td>\n",
       "      <td>NaN</td>\n",
       "      <td>POINT (-76.79285 -12.49189)</td>\n",
       "    </tr>\n",
       "    <tr>\n",
       "      <th>318813750</th>\n",
       "      <td>-12.484027</td>\n",
       "      <td>-76.796057</td>\n",
       "      <td>3</td>\n",
       "      <td>NaN</td>\n",
       "      <td>POINT (-76.79606 -12.48403)</td>\n",
       "    </tr>\n",
       "    <tr>\n",
       "      <th>318813751</th>\n",
       "      <td>-12.482597</td>\n",
       "      <td>-76.796612</td>\n",
       "      <td>4</td>\n",
       "      <td>NaN</td>\n",
       "      <td>POINT (-76.79661 -12.48260)</td>\n",
       "    </tr>\n",
       "    <tr>\n",
       "      <th>318813753</th>\n",
       "      <td>-12.480314</td>\n",
       "      <td>-76.789954</td>\n",
       "      <td>3</td>\n",
       "      <td>NaN</td>\n",
       "      <td>POINT (-76.78995 -12.48031)</td>\n",
       "    </tr>\n",
       "    <tr>\n",
       "      <th>1273453996</th>\n",
       "      <td>-12.485082</td>\n",
       "      <td>-76.797332</td>\n",
       "      <td>1</td>\n",
       "      <td>NaN</td>\n",
       "      <td>POINT (-76.79733 -12.48508)</td>\n",
       "    </tr>\n",
       "  </tbody>\n",
       "</table>\n",
       "</div>"
      ],
      "text/plain": [
       "                    y          x  street_count highway  \\\n",
       "osmid                                                    \n",
       "318813749  -12.491887 -76.792846             3     NaN   \n",
       "318813750  -12.484027 -76.796057             3     NaN   \n",
       "318813751  -12.482597 -76.796612             4     NaN   \n",
       "318813753  -12.480314 -76.789954             3     NaN   \n",
       "1273453996 -12.485082 -76.797332             1     NaN   \n",
       "\n",
       "                               geometry  \n",
       "osmid                                    \n",
       "318813749   POINT (-76.79285 -12.49189)  \n",
       "318813750   POINT (-76.79606 -12.48403)  \n",
       "318813751   POINT (-76.79661 -12.48260)  \n",
       "318813753   POINT (-76.78995 -12.48031)  \n",
       "1273453996  POINT (-76.79733 -12.48508)  "
      ]
     },
     "execution_count": 256,
     "metadata": {},
     "output_type": "execute_result"
    }
   ],
   "source": [
    "nodes.head()"
   ]
  },
  {
   "cell_type": "code",
   "execution_count": 257,
   "metadata": {},
   "outputs": [
    {
     "name": "stdout",
     "output_type": "stream",
     "text": [
      "CPU times: user 1.22 s, sys: 17 ms, total: 1.24 s\n",
      "Wall time: 3.09 s\n"
     ]
    }
   ],
   "source": [
    "%%time\n",
    "#Getting amenities from OSM\n",
    "amenities = ox.geometries_from_place(place_name, which_result=result ,tags={'amenity':True} )\n",
    "amenities['isPoint'] = amenities.apply(lambda x: type(x.geometry) is Point , axis=1)\n",
    "amenities.rename(columns={'geometry':'geometry_polygon'}, inplace=True)\n",
    "amenities['geometry'] = amenities.apply(lambda x: x['geometry_polygon'].centroid, axis=1)\n",
    "amenities.set_geometry('geometry')\n",
    "amenities.set_index('osmid', inplace=True)\n",
    "# amenities.head()"
   ]
  },
  {
   "cell_type": "code",
   "execution_count": 258,
   "metadata": {},
   "outputs": [
    {
     "data": {
      "text/html": [
       "<div>\n",
       "<style scoped>\n",
       "    .dataframe tbody tr th:only-of-type {\n",
       "        vertical-align: middle;\n",
       "    }\n",
       "\n",
       "    .dataframe tbody tr th {\n",
       "        vertical-align: top;\n",
       "    }\n",
       "\n",
       "    .dataframe thead th {\n",
       "        text-align: right;\n",
       "    }\n",
       "</style>\n",
       "<table border=\"1\" class=\"dataframe\">\n",
       "  <thead>\n",
       "    <tr style=\"text-align: right;\">\n",
       "      <th></th>\n",
       "      <th>unique_id</th>\n",
       "      <th>element_type</th>\n",
       "      <th>geometry_polygon</th>\n",
       "      <th>amenity</th>\n",
       "      <th>name</th>\n",
       "      <th>geometry</th>\n",
       "    </tr>\n",
       "    <tr>\n",
       "      <th>osmid</th>\n",
       "      <th></th>\n",
       "      <th></th>\n",
       "      <th></th>\n",
       "      <th></th>\n",
       "      <th></th>\n",
       "      <th></th>\n",
       "    </tr>\n",
       "  </thead>\n",
       "  <tbody>\n",
       "  </tbody>\n",
       "</table>\n",
       "</div>"
      ],
      "text/plain": [
       "Empty GeoDataFrame\n",
       "Columns: [unique_id, element_type, geometry_polygon, amenity, name, geometry]\n",
       "Index: []"
      ]
     },
     "execution_count": 258,
     "metadata": {},
     "output_type": "execute_result"
    }
   ],
   "source": [
    "_amenity = 'bank'\n",
    "amenities_as_points = amenities[amenities['amenity'] == _amenity] \n",
    "columns = ['unique_id', 'element_type', 'geometry_polygon', \n",
    "               'amenity', 'name', 'geometry']\n",
    "\n",
    "amenities_as_points[columns].head()"
   ]
  },
  {
   "cell_type": "code",
   "execution_count": 259,
   "metadata": {},
   "outputs": [
    {
     "data": {
      "text/plain": [
       "<AxesSubplot:>"
      ]
     },
     "execution_count": 259,
     "metadata": {},
     "output_type": "execute_result"
    },
    {
     "data": {
      "image/png": "[encoded data removed]",
      "text/plain": [
       "<Figure size 432x288 with 1 Axes>"
      ]
     },
     "metadata": {
      "needs_background": "light"
     },
     "output_type": "display_data"
    }
   ],
   "source": [
    "fig, ax = plt.subplots()\n",
    "nodes.plot(ax=ax)"
   ]
  },
  {
   "cell_type": "code",
   "execution_count": 260,
   "metadata": {},
   "outputs": [
    {
     "name": "stdout",
     "output_type": "stream",
     "text": [
      "CPU times: user 35 µs, sys: 11 µs, total: 46 µs\n",
      "Wall time: 49.8 µs\n"
     ]
    }
   ],
   "source": [
    "%%time\n",
    "def process_amenities(_amenity):\n",
    "\n",
    "    amenities_as_points = amenities[amenities['amenity'] == _amenity] \n",
    "    print(\"amenities_as_points --> {}\".format(amenities_as_points.shape) )\n",
    "    \n",
    "    if amenities_as_points.shape[0] == 0:\n",
    "        return pd.DataFrame()\n",
    "\n",
    "    ##adding shortest amenity point for all graph nodes\n",
    "    nodes_amenity = gn.pandana_snap_points( nodes , amenities_as_points ) \n",
    "\n",
    "    amenityid = \"{}_amenity\".format(_amenity)\n",
    "    amenitydist = \"{}_amenity_dist\".format(_amenity)\n",
    "    print(amenityid, amenitydist)\n",
    "\n",
    "    nodes_amenity.rename(columns={'NN':amenityid, 'NN_dist': amenitydist}, inplace=True)\n",
    "\n",
    "#     nodes_amenity.head()\n",
    "    print(\"nodes_amenity --> {}\".format(nodes_amenity.shape))\n",
    "\n",
    "    ##nearest node for all amenity points\n",
    "    amenities_as_points2 = gn.pandana_snap(graph, amenities_as_points) \n",
    "    print(\"amenities_as_points2 --> {}\".format(amenities_as_points2.shape))\n",
    "\n",
    "    ######\n",
    "    columns = ['unique_id', 'element_type', 'geometry_polygon', \n",
    "               'amenity', 'name', 'geometry', 'NN', 'NN_dist']\n",
    "\n",
    "    nodes_amenity2 = nodes_amenity.reset_index().merge(amenities_as_points2[columns], \n",
    "                                         how='left', \n",
    "                                         left_on=amenityid, \n",
    "                                         right_index=True)\n",
    "    node = \"{}_node\".format(_amenity)\n",
    "    nodedist = \"{}_node_dist\".format(_amenity)\n",
    "    nodes_amenity2.rename(columns={'NN':node, 'NN_dist': nodedist}, inplace=True)\n",
    "    print(\"nodes_amenity2 --> {}\".format(nodes_amenity2.shape))\n",
    "    \n",
    "    # nodes_amenity2.head()\n",
    "    #####\n",
    "    def shortest_path (G, source, target, weight='length'):\n",
    "        distance = np.NaN\n",
    "        try:\n",
    "            distance = nx.shortest_path_length(G, source, target, weight)\n",
    "        except Exception as e:\n",
    "            distance = np.NaN\n",
    "        return distance\n",
    "\n",
    "    nodedist = \"{}_dist\".format(_amenity)\n",
    "    print(\"Calculating shortest path distance:\")\n",
    "    nodes_amenity2[nodedist] = nodes_amenity2.apply(lambda x:\n",
    "                                                        shortest_path(graph, x['osmid'], x[node], weight='length'),\n",
    "                                                        axis=1\n",
    "                                                       )\n",
    "    #####\n",
    "    cols = ['osmid', 'geometry_x', amenityid, node, nodedist ]\n",
    "#     nodes_amenity2[cols].head()\n",
    "    return nodes_amenity2"
   ]
  },
  {
   "cell_type": "code",
   "execution_count": 261,
   "metadata": {
    "scrolled": true
   },
   "outputs": [],
   "source": [
    "# %%time\n",
    "# df = process_amenities('hospital')\n",
    "# df.head()"
   ]
  },
  {
   "cell_type": "code",
   "execution_count": 262,
   "metadata": {
    "scrolled": true
   },
   "outputs": [
    {
     "name": "stderr",
     "output_type": "stream",
     "text": [
      "/home/leibnitz.rojas/.local/lib/python3.6/site-packages/ray/node.py:890: ResourceWarning: unclosed file <_io.TextIOWrapper name='/tmp/ray/session_2021-08-15_09-23-55_217733_1414/logs/redis-shard_0.err' mode='a' encoding='utf-8'>\n",
      "  self.start_redis()\n",
      "/home/leibnitz.rojas/.local/lib/python3.6/site-packages/ray/node.py:890: ResourceWarning: unclosed file <_io.TextIOWrapper name='/tmp/ray/session_2021-08-15_09-23-55_217733_1414/logs/redis-shard_0.out' mode='a' encoding='utf-8'>\n",
      "  self.start_redis()\n",
      "/home/leibnitz.rojas/.local/lib/python3.6/site-packages/ray/node.py:890: ResourceWarning: unclosed file <_io.TextIOWrapper name='/tmp/ray/session_2021-08-15_09-23-55_217733_1414/logs/redis.err' mode='a' encoding='utf-8'>\n",
      "  self.start_redis()\n",
      "/home/leibnitz.rojas/.local/lib/python3.6/site-packages/ray/node.py:890: ResourceWarning: unclosed file <_io.TextIOWrapper name='/tmp/ray/session_2021-08-15_09-23-55_217733_1414/logs/redis.out' mode='a' encoding='utf-8'>\n",
      "  self.start_redis()\n",
      "/home/leibnitz.rojas/.local/lib/python3.6/site-packages/ray/node.py:892: ResourceWarning: unclosed file <_io.TextIOWrapper name='/tmp/ray/session_2021-08-15_09-23-55_217733_1414/logs/gcs_server.out' mode='a' encoding='utf-8'>\n",
      "  self.start_gcs_server()\n",
      "/home/leibnitz.rojas/.local/lib/python3.6/site-packages/ray/node.py:892: ResourceWarning: unclosed file <_io.TextIOWrapper name='/tmp/ray/session_2021-08-15_09-23-55_217733_1414/logs/gcs_server.err' mode='a' encoding='utf-8'>\n",
      "  self.start_gcs_server()\n",
      "/home/leibnitz.rojas/.local/lib/python3.6/site-packages/ray/node.py:895: ResourceWarning: unclosed file <_io.TextIOWrapper name='/tmp/ray/session_2021-08-15_09-23-55_217733_1414/logs/monitor.out' mode='a' encoding='utf-8'>\n",
      "  self.start_monitor()\n",
      "/home/leibnitz.rojas/.local/lib/python3.6/site-packages/ray/node.py:895: ResourceWarning: unclosed file <_io.TextIOWrapper name='/tmp/ray/session_2021-08-15_09-23-55_217733_1414/logs/monitor.err' mode='a' encoding='utf-8'>\n",
      "  self.start_monitor()\n",
      "2021-08-15 09:23:56,959\tINFO services.py:1247 -- View the Ray dashboard at \u001b[1m\u001b[32mhttp://127.0.0.1:8266\u001b[39m\u001b[22m\n",
      "/home/leibnitz.rojas/.local/lib/python3.6/site-packages/ray/node.py:936: ResourceWarning: unclosed file <_io.TextIOWrapper name='/tmp/ray/session_2021-08-15_09-23-55_217733_1414/logs/raylet.out' mode='a' encoding='utf-8'>\n",
      "  self.start_raylet(plasma_directory, object_store_memory)\n",
      "/home/leibnitz.rojas/.local/lib/python3.6/site-packages/ray/node.py:936: ResourceWarning: unclosed file <_io.TextIOWrapper name='/tmp/ray/session_2021-08-15_09-23-55_217733_1414/logs/raylet.err' mode='a' encoding='utf-8'>\n",
      "  self.start_raylet(plasma_directory, object_store_memory)\n"
     ]
    },
    {
     "name": "stdout",
     "output_type": "stream",
     "text": [
      "CPU times: user 125 ms, sys: 182 ms, total: 307 ms\n",
      "Wall time: 4.85 s\n"
     ]
    },
    {
     "data": {
      "text/plain": [
       "[ObjectRef(2b1d1545893d1daeffffffffffffffffffffffff0100000001000000),\n",
       " ObjectRef(ef25d802e8c24317ffffffffffffffffffffffff0100000001000000),\n",
       " ObjectRef(b9c64831282591f9ffffffffffffffffffffffff0100000001000000),\n",
       " ObjectRef(faf123d8b1b35293ffffffffffffffffffffffff0100000001000000),\n",
       " ObjectRef(02bed209b72c305affffffffffffffffffffffff0100000001000000),\n",
       " ObjectRef(e07eebba574c5c52ffffffffffffffffffffffff0100000001000000),\n",
       " ObjectRef(7fabc23126d27f51ffffffffffffffffffffffff0100000001000000)]"
      ]
     },
     "execution_count": 262,
     "metadata": {},
     "output_type": "execute_result"
    }
   ],
   "source": [
    "%%time\n",
    "import ray\n",
    "import time\n",
    "\n",
    "ray.shutdown()\n",
    "ray.init()\n",
    "@ray.remote\n",
    "def f(i):\n",
    "    time.sleep(1)\n",
    "    return process_amenities(i)\n",
    "\n",
    "amenities_filter = ['bank','courthouse','hospital','marketplace', 'police','school','university']\n",
    "\n",
    "futures = [f.remote(i) for i in amenities_filter]\n",
    "# print(ray.get(futures))\n",
    "# ray.get(futures[0])\n",
    "futures"
   ]
  },
  {
   "cell_type": "code",
   "execution_count": 263,
   "metadata": {
    "scrolled": true
   },
   "outputs": [
    {
     "name": "stdout",
     "output_type": "stream",
     "text": [
      "asdasd\n"
     ]
    }
   ],
   "source": [
    "print(\"asdasd\")"
   ]
  },
  {
   "cell_type": "code",
   "execution_count": 264,
   "metadata": {
    "scrolled": true
   },
   "outputs": [
    {
     "name": "stdout",
     "output_type": "stream",
     "text": [
      "\u001b[2m\u001b[36m(pid=4509)\u001b[0m amenities_as_points --> (1, 46)\n",
      "\u001b[2m\u001b[36m(pid=4561)\u001b[0m amenities_as_points --> (0, 46)\n",
      "\u001b[2m\u001b[36m(pid=4551)\u001b[0m amenities_as_points --> (0, 46)\n"
     ]
    },
    {
     "name": "stderr",
     "output_type": "stream",
     "text": [
      "\u001b[2m\u001b[36m(pid=4509)\u001b[0m /home/leibnitz.rojas/.local/lib/python3.6/site-packages/pyproj/crs/crs.py:53: FutureWarning: '+init=<authority>:<code>' syntax is deprecated. '<authority>:<code>' is the preferred initialization method. When making the change, be mindful of axis order changes: https://pyproj4.github.io/pyproj/stable/gotchas.html#axis-order-changes-in-proj-6\n",
      "\u001b[2m\u001b[36m(pid=4509)\u001b[0m   return _prepare_from_string(\" \".join(pjargs))\n",
      "\u001b[2m\u001b[36m(pid=4509)\u001b[0m /home/leibnitz.rojas/.local/lib/python3.6/site-packages/pyproj/crs/crs.py:294: FutureWarning: '+init=<authority>:<code>' syntax is deprecated. '<authority>:<code>' is the preferred initialization method. When making the change, be mindful of axis order changes: https://pyproj4.github.io/pyproj/stable/gotchas.html#axis-order-changes-in-proj-6\n",
      "\u001b[2m\u001b[36m(pid=4509)\u001b[0m   projstring = _prepare_from_string(\" \".join((projstring, projkwargs)))\n",
      "\u001b[2m\u001b[36m(pid=4509)\u001b[0m /home/leibnitz.rojas/.local/lib/python3.6/site-packages/pyproj/crs/crs.py:53: FutureWarning: '+init=<authority>:<code>' syntax is deprecated. '<authority>:<code>' is the preferred initialization method. When making the change, be mindful of axis order changes: https://pyproj4.github.io/pyproj/stable/gotchas.html#axis-order-changes-in-proj-6\n",
      "\u001b[2m\u001b[36m(pid=4509)\u001b[0m   return _prepare_from_string(\" \".join(pjargs))\n",
      "\u001b[2m\u001b[36m(pid=4509)\u001b[0m /home/leibnitz.rojas/.local/lib/python3.6/site-packages/pyproj/crs/crs.py:294: FutureWarning: '+init=<authority>:<code>' syntax is deprecated. '<authority>:<code>' is the preferred initialization method. When making the change, be mindful of axis order changes: https://pyproj4.github.io/pyproj/stable/gotchas.html#axis-order-changes-in-proj-6\n",
      "\u001b[2m\u001b[36m(pid=4509)\u001b[0m   projstring = _prepare_from_string(\" \".join((projstring, projkwargs)))\n"
     ]
    },
    {
     "name": "stdout",
     "output_type": "stream",
     "text": [
      "\u001b[2m\u001b[36m(pid=4544)\u001b[0m amenities_as_points --> (0, 46)\n",
      "\u001b[2m\u001b[36m(pid=4525)\u001b[0m amenities_as_points --> (15, 46)\n",
      "\u001b[2m\u001b[36m(pid=4518)\u001b[0m amenities_as_points --> (2, 46)\n"
     ]
    },
    {
     "name": "stderr",
     "output_type": "stream",
     "text": [
      "\u001b[2m\u001b[36m(pid=4525)\u001b[0m /home/leibnitz.rojas/.local/lib/python3.6/site-packages/pyproj/crs/crs.py:53: FutureWarning: '+init=<authority>:<code>' syntax is deprecated. '<authority>:<code>' is the preferred initialization method. When making the change, be mindful of axis order changes: https://pyproj4.github.io/pyproj/stable/gotchas.html#axis-order-changes-in-proj-6\n",
      "\u001b[2m\u001b[36m(pid=4525)\u001b[0m   return _prepare_from_string(\" \".join(pjargs))\n",
      "\u001b[2m\u001b[36m(pid=4525)\u001b[0m /home/leibnitz.rojas/.local/lib/python3.6/site-packages/pyproj/crs/crs.py:294: FutureWarning: '+init=<authority>:<code>' syntax is deprecated. '<authority>:<code>' is the preferred initialization method. When making the change, be mindful of axis order changes: https://pyproj4.github.io/pyproj/stable/gotchas.html#axis-order-changes-in-proj-6\n",
      "\u001b[2m\u001b[36m(pid=4525)\u001b[0m   projstring = _prepare_from_string(\" \".join((projstring, projkwargs)))\n",
      "\u001b[2m\u001b[36m(pid=4518)\u001b[0m /home/leibnitz.rojas/.local/lib/python3.6/site-packages/pyproj/crs/crs.py:53: FutureWarning: '+init=<authority>:<code>' syntax is deprecated. '<authority>:<code>' is the preferred initialization method. When making the change, be mindful of axis order changes: https://pyproj4.github.io/pyproj/stable/gotchas.html#axis-order-changes-in-proj-6\n",
      "\u001b[2m\u001b[36m(pid=4518)\u001b[0m   return _prepare_from_string(\" \".join(pjargs))\n",
      "\u001b[2m\u001b[36m(pid=4518)\u001b[0m /home/leibnitz.rojas/.local/lib/python3.6/site-packages/pyproj/crs/crs.py:294: FutureWarning: '+init=<authority>:<code>' syntax is deprecated. '<authority>:<code>' is the preferred initialization method. When making the change, be mindful of axis order changes: https://pyproj4.github.io/pyproj/stable/gotchas.html#axis-order-changes-in-proj-6\n",
      "\u001b[2m\u001b[36m(pid=4518)\u001b[0m   projstring = _prepare_from_string(\" \".join((projstring, projkwargs)))\n",
      "\u001b[2m\u001b[36m(pid=4525)\u001b[0m /home/leibnitz.rojas/.local/lib/python3.6/site-packages/pyproj/crs/crs.py:53: FutureWarning: '+init=<authority>:<code>' syntax is deprecated. '<authority>:<code>' is the preferred initialization method. When making the change, be mindful of axis order changes: https://pyproj4.github.io/pyproj/stable/gotchas.html#axis-order-changes-in-proj-6\n",
      "\u001b[2m\u001b[36m(pid=4525)\u001b[0m   return _prepare_from_string(\" \".join(pjargs))\n",
      "\u001b[2m\u001b[36m(pid=4525)\u001b[0m /home/leibnitz.rojas/.local/lib/python3.6/site-packages/pyproj/crs/crs.py:294: FutureWarning: '+init=<authority>:<code>' syntax is deprecated. '<authority>:<code>' is the preferred initialization method. When making the change, be mindful of axis order changes: https://pyproj4.github.io/pyproj/stable/gotchas.html#axis-order-changes-in-proj-6\n",
      "\u001b[2m\u001b[36m(pid=4525)\u001b[0m   projstring = _prepare_from_string(\" \".join((projstring, projkwargs)))\n",
      "\u001b[2m\u001b[36m(pid=4518)\u001b[0m /home/leibnitz.rojas/.local/lib/python3.6/site-packages/pyproj/crs/crs.py:53: FutureWarning: '+init=<authority>:<code>' syntax is deprecated. '<authority>:<code>' is the preferred initialization method. When making the change, be mindful of axis order changes: https://pyproj4.github.io/pyproj/stable/gotchas.html#axis-order-changes-in-proj-6\n",
      "\u001b[2m\u001b[36m(pid=4518)\u001b[0m   return _prepare_from_string(\" \".join(pjargs))\n",
      "\u001b[2m\u001b[36m(pid=4518)\u001b[0m /home/leibnitz.rojas/.local/lib/python3.6/site-packages/pyproj/crs/crs.py:294: FutureWarning: '+init=<authority>:<code>' syntax is deprecated. '<authority>:<code>' is the preferred initialization method. When making the change, be mindful of axis order changes: https://pyproj4.github.io/pyproj/stable/gotchas.html#axis-order-changes-in-proj-6\n",
      "\u001b[2m\u001b[36m(pid=4518)\u001b[0m   projstring = _prepare_from_string(\" \".join((projstring, projkwargs)))\n"
     ]
    },
    {
     "name": "stdout",
     "output_type": "stream",
     "text": [
      "\u001b[2m\u001b[36m(pid=4516)\u001b[0m amenities_as_points --> (0, 46)\n",
      "\u001b[2m\u001b[36m(pid=4509)\u001b[0m police_amenity police_amenity_dist\n",
      "\u001b[2m\u001b[36m(pid=4509)\u001b[0m nodes_amenity --> (457, 5)\n"
     ]
    },
    {
     "name": "stderr",
     "output_type": "stream",
     "text": [
      "\u001b[2m\u001b[36m(pid=4509)\u001b[0m /home/leibnitz.rojas/.local/lib/python3.6/site-packages/pyproj/crs/crs.py:53: FutureWarning: '+init=<authority>:<code>' syntax is deprecated. '<authority>:<code>' is the preferred initialization method. When making the change, be mindful of axis order changes: https://pyproj4.github.io/pyproj/stable/gotchas.html#axis-order-changes-in-proj-6\n",
      "\u001b[2m\u001b[36m(pid=4509)\u001b[0m   return _prepare_from_string(\" \".join(pjargs))\n",
      "\u001b[2m\u001b[36m(pid=4509)\u001b[0m /home/leibnitz.rojas/.local/lib/python3.6/site-packages/pyproj/crs/crs.py:294: FutureWarning: '+init=<authority>:<code>' syntax is deprecated. '<authority>:<code>' is the preferred initialization method. When making the change, be mindful of axis order changes: https://pyproj4.github.io/pyproj/stable/gotchas.html#axis-order-changes-in-proj-6\n",
      "\u001b[2m\u001b[36m(pid=4509)\u001b[0m   projstring = _prepare_from_string(\" \".join((projstring, projkwargs)))\n",
      "\u001b[2m\u001b[36m(pid=4509)\u001b[0m /home/leibnitz.rojas/.local/lib/python3.6/site-packages/pyproj/crs/crs.py:53: FutureWarning: '+init=<authority>:<code>' syntax is deprecated. '<authority>:<code>' is the preferred initialization method. When making the change, be mindful of axis order changes: https://pyproj4.github.io/pyproj/stable/gotchas.html#axis-order-changes-in-proj-6\n",
      "\u001b[2m\u001b[36m(pid=4509)\u001b[0m   return _prepare_from_string(\" \".join(pjargs))\n",
      "\u001b[2m\u001b[36m(pid=4509)\u001b[0m /home/leibnitz.rojas/.local/lib/python3.6/site-packages/pyproj/crs/crs.py:294: FutureWarning: '+init=<authority>:<code>' syntax is deprecated. '<authority>:<code>' is the preferred initialization method. When making the change, be mindful of axis order changes: https://pyproj4.github.io/pyproj/stable/gotchas.html#axis-order-changes-in-proj-6\n",
      "\u001b[2m\u001b[36m(pid=4509)\u001b[0m   projstring = _prepare_from_string(\" \".join((projstring, projkwargs)))\n"
     ]
    },
    {
     "name": "stdout",
     "output_type": "stream",
     "text": [
      "\u001b[2m\u001b[36m(pid=4518)\u001b[0m marketplace_amenity marketplace_amenity_dist\n",
      "\u001b[2m\u001b[36m(pid=4518)\u001b[0m nodes_amenity --> (457, 5)\n"
     ]
    },
    {
     "name": "stderr",
     "output_type": "stream",
     "text": [
      "\u001b[2m\u001b[36m(pid=4518)\u001b[0m /home/leibnitz.rojas/.local/lib/python3.6/site-packages/pyproj/crs/crs.py:53: FutureWarning: '+init=<authority>:<code>' syntax is deprecated. '<authority>:<code>' is the preferred initialization method. When making the change, be mindful of axis order changes: https://pyproj4.github.io/pyproj/stable/gotchas.html#axis-order-changes-in-proj-6\n",
      "\u001b[2m\u001b[36m(pid=4518)\u001b[0m   return _prepare_from_string(\" \".join(pjargs))\n",
      "\u001b[2m\u001b[36m(pid=4518)\u001b[0m /home/leibnitz.rojas/.local/lib/python3.6/site-packages/pyproj/crs/crs.py:294: FutureWarning: '+init=<authority>:<code>' syntax is deprecated. '<authority>:<code>' is the preferred initialization method. When making the change, be mindful of axis order changes: https://pyproj4.github.io/pyproj/stable/gotchas.html#axis-order-changes-in-proj-6\n",
      "\u001b[2m\u001b[36m(pid=4518)\u001b[0m   projstring = _prepare_from_string(\" \".join((projstring, projkwargs)))\n",
      "\u001b[2m\u001b[36m(pid=4518)\u001b[0m /home/leibnitz.rojas/.local/lib/python3.6/site-packages/pyproj/crs/crs.py:53: FutureWarning: '+init=<authority>:<code>' syntax is deprecated. '<authority>:<code>' is the preferred initialization method. When making the change, be mindful of axis order changes: https://pyproj4.github.io/pyproj/stable/gotchas.html#axis-order-changes-in-proj-6\n",
      "\u001b[2m\u001b[36m(pid=4518)\u001b[0m   return _prepare_from_string(\" \".join(pjargs))\n",
      "\u001b[2m\u001b[36m(pid=4518)\u001b[0m /home/leibnitz.rojas/.local/lib/python3.6/site-packages/pyproj/crs/crs.py:294: FutureWarning: '+init=<authority>:<code>' syntax is deprecated. '<authority>:<code>' is the preferred initialization method. When making the change, be mindful of axis order changes: https://pyproj4.github.io/pyproj/stable/gotchas.html#axis-order-changes-in-proj-6\n",
      "\u001b[2m\u001b[36m(pid=4518)\u001b[0m   projstring = _prepare_from_string(\" \".join((projstring, projkwargs)))\n"
     ]
    },
    {
     "name": "stdout",
     "output_type": "stream",
     "text": [
      "\u001b[2m\u001b[36m(pid=4525)\u001b[0m school_amenity school_amenity_dist\n",
      "\u001b[2m\u001b[36m(pid=4525)\u001b[0m nodes_amenity --> (457, 5)\n"
     ]
    },
    {
     "name": "stderr",
     "output_type": "stream",
     "text": [
      "\u001b[2m\u001b[36m(pid=4525)\u001b[0m /home/leibnitz.rojas/.local/lib/python3.6/site-packages/pyproj/crs/crs.py:53: FutureWarning: '+init=<authority>:<code>' syntax is deprecated. '<authority>:<code>' is the preferred initialization method. When making the change, be mindful of axis order changes: https://pyproj4.github.io/pyproj/stable/gotchas.html#axis-order-changes-in-proj-6\n",
      "\u001b[2m\u001b[36m(pid=4525)\u001b[0m   return _prepare_from_string(\" \".join(pjargs))\n",
      "\u001b[2m\u001b[36m(pid=4525)\u001b[0m /home/leibnitz.rojas/.local/lib/python3.6/site-packages/pyproj/crs/crs.py:294: FutureWarning: '+init=<authority>:<code>' syntax is deprecated. '<authority>:<code>' is the preferred initialization method. When making the change, be mindful of axis order changes: https://pyproj4.github.io/pyproj/stable/gotchas.html#axis-order-changes-in-proj-6\n",
      "\u001b[2m\u001b[36m(pid=4525)\u001b[0m   projstring = _prepare_from_string(\" \".join((projstring, projkwargs)))\n",
      "\u001b[2m\u001b[36m(pid=4525)\u001b[0m /home/leibnitz.rojas/.local/lib/python3.6/site-packages/pyproj/crs/crs.py:53: FutureWarning: '+init=<authority>:<code>' syntax is deprecated. '<authority>:<code>' is the preferred initialization method. When making the change, be mindful of axis order changes: https://pyproj4.github.io/pyproj/stable/gotchas.html#axis-order-changes-in-proj-6\n",
      "\u001b[2m\u001b[36m(pid=4525)\u001b[0m   return _prepare_from_string(\" \".join(pjargs))\n",
      "\u001b[2m\u001b[36m(pid=4525)\u001b[0m /home/leibnitz.rojas/.local/lib/python3.6/site-packages/pyproj/crs/crs.py:294: FutureWarning: '+init=<authority>:<code>' syntax is deprecated. '<authority>:<code>' is the preferred initialization method. When making the change, be mindful of axis order changes: https://pyproj4.github.io/pyproj/stable/gotchas.html#axis-order-changes-in-proj-6\n",
      "\u001b[2m\u001b[36m(pid=4525)\u001b[0m   projstring = _prepare_from_string(\" \".join((projstring, projkwargs)))\n"
     ]
    },
    {
     "name": "stdout",
     "output_type": "stream",
     "text": [
      "\u001b[2m\u001b[36m(pid=4509)\u001b[0m amenities_as_points2 --> (1, 48)\n",
      "\u001b[2m\u001b[36m(pid=4509)\u001b[0m nodes_amenity2 --> (457, 14)\n",
      "\u001b[2m\u001b[36m(pid=4509)\u001b[0m Calculating shortest path distance:\n",
      "\u001b[2m\u001b[36m(pid=4518)\u001b[0m amenities_as_points2 --> (2, 48)\n",
      "\u001b[2m\u001b[36m(pid=4518)\u001b[0m nodes_amenity2 --> (457, 14)\n",
      "\u001b[2m\u001b[36m(pid=4518)\u001b[0m Calculating shortest path distance:\n",
      "\u001b[2m\u001b[36m(pid=4525)\u001b[0m amenities_as_points2 --> (15, 48)\n",
      "\u001b[2m\u001b[36m(pid=4525)\u001b[0m nodes_amenity2 --> (457, 14)\n",
      "\u001b[2m\u001b[36m(pid=4525)\u001b[0m Calculating shortest path distance:\n",
      "CPU times: user 2.58 s, sys: 495 ms, total: 3.08 s\n",
      "Wall time: 1min 39s\n"
     ]
    }
   ],
   "source": [
    "%%time\n",
    "bank = ray.get(futures[0])\n",
    "courthouse = ray.get(futures[1])\n",
    "hospital = ray.get(futures[2])\n",
    "marketplace = ray.get(futures[3])\n",
    "police = ray.get(futures[4])\n",
    "school = ray.get(futures[5])\n",
    "university = ray.get(futures[6])"
   ]
  },
  {
   "cell_type": "code",
   "execution_count": 265,
   "metadata": {},
   "outputs": [
    {
     "name": "stdout",
     "output_type": "stream",
     "text": [
      "CPU times: user 32 µs, sys: 0 ns, total: 32 µs\n",
      "Wall time: 35.3 µs\n"
     ]
    },
    {
     "data": {
      "text/plain": [
       "[['osmid', 'bank_amenity', 'bank_node', 'bank_dist'],\n",
       " ['osmid', 'courthouse_amenity', 'courthouse_node', 'courthouse_dist'],\n",
       " ['osmid', 'hospital_amenity', 'hospital_node', 'hospital_dist'],\n",
       " ['osmid', 'marketplace_amenity', 'marketplace_node', 'marketplace_dist'],\n",
       " ['osmid', 'police_amenity', 'police_node', 'police_dist'],\n",
       " ['osmid', 'school_amenity', 'school_node', 'school_dist'],\n",
       " ['osmid', 'university_amenity', 'university_node', 'university_dist']]"
      ]
     },
     "execution_count": 265,
     "metadata": {},
     "output_type": "execute_result"
    }
   ],
   "source": [
    "%%time\n",
    "amenities_filter = ['bank','courthouse','hospital','marketplace', 'police','school','university']\n",
    "\n",
    "dfcols = []\n",
    "for a in amenities_filter:\n",
    "    cols = ['osmid', '{}_amenity'.format(a), '{}_node'.format(a), '{}_dist'.format(a)]\n",
    "    dfcols.append(cols)\n",
    "#     print(cols)\n",
    "\n",
    "dfcols"
   ]
  },
  {
   "cell_type": "code",
   "execution_count": 266,
   "metadata": {
    "scrolled": true
   },
   "outputs": [
    {
     "data": {
      "text/plain": [
       "True"
      ]
     },
     "execution_count": 266,
     "metadata": {},
     "output_type": "execute_result"
    }
   ],
   "source": [
    "# nodes.head()\n",
    "pd.DataFrame([], columns = dfcols[0])\n",
    "courthouse.shape[0] == 0"
   ]
  },
  {
   "cell_type": "code",
   "execution_count": 267,
   "metadata": {},
   "outputs": [
    {
     "name": "stdout",
     "output_type": "stream",
     "text": [
      "CPU times: user 262 ms, sys: 176 µs, total: 262 ms\n",
      "Wall time: 257 ms\n"
     ]
    },
    {
     "data": {
      "text/html": [
       "<div>\n",
       "<style scoped>\n",
       "    .dataframe tbody tr th:only-of-type {\n",
       "        vertical-align: middle;\n",
       "    }\n",
       "\n",
       "    .dataframe tbody tr th {\n",
       "        vertical-align: top;\n",
       "    }\n",
       "\n",
       "    .dataframe thead th {\n",
       "        text-align: right;\n",
       "    }\n",
       "</style>\n",
       "<table border=\"1\" class=\"dataframe\">\n",
       "  <thead>\n",
       "    <tr style=\"text-align: right;\">\n",
       "      <th></th>\n",
       "      <th>osmid</th>\n",
       "      <th>y</th>\n",
       "      <th>x</th>\n",
       "      <th>street_count</th>\n",
       "      <th>highway</th>\n",
       "      <th>geometry</th>\n",
       "      <th>bank_amenity</th>\n",
       "      <th>bank_node</th>\n",
       "      <th>bank_dist</th>\n",
       "      <th>courthouse_amenity</th>\n",
       "      <th>courthouse_node</th>\n",
       "      <th>courthouse_dist</th>\n",
       "      <th>hospital_amenity</th>\n",
       "      <th>hospital_node</th>\n",
       "      <th>hospital_dist</th>\n",
       "      <th>marketplace_amenity</th>\n",
       "      <th>marketplace_node</th>\n",
       "      <th>marketplace_dist</th>\n",
       "      <th>police_amenity</th>\n",
       "      <th>police_node</th>\n",
       "      <th>police_dist</th>\n",
       "      <th>school_amenity</th>\n",
       "      <th>school_node</th>\n",
       "      <th>school_dist</th>\n",
       "      <th>university_amenity</th>\n",
       "      <th>university_node</th>\n",
       "      <th>university_dist</th>\n",
       "    </tr>\n",
       "  </thead>\n",
       "  <tbody>\n",
       "    <tr>\n",
       "      <th>0</th>\n",
       "      <td>318813749</td>\n",
       "      <td>-12.491887</td>\n",
       "      <td>-76.792846</td>\n",
       "      <td>3</td>\n",
       "      <td>NaN</td>\n",
       "      <td>POINT (-76.79285 -12.49189)</td>\n",
       "      <td>NaN</td>\n",
       "      <td>NaN</td>\n",
       "      <td>NaN</td>\n",
       "      <td>NaN</td>\n",
       "      <td>NaN</td>\n",
       "      <td>NaN</td>\n",
       "      <td>NaN</td>\n",
       "      <td>NaN</td>\n",
       "      <td>NaN</td>\n",
       "      <td>173795107</td>\n",
       "      <td>1845510012</td>\n",
       "      <td>1203.366</td>\n",
       "      <td>319479359</td>\n",
       "      <td>318813751</td>\n",
       "      <td>1117.595</td>\n",
       "      <td>4834719123</td>\n",
       "      <td>1845624391</td>\n",
       "      <td>467.693</td>\n",
       "      <td>NaN</td>\n",
       "      <td>NaN</td>\n",
       "      <td>NaN</td>\n",
       "    </tr>\n",
       "    <tr>\n",
       "      <th>1</th>\n",
       "      <td>318813750</td>\n",
       "      <td>-12.484027</td>\n",
       "      <td>-76.796057</td>\n",
       "      <td>3</td>\n",
       "      <td>NaN</td>\n",
       "      <td>POINT (-76.79606 -12.48403)</td>\n",
       "      <td>NaN</td>\n",
       "      <td>NaN</td>\n",
       "      <td>NaN</td>\n",
       "      <td>NaN</td>\n",
       "      <td>NaN</td>\n",
       "      <td>NaN</td>\n",
       "      <td>NaN</td>\n",
       "      <td>NaN</td>\n",
       "      <td>NaN</td>\n",
       "      <td>173795107</td>\n",
       "      <td>1845510012</td>\n",
       "      <td>258.201</td>\n",
       "      <td>319479359</td>\n",
       "      <td>318813751</td>\n",
       "      <td>170.096</td>\n",
       "      <td>4235507693</td>\n",
       "      <td>1845510169</td>\n",
       "      <td>38.332</td>\n",
       "      <td>NaN</td>\n",
       "      <td>NaN</td>\n",
       "      <td>NaN</td>\n",
       "    </tr>\n",
       "    <tr>\n",
       "      <th>2</th>\n",
       "      <td>318813751</td>\n",
       "      <td>-12.482597</td>\n",
       "      <td>-76.796612</td>\n",
       "      <td>4</td>\n",
       "      <td>NaN</td>\n",
       "      <td>POINT (-76.79661 -12.48260)</td>\n",
       "      <td>NaN</td>\n",
       "      <td>NaN</td>\n",
       "      <td>NaN</td>\n",
       "      <td>NaN</td>\n",
       "      <td>NaN</td>\n",
       "      <td>NaN</td>\n",
       "      <td>NaN</td>\n",
       "      <td>NaN</td>\n",
       "      <td>NaN</td>\n",
       "      <td>173795107</td>\n",
       "      <td>1845510012</td>\n",
       "      <td>192.115</td>\n",
       "      <td>319479359</td>\n",
       "      <td>318813751</td>\n",
       "      <td>0.000</td>\n",
       "      <td>5593354455</td>\n",
       "      <td>1845510005</td>\n",
       "      <td>26.971</td>\n",
       "      <td>NaN</td>\n",
       "      <td>NaN</td>\n",
       "      <td>NaN</td>\n",
       "    </tr>\n",
       "    <tr>\n",
       "      <th>3</th>\n",
       "      <td>318813753</td>\n",
       "      <td>-12.480314</td>\n",
       "      <td>-76.789954</td>\n",
       "      <td>3</td>\n",
       "      <td>NaN</td>\n",
       "      <td>POINT (-76.78995 -12.48031)</td>\n",
       "      <td>NaN</td>\n",
       "      <td>NaN</td>\n",
       "      <td>NaN</td>\n",
       "      <td>NaN</td>\n",
       "      <td>NaN</td>\n",
       "      <td>NaN</td>\n",
       "      <td>NaN</td>\n",
       "      <td>NaN</td>\n",
       "      <td>NaN</td>\n",
       "      <td>173795107</td>\n",
       "      <td>1845510012</td>\n",
       "      <td>1424.088</td>\n",
       "      <td>319479359</td>\n",
       "      <td>318813751</td>\n",
       "      <td>1336.279</td>\n",
       "      <td>5774101155</td>\n",
       "      <td>1845508764</td>\n",
       "      <td>625.151</td>\n",
       "      <td>NaN</td>\n",
       "      <td>NaN</td>\n",
       "      <td>NaN</td>\n",
       "    </tr>\n",
       "    <tr>\n",
       "      <th>4</th>\n",
       "      <td>1273453996</td>\n",
       "      <td>-12.485082</td>\n",
       "      <td>-76.797332</td>\n",
       "      <td>1</td>\n",
       "      <td>NaN</td>\n",
       "      <td>POINT (-76.79733 -12.48508)</td>\n",
       "      <td>NaN</td>\n",
       "      <td>NaN</td>\n",
       "      <td>NaN</td>\n",
       "      <td>NaN</td>\n",
       "      <td>NaN</td>\n",
       "      <td>NaN</td>\n",
       "      <td>NaN</td>\n",
       "      <td>NaN</td>\n",
       "      <td>NaN</td>\n",
       "      <td>173795107</td>\n",
       "      <td>1845510012</td>\n",
       "      <td>421.206</td>\n",
       "      <td>319479359</td>\n",
       "      <td>318813751</td>\n",
       "      <td>515.069</td>\n",
       "      <td>5593354460</td>\n",
       "      <td>1845510248</td>\n",
       "      <td>249.297</td>\n",
       "      <td>NaN</td>\n",
       "      <td>NaN</td>\n",
       "      <td>NaN</td>\n",
       "    </tr>\n",
       "  </tbody>\n",
       "</table>\n",
       "</div>"
      ],
      "text/plain": [
       "        osmid          y          x  street_count highway  \\\n",
       "0   318813749 -12.491887 -76.792846             3     NaN   \n",
       "1   318813750 -12.484027 -76.796057             3     NaN   \n",
       "2   318813751 -12.482597 -76.796612             4     NaN   \n",
       "3   318813753 -12.480314 -76.789954             3     NaN   \n",
       "4  1273453996 -12.485082 -76.797332             1     NaN   \n",
       "\n",
       "                      geometry bank_amenity bank_node bank_dist  \\\n",
       "0  POINT (-76.79285 -12.49189)          NaN       NaN       NaN   \n",
       "1  POINT (-76.79606 -12.48403)          NaN       NaN       NaN   \n",
       "2  POINT (-76.79661 -12.48260)          NaN       NaN       NaN   \n",
       "3  POINT (-76.78995 -12.48031)          NaN       NaN       NaN   \n",
       "4  POINT (-76.79733 -12.48508)          NaN       NaN       NaN   \n",
       "\n",
       "  courthouse_amenity courthouse_node courthouse_dist hospital_amenity  \\\n",
       "0                NaN             NaN             NaN              NaN   \n",
       "1                NaN             NaN             NaN              NaN   \n",
       "2                NaN             NaN             NaN              NaN   \n",
       "3                NaN             NaN             NaN              NaN   \n",
       "4                NaN             NaN             NaN              NaN   \n",
       "\n",
       "  hospital_node hospital_dist  marketplace_amenity  marketplace_node  \\\n",
       "0           NaN           NaN            173795107        1845510012   \n",
       "1           NaN           NaN            173795107        1845510012   \n",
       "2           NaN           NaN            173795107        1845510012   \n",
       "3           NaN           NaN            173795107        1845510012   \n",
       "4           NaN           NaN            173795107        1845510012   \n",
       "\n",
       "   marketplace_dist  police_amenity  police_node  police_dist  school_amenity  \\\n",
       "0          1203.366       319479359    318813751     1117.595      4834719123   \n",
       "1           258.201       319479359    318813751      170.096      4235507693   \n",
       "2           192.115       319479359    318813751        0.000      5593354455   \n",
       "3          1424.088       319479359    318813751     1336.279      5774101155   \n",
       "4           421.206       319479359    318813751      515.069      5593354460   \n",
       "\n",
       "   school_node  school_dist university_amenity university_node university_dist  \n",
       "0   1845624391      467.693                NaN             NaN             NaN  \n",
       "1   1845510169       38.332                NaN             NaN             NaN  \n",
       "2   1845510005       26.971                NaN             NaN             NaN  \n",
       "3   1845508764      625.151                NaN             NaN             NaN  \n",
       "4   1845510248      249.297                NaN             NaN             NaN  "
      ]
     },
     "execution_count": 267,
     "metadata": {},
     "output_type": "execute_result"
    }
   ],
   "source": [
    "%%time\n",
    "if bank.shape[0] == 0:\n",
    "    bank = pd.DataFrame([], columns = dfcols[0])\n",
    "if courthouse.shape[0] == 0:\n",
    "    courthouse = pd.DataFrame([], columns = dfcols[1])\n",
    "if hospital.shape[0] == 0:\n",
    "    hospital = pd.DataFrame([], columns = dfcols[2])\n",
    "if marketplace.shape[0] == 0:\n",
    "    marketplace = pd.DataFrame([], columns = dfcols[3])\n",
    "if police.shape[0] == 0:\n",
    "    police = pd.DataFrame([], columns = dfcols[4])\n",
    "if school.shape[0] == 0:\n",
    "    school = pd.DataFrame([], columns = dfcols[5])\n",
    "if university.shape[0] == 0:\n",
    "    university = pd.DataFrame([], columns = dfcols[6])\n",
    "    \n",
    "tmp = nodes.reset_index()\n",
    "tmp = tmp.merge( bank [dfcols[0]], how='left', on='osmid' )\n",
    "tmp = tmp.merge( courthouse[dfcols[1]], how='left', on='osmid')\n",
    "tmp = tmp.merge( hospital[dfcols[2]], how='left', on='osmid' )\n",
    "tmp = tmp.merge( marketplace[dfcols[3]], how='left', on='osmid' )\n",
    "tmp = tmp.merge( police[dfcols[4]], how='left', on='osmid' )\n",
    "tmp = tmp.merge( school[dfcols[5]], how='left', on='osmid' )\n",
    "tmp = tmp.merge( university[dfcols[6]], how='left', on='osmid' )\n",
    "tmp.head()"
   ]
  },
  {
   "cell_type": "code",
   "execution_count": 268,
   "metadata": {},
   "outputs": [],
   "source": [
    "name = place_name.split(',')[0].replace(' ','_')\n",
    "filename = \"simbig21data/{}.csv\".format(name)\n",
    "tmp.to_csv( filename, index=False)"
   ]
  },
  {
   "cell_type": "code",
   "execution_count": 269,
   "metadata": {},
   "outputs": [
    {
     "data": {
      "text/html": [
       "<div>\n",
       "<style scoped>\n",
       "    .dataframe tbody tr th:only-of-type {\n",
       "        vertical-align: middle;\n",
       "    }\n",
       "\n",
       "    .dataframe tbody tr th {\n",
       "        vertical-align: top;\n",
       "    }\n",
       "\n",
       "    .dataframe thead th {\n",
       "        text-align: right;\n",
       "    }\n",
       "</style>\n",
       "<table border=\"1\" class=\"dataframe\">\n",
       "  <thead>\n",
       "    <tr style=\"text-align: right;\">\n",
       "      <th></th>\n",
       "      <th>osmid</th>\n",
       "      <th>y</th>\n",
       "      <th>x</th>\n",
       "      <th>street_count</th>\n",
       "      <th>highway</th>\n",
       "      <th>geometry</th>\n",
       "      <th>bank_amenity</th>\n",
       "      <th>bank_node</th>\n",
       "      <th>bank_dist</th>\n",
       "      <th>courthouse_amenity</th>\n",
       "      <th>courthouse_node</th>\n",
       "      <th>courthouse_dist</th>\n",
       "      <th>hospital_amenity</th>\n",
       "      <th>hospital_node</th>\n",
       "      <th>hospital_dist</th>\n",
       "      <th>marketplace_amenity</th>\n",
       "      <th>marketplace_node</th>\n",
       "      <th>marketplace_dist</th>\n",
       "      <th>police_amenity</th>\n",
       "      <th>police_node</th>\n",
       "      <th>police_dist</th>\n",
       "      <th>school_amenity</th>\n",
       "      <th>school_node</th>\n",
       "      <th>school_dist</th>\n",
       "      <th>university_amenity</th>\n",
       "      <th>university_node</th>\n",
       "      <th>university_dist</th>\n",
       "    </tr>\n",
       "  </thead>\n",
       "  <tbody>\n",
       "    <tr>\n",
       "      <th>0</th>\n",
       "      <td>318813749</td>\n",
       "      <td>-12.491887</td>\n",
       "      <td>-76.792846</td>\n",
       "      <td>3</td>\n",
       "      <td>NaN</td>\n",
       "      <td>POINT (-76.7928465 -12.4918872)</td>\n",
       "      <td>NaN</td>\n",
       "      <td>NaN</td>\n",
       "      <td>NaN</td>\n",
       "      <td>NaN</td>\n",
       "      <td>NaN</td>\n",
       "      <td>NaN</td>\n",
       "      <td>NaN</td>\n",
       "      <td>NaN</td>\n",
       "      <td>NaN</td>\n",
       "      <td>173795107</td>\n",
       "      <td>1845510012</td>\n",
       "      <td>1203.366</td>\n",
       "      <td>319479359</td>\n",
       "      <td>318813751</td>\n",
       "      <td>1117.595</td>\n",
       "      <td>4834719123</td>\n",
       "      <td>1845624391</td>\n",
       "      <td>467.693</td>\n",
       "      <td>NaN</td>\n",
       "      <td>NaN</td>\n",
       "      <td>NaN</td>\n",
       "    </tr>\n",
       "    <tr>\n",
       "      <th>1</th>\n",
       "      <td>318813750</td>\n",
       "      <td>-12.484027</td>\n",
       "      <td>-76.796057</td>\n",
       "      <td>3</td>\n",
       "      <td>NaN</td>\n",
       "      <td>POINT (-76.7960571 -12.4840274)</td>\n",
       "      <td>NaN</td>\n",
       "      <td>NaN</td>\n",
       "      <td>NaN</td>\n",
       "      <td>NaN</td>\n",
       "      <td>NaN</td>\n",
       "      <td>NaN</td>\n",
       "      <td>NaN</td>\n",
       "      <td>NaN</td>\n",
       "      <td>NaN</td>\n",
       "      <td>173795107</td>\n",
       "      <td>1845510012</td>\n",
       "      <td>258.201</td>\n",
       "      <td>319479359</td>\n",
       "      <td>318813751</td>\n",
       "      <td>170.096</td>\n",
       "      <td>4235507693</td>\n",
       "      <td>1845510169</td>\n",
       "      <td>38.332</td>\n",
       "      <td>NaN</td>\n",
       "      <td>NaN</td>\n",
       "      <td>NaN</td>\n",
       "    </tr>\n",
       "    <tr>\n",
       "      <th>2</th>\n",
       "      <td>318813751</td>\n",
       "      <td>-12.482597</td>\n",
       "      <td>-76.796612</td>\n",
       "      <td>4</td>\n",
       "      <td>NaN</td>\n",
       "      <td>POINT (-76.79661230000001 -12.4825971)</td>\n",
       "      <td>NaN</td>\n",
       "      <td>NaN</td>\n",
       "      <td>NaN</td>\n",
       "      <td>NaN</td>\n",
       "      <td>NaN</td>\n",
       "      <td>NaN</td>\n",
       "      <td>NaN</td>\n",
       "      <td>NaN</td>\n",
       "      <td>NaN</td>\n",
       "      <td>173795107</td>\n",
       "      <td>1845510012</td>\n",
       "      <td>192.115</td>\n",
       "      <td>319479359</td>\n",
       "      <td>318813751</td>\n",
       "      <td>0.000</td>\n",
       "      <td>5593354455</td>\n",
       "      <td>1845510005</td>\n",
       "      <td>26.971</td>\n",
       "      <td>NaN</td>\n",
       "      <td>NaN</td>\n",
       "      <td>NaN</td>\n",
       "    </tr>\n",
       "    <tr>\n",
       "      <th>3</th>\n",
       "      <td>318813753</td>\n",
       "      <td>-12.480314</td>\n",
       "      <td>-76.789954</td>\n",
       "      <td>3</td>\n",
       "      <td>NaN</td>\n",
       "      <td>POINT (-76.78995399999999 -12.4803142)</td>\n",
       "      <td>NaN</td>\n",
       "      <td>NaN</td>\n",
       "      <td>NaN</td>\n",
       "      <td>NaN</td>\n",
       "      <td>NaN</td>\n",
       "      <td>NaN</td>\n",
       "      <td>NaN</td>\n",
       "      <td>NaN</td>\n",
       "      <td>NaN</td>\n",
       "      <td>173795107</td>\n",
       "      <td>1845510012</td>\n",
       "      <td>1424.088</td>\n",
       "      <td>319479359</td>\n",
       "      <td>318813751</td>\n",
       "      <td>1336.279</td>\n",
       "      <td>5774101155</td>\n",
       "      <td>1845508764</td>\n",
       "      <td>625.151</td>\n",
       "      <td>NaN</td>\n",
       "      <td>NaN</td>\n",
       "      <td>NaN</td>\n",
       "    </tr>\n",
       "    <tr>\n",
       "      <th>4</th>\n",
       "      <td>1273453996</td>\n",
       "      <td>-12.485082</td>\n",
       "      <td>-76.797332</td>\n",
       "      <td>1</td>\n",
       "      <td>NaN</td>\n",
       "      <td>POINT (-76.79733160000001 -12.4850817)</td>\n",
       "      <td>NaN</td>\n",
       "      <td>NaN</td>\n",
       "      <td>NaN</td>\n",
       "      <td>NaN</td>\n",
       "      <td>NaN</td>\n",
       "      <td>NaN</td>\n",
       "      <td>NaN</td>\n",
       "      <td>NaN</td>\n",
       "      <td>NaN</td>\n",
       "      <td>173795107</td>\n",
       "      <td>1845510012</td>\n",
       "      <td>421.206</td>\n",
       "      <td>319479359</td>\n",
       "      <td>318813751</td>\n",
       "      <td>515.069</td>\n",
       "      <td>5593354460</td>\n",
       "      <td>1845510248</td>\n",
       "      <td>249.297</td>\n",
       "      <td>NaN</td>\n",
       "      <td>NaN</td>\n",
       "      <td>NaN</td>\n",
       "    </tr>\n",
       "  </tbody>\n",
       "</table>\n",
       "</div>"
      ],
      "text/plain": [
       "        osmid          y          x  street_count highway  \\\n",
       "0   318813749 -12.491887 -76.792846             3     NaN   \n",
       "1   318813750 -12.484027 -76.796057             3     NaN   \n",
       "2   318813751 -12.482597 -76.796612             4     NaN   \n",
       "3   318813753 -12.480314 -76.789954             3     NaN   \n",
       "4  1273453996 -12.485082 -76.797332             1     NaN   \n",
       "\n",
       "                                 geometry  bank_amenity  bank_node  bank_dist  \\\n",
       "0         POINT (-76.7928465 -12.4918872)           NaN        NaN        NaN   \n",
       "1         POINT (-76.7960571 -12.4840274)           NaN        NaN        NaN   \n",
       "2  POINT (-76.79661230000001 -12.4825971)           NaN        NaN        NaN   \n",
       "3  POINT (-76.78995399999999 -12.4803142)           NaN        NaN        NaN   \n",
       "4  POINT (-76.79733160000001 -12.4850817)           NaN        NaN        NaN   \n",
       "\n",
       "   courthouse_amenity  courthouse_node  courthouse_dist  hospital_amenity  \\\n",
       "0                 NaN              NaN              NaN               NaN   \n",
       "1                 NaN              NaN              NaN               NaN   \n",
       "2                 NaN              NaN              NaN               NaN   \n",
       "3                 NaN              NaN              NaN               NaN   \n",
       "4                 NaN              NaN              NaN               NaN   \n",
       "\n",
       "   hospital_node  hospital_dist  marketplace_amenity  marketplace_node  \\\n",
       "0            NaN            NaN            173795107        1845510012   \n",
       "1            NaN            NaN            173795107        1845510012   \n",
       "2            NaN            NaN            173795107        1845510012   \n",
       "3            NaN            NaN            173795107        1845510012   \n",
       "4            NaN            NaN            173795107        1845510012   \n",
       "\n",
       "   marketplace_dist  police_amenity  police_node  police_dist  school_amenity  \\\n",
       "0          1203.366       319479359    318813751     1117.595      4834719123   \n",
       "1           258.201       319479359    318813751      170.096      4235507693   \n",
       "2           192.115       319479359    318813751        0.000      5593354455   \n",
       "3          1424.088       319479359    318813751     1336.279      5774101155   \n",
       "4           421.206       319479359    318813751      515.069      5593354460   \n",
       "\n",
       "   school_node  school_dist  university_amenity  university_node  \\\n",
       "0   1845624391      467.693                 NaN              NaN   \n",
       "1   1845510169       38.332                 NaN              NaN   \n",
       "2   1845510005       26.971                 NaN              NaN   \n",
       "3   1845508764      625.151                 NaN              NaN   \n",
       "4   1845510248      249.297                 NaN              NaN   \n",
       "\n",
       "   university_dist  \n",
       "0              NaN  \n",
       "1              NaN  \n",
       "2              NaN  \n",
       "3              NaN  \n",
       "4              NaN  "
      ]
     },
     "execution_count": 269,
     "metadata": {},
     "output_type": "execute_result"
    }
   ],
   "source": [
    "df = pd.read_csv(filename)\n",
    "df.head()"
   ]
  },
  {
   "cell_type": "code",
   "execution_count": 270,
   "metadata": {},
   "outputs": [
    {
     "name": "stdout",
     "output_type": "stream",
     "text": [
      "Processing time : 117.43882703781128 secods\n"
     ]
    }
   ],
   "source": [
    "end = time.time()\n",
    "print(\"Processing time : {} secods\".format(end-start))"
   ]
  },
  {
   "cell_type": "code",
   "execution_count": null,
   "metadata": {},
   "outputs": [],
   "source": []
  }
 ],
 "metadata": {
  "kernelspec": {
   "display_name": "Python 3",
   "language": "python",
   "name": "python3"
  },
  "language_info": {
   "codemirror_mode": {
    "name": "ipython",
    "version": 3
   },
   "file_extension": ".py",
   "mimetype": "text/x-python",
   "name": "python",
   "nbconvert_exporter": "python",
   "pygments_lexer": "ipython3",
   "version": "3.6.9"
  }
 },
 "nbformat": 4,
 "nbformat_minor": 4
}
