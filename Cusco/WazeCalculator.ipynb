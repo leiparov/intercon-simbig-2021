{
 "cells": [
  {
   "cell_type": "code",
   "execution_count": 167,
   "metadata": {},
   "outputs": [
    {
     "name": "stderr",
     "output_type": "stream",
     "text": [
      "From: Avenida San Felipe 620, Jesus Maria, Lima - to: Manuel Gonzales 740, Comas, Lima\n",
      "Start coords: (47.597788561, 19.347304274)\n",
      "End coords: (47.5960083, 18.952751159)\n",
      "Time 34.88 minutes, distance 40.14 km.\n"
     ]
    },
    {
     "data": {
      "text/plain": [
       "(34.88333333333333, 40.139)"
      ]
     },
     "execution_count": 167,
     "metadata": {},
     "output_type": "execute_result"
    }
   ],
   "source": [
    "import WazeRouteCalculator\n",
    "import logging\n",
    "import seaborn as sns\n",
    "\n",
    "logger = logging.getLogger('WazeRouteCalculator.WazeRouteCalculator')\n",
    "logger.setLevel(logging.DEBUG)\n",
    "handler = logging.StreamHandler()\n",
    "logger.addHandler(handler)\n",
    "\n",
    "from_address = 'Avenida San Felipe 620, Jesus Maria, Lima'\n",
    "to_address = 'Manuel Gonzales 740, Comas, Lima'\n",
    "# region = 'EU'\n",
    "route = WazeRouteCalculator.WazeRouteCalculator(from_address, to_address,)\n",
    "route.calc_route_info()"
   ]
  },
  {
   "cell_type": "code",
   "execution_count": 170,
   "metadata": {},
   "outputs": [
    {
     "name": "stderr",
     "output_type": "stream",
     "text": [
      "Time 35.10 minutes, distance 39.19 km.\n"
     ]
    },
    {
     "data": {
      "text/plain": [
       "(35.1, 39.194)"
      ]
     },
     "execution_count": 170,
     "metadata": {},
     "output_type": "execute_result"
    }
   ],
   "source": [
    "route.calc_route_info(real_time=False)"
   ]
  },
  {
   "cell_type": "code",
   "execution_count": 174,
   "metadata": {},
   "outputs": [],
   "source": [
    "import datetime"
   ]
  },
  {
   "cell_type": "code",
   "execution_count": 175,
   "metadata": {},
   "outputs": [
    {
     "data": {
      "text/plain": [
       "datetime.timedelta(0, 48059, 571835)"
      ]
     },
     "execution_count": 175,
     "metadata": {},
     "output_type": "execute_result"
    }
   ],
   "source": [
    "now = datetime.datetime.now()\n",
    "\n",
    "target_time = now.replace(hour=8, minute=0, second=0, microsecond=0) + datetime.timedelta(days=1)\n",
    "time_diff = target_time - now\n",
    "time_diff"
   ]
  },
  {
   "cell_type": "code",
   "execution_count": 9,
   "metadata": {},
   "outputs": [
    {
     "data": {
      "text/html": [
       "<div>\n",
       "<style scoped>\n",
       "    .dataframe tbody tr th:only-of-type {\n",
       "        vertical-align: middle;\n",
       "    }\n",
       "\n",
       "    .dataframe tbody tr th {\n",
       "        vertical-align: top;\n",
       "    }\n",
       "\n",
       "    .dataframe thead th {\n",
       "        text-align: right;\n",
       "    }\n",
       "</style>\n",
       "<table border=\"1\" class=\"dataframe\">\n",
       "  <thead>\n",
       "    <tr style=\"text-align: right;\">\n",
       "      <th></th>\n",
       "      <th>v</th>\n",
       "      <th>wazeinfo</th>\n",
       "    </tr>\n",
       "    <tr>\n",
       "      <th>u</th>\n",
       "      <th></th>\n",
       "      <th></th>\n",
       "    </tr>\n",
       "  </thead>\n",
       "  <tbody>\n",
       "  </tbody>\n",
       "</table>\n",
       "</div>"
      ],
      "text/plain": [
       "Empty DataFrame\n",
       "Columns: [v, wazeinfo]\n",
       "Index: []"
      ]
     },
     "execution_count": 9,
     "metadata": {},
     "output_type": "execute_result"
    }
   ],
   "source": [
    "import pandas as pd\n",
    "pd.read_csv(\"wazeinfo_recupero.txt\", sep=';', index_col=0, names=['u','v','wazeinfo'])"
   ]
  },
  {
   "cell_type": "code",
   "execution_count": 133,
   "metadata": {},
   "outputs": [
    {
     "name": "stdout",
     "output_type": "stream",
     "text": [
      "cache  RutasCusco_20230730170529.log  RutasCuscoWaze.txt\r\n",
      "data   RutasCusco.ipynb\t\t      WazeCalculator.ipynb\r\n"
     ]
    }
   ],
   "source": [
    "!ls"
   ]
  },
  {
   "cell_type": "code",
   "execution_count": 235,
   "metadata": {},
   "outputs": [],
   "source": [
    "with open('RutasCusco_20230730170529.log', 'r') as file:\n",
    "    logfile = file.readlines()\n"
   ]
  },
  {
   "cell_type": "code",
   "execution_count": 224,
   "metadata": {},
   "outputs": [],
   "source": [
    "logdf = pd.DataFrame(logfile, columns=['log'])\n",
    "logdf['completed'] = logdf.apply(lambda x: 'completed' in x['log'], axis=1)\n",
    "logdf['errorinwazeinfo'] = logdf.apply(lambda x: 'Error in Waze' in x['log'], axis=1)"
   ]
  },
  {
   "cell_type": "code",
   "execution_count": 225,
   "metadata": {},
   "outputs": [
    {
     "data": {
      "text/plain": [
       "completed          23509\n",
       "errorinwazeinfo     3574\n",
       "dtype: int64"
      ]
     },
     "execution_count": 225,
     "metadata": {},
     "output_type": "execute_result"
    }
   ],
   "source": [
    "logdf[['completed','errorinwazeinfo']].sum()\n",
    "# 27082"
   ]
  },
  {
   "cell_type": "code",
   "execution_count": 236,
   "metadata": {},
   "outputs": [
    {
     "data": {
      "text/plain": [
       "['2023-07-30 17:05:29,695 :: INFO :: root :: 3763 :: Multiprocessing started.\\n',\n",
       " '2023-07-31 19:11:31,583 :: DEBUG :: WazeRouteCalculator.WazeRouteCalculator :: 3763 :: End coords: (-13.531433, -71.9526047)\\n']"
      ]
     },
     "execution_count": 236,
     "metadata": {},
     "output_type": "execute_result"
    }
   ],
   "source": [
    "logfile[::len(logfile)-1]"
   ]
  },
  {
   "cell_type": "code",
   "execution_count": 159,
   "metadata": {},
   "outputs": [
    {
     "name": "stdout",
     "output_type": "stream",
     "text": [
      "cache  RutasCusco_20230730170529.log  RutasCuscoWaze.txt\r\n",
      "data   RutasCusco.ipynb\t\t      WazeCalculator.ipynb\r\n"
     ]
    }
   ],
   "source": [
    "!ls"
   ]
  },
  {
   "cell_type": "code",
   "execution_count": 122,
   "metadata": {},
   "outputs": [],
   "source": [
    "import seaborn as sns"
   ]
  },
  {
   "cell_type": "code",
   "execution_count": 221,
   "metadata": {},
   "outputs": [
    {
     "name": "stdout",
     "output_type": "stream",
     "text": [
      "(27082, 3)\n"
     ]
    },
    {
     "data": {
      "text/html": [
       "<div>\n",
       "<style scoped>\n",
       "    .dataframe tbody tr th:only-of-type {\n",
       "        vertical-align: middle;\n",
       "    }\n",
       "\n",
       "    .dataframe tbody tr th {\n",
       "        vertical-align: top;\n",
       "    }\n",
       "\n",
       "    .dataframe thead th {\n",
       "        text-align: right;\n",
       "    }\n",
       "</style>\n",
       "<table border=\"1\" class=\"dataframe\">\n",
       "  <thead>\n",
       "    <tr style=\"text-align: right;\">\n",
       "      <th></th>\n",
       "      <th>u</th>\n",
       "      <th>v</th>\n",
       "      <th>wazeinfo</th>\n",
       "      <th>wazeinfo_minutes</th>\n",
       "      <th>wazeinfo_km</th>\n",
       "    </tr>\n",
       "  </thead>\n",
       "  <tbody>\n",
       "    <tr>\n",
       "      <th>24000</th>\n",
       "      <td>10568914385</td>\n",
       "      <td>5600850529</td>\n",
       "      <td>(0.016666666666666666, 0.021)</td>\n",
       "      <td>0.016667</td>\n",
       "      <td>0.021</td>\n",
       "    </tr>\n",
       "    <tr>\n",
       "      <th>0</th>\n",
       "      <td>30962246</td>\n",
       "      <td>3707257935</td>\n",
       "      <td>(0.55, 0.248)</td>\n",
       "      <td>0.550000</td>\n",
       "      <td>0.248</td>\n",
       "    </tr>\n",
       "    <tr>\n",
       "      <th>12000</th>\n",
       "      <td>4331662268</td>\n",
       "      <td>4331662269</td>\n",
       "      <td>(0.23333333333333334, 0.146)</td>\n",
       "      <td>0.233333</td>\n",
       "      <td>0.146</td>\n",
       "    </tr>\n",
       "    <tr>\n",
       "      <th>1</th>\n",
       "      <td>30962246</td>\n",
       "      <td>30962247</td>\n",
       "      <td>(-1, -1)</td>\n",
       "      <td>-1.000000</td>\n",
       "      <td>-1.000</td>\n",
       "    </tr>\n",
       "    <tr>\n",
       "      <th>12001</th>\n",
       "      <td>4331662269</td>\n",
       "      <td>3311132263</td>\n",
       "      <td>(0.06666666666666667, 0.033)</td>\n",
       "      <td>0.066667</td>\n",
       "      <td>0.033</td>\n",
       "    </tr>\n",
       "    <tr>\n",
       "      <th>...</th>\n",
       "      <td>...</td>\n",
       "      <td>...</td>\n",
       "      <td>...</td>\n",
       "      <td>...</td>\n",
       "      <td>...</td>\n",
       "    </tr>\n",
       "    <tr>\n",
       "      <th>17995</th>\n",
       "      <td>5600851245</td>\n",
       "      <td>5600851249</td>\n",
       "      <td>(0.11666666666666667, 0.089)</td>\n",
       "      <td>0.116667</td>\n",
       "      <td>0.089</td>\n",
       "    </tr>\n",
       "    <tr>\n",
       "      <th>17996</th>\n",
       "      <td>5600851245</td>\n",
       "      <td>5600851249</td>\n",
       "      <td>(0.11666666666666667, 0.089)</td>\n",
       "      <td>0.116667</td>\n",
       "      <td>0.089</td>\n",
       "    </tr>\n",
       "    <tr>\n",
       "      <th>17997</th>\n",
       "      <td>5600851245</td>\n",
       "      <td>5600851239</td>\n",
       "      <td>(0.06666666666666667, 0.053)</td>\n",
       "      <td>0.066667</td>\n",
       "      <td>0.053</td>\n",
       "    </tr>\n",
       "    <tr>\n",
       "      <th>17998</th>\n",
       "      <td>5600851249</td>\n",
       "      <td>5600851252</td>\n",
       "      <td>(0.26666666666666666, 0.181)</td>\n",
       "      <td>0.266667</td>\n",
       "      <td>0.181</td>\n",
       "    </tr>\n",
       "    <tr>\n",
       "      <th>17999</th>\n",
       "      <td>5600851249</td>\n",
       "      <td>5600851245</td>\n",
       "      <td>(0.25, 0.168)</td>\n",
       "      <td>0.250000</td>\n",
       "      <td>0.168</td>\n",
       "    </tr>\n",
       "  </tbody>\n",
       "</table>\n",
       "<p>27082 rows × 5 columns</p>\n",
       "</div>"
      ],
      "text/plain": [
       "                 u           v                       wazeinfo  \\\n",
       "24000  10568914385  5600850529  (0.016666666666666666, 0.021)   \n",
       "0         30962246  3707257935                  (0.55, 0.248)   \n",
       "12000   4331662268  4331662269   (0.23333333333333334, 0.146)   \n",
       "1         30962246    30962247                       (-1, -1)   \n",
       "12001   4331662269  3311132263   (0.06666666666666667, 0.033)   \n",
       "...            ...         ...                            ...   \n",
       "17995   5600851245  5600851249   (0.11666666666666667, 0.089)   \n",
       "17996   5600851245  5600851249   (0.11666666666666667, 0.089)   \n",
       "17997   5600851245  5600851239   (0.06666666666666667, 0.053)   \n",
       "17998   5600851249  5600851252   (0.26666666666666666, 0.181)   \n",
       "17999   5600851249  5600851245                  (0.25, 0.168)   \n",
       "\n",
       "       wazeinfo_minutes  wazeinfo_km  \n",
       "24000          0.016667        0.021  \n",
       "0              0.550000        0.248  \n",
       "12000          0.233333        0.146  \n",
       "1             -1.000000       -1.000  \n",
       "12001          0.066667        0.033  \n",
       "...                 ...          ...  \n",
       "17995          0.116667        0.089  \n",
       "17996          0.116667        0.089  \n",
       "17997          0.066667        0.053  \n",
       "17998          0.266667        0.181  \n",
       "17999          0.250000        0.168  \n",
       "\n",
       "[27082 rows x 5 columns]"
      ]
     },
     "execution_count": 221,
     "metadata": {},
     "output_type": "execute_result"
    }
   ],
   "source": [
    "results = pd.read_csv('RutasCuscoWaze.txt', sep=';', index_col=0,names=['u','v','wazeinfo'])\n",
    "print(results.shape)\n",
    "results['wazeinfo_minutes'] = results.apply(lambda x: x['wazeinfo'].replace('(','').replace(')','').split(',')[0], axis=1)\n",
    "results['wazeinfo_km'] = results.apply(lambda x: x['wazeinfo'].replace('(','').replace(')','').split(',')[1], axis=1)\n",
    "results[['wazeinfo_minutes', 'wazeinfo_km']] = results[['wazeinfo_minutes', 'wazeinfo_km']].astype(float)\n",
    "results\n",
    "\n",
    "# sns.histplot(results, x='wazeinfo_km', stat='probability', cumulative=True)"
   ]
  },
  {
   "cell_type": "code",
   "execution_count": 227,
   "metadata": {},
   "outputs": [
    {
     "data": {
      "text/plain": [
       "<AxesSubplot:xlabel='wazeinfo_km', ylabel='Count'>"
      ]
     },
     "execution_count": 227,
     "metadata": {},
     "output_type": "execute_result"
    },
    {
     "data": {
      "image/png": "[encoded data removed]",
      "text/plain": [
       "<Figure size 432x288 with 1 Axes>"
      ]
     },
     "metadata": {
      "needs_background": "light"
     },
     "output_type": "display_data"
    }
   ],
   "source": [
    "sns.histplot(results, x='wazeinfo_km', stat='count', )"
   ]
  },
  {
   "cell_type": "code",
   "execution_count": 183,
   "metadata": {},
   "outputs": [
    {
     "data": {
      "text/plain": [
       "<AxesSubplot:xlabel='wazeinfo_km'>"
      ]
     },
     "execution_count": 183,
     "metadata": {},
     "output_type": "execute_result"
    },
    {
     "data": {
      "image/png": "[encoded data removed]",
      "text/plain": [
       "<Figure size 432x288 with 1 Axes>"
      ]
     },
     "metadata": {
      "needs_background": "light"
     },
     "output_type": "display_data"
    }
   ],
   "source": [
    "sns.boxplot(results['wazeinfo_km'])"
   ]
  },
  {
   "cell_type": "code",
   "execution_count": 230,
   "metadata": {},
   "outputs": [
    {
     "data": {
      "text/plain": [
       "<AxesSubplot:>"
      ]
     },
     "execution_count": 230,
     "metadata": {},
     "output_type": "execute_result"
    },
    {
     "data": {
      "image/png": "[encoded data removed]",
      "text/plain": [
       "<Figure size 432x288 with 1 Axes>"
      ]
     },
     "metadata": {
      "needs_background": "light"
     },
     "output_type": "display_data"
    }
   ],
   "source": [
    "results['wazeinfo_km'].hist(bins=50)"
   ]
  },
  {
   "cell_type": "code",
   "execution_count": 234,
   "metadata": {},
   "outputs": [
    {
     "data": {
      "text/plain": [
       "<AxesSubplot:xlabel='wazeinfo_minutes', ylabel='Count'>"
      ]
     },
     "execution_count": 234,
     "metadata": {},
     "output_type": "execute_result"
    },
    {
     "data": {
      "image/png": "[encoded data removed]",
      "text/plain": [
       "<Figure size 432x288 with 1 Axes>"
      ]
     },
     "metadata": {
      "needs_background": "light"
     },
     "output_type": "display_data"
    }
   ],
   "source": [
    "cond = results['wazeinfo_minutes']>0\n",
    "cond\n",
    "sns.histplot(results[cond], x='wazeinfo_minutes', stat='count', log_scale=True)"
   ]
  },
  {
   "cell_type": "code",
   "execution_count": 250,
   "metadata": {},
   "outputs": [
    {
     "name": "stdout",
     "output_type": "stream",
     "text": [
      "(394, 3)\n"
     ]
    },
    {
     "data": {
      "text/html": [
       "<div>\n",
       "<style scoped>\n",
       "    .dataframe tbody tr th:only-of-type {\n",
       "        vertical-align: middle;\n",
       "    }\n",
       "\n",
       "    .dataframe tbody tr th {\n",
       "        vertical-align: top;\n",
       "    }\n",
       "\n",
       "    .dataframe thead th {\n",
       "        text-align: right;\n",
       "    }\n",
       "</style>\n",
       "<table border=\"1\" class=\"dataframe\">\n",
       "  <thead>\n",
       "    <tr style=\"text-align: right;\">\n",
       "      <th></th>\n",
       "      <th>u</th>\n",
       "      <th>v</th>\n",
       "      <th>wazeinfo</th>\n",
       "    </tr>\n",
       "  </thead>\n",
       "  <tbody>\n",
       "    <tr>\n",
       "      <th>49</th>\n",
       "      <td>30962460</td>\n",
       "      <td>30962459</td>\n",
       "      <td>(0.11666666666666667, 0.049)</td>\n",
       "    </tr>\n",
       "    <tr>\n",
       "      <th>69</th>\n",
       "      <td>30962672</td>\n",
       "      <td>30963247</td>\n",
       "      <td>(-1, -1)</td>\n",
       "    </tr>\n",
       "    <tr>\n",
       "      <th>116</th>\n",
       "      <td>30963206</td>\n",
       "      <td>30964831</td>\n",
       "      <td>(-1, -1)</td>\n",
       "    </tr>\n",
       "    <tr>\n",
       "      <th>119</th>\n",
       "      <td>30963245</td>\n",
       "      <td>30963247</td>\n",
       "      <td>(-1, -1)</td>\n",
       "    </tr>\n",
       "    <tr>\n",
       "      <th>120</th>\n",
       "      <td>30963247</td>\n",
       "      <td>30962672</td>\n",
       "      <td>(-1, -1)</td>\n",
       "    </tr>\n",
       "  </tbody>\n",
       "</table>\n",
       "</div>"
      ],
      "text/plain": [
       "            u         v                      wazeinfo\n",
       "49   30962460  30962459  (0.11666666666666667, 0.049)\n",
       "69   30962672  30963247                      (-1, -1)\n",
       "116  30963206  30964831                      (-1, -1)\n",
       "119  30963245  30963247                      (-1, -1)\n",
       "120  30963247  30962672                      (-1, -1)"
      ]
     },
     "execution_count": 250,
     "metadata": {},
     "output_type": "execute_result"
    }
   ],
   "source": [
    "wazeinfo_recupero = pd.read_csv(\"wazeinfo_recupero.txt\", sep=';', \n",
    "                                index_col=0, \n",
    "                                names=['u','v','wazeinfo']\n",
    "                               )\n",
    "print(wazeinfo_recupero.shape)\n",
    "wazeinfo_recupero.head()"
   ]
  },
  {
   "cell_type": "code",
   "execution_count": null,
   "metadata": {},
   "outputs": [],
   "source": []
  }
 ],
 "metadata": {
  "kernelspec": {
   "display_name": "Python 3",
   "language": "python",
   "name": "python3"
  },
  "language_info": {
   "codemirror_mode": {
    "name": "ipython",
    "version": 3
   },
   "file_extension": ".py",
   "mimetype": "text/x-python",
   "name": "python",
   "nbconvert_exporter": "python",
   "pygments_lexer": "ipython3",
   "version": "3.6.9"
  }
 },
 "nbformat": 4,
 "nbformat_minor": 5
}
