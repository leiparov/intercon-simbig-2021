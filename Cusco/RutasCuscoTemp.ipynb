{
 "cells": [
  {
   "cell_type": "code",
   "execution_count": 1,
   "metadata": {},
   "outputs": [],
   "source": [
    "import pandas as pd\n",
    "import seaborn as sns"
   ]
  },
  {
   "cell_type": "code",
   "execution_count": 2,
   "metadata": {},
   "outputs": [
    {
     "name": "stdout",
     "output_type": "stream",
     "text": [
      "cache\t\t\tRutasCusco_2.ipynb    WazeCalculator.ipynb\r\n",
      "CuscoEdgesWaze0800.txt\tRutasCusco.ipynb      wazeinfo_recupero1.txt\r\n",
      "data\t\t\tRutasCuscoTemp.ipynb  wazeinfo_recupero.txt\r\n",
      "logs\t\t\tRutasCuscoWaze.txt\r\n"
     ]
    }
   ],
   "source": [
    "!ls"
   ]
  },
  {
   "cell_type": "code",
   "execution_count": 18,
   "metadata": {},
   "outputs": [
    {
     "name": "stdout",
     "output_type": "stream",
     "text": [
      "(583, 3)\n"
     ]
    }
   ],
   "source": [
    "results = pd.read_csv('CuscoEdgesWaze0800_Recupero02.txt', sep=';', index_col=0,names=['u','v','wazeinfo'])\n",
    "print(results.shape)\n",
    "# results['wazeinfo_minutes'] = results.apply(lambda x: x['wazeinfo'].replace('(','').replace(')','').split(',')[0], axis=1)\n",
    "# results['wazeinfo_km'] = results.apply(lambda x: x['wazeinfo'].replace('(','').replace(')','').split(',')[1], axis=1)\n",
    "# results[['wazeinfo_minutes', 'wazeinfo_km']] = results[['wazeinfo_minutes', 'wazeinfo_km']].astype(float)\n",
    "# # results\n",
    "\n",
    "# sns.histplot(results, x='wazeinfo_km', stat='count', cumulative=True)"
   ]
  },
  {
   "cell_type": "code",
   "execution_count": 16,
   "metadata": {},
   "outputs": [
    {
     "data": {
      "text/html": [
       "<div>\n",
       "<style scoped>\n",
       "    .dataframe tbody tr th:only-of-type {\n",
       "        vertical-align: middle;\n",
       "    }\n",
       "\n",
       "    .dataframe tbody tr th {\n",
       "        vertical-align: top;\n",
       "    }\n",
       "\n",
       "    .dataframe thead th {\n",
       "        text-align: right;\n",
       "    }\n",
       "</style>\n",
       "<table border=\"1\" class=\"dataframe\">\n",
       "  <thead>\n",
       "    <tr style=\"text-align: right;\">\n",
       "      <th></th>\n",
       "      <th>u</th>\n",
       "      <th>v</th>\n",
       "      <th>wazeinfo</th>\n",
       "    </tr>\n",
       "  </thead>\n",
       "  <tbody>\n",
       "    <tr>\n",
       "      <th>52</th>\n",
       "      <td>30962461</td>\n",
       "      <td>30962462</td>\n",
       "      <td>(0.0, 0.0)</td>\n",
       "    </tr>\n",
       "    <tr>\n",
       "      <th>151</th>\n",
       "      <td>30963374</td>\n",
       "      <td>30963373</td>\n",
       "      <td>(-1, -1)</td>\n",
       "    </tr>\n",
       "    <tr>\n",
       "      <th>221</th>\n",
       "      <td>30964111</td>\n",
       "      <td>30964113</td>\n",
       "      <td>(0.13333333333333333, 0.044)</td>\n",
       "    </tr>\n",
       "    <tr>\n",
       "      <th>295</th>\n",
       "      <td>30964535</td>\n",
       "      <td>10807109018</td>\n",
       "      <td>(0.016666666666666666, 0.012)</td>\n",
       "    </tr>\n",
       "    <tr>\n",
       "      <th>323</th>\n",
       "      <td>30964728</td>\n",
       "      <td>2641781927</td>\n",
       "      <td>(0.1, 0.033)</td>\n",
       "    </tr>\n",
       "  </tbody>\n",
       "</table>\n",
       "</div>"
      ],
      "text/plain": [
       "            u            v                       wazeinfo\n",
       "52   30962461     30962462                     (0.0, 0.0)\n",
       "151  30963374     30963373                       (-1, -1)\n",
       "221  30964111     30964113   (0.13333333333333333, 0.044)\n",
       "295  30964535  10807109018  (0.016666666666666666, 0.012)\n",
       "323  30964728   2641781927                   (0.1, 0.033)"
      ]
     },
     "execution_count": 16,
     "metadata": {},
     "output_type": "execute_result"
    }
   ],
   "source": [
    "results.head()"
   ]
  },
  {
   "cell_type": "code",
   "execution_count": null,
   "metadata": {},
   "outputs": [],
   "source": []
  }
 ],
 "metadata": {
  "kernelspec": {
   "display_name": "Python 3",
   "language": "python",
   "name": "python3"
  },
  "language_info": {
   "codemirror_mode": {
    "name": "ipython",
    "version": 3
   },
   "file_extension": ".py",
   "mimetype": "text/x-python",
   "name": "python",
   "nbconvert_exporter": "python",
   "pygments_lexer": "ipython3",
   "version": "3.6.9"
  }
 },
 "nbformat": 4,
 "nbformat_minor": 4
}
