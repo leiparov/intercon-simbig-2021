{
 "cells": [
  {
   "cell_type": "code",
   "execution_count": 167,
   "metadata": {},
   "outputs": [
    {
     "name": "stderr",
     "output_type": "stream",
     "text": [
      "From: Avenida San Felipe 620, Jesus Maria, Lima - to: Manuel Gonzales 740, Comas, Lima\n",
      "Start coords: (47.597788561, 19.347304274)\n",
      "End coords: (47.5960083, 18.952751159)\n",
      "Time 34.88 minutes, distance 40.14 km.\n"
     ]
    },
    {
     "data": {
      "text/plain": [
       "(34.88333333333333, 40.139)"
      ]
     },
     "execution_count": 167,
     "metadata": {},
     "output_type": "execute_result"
    }
   ],
   "source": [
    "import WazeRouteCalculator\n",
    "import logging\n",
    "import seaborn as sns\n",
    "\n",
    "logger = logging.getLogger('WazeRouteCalculator.WazeRouteCalculator')\n",
    "logger.setLevel(logging.DEBUG)\n",
    "handler = logging.StreamHandler()\n",
    "logger.addHandler(handler)\n",
    "\n",
    "from_address = 'Avenida San Felipe 620, Jesus Maria, Lima'\n",
    "to_address = 'Manuel Gonzales 740, Comas, Lima'\n",
    "# region = 'EU'\n",
    "route = WazeRouteCalculator.WazeRouteCalculator(from_address, to_address,)\n",
    "route.calc_route_info()"
   ]
  },
  {
   "cell_type": "code",
   "execution_count": 170,
   "metadata": {},
   "outputs": [
    {
     "name": "stderr",
     "output_type": "stream",
     "text": [
      "Time 35.10 minutes, distance 39.19 km.\n"
     ]
    },
    {
     "data": {
      "text/plain": [
       "(35.1, 39.194)"
      ]
     },
     "execution_count": 170,
     "metadata": {},
     "output_type": "execute_result"
    }
   ],
   "source": [
    "route.calc_route_info(real_time=False)"
   ]
  },
  {
   "cell_type": "code",
   "execution_count": 174,
   "metadata": {},
   "outputs": [],
   "source": [
    "import datetime"
   ]
  },
  {
   "cell_type": "code",
   "execution_count": 326,
   "metadata": {},
   "outputs": [
    {
     "name": "stdout",
     "output_type": "stream",
     "text": [
      "-5 days, 9:03:52.104118\n",
      "2023-08-16 13:52:15.791764\n"
     ]
    }
   ],
   "source": [
    "now = datetime.datetime.now()\n",
    "\n",
    "# target_time = now.replace(hour=8, minute=0, second=0, microsecond=0)\n",
    "target_time = datetime.datetime(2023, 8, 7, 8, 0, 0, 0) #Lunes 14/08 a las 08:00\n",
    "time_diff =  target_time - now\n",
    "print(time_diff)\n",
    "\n",
    "print(now - time_diff)"
   ]
  },
  {
   "cell_type": "code",
   "execution_count": 327,
   "metadata": {},
   "outputs": [
    {
     "data": {
      "text/plain": [
       "datetime.timedelta(-5, 32632, 104118)"
      ]
     },
     "execution_count": 327,
     "metadata": {},
     "output_type": "execute_result"
    }
   ],
   "source": [
    "time_diff"
   ]
  },
  {
   "cell_type": "code",
   "execution_count": 328,
   "metadata": {},
   "outputs": [
    {
     "data": {
      "text/plain": [
       "-4.62231360974537"
      ]
     },
     "execution_count": 328,
     "metadata": {},
     "output_type": "execute_result"
    }
   ],
   "source": [
    "(time_diff.total_seconds()/60)/60/24"
   ]
  },
  {
   "cell_type": "code",
   "execution_count": 321,
   "metadata": {},
   "outputs": [
    {
     "data": {
      "text/plain": [
       "32771"
      ]
     },
     "execution_count": 321,
     "metadata": {},
     "output_type": "execute_result"
    }
   ],
   "source": [
    "time_diff.seconds"
   ]
  },
  {
   "cell_type": "code",
   "execution_count": 345,
   "metadata": {},
   "outputs": [],
   "source": [
    "def getTimeDelta ():\n",
    "    \"\"\"\n",
    "    hour: hour to leave at\n",
    "    return: minutes\n",
    "    \"\"\"\n",
    "    now = datetime.datetime.now()\n",
    "#     target_time = now.replace(hour=hour, minute=0, second=0, microsecond=0)\n",
    "    target_time = datetime.datetime(2023, 8, 7, 8, 0, 0, 0) #Lunes 07/08 a las 08:00\n",
    "    time_diff =  target_time - now\n",
    "    minutes = int(time_diff.total_seconds()/60)\n",
    "    return minutes"
   ]
  },
  {
   "cell_type": "code",
   "execution_count": 344,
   "metadata": {},
   "outputs": [
    {
     "data": {
      "text/plain": [
       "-6660"
      ]
     },
     "execution_count": 344,
     "metadata": {},
     "output_type": "execute_result"
    }
   ],
   "source": [
    "getTimeDelta()"
   ]
  },
  {
   "cell_type": "code",
   "execution_count": 286,
   "metadata": {},
   "outputs": [
    {
     "data": {
      "text/plain": [
       "872"
      ]
     },
     "execution_count": 286,
     "metadata": {},
     "output_type": "execute_result"
    }
   ],
   "source": [
    "int(time_diff.seconds/60)"
   ]
  },
  {
   "cell_type": "code",
   "execution_count": 295,
   "metadata": {},
   "outputs": [
    {
     "data": {
      "text/plain": [
       "datetime.datetime(2023, 8, 14, 8, 0)"
      ]
     },
     "execution_count": 295,
     "metadata": {},
     "output_type": "execute_result"
    }
   ],
   "source": [
    "datetime.datetime(2023, 8, 14, 8, 0, 0, 0)"
   ]
  },
  {
   "cell_type": "markdown",
   "metadata": {},
   "source": [
    "# Time delta"
   ]
  },
  {
   "cell_type": "code",
   "execution_count": 342,
   "metadata": {},
   "outputs": [
    {
     "name": "stderr",
     "output_type": "stream",
     "text": [
      "From: Avenida San Felipe 620, Jesus Maria, Lima - to: Manuel Gonzales 740, Comas, Lima\n",
      "From: Avenida San Felipe 620, Jesus Maria, Lima - to: Manuel Gonzales 740, Comas, Lima\n",
      "From: Avenida San Felipe 620, Jesus Maria, Lima - to: Manuel Gonzales 740, Comas, Lima\n",
      "From: Avenida San Felipe 620, Jesus Maria, Lima - to: Manuel Gonzales 740, Comas, Lima\n",
      "From: Avenida San Felipe 620, Jesus Maria, Lima - to: Manuel Gonzales 740, Comas, Lima\n",
      "From: Avenida San Felipe 620, Jesus Maria, Lima - to: Manuel Gonzales 740, Comas, Lima\n",
      "From: Avenida San Felipe 620, Jesus Maria, Lima - to: Manuel Gonzales 740, Comas, Lima\n",
      "Start coords: (47.597788561, 19.347304274)\n",
      "Start coords: (47.597788561, 19.347304274)\n",
      "Start coords: (47.597788561, 19.347304274)\n",
      "Start coords: (47.597788561, 19.347304274)\n",
      "Start coords: (47.597788561, 19.347304274)\n",
      "Start coords: (47.597788561, 19.347304274)\n",
      "Start coords: (47.597788561, 19.347304274)\n",
      "End coords: (47.5960083, 18.952751159)\n",
      "End coords: (47.5960083, 18.952751159)\n",
      "End coords: (47.5960083, 18.952751159)\n",
      "End coords: (47.5960083, 18.952751159)\n",
      "End coords: (47.5960083, 18.952751159)\n",
      "End coords: (47.5960083, 18.952751159)\n",
      "End coords: (47.5960083, 18.952751159)\n",
      "Time 36.10 minutes, distance 39.19 km.\n",
      "Time 36.10 minutes, distance 39.19 km.\n",
      "Time 36.10 minutes, distance 39.19 km.\n",
      "Time 36.10 minutes, distance 39.19 km.\n",
      "Time 36.10 minutes, distance 39.19 km.\n",
      "Time 36.10 minutes, distance 39.19 km.\n",
      "Time 36.10 minutes, distance 39.19 km.\n"
     ]
    },
    {
     "data": {
      "text/plain": [
       "(36.1, 39.194)"
      ]
     },
     "execution_count": 342,
     "metadata": {},
     "output_type": "execute_result"
    }
   ],
   "source": [
    "import WazeRouteCalculator\n",
    "\n",
    "logger = logging.getLogger('WazeRouteCalculator.WazeRouteCalculator')\n",
    "logger.setLevel(logging.DEBUG)\n",
    "handler = logging.StreamHandler()\n",
    "logger.addHandler(handler)\n",
    "\n",
    "from_address = 'Avenida San Felipe 620, Jesus Maria, Lima'\n",
    "to_address = 'Manuel Gonzales 740, Comas, Lima'\n",
    "\n",
    "route = WazeRouteCalculator.WazeRouteCalculator(from_address, to_address)\n",
    "# From: Budapest, Hungary - to: Gyor, Hungary\n",
    "\n",
    "route.calc_route_info(time_delta=-6000)\n",
    "# Time 73.33 minutes, distance 120.92 km."
   ]
  },
  {
   "cell_type": "code",
   "execution_count": null,
   "metadata": {},
   "outputs": [],
   "source": [
    "now - x = 8"
   ]
  },
  {
   "cell_type": "code",
   "execution_count": null,
   "metadata": {},
   "outputs": [],
   "source": []
  },
  {
   "cell_type": "code",
   "execution_count": null,
   "metadata": {},
   "outputs": [],
   "source": []
  }
 ],
 "metadata": {
  "kernelspec": {
   "display_name": "Python 3",
   "language": "python",
   "name": "python3"
  },
  "language_info": {
   "codemirror_mode": {
    "name": "ipython",
    "version": 3
   },
   "file_extension": ".py",
   "mimetype": "text/x-python",
   "name": "python",
   "nbconvert_exporter": "python",
   "pygments_lexer": "ipython3",
   "version": "3.6.9"
  }
 },
 "nbformat": 4,
 "nbformat_minor": 5
}
